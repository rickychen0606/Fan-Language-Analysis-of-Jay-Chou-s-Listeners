{
 "cells": [
  {
   "cell_type": "code",
   "execution_count": 5,
   "metadata": {
    "colab": {
     "base_uri": "https://localhost:8080/"
    },
    "executionInfo": {
     "elapsed": 2411,
     "status": "ok",
     "timestamp": 1749717259207,
     "user": {
      "displayName": "陳睿棋",
      "userId": "09392292305089164799"
     },
     "user_tz": -480
    },
    "id": "B0H_RAMpQoa-",
    "outputId": "2bb5f648-54c5-41dc-c1ae-bad9423613e0"
   },
   "outputs": [
    {
     "name": "stdout",
     "output_type": "stream",
     "text": [
      "Drive already mounted at /content/drive; to attempt to forcibly remount, call drive.mount(\"/content/drive\", force_remount=True).\n"
     ]
    }
   ],
   "source": [
    "# ✅ 掛載 Google Drive\n",
    "from google.colab import drive\n",
    "drive.mount('/content/drive')\n",
    "\n"
   ]
  },
  {
   "cell_type": "code",
   "execution_count": 6,
   "metadata": {
    "executionInfo": {
     "elapsed": 4,
     "status": "ok",
     "timestamp": 1749717262931,
     "user": {
      "displayName": "陳睿棋",
      "userId": "09392292305089164799"
     },
     "user_tz": -480
    },
    "id": "R86VjajArmCx"
   },
   "outputs": [],
   "source": [
    "# prompt: pd\n",
    "\n",
    "import pandas as pd\n"
   ]
  },
  {
   "cell_type": "code",
   "execution_count": 7,
   "metadata": {
    "colab": {
     "base_uri": "https://localhost:8080/",
     "height": 223
    },
    "executionInfo": {
     "elapsed": 2586,
     "status": "ok",
     "timestamp": 1749717314236,
     "user": {
      "displayName": "陳睿棋",
      "userId": "09392292305089164799"
     },
     "user_tz": -480
    },
    "id": "qx78-SmWN7ha",
    "outputId": "cf79799b-bf33-4fe5-a3d4-7182c9a2abda"
   },
   "outputs": [
    {
     "name": "stdout",
     "output_type": "stream",
     "text": [
      "['video_id', 'author', 'text', 'published_at', 'video_title', 'text_cleaned', 'bertopic_topic', 'bertopic_prob']\n"
     ]
    },
    {
     "data": {
      "application/vnd.google.colaboratory.intrinsic+json": {
       "summary": "{\n  \"name\": \"df[[\\\"text_cleaned\\\", \\\"bertopic_topic\\\", \\\"bertopic_prob\\\"]]\",\n  \"rows\": 5,\n  \"fields\": [\n    {\n      \"column\": \"text_cleaned\",\n      \"properties\": {\n        \"dtype\": \"string\",\n        \"num_unique_values\": 5,\n        \"samples\": [\n          \"\\u521d\\u4e2d\\u6642\\u662f\\u7528\\u9019\\u9996\\u6b4c\\u8ffd\\u5230\\u8001\\u5e2b\\u7684 \\u8001\\u5e2b\\u7684\\u5b69\\u5b50\\u73fe\\u5728\\u4e5f\\u61c9\\u8a72\\u662f\\u4e0a\\u521d\\u4e2d\\u4e86\",\n          \"2025\\u5e74\\u9084\\u5728\\u807d\",\n          \"\\u5f90\\u82e5\\u7444\\u90a3\\u500b\\u6642\\u5019\\u771f\\u7684\\u7f8e\\u5230\\u9a5a\\u5fc3\\u52d5\\u9b44\"\n        ],\n        \"semantic_type\": \"\",\n        \"description\": \"\"\n      }\n    },\n    {\n      \"column\": \"bertopic_topic\",\n      \"properties\": {\n        \"dtype\": \"number\",\n        \"std\": 217,\n        \"min\": -1,\n        \"max\": 533,\n        \"num_unique_values\": 4,\n        \"samples\": [\n          2,\n          533,\n          202\n        ],\n        \"semantic_type\": \"\",\n        \"description\": \"\"\n      }\n    },\n    {\n      \"column\": \"bertopic_prob\",\n      \"properties\": {\n        \"dtype\": \"number\",\n        \"std\": 0.5095691791350907,\n        \"min\": 0.000648775928031,\n        \"max\": 1.0,\n        \"num_unique_values\": 4,\n        \"samples\": [\n          0.0908933793752888,\n          0.000648775928031,\n          0.1291563920353469\n        ],\n        \"semantic_type\": \"\",\n        \"description\": \"\"\n      }\n    }\n  ]\n}",
       "type": "dataframe"
      },
      "text/html": [
       "\n",
       "  <div id=\"df-a54608c2-7bd4-42b5-890f-495140812b48\" class=\"colab-df-container\">\n",
       "    <div>\n",
       "<style scoped>\n",
       "    .dataframe tbody tr th:only-of-type {\n",
       "        vertical-align: middle;\n",
       "    }\n",
       "\n",
       "    .dataframe tbody tr th {\n",
       "        vertical-align: top;\n",
       "    }\n",
       "\n",
       "    .dataframe thead th {\n",
       "        text-align: right;\n",
       "    }\n",
       "</style>\n",
       "<table border=\"1\" class=\"dataframe\">\n",
       "  <thead>\n",
       "    <tr style=\"text-align: right;\">\n",
       "      <th></th>\n",
       "      <th>text_cleaned</th>\n",
       "      <th>bertopic_topic</th>\n",
       "      <th>bertopic_prob</th>\n",
       "    </tr>\n",
       "  </thead>\n",
       "  <tbody>\n",
       "    <tr>\n",
       "      <th>0</th>\n",
       "      <td>徐若瑄那時期很正很漂亮</td>\n",
       "      <td>202</td>\n",
       "      <td>0.129156</td>\n",
       "    </tr>\n",
       "    <tr>\n",
       "      <th>1</th>\n",
       "      <td>初中時是用這首歌追到老師的 老師的孩子現在也應該是上初中了</td>\n",
       "      <td>2</td>\n",
       "      <td>0.090893</td>\n",
       "    </tr>\n",
       "    <tr>\n",
       "      <th>2</th>\n",
       "      <td>徐若瑄那個時候真的美到驚心動魄</td>\n",
       "      <td>202</td>\n",
       "      <td>1.000000</td>\n",
       "    </tr>\n",
       "    <tr>\n",
       "      <th>3</th>\n",
       "      <td>所以才會有今生一見如故的感覺</td>\n",
       "      <td>-1</td>\n",
       "      <td>0.000649</td>\n",
       "    </tr>\n",
       "    <tr>\n",
       "      <th>4</th>\n",
       "      <td>2025年還在聽</td>\n",
       "      <td>533</td>\n",
       "      <td>1.000000</td>\n",
       "    </tr>\n",
       "  </tbody>\n",
       "</table>\n",
       "</div>\n",
       "    <div class=\"colab-df-buttons\">\n",
       "\n",
       "  <div class=\"colab-df-container\">\n",
       "    <button class=\"colab-df-convert\" onclick=\"convertToInteractive('df-a54608c2-7bd4-42b5-890f-495140812b48')\"\n",
       "            title=\"Convert this dataframe to an interactive table.\"\n",
       "            style=\"display:none;\">\n",
       "\n",
       "  <svg xmlns=\"http://www.w3.org/2000/svg\" height=\"24px\" viewBox=\"0 -960 960 960\">\n",
       "    <path d=\"M120-120v-720h720v720H120Zm60-500h600v-160H180v160Zm220 220h160v-160H400v160Zm0 220h160v-160H400v160ZM180-400h160v-160H180v160Zm440 0h160v-160H620v160ZM180-180h160v-160H180v160Zm440 0h160v-160H620v160Z\"/>\n",
       "  </svg>\n",
       "    </button>\n",
       "\n",
       "  <style>\n",
       "    .colab-df-container {\n",
       "      display:flex;\n",
       "      gap: 12px;\n",
       "    }\n",
       "\n",
       "    .colab-df-convert {\n",
       "      background-color: #E8F0FE;\n",
       "      border: none;\n",
       "      border-radius: 50%;\n",
       "      cursor: pointer;\n",
       "      display: none;\n",
       "      fill: #1967D2;\n",
       "      height: 32px;\n",
       "      padding: 0 0 0 0;\n",
       "      width: 32px;\n",
       "    }\n",
       "\n",
       "    .colab-df-convert:hover {\n",
       "      background-color: #E2EBFA;\n",
       "      box-shadow: 0px 1px 2px rgba(60, 64, 67, 0.3), 0px 1px 3px 1px rgba(60, 64, 67, 0.15);\n",
       "      fill: #174EA6;\n",
       "    }\n",
       "\n",
       "    .colab-df-buttons div {\n",
       "      margin-bottom: 4px;\n",
       "    }\n",
       "\n",
       "    [theme=dark] .colab-df-convert {\n",
       "      background-color: #3B4455;\n",
       "      fill: #D2E3FC;\n",
       "    }\n",
       "\n",
       "    [theme=dark] .colab-df-convert:hover {\n",
       "      background-color: #434B5C;\n",
       "      box-shadow: 0px 1px 3px 1px rgba(0, 0, 0, 0.15);\n",
       "      filter: drop-shadow(0px 1px 2px rgba(0, 0, 0, 0.3));\n",
       "      fill: #FFFFFF;\n",
       "    }\n",
       "  </style>\n",
       "\n",
       "    <script>\n",
       "      const buttonEl =\n",
       "        document.querySelector('#df-a54608c2-7bd4-42b5-890f-495140812b48 button.colab-df-convert');\n",
       "      buttonEl.style.display =\n",
       "        google.colab.kernel.accessAllowed ? 'block' : 'none';\n",
       "\n",
       "      async function convertToInteractive(key) {\n",
       "        const element = document.querySelector('#df-a54608c2-7bd4-42b5-890f-495140812b48');\n",
       "        const dataTable =\n",
       "          await google.colab.kernel.invokeFunction('convertToInteractive',\n",
       "                                                    [key], {});\n",
       "        if (!dataTable) return;\n",
       "\n",
       "        const docLinkHtml = 'Like what you see? Visit the ' +\n",
       "          '<a target=\"_blank\" href=https://colab.research.google.com/notebooks/data_table.ipynb>data table notebook</a>'\n",
       "          + ' to learn more about interactive tables.';\n",
       "        element.innerHTML = '';\n",
       "        dataTable['output_type'] = 'display_data';\n",
       "        await google.colab.output.renderOutput(dataTable, element);\n",
       "        const docLink = document.createElement('div');\n",
       "        docLink.innerHTML = docLinkHtml;\n",
       "        element.appendChild(docLink);\n",
       "      }\n",
       "    </script>\n",
       "  </div>\n",
       "\n",
       "\n",
       "    <div id=\"df-eed56494-b32f-4a86-91b2-192ea4fae734\">\n",
       "      <button class=\"colab-df-quickchart\" onclick=\"quickchart('df-eed56494-b32f-4a86-91b2-192ea4fae734')\"\n",
       "                title=\"Suggest charts\"\n",
       "                style=\"display:none;\">\n",
       "\n",
       "<svg xmlns=\"http://www.w3.org/2000/svg\" height=\"24px\"viewBox=\"0 0 24 24\"\n",
       "     width=\"24px\">\n",
       "    <g>\n",
       "        <path d=\"M19 3H5c-1.1 0-2 .9-2 2v14c0 1.1.9 2 2 2h14c1.1 0 2-.9 2-2V5c0-1.1-.9-2-2-2zM9 17H7v-7h2v7zm4 0h-2V7h2v10zm4 0h-2v-4h2v4z\"/>\n",
       "    </g>\n",
       "</svg>\n",
       "      </button>\n",
       "\n",
       "<style>\n",
       "  .colab-df-quickchart {\n",
       "      --bg-color: #E8F0FE;\n",
       "      --fill-color: #1967D2;\n",
       "      --hover-bg-color: #E2EBFA;\n",
       "      --hover-fill-color: #174EA6;\n",
       "      --disabled-fill-color: #AAA;\n",
       "      --disabled-bg-color: #DDD;\n",
       "  }\n",
       "\n",
       "  [theme=dark] .colab-df-quickchart {\n",
       "      --bg-color: #3B4455;\n",
       "      --fill-color: #D2E3FC;\n",
       "      --hover-bg-color: #434B5C;\n",
       "      --hover-fill-color: #FFFFFF;\n",
       "      --disabled-bg-color: #3B4455;\n",
       "      --disabled-fill-color: #666;\n",
       "  }\n",
       "\n",
       "  .colab-df-quickchart {\n",
       "    background-color: var(--bg-color);\n",
       "    border: none;\n",
       "    border-radius: 50%;\n",
       "    cursor: pointer;\n",
       "    display: none;\n",
       "    fill: var(--fill-color);\n",
       "    height: 32px;\n",
       "    padding: 0;\n",
       "    width: 32px;\n",
       "  }\n",
       "\n",
       "  .colab-df-quickchart:hover {\n",
       "    background-color: var(--hover-bg-color);\n",
       "    box-shadow: 0 1px 2px rgba(60, 64, 67, 0.3), 0 1px 3px 1px rgba(60, 64, 67, 0.15);\n",
       "    fill: var(--button-hover-fill-color);\n",
       "  }\n",
       "\n",
       "  .colab-df-quickchart-complete:disabled,\n",
       "  .colab-df-quickchart-complete:disabled:hover {\n",
       "    background-color: var(--disabled-bg-color);\n",
       "    fill: var(--disabled-fill-color);\n",
       "    box-shadow: none;\n",
       "  }\n",
       "\n",
       "  .colab-df-spinner {\n",
       "    border: 2px solid var(--fill-color);\n",
       "    border-color: transparent;\n",
       "    border-bottom-color: var(--fill-color);\n",
       "    animation:\n",
       "      spin 1s steps(1) infinite;\n",
       "  }\n",
       "\n",
       "  @keyframes spin {\n",
       "    0% {\n",
       "      border-color: transparent;\n",
       "      border-bottom-color: var(--fill-color);\n",
       "      border-left-color: var(--fill-color);\n",
       "    }\n",
       "    20% {\n",
       "      border-color: transparent;\n",
       "      border-left-color: var(--fill-color);\n",
       "      border-top-color: var(--fill-color);\n",
       "    }\n",
       "    30% {\n",
       "      border-color: transparent;\n",
       "      border-left-color: var(--fill-color);\n",
       "      border-top-color: var(--fill-color);\n",
       "      border-right-color: var(--fill-color);\n",
       "    }\n",
       "    40% {\n",
       "      border-color: transparent;\n",
       "      border-right-color: var(--fill-color);\n",
       "      border-top-color: var(--fill-color);\n",
       "    }\n",
       "    60% {\n",
       "      border-color: transparent;\n",
       "      border-right-color: var(--fill-color);\n",
       "    }\n",
       "    80% {\n",
       "      border-color: transparent;\n",
       "      border-right-color: var(--fill-color);\n",
       "      border-bottom-color: var(--fill-color);\n",
       "    }\n",
       "    90% {\n",
       "      border-color: transparent;\n",
       "      border-bottom-color: var(--fill-color);\n",
       "    }\n",
       "  }\n",
       "</style>\n",
       "\n",
       "      <script>\n",
       "        async function quickchart(key) {\n",
       "          const quickchartButtonEl =\n",
       "            document.querySelector('#' + key + ' button');\n",
       "          quickchartButtonEl.disabled = true;  // To prevent multiple clicks.\n",
       "          quickchartButtonEl.classList.add('colab-df-spinner');\n",
       "          try {\n",
       "            const charts = await google.colab.kernel.invokeFunction(\n",
       "                'suggestCharts', [key], {});\n",
       "          } catch (error) {\n",
       "            console.error('Error during call to suggestCharts:', error);\n",
       "          }\n",
       "          quickchartButtonEl.classList.remove('colab-df-spinner');\n",
       "          quickchartButtonEl.classList.add('colab-df-quickchart-complete');\n",
       "        }\n",
       "        (() => {\n",
       "          let quickchartButtonEl =\n",
       "            document.querySelector('#df-eed56494-b32f-4a86-91b2-192ea4fae734 button');\n",
       "          quickchartButtonEl.style.display =\n",
       "            google.colab.kernel.accessAllowed ? 'block' : 'none';\n",
       "        })();\n",
       "      </script>\n",
       "    </div>\n",
       "\n",
       "    </div>\n",
       "  </div>\n"
      ],
      "text/plain": [
       "                    text_cleaned  bertopic_topic  bertopic_prob\n",
       "0                    徐若瑄那時期很正很漂亮             202       0.129156\n",
       "1  初中時是用這首歌追到老師的 老師的孩子現在也應該是上初中了               2       0.090893\n",
       "2                徐若瑄那個時候真的美到驚心動魄             202       1.000000\n",
       "3                 所以才會有今生一見如故的感覺              -1       0.000649\n",
       "4                       2025年還在聽             533       1.000000"
      ]
     },
     "execution_count": 7,
     "metadata": {},
     "output_type": "execute_result"
    }
   ],
   "source": [
    "# 📥 載入兩份 CSV：clean + BERTopic\n",
    "df_clean = pd.read_csv(\"1.2_jay_comments_clean.csv\")\n",
    "df_topic = pd.read_csv(\"2.1_BerTopic_jay_bertopic_topic_result.csv\")\n",
    "\n",
    "# 🔁 合併資料（用 text_cleaned 對 text）\n",
    "df = pd.merge(df_clean, df_topic, left_on=\"text_cleaned\", right_on=\"text\", how=\"inner\")\n",
    "\n",
    "# 🧹 移除重複欄位，保留 _x 欄為主\n",
    "columns_to_keep = [col for col in df.columns if not col.endswith(\"_y\")]\n",
    "df = df[columns_to_keep]\n",
    "\n",
    "# 🪄 移除所有 _x 後綴，變回正常欄名\n",
    "df.columns = [col.replace(\"_x\", \"\") for col in df.columns]\n",
    "\n",
    "# 查看欄位總覽（確認有你要的）\n",
    "print(df.columns.tolist())\n",
    "\n",
    "# 顯示前 5 筆資料（重點欄位檢查）\n",
    "df[[\"text_cleaned\", \"bertopic_topic\", \"bertopic_prob\"]].head()"
   ]
  },
  {
   "cell_type": "code",
   "execution_count": 8,
   "metadata": {
    "colab": {
     "base_uri": "https://localhost:8080/",
     "height": 585
    },
    "executionInfo": {
     "elapsed": 10447,
     "status": "ok",
     "timestamp": 1749717327703,
     "user": {
      "displayName": "陳睿棋",
      "userId": "09392292305089164799"
     },
     "user_tz": -480
    },
    "id": "tiui4Qp4r4ml",
    "outputId": "3a50bcee-c16c-4f05-e338-6ad440537ef0"
   },
   "outputs": [
    {
     "name": "stdout",
     "output_type": "stream",
     "text": [
      "Requirement already satisfied: openai in /usr/local/lib/python3.11/dist-packages (1.84.0)\n",
      "Collecting openai\n",
      "  Downloading openai-1.86.0-py3-none-any.whl.metadata (25 kB)\n",
      "Requirement already satisfied: anyio<5,>=3.5.0 in /usr/local/lib/python3.11/dist-packages (from openai) (4.9.0)\n",
      "Requirement already satisfied: distro<2,>=1.7.0 in /usr/local/lib/python3.11/dist-packages (from openai) (1.9.0)\n",
      "Requirement already satisfied: httpx<1,>=0.23.0 in /usr/local/lib/python3.11/dist-packages (from openai) (0.28.1)\n",
      "Requirement already satisfied: jiter<1,>=0.4.0 in /usr/local/lib/python3.11/dist-packages (from openai) (0.10.0)\n",
      "Requirement already satisfied: pydantic<3,>=1.9.0 in /usr/local/lib/python3.11/dist-packages (from openai) (2.11.5)\n",
      "Requirement already satisfied: sniffio in /usr/local/lib/python3.11/dist-packages (from openai) (1.3.1)\n",
      "Requirement already satisfied: tqdm>4 in /usr/local/lib/python3.11/dist-packages (from openai) (4.67.1)\n",
      "Requirement already satisfied: typing-extensions<5,>=4.11 in /usr/local/lib/python3.11/dist-packages (from openai) (4.14.0)\n",
      "Requirement already satisfied: idna>=2.8 in /usr/local/lib/python3.11/dist-packages (from anyio<5,>=3.5.0->openai) (3.10)\n",
      "Requirement already satisfied: certifi in /usr/local/lib/python3.11/dist-packages (from httpx<1,>=0.23.0->openai) (2025.4.26)\n",
      "Requirement already satisfied: httpcore==1.* in /usr/local/lib/python3.11/dist-packages (from httpx<1,>=0.23.0->openai) (1.0.9)\n",
      "Requirement already satisfied: h11>=0.16 in /usr/local/lib/python3.11/dist-packages (from httpcore==1.*->httpx<1,>=0.23.0->openai) (0.16.0)\n",
      "Requirement already satisfied: annotated-types>=0.6.0 in /usr/local/lib/python3.11/dist-packages (from pydantic<3,>=1.9.0->openai) (0.7.0)\n",
      "Requirement already satisfied: pydantic-core==2.33.2 in /usr/local/lib/python3.11/dist-packages (from pydantic<3,>=1.9.0->openai) (2.33.2)\n",
      "Requirement already satisfied: typing-inspection>=0.4.0 in /usr/local/lib/python3.11/dist-packages (from pydantic<3,>=1.9.0->openai) (0.4.1)\n",
      "Downloading openai-1.86.0-py3-none-any.whl (730 kB)\n",
      "\u001b[2K   \u001b[90m━━━━━━━━━━━━━━━━━━━━━━━━━━━━━━━━━━━━━━━━\u001b[0m \u001b[32m730.3/730.3 kB\u001b[0m \u001b[31m13.9 MB/s\u001b[0m eta \u001b[36m0:00:00\u001b[0m\n",
      "\u001b[?25hInstalling collected packages: openai\n",
      "  Attempting uninstall: openai\n",
      "    Found existing installation: openai 1.84.0\n",
      "    Uninstalling openai-1.84.0:\n",
      "      Successfully uninstalled openai-1.84.0\n",
      "Successfully installed openai-1.86.0\n"
     ]
    },
    {
     "data": {
      "application/vnd.colab-display-data+json": {
       "id": "4e74ac43865545029086fa0ae1cbf858",
       "pip_warning": {
        "packages": [
         "openai"
        ]
       }
      }
     },
     "metadata": {},
     "output_type": "display_data"
    }
   ],
   "source": [
    "pip install --upgrade openai\n"
   ]
  },
  {
   "cell_type": "code",
   "execution_count": null,
   "metadata": {
    "colab": {
     "base_uri": "https://localhost:8080/"
    },
    "executionInfo": {
     "elapsed": 5987262,
     "status": "ok",
     "timestamp": 1749723374481,
     "user": {
      "displayName": "陳睿棋",
      "userId": "09392292305089164799"
     },
     "user_tz": -480
    },
    "id": "I09oikKquY2H",
    "outputId": "9c778d7d-0a7a-463a-d1c9-1c87af55a9e0"
   },
   "outputs": [
    {
     "name": "stdout",
     "output_type": "stream",
     "text": [
      "🚀 尚無 checkpoint，從頭開始\n"
     ]
    },
    {
     "name": "stderr",
     "output_type": "stream",
     "text": [
      "GPT ABSA 處理中:   0%|          | 1/1000 [00:01<22:49,  1.37s/it]"
     ]
    },
    {
     "name": "stdout",
     "output_type": "stream",
     "text": [
      "✅ 回傳： {\n",
      "    \"aspect\": \"青春回憶\",\n",
      "    \"sentiment\": \"正面\"\n",
      "}\n"
     ]
    },
    {
     "name": "stderr",
     "output_type": "stream",
     "text": [
      "\rGPT ABSA 處理中:   0%|          | 2/1000 [00:02<16:08,  1.03it/s]"
     ]
    },
    {
     "name": "stdout",
     "output_type": "stream",
     "text": [
      "✅ 回傳： {\n",
      "    \"aspect\": \"青春回憶\",\n",
      "    \"sentiment\": \"正面\"\n",
      "}\n"
     ]
    },
    {
     "name": "stderr",
     "output_type": "stream",
     "text": [
      "\rGPT ABSA 處理中:   0%|          | 3/1000 [00:02<14:49,  1.12it/s]"
     ]
    },
    {
     "name": "stdout",
     "output_type": "stream",
     "text": [
      "✅ 回傳： {\n",
      "    \"aspect\": \"青春回憶\",\n",
      "    \"sentiment\": \"正面\"\n",
      "}\n"
     ]
    },
    {
     "name": "stderr",
     "output_type": "stream",
     "text": [
      "\rGPT ABSA 處理中:   0%|          | 4/1000 [00:03<13:57,  1.19it/s]"
     ]
    },
    {
     "name": "stdout",
     "output_type": "stream",
     "text": [
      "✅ 回傳： {\n",
      "    \"aspect\": \"情感共鳴\",\n",
      "    \"sentiment\": \"正面\"\n",
      "}\n"
     ]
    },
    {
     "name": "stderr",
     "output_type": "stream",
     "text": [
      "\rGPT ABSA 處理中:   0%|          | 5/1000 [00:04<12:10,  1.36it/s]"
     ]
    },
    {
     "name": "stdout",
     "output_type": "stream",
     "text": [
      "✅ 回傳： {\n",
      "    \"aspect\": \"青春回憶\",\n",
      "    \"sentiment\": \"正面\"\n",
      "}\n"
     ]
    },
    {
     "name": "stderr",
     "output_type": "stream",
     "text": [
      "\rGPT ABSA 處理中:   1%|          | 6/1000 [00:05<13:16,  1.25it/s]"
     ]
    },
    {
     "name": "stdout",
     "output_type": "stream",
     "text": [
      "✅ 回傳： {\n",
      "  \"aspect\": \"音樂風格\",\n",
      "  \"sentiment\": \"正面\"\n",
      "}\n"
     ]
    },
    {
     "name": "stderr",
     "output_type": "stream",
     "text": [
      "\rGPT ABSA 處理中:   1%|          | 7/1000 [00:05<12:09,  1.36it/s]"
     ]
    },
    {
     "name": "stdout",
     "output_type": "stream",
     "text": [
      "✅ 回傳： {\n",
      "  \"aspect\": \"音樂風格\",\n",
      "  \"sentiment\": \"正面\"\n",
      "}\n"
     ]
    },
    {
     "name": "stderr",
     "output_type": "stream",
     "text": [
      "\rGPT ABSA 處理中:   1%|          | 8/1000 [00:06<11:24,  1.45it/s]"
     ]
    },
    {
     "name": "stdout",
     "output_type": "stream",
     "text": [
      "✅ 回傳： {\n",
      "  \"aspect\": \"對比分析\",\n",
      "  \"sentiment\": \"正面\"\n",
      "}\n"
     ]
    },
    {
     "name": "stderr",
     "output_type": "stream",
     "text": [
      "\rGPT ABSA 處理中:   1%|          | 9/1000 [00:06<10:47,  1.53it/s]"
     ]
    },
    {
     "name": "stdout",
     "output_type": "stream",
     "text": [
      "✅ 回傳： {\n",
      "    \"aspect\": \"對比分析\",\n",
      "    \"sentiment\": \"正面\"\n",
      "}\n"
     ]
    },
    {
     "name": "stderr",
     "output_type": "stream",
     "text": [
      "\rGPT ABSA 處理中:   1%|          | 10/1000 [00:08<13:16,  1.24it/s]"
     ]
    },
    {
     "name": "stdout",
     "output_type": "stream",
     "text": [
      "✅ 回傳： { \"aspect\": \"情感共鳴\", \"sentiment\": \"正面\" }\n"
     ]
    },
    {
     "name": "stderr",
     "output_type": "stream",
     "text": [
      "\rGPT ABSA 處理中:   1%|          | 11/1000 [00:08<11:41,  1.41it/s]"
     ]
    },
    {
     "name": "stdout",
     "output_type": "stream",
     "text": [
      "✅ 回傳： { \"aspect\": \"情感共鳴\", \"sentiment\": \"正面\" }\n"
     ]
    },
    {
     "name": "stderr",
     "output_type": "stream",
     "text": [
      "\rGPT ABSA 處理中:   1%|          | 12/1000 [00:09<10:55,  1.51it/s]"
     ]
    },
    {
     "name": "stdout",
     "output_type": "stream",
     "text": [
      "✅ 回傳： {\n",
      "    \"aspect\": \"青春回憶\",\n",
      "    \"sentiment\": \"正面\"\n",
      "}\n"
     ]
    },
    {
     "name": "stderr",
     "output_type": "stream",
     "text": [
      "\rGPT ABSA 處理中:   1%|▏         | 13/1000 [00:09<09:34,  1.72it/s]"
     ]
    },
    {
     "name": "stdout",
     "output_type": "stream",
     "text": [
      "✅ 回傳： { \"aspect\": \"音樂風格\", \"sentiment\": \"中立\" }\n"
     ]
    },
    {
     "name": "stderr",
     "output_type": "stream",
     "text": [
      "\rGPT ABSA 處理中:   1%|▏         | 14/1000 [00:10<09:54,  1.66it/s]"
     ]
    },
    {
     "name": "stdout",
     "output_type": "stream",
     "text": [
      "✅ 回傳： {\n",
      "    \"aspect\": \"對比分析\",\n",
      "    \"sentiment\": \"正面\"\n",
      "}\n"
     ]
    },
    {
     "name": "stderr",
     "output_type": "stream",
     "text": [
      "\rGPT ABSA 處理中:   2%|▏         | 15/1000 [00:10<09:18,  1.77it/s]"
     ]
    },
    {
     "name": "stdout",
     "output_type": "stream",
     "text": [
      "✅ 回傳： {\n",
      "    \"aspect\": \"青春回憶\",\n",
      "    \"sentiment\": \"中立\"\n",
      "}\n"
     ]
    },
    {
     "name": "stderr",
     "output_type": "stream",
     "text": [
      "\rGPT ABSA 處理中:   2%|▏         | 16/1000 [00:11<09:45,  1.68it/s]"
     ]
    },
    {
     "name": "stdout",
     "output_type": "stream",
     "text": [
      "✅ 回傳： { \"aspect\": \"青春回憶\", \"sentiment\": \"正面\" }\n"
     ]
    },
    {
     "name": "stderr",
     "output_type": "stream",
     "text": [
      "\rGPT ABSA 處理中:   2%|▏         | 17/1000 [00:11<09:27,  1.73it/s]"
     ]
    },
    {
     "name": "stdout",
     "output_type": "stream",
     "text": [
      "✅ 回傳： {\n",
      "    \"aspect\": \"音樂風格\",\n",
      "    \"sentiment\": \"正面\"\n",
      "}\n"
     ]
    },
    {
     "name": "stderr",
     "output_type": "stream",
     "text": [
      "\rGPT ABSA 處理中:   2%|▏         | 18/1000 [00:12<09:43,  1.68it/s]"
     ]
    },
    {
     "name": "stdout",
     "output_type": "stream",
     "text": [
      "✅ 回傳： {\n",
      "  \"aspect\": \"青春回憶\",\n",
      "  \"sentiment\": \"正面\"\n",
      "}\n"
     ]
    },
    {
     "name": "stderr",
     "output_type": "stream",
     "text": [
      "\rGPT ABSA 處理中:   2%|▏         | 19/1000 [00:12<08:58,  1.82it/s]"
     ]
    },
    {
     "name": "stdout",
     "output_type": "stream",
     "text": [
      "✅ 回傳： {\n",
      "    \"aspect\": \"青春回憶\",\n",
      "    \"sentiment\": \"正面\"\n",
      "}\n"
     ]
    },
    {
     "name": "stderr",
     "output_type": "stream",
     "text": [
      "\rGPT ABSA 處理中:   2%|▏         | 20/1000 [00:13<08:22,  1.95it/s]"
     ]
    },
    {
     "name": "stdout",
     "output_type": "stream",
     "text": [
      "✅ 回傳： {\n",
      "    \"aspect\": \"情感共鳴\",\n",
      "    \"sentiment\": \"正面\"\n",
      "}\n"
     ]
    },
    {
     "name": "stderr",
     "output_type": "stream",
     "text": [
      "\rGPT ABSA 處理中:   2%|▏         | 21/1000 [00:13<08:56,  1.83it/s]"
     ]
    },
    {
     "name": "stdout",
     "output_type": "stream",
     "text": [
      "✅ 回傳： { \"aspect\": \"音樂風格\", \"sentiment\": \"正面\" }\n"
     ]
    },
    {
     "name": "stderr",
     "output_type": "stream",
     "text": [
      "\rGPT ABSA 處理中:   2%|▏         | 22/1000 [00:14<10:10,  1.60it/s]"
     ]
    },
    {
     "name": "stdout",
     "output_type": "stream",
     "text": [
      "✅ 回傳： {\n",
      "    \"aspect\": \"情感共鳴\",\n",
      "    \"sentiment\": \"正面\"\n",
      "}\n"
     ]
    },
    {
     "name": "stderr",
     "output_type": "stream",
     "text": [
      "\rGPT ABSA 處理中:   2%|▏         | 23/1000 [00:15<09:19,  1.75it/s]"
     ]
    },
    {
     "name": "stdout",
     "output_type": "stream",
     "text": [
      "✅ 回傳： {\n",
      "    \"aspect\": \"對比分析\",\n",
      "    \"sentiment\": \"負面\"\n",
      "}\n"
     ]
    },
    {
     "name": "stderr",
     "output_type": "stream",
     "text": [
      "\rGPT ABSA 處理中:   2%|▏         | 24/1000 [00:15<10:03,  1.62it/s]"
     ]
    },
    {
     "name": "stdout",
     "output_type": "stream",
     "text": [
      "✅ 回傳： {\n",
      "    \"aspect\": \"青春回憶\",\n",
      "    \"sentiment\": \"正面\"\n",
      "}\n"
     ]
    },
    {
     "name": "stderr",
     "output_type": "stream",
     "text": [
      "\rGPT ABSA 處理中:   2%|▎         | 25/1000 [00:16<10:08,  1.60it/s]"
     ]
    },
    {
     "name": "stdout",
     "output_type": "stream",
     "text": [
      "✅ 回傳： {\n",
      "    \"aspect\": \"青春回憶\",\n",
      "    \"sentiment\": \"正面\"\n",
      "}\n"
     ]
    },
    {
     "name": "stderr",
     "output_type": "stream",
     "text": [
      "\rGPT ABSA 處理中:   3%|▎         | 26/1000 [00:16<09:08,  1.78it/s]"
     ]
    },
    {
     "name": "stdout",
     "output_type": "stream",
     "text": [
      "✅ 回傳： {\n",
      "    \"aspect\": \"情感共鳴\",\n",
      "    \"sentiment\": \"正面\"\n",
      "}\n"
     ]
    },
    {
     "name": "stderr",
     "output_type": "stream",
     "text": [
      "\rGPT ABSA 處理中:   3%|▎         | 27/1000 [00:17<09:35,  1.69it/s]"
     ]
    },
    {
     "name": "stdout",
     "output_type": "stream",
     "text": [
      "✅ 回傳： {\n",
      "    \"aspect\": \"青春回憶\",\n",
      "    \"sentiment\": \"正面\"\n",
      "}\n"
     ]
    },
    {
     "name": "stderr",
     "output_type": "stream",
     "text": [
      "\rGPT ABSA 處理中:   3%|▎         | 28/1000 [00:18<11:10,  1.45it/s]"
     ]
    },
    {
     "name": "stdout",
     "output_type": "stream",
     "text": [
      "✅ 回傳： {\n",
      "    \"aspect\": \"音樂風格\",\n",
      "    \"sentiment\": \"正面\"\n",
      "}\n"
     ]
    },
    {
     "name": "stderr",
     "output_type": "stream",
     "text": [
      "\rGPT ABSA 處理中:   3%|▎         | 29/1000 [00:19<11:10,  1.45it/s]"
     ]
    },
    {
     "name": "stdout",
     "output_type": "stream",
     "text": [
      "✅ 回傳： { \"aspect\": \"音樂風格\", \"sentiment\": \"正面\" }\n"
     ]
    },
    {
     "name": "stderr",
     "output_type": "stream",
     "text": [
      "\rGPT ABSA 處理中:   3%|▎         | 30/1000 [00:19<10:32,  1.53it/s]"
     ]
    },
    {
     "name": "stdout",
     "output_type": "stream",
     "text": [
      "✅ 回傳： { \"aspect\": \"歌詞意境\", \"sentiment\": \"中立\" }\n"
     ]
    },
    {
     "name": "stderr",
     "output_type": "stream",
     "text": [
      "\rGPT ABSA 處理中:   3%|▎         | 31/1000 [00:20<09:56,  1.63it/s]"
     ]
    },
    {
     "name": "stdout",
     "output_type": "stream",
     "text": [
      "✅ 回傳： {\n",
      "    \"aspect\": \"情感共鳴\",\n",
      "    \"sentiment\": \"正面\"\n",
      "}\n"
     ]
    },
    {
     "name": "stderr",
     "output_type": "stream",
     "text": [
      "\rGPT ABSA 處理中:   3%|▎         | 32/1000 [00:20<09:50,  1.64it/s]"
     ]
    },
    {
     "name": "stdout",
     "output_type": "stream",
     "text": [
      "✅ 回傳： { \"aspect\": \"青春回憶\", \"sentiment\": \"正面\" }\n"
     ]
    },
    {
     "name": "stderr",
     "output_type": "stream",
     "text": [
      "\rGPT ABSA 處理中:   3%|▎         | 33/1000 [00:21<09:49,  1.64it/s]"
     ]
    },
    {
     "name": "stdout",
     "output_type": "stream",
     "text": [
      "✅ 回傳： {\n",
      "    \"aspect\": \"青春回憶\",\n",
      "    \"sentiment\": \"中立\"\n",
      "}\n"
     ]
    },
    {
     "name": "stderr",
     "output_type": "stream",
     "text": [
      "\rGPT ABSA 處理中:   3%|▎         | 34/1000 [00:22<09:57,  1.62it/s]"
     ]
    },
    {
     "name": "stdout",
     "output_type": "stream",
     "text": [
      "✅ 回傳： {\n",
      "    \"aspect\": \"青春回憶\",\n",
      "    \"sentiment\": \"正面\"\n",
      "}\n"
     ]
    },
    {
     "name": "stderr",
     "output_type": "stream",
     "text": [
      "\rGPT ABSA 處理中:   4%|▎         | 35/1000 [00:22<09:24,  1.71it/s]"
     ]
    },
    {
     "name": "stdout",
     "output_type": "stream",
     "text": [
      "✅ 回傳： {\n",
      "    \"aspect\": \"音樂風格\",\n",
      "    \"sentiment\": \"正面\"\n",
      "}\n"
     ]
    },
    {
     "name": "stderr",
     "output_type": "stream",
     "text": [
      "\rGPT ABSA 處理中:   4%|▎         | 36/1000 [00:23<09:23,  1.71it/s]"
     ]
    },
    {
     "name": "stdout",
     "output_type": "stream",
     "text": [
      "✅ 回傳： {\n",
      "    \"aspect\": \"音樂風格\",\n",
      "    \"sentiment\": \"正面\"\n",
      "}\n"
     ]
    },
    {
     "name": "stderr",
     "output_type": "stream",
     "text": [
      "\rGPT ABSA 處理中:   4%|▎         | 37/1000 [00:23<08:47,  1.82it/s]"
     ]
    },
    {
     "name": "stdout",
     "output_type": "stream",
     "text": [
      "✅ 回傳： {\n",
      "  \"aspect\": \"音樂風格\",\n",
      "  \"sentiment\": \"正面\"\n",
      "}\n"
     ]
    },
    {
     "name": "stderr",
     "output_type": "stream",
     "text": [
      "\rGPT ABSA 處理中:   4%|▍         | 38/1000 [00:24<08:37,  1.86it/s]"
     ]
    },
    {
     "name": "stdout",
     "output_type": "stream",
     "text": [
      "✅ 回傳： {\n",
      "    \"aspect\": \"青春回憶\",\n",
      "    \"sentiment\": \"正面\"\n",
      "}\n"
     ]
    },
    {
     "name": "stderr",
     "output_type": "stream",
     "text": [
      "\rGPT ABSA 處理中:   4%|▍         | 39/1000 [00:24<08:14,  1.94it/s]"
     ]
    },
    {
     "name": "stdout",
     "output_type": "stream",
     "text": [
      "✅ 回傳： {\n",
      "    \"aspect\": \"青春回憶\",\n",
      "    \"sentiment\": \"中立\"\n",
      "}\n"
     ]
    },
    {
     "name": "stderr",
     "output_type": "stream",
     "text": [
      "\rGPT ABSA 處理中:   4%|▍         | 40/1000 [00:25<08:06,  1.97it/s]"
     ]
    },
    {
     "name": "stdout",
     "output_type": "stream",
     "text": [
      "✅ 回傳： {\n",
      "    \"aspect\": \"音樂風格\",\n",
      "    \"sentiment\": \"正面\"\n",
      "}\n"
     ]
    },
    {
     "name": "stderr",
     "output_type": "stream",
     "text": [
      "\rGPT ABSA 處理中:   4%|▍         | 41/1000 [00:25<08:52,  1.80it/s]"
     ]
    },
    {
     "name": "stdout",
     "output_type": "stream",
     "text": [
      "✅ 回傳： {\n",
      "    \"aspect\": \"音樂風格\",\n",
      "    \"sentiment\": \"正面\"\n",
      "}\n"
     ]
    },
    {
     "name": "stderr",
     "output_type": "stream",
     "text": [
      "\rGPT ABSA 處理中:   4%|▍         | 42/1000 [00:26<08:29,  1.88it/s]"
     ]
    },
    {
     "name": "stdout",
     "output_type": "stream",
     "text": [
      "✅ 回傳： { \"aspect\": \"歌詞意境\", \"sentiment\": \"負面\" }\n"
     ]
    },
    {
     "name": "stderr",
     "output_type": "stream",
     "text": [
      "\rGPT ABSA 處理中:   4%|▍         | 43/1000 [00:26<08:21,  1.91it/s]"
     ]
    },
    {
     "name": "stdout",
     "output_type": "stream",
     "text": [
      "✅ 回傳： {\n",
      "  \"aspect\": \"青春回憶\",\n",
      "  \"sentiment\": \"正面\"\n",
      "}\n"
     ]
    },
    {
     "name": "stderr",
     "output_type": "stream",
     "text": [
      "\rGPT ABSA 處理中:   4%|▍         | 44/1000 [00:27<08:25,  1.89it/s]"
     ]
    },
    {
     "name": "stdout",
     "output_type": "stream",
     "text": [
      "✅ 回傳： {\n",
      "    \"aspect\": \"情感共鳴\",\n",
      "    \"sentiment\": \"負面\"\n",
      "}\n"
     ]
    },
    {
     "name": "stderr",
     "output_type": "stream",
     "text": [
      "\rGPT ABSA 處理中:   4%|▍         | 45/1000 [00:28<09:24,  1.69it/s]"
     ]
    },
    {
     "name": "stdout",
     "output_type": "stream",
     "text": [
      "✅ 回傳： {\n",
      "    \"aspect\": \"音樂風格\",\n",
      "    \"sentiment\": \"正面\"\n",
      "}\n"
     ]
    },
    {
     "name": "stderr",
     "output_type": "stream",
     "text": [
      "\rGPT ABSA 處理中:   5%|▍         | 46/1000 [00:28<08:53,  1.79it/s]"
     ]
    },
    {
     "name": "stdout",
     "output_type": "stream",
     "text": [
      "✅ 回傳： { \"aspect\": \"情感共鳴\", \"sentiment\": \"正面\" }\n"
     ]
    },
    {
     "name": "stderr",
     "output_type": "stream",
     "text": [
      "\rGPT ABSA 處理中:   5%|▍         | 47/1000 [00:29<08:38,  1.84it/s]"
     ]
    },
    {
     "name": "stdout",
     "output_type": "stream",
     "text": [
      "✅ 回傳： {\n",
      "    \"aspect\": \"青春回憶\",\n",
      "    \"sentiment\": \"中立\"\n",
      "}\n"
     ]
    },
    {
     "name": "stderr",
     "output_type": "stream",
     "text": [
      "\rGPT ABSA 處理中:   5%|▍         | 48/1000 [00:29<08:44,  1.81it/s]"
     ]
    },
    {
     "name": "stdout",
     "output_type": "stream",
     "text": [
      "✅ 回傳： {\n",
      "    \"aspect\": \"青春回憶\",\n",
      "    \"sentiment\": \"正面\"\n",
      "}\n"
     ]
    },
    {
     "name": "stderr",
     "output_type": "stream",
     "text": [
      "\rGPT ABSA 處理中:   5%|▍         | 49/1000 [00:30<08:25,  1.88it/s]"
     ]
    },
    {
     "name": "stdout",
     "output_type": "stream",
     "text": [
      "✅ 回傳： {\n",
      "    \"aspect\": \"青春回憶\",\n",
      "    \"sentiment\": \"中立\"\n",
      "}\n"
     ]
    },
    {
     "name": "stderr",
     "output_type": "stream",
     "text": [
      "\rGPT ABSA 處理中:   5%|▌         | 50/1000 [00:30<07:47,  2.03it/s]"
     ]
    },
    {
     "name": "stdout",
     "output_type": "stream",
     "text": [
      "✅ 回傳： { \"aspect\": \"音樂風格\", \"sentiment\": \"正面\" }\n"
     ]
    },
    {
     "name": "stderr",
     "output_type": "stream",
     "text": [
      "\rGPT ABSA 處理中:   5%|▌         | 51/1000 [00:31<07:50,  2.01it/s]"
     ]
    },
    {
     "name": "stdout",
     "output_type": "stream",
     "text": [
      "✅ 回傳： {\n",
      "  \"aspect\": \"音樂風格\",\n",
      "  \"sentiment\": \"正面\"\n",
      "}\n"
     ]
    },
    {
     "name": "stderr",
     "output_type": "stream",
     "text": [
      "\rGPT ABSA 處理中:   5%|▌         | 52/1000 [00:31<08:37,  1.83it/s]"
     ]
    },
    {
     "name": "stdout",
     "output_type": "stream",
     "text": [
      "✅ 回傳： {\n",
      "    \"aspect\": \"情感共鳴\",\n",
      "    \"sentiment\": \"負面\"\n",
      "}\n"
     ]
    },
    {
     "name": "stderr",
     "output_type": "stream",
     "text": [
      "\rGPT ABSA 處理中:   5%|▌         | 53/1000 [00:32<08:04,  1.96it/s]"
     ]
    },
    {
     "name": "stdout",
     "output_type": "stream",
     "text": [
      "✅ 回傳： {\n",
      "  \"aspect\": \"青春回憶\",\n",
      "  \"sentiment\": \"正面\"\n",
      "}\n"
     ]
    },
    {
     "name": "stderr",
     "output_type": "stream",
     "text": [
      "\rGPT ABSA 處理中:   5%|▌         | 54/1000 [00:32<08:05,  1.95it/s]"
     ]
    },
    {
     "name": "stdout",
     "output_type": "stream",
     "text": [
      "✅ 回傳： {\n",
      "    \"aspect\": \"音樂風格\",\n",
      "    \"sentiment\": \"正面\"\n",
      "}\n"
     ]
    },
    {
     "name": "stderr",
     "output_type": "stream",
     "text": [
      "\rGPT ABSA 處理中:   6%|▌         | 55/1000 [00:33<08:24,  1.87it/s]"
     ]
    },
    {
     "name": "stdout",
     "output_type": "stream",
     "text": [
      "✅ 回傳： {\n",
      "    \"aspect\": \"音樂風格\",\n",
      "    \"sentiment\": \"正面\"\n",
      "}\n"
     ]
    },
    {
     "name": "stderr",
     "output_type": "stream",
     "text": [
      "\rGPT ABSA 處理中:   6%|▌         | 56/1000 [00:33<09:21,  1.68it/s]"
     ]
    },
    {
     "name": "stdout",
     "output_type": "stream",
     "text": [
      "✅ 回傳： {\n",
      "    \"aspect\": \"對比分析\",\n",
      "    \"sentiment\": \"正面\"\n",
      "}\n"
     ]
    },
    {
     "name": "stderr",
     "output_type": "stream",
     "text": [
      "\rGPT ABSA 處理中:   6%|▌         | 57/1000 [00:34<09:06,  1.72it/s]"
     ]
    },
    {
     "name": "stdout",
     "output_type": "stream",
     "text": [
      "✅ 回傳： {\n",
      "    \"aspect\": \"情感共鳴\",\n",
      "    \"sentiment\": \"正面\"\n",
      "}\n"
     ]
    },
    {
     "name": "stderr",
     "output_type": "stream",
     "text": [
      "\rGPT ABSA 處理中:   6%|▌         | 58/1000 [00:35<08:46,  1.79it/s]"
     ]
    },
    {
     "name": "stdout",
     "output_type": "stream",
     "text": [
      "✅ 回傳： {\n",
      "    \"aspect\": \"情感共鳴\",\n",
      "    \"sentiment\": \"負面\"\n",
      "}\n"
     ]
    },
    {
     "name": "stderr",
     "output_type": "stream",
     "text": [
      "\rGPT ABSA 處理中:   6%|▌         | 59/1000 [00:35<08:46,  1.79it/s]"
     ]
    },
    {
     "name": "stdout",
     "output_type": "stream",
     "text": [
      "✅ 回傳： {\n",
      "    \"aspect\": \"對比分析\",\n",
      "    \"sentiment\": \"中立\"\n",
      "}\n"
     ]
    },
    {
     "name": "stderr",
     "output_type": "stream",
     "text": [
      "\rGPT ABSA 處理中:   6%|▌         | 60/1000 [00:36<08:23,  1.87it/s]"
     ]
    },
    {
     "name": "stdout",
     "output_type": "stream",
     "text": [
      "✅ 回傳： {\n",
      "  \"aspect\": \"情感共鳴\",\n",
      "  \"sentiment\": \"正面\"\n",
      "}\n"
     ]
    },
    {
     "name": "stderr",
     "output_type": "stream",
     "text": [
      "\rGPT ABSA 處理中:   6%|▌         | 61/1000 [00:36<09:04,  1.72it/s]"
     ]
    },
    {
     "name": "stdout",
     "output_type": "stream",
     "text": [
      "✅ 回傳： {\n",
      "  \"aspect\": \"音樂風格\",\n",
      "  \"sentiment\": \"正面\"\n",
      "}\n"
     ]
    },
    {
     "name": "stderr",
     "output_type": "stream",
     "text": [
      "\rGPT ABSA 處理中:   6%|▌         | 62/1000 [00:37<09:11,  1.70it/s]"
     ]
    },
    {
     "name": "stdout",
     "output_type": "stream",
     "text": [
      "✅ 回傳： {\n",
      "    \"aspect\": \"情感共鳴\",\n",
      "    \"sentiment\": \"正面\"\n",
      "}\n"
     ]
    },
    {
     "name": "stderr",
     "output_type": "stream",
     "text": [
      "\rGPT ABSA 處理中:   6%|▋         | 63/1000 [00:38<10:01,  1.56it/s]"
     ]
    },
    {
     "name": "stdout",
     "output_type": "stream",
     "text": [
      "✅ 回傳： { \"aspect\": \"情感共鳴\", \"sentiment\": \"負面\" }\n"
     ]
    },
    {
     "name": "stderr",
     "output_type": "stream",
     "text": [
      "\rGPT ABSA 處理中:   6%|▋         | 64/1000 [00:38<09:47,  1.59it/s]"
     ]
    },
    {
     "name": "stdout",
     "output_type": "stream",
     "text": [
      "✅ 回傳： { \"aspect\": \"音樂風格\", \"sentiment\": \"負面\" }\n"
     ]
    },
    {
     "name": "stderr",
     "output_type": "stream",
     "text": [
      "\rGPT ABSA 處理中:   6%|▋         | 65/1000 [00:39<09:35,  1.62it/s]"
     ]
    },
    {
     "name": "stdout",
     "output_type": "stream",
     "text": [
      "✅ 回傳： {\n",
      "    \"aspect\": \"青春回憶\",\n",
      "    \"sentiment\": \"正面\"\n",
      "}\n"
     ]
    },
    {
     "name": "stderr",
     "output_type": "stream",
     "text": [
      "\rGPT ABSA 處理中:   7%|▋         | 66/1000 [00:39<09:14,  1.68it/s]"
     ]
    },
    {
     "name": "stdout",
     "output_type": "stream",
     "text": [
      "✅ 回傳： {\n",
      "    \"aspect\": \"青春回憶\",\n",
      "    \"sentiment\": \"正面\"\n",
      "}\n"
     ]
    },
    {
     "name": "stderr",
     "output_type": "stream",
     "text": [
      "\rGPT ABSA 處理中:   7%|▋         | 67/1000 [00:40<08:29,  1.83it/s]"
     ]
    },
    {
     "name": "stdout",
     "output_type": "stream",
     "text": [
      "✅ 回傳： { \"aspect\": \"情感共鳴\", \"sentiment\": \"正面\" }\n"
     ]
    },
    {
     "name": "stderr",
     "output_type": "stream",
     "text": [
      "\rGPT ABSA 處理中:   7%|▋         | 68/1000 [00:40<08:19,  1.87it/s]"
     ]
    },
    {
     "name": "stdout",
     "output_type": "stream",
     "text": [
      "✅ 回傳： {\n",
      "    \"aspect\": \"對比分析\",\n",
      "    \"sentiment\": \"正面\"\n",
      "}\n"
     ]
    },
    {
     "name": "stderr",
     "output_type": "stream",
     "text": [
      "\rGPT ABSA 處理中:   7%|▋         | 69/1000 [00:41<09:41,  1.60it/s]"
     ]
    },
    {
     "name": "stdout",
     "output_type": "stream",
     "text": [
      "✅ 回傳： {\n",
      "    \"aspect\": \"音樂風格\",\n",
      "    \"sentiment\": \"正面\"\n",
      "}\n"
     ]
    },
    {
     "name": "stderr",
     "output_type": "stream",
     "text": [
      "\rGPT ABSA 處理中:   7%|▋         | 70/1000 [00:42<09:31,  1.63it/s]"
     ]
    },
    {
     "name": "stdout",
     "output_type": "stream",
     "text": [
      "✅ 回傳： {\n",
      "    \"aspect\": \"情感共鳴\",\n",
      "    \"sentiment\": \"正面\"\n",
      "}\n"
     ]
    },
    {
     "name": "stderr",
     "output_type": "stream",
     "text": [
      "\rGPT ABSA 處理中:   7%|▋         | 71/1000 [00:43<11:29,  1.35it/s]"
     ]
    },
    {
     "name": "stdout",
     "output_type": "stream",
     "text": [
      "✅ 回傳： { \"aspect\": \"音樂風格\", \"sentiment\": \"正面\" }\n"
     ]
    },
    {
     "name": "stderr",
     "output_type": "stream",
     "text": [
      "\rGPT ABSA 處理中:   7%|▋         | 72/1000 [00:43<10:25,  1.48it/s]"
     ]
    },
    {
     "name": "stdout",
     "output_type": "stream",
     "text": [
      "✅ 回傳： { \"aspect\": \"青春回憶\", \"sentiment\": \"中立\" }\n"
     ]
    },
    {
     "name": "stderr",
     "output_type": "stream",
     "text": [
      "\rGPT ABSA 處理中:   7%|▋         | 73/1000 [00:44<11:14,  1.37it/s]"
     ]
    },
    {
     "name": "stdout",
     "output_type": "stream",
     "text": [
      "✅ 回傳： {\n",
      "    \"aspect\": \"青春回憶\",\n",
      "    \"sentiment\": \"中立\"\n",
      "}\n"
     ]
    },
    {
     "name": "stderr",
     "output_type": "stream",
     "text": [
      "\rGPT ABSA 處理中:   7%|▋         | 74/1000 [00:45<11:31,  1.34it/s]"
     ]
    },
    {
     "name": "stdout",
     "output_type": "stream",
     "text": [
      "✅ 回傳： {\n",
      "    \"aspect\": \"青春回憶\",\n",
      "    \"sentiment\": \"正面\"\n",
      "}\n"
     ]
    },
    {
     "name": "stderr",
     "output_type": "stream",
     "text": [
      "\rGPT ABSA 處理中:   8%|▊         | 75/1000 [00:46<10:59,  1.40it/s]"
     ]
    },
    {
     "name": "stdout",
     "output_type": "stream",
     "text": [
      "✅ 回傳： { \"aspect\": \"音樂風格\", \"sentiment\": \"正面\" }\n"
     ]
    },
    {
     "name": "stderr",
     "output_type": "stream",
     "text": [
      "\rGPT ABSA 處理中:   8%|▊         | 76/1000 [00:46<09:33,  1.61it/s]"
     ]
    },
    {
     "name": "stdout",
     "output_type": "stream",
     "text": [
      "✅ 回傳： {\n",
      "    \"aspect\": \"青春回憶\",\n",
      "    \"sentiment\": \"正面\"\n",
      "}\n"
     ]
    },
    {
     "name": "stderr",
     "output_type": "stream",
     "text": [
      "\rGPT ABSA 處理中:   8%|▊         | 77/1000 [00:46<08:47,  1.75it/s]"
     ]
    },
    {
     "name": "stdout",
     "output_type": "stream",
     "text": [
      "✅ 回傳： { \"aspect\": \"青春回憶\", \"sentiment\": \"正面\" }\n"
     ]
    },
    {
     "name": "stderr",
     "output_type": "stream",
     "text": [
      "\rGPT ABSA 處理中:   8%|▊         | 78/1000 [00:47<08:38,  1.78it/s]"
     ]
    },
    {
     "name": "stdout",
     "output_type": "stream",
     "text": [
      "✅ 回傳： {\n",
      "    \"aspect\": \"青春回憶\",\n",
      "    \"sentiment\": \"中立\"\n",
      "}\n"
     ]
    },
    {
     "name": "stderr",
     "output_type": "stream",
     "text": [
      "\rGPT ABSA 處理中:   8%|▊         | 79/1000 [00:47<08:07,  1.89it/s]"
     ]
    },
    {
     "name": "stdout",
     "output_type": "stream",
     "text": [
      "✅ 回傳： { \"aspect\": \"青春回憶\", \"sentiment\": \"正面\" }\n"
     ]
    },
    {
     "name": "stderr",
     "output_type": "stream",
     "text": [
      "\rGPT ABSA 處理中:   8%|▊         | 80/1000 [00:48<08:16,  1.85it/s]"
     ]
    },
    {
     "name": "stdout",
     "output_type": "stream",
     "text": [
      "✅ 回傳： { \"aspect\": \"對比分析\", \"sentiment\": \"正面\" }\n"
     ]
    },
    {
     "name": "stderr",
     "output_type": "stream",
     "text": [
      "\rGPT ABSA 處理中:   8%|▊         | 81/1000 [00:48<07:59,  1.92it/s]"
     ]
    },
    {
     "name": "stdout",
     "output_type": "stream",
     "text": [
      "✅ 回傳： {\n",
      "    \"aspect\": \"音樂風格\",\n",
      "    \"sentiment\": \"正面\"\n",
      "}\n"
     ]
    },
    {
     "name": "stderr",
     "output_type": "stream",
     "text": [
      "\rGPT ABSA 處理中:   8%|▊         | 82/1000 [00:49<08:35,  1.78it/s]"
     ]
    },
    {
     "name": "stdout",
     "output_type": "stream",
     "text": [
      "✅ 回傳： { \"aspect\": \"歌詞意境\", \"sentiment\": \"負面\" }\n"
     ]
    },
    {
     "name": "stderr",
     "output_type": "stream",
     "text": [
      "\rGPT ABSA 處理中:   8%|▊         | 83/1000 [00:50<08:42,  1.75it/s]"
     ]
    },
    {
     "name": "stdout",
     "output_type": "stream",
     "text": [
      "✅ 回傳： {\n",
      "  \"aspect\": \"歌詞意境\",\n",
      "  \"sentiment\": \"負面\"\n",
      "}\n"
     ]
    },
    {
     "name": "stderr",
     "output_type": "stream",
     "text": [
      "\rGPT ABSA 處理中:   8%|▊         | 84/1000 [00:50<07:57,  1.92it/s]"
     ]
    },
    {
     "name": "stdout",
     "output_type": "stream",
     "text": [
      "✅ 回傳： { \"aspect\": \"歌詞意境\", \"sentiment\": \"中立\" }\n"
     ]
    },
    {
     "name": "stderr",
     "output_type": "stream",
     "text": [
      "\rGPT ABSA 處理中:   8%|▊         | 85/1000 [00:51<08:20,  1.83it/s]"
     ]
    },
    {
     "name": "stdout",
     "output_type": "stream",
     "text": [
      "✅ 回傳： {\n",
      "  \"aspect\": \"歌詞意境\",\n",
      "  \"sentiment\": \"正面\"\n",
      "}\n"
     ]
    },
    {
     "name": "stderr",
     "output_type": "stream",
     "text": [
      "\rGPT ABSA 處理中:   9%|▊         | 86/1000 [00:51<08:43,  1.75it/s]"
     ]
    },
    {
     "name": "stdout",
     "output_type": "stream",
     "text": [
      "✅ 回傳： {\n",
      "    \"aspect\": \"歌詞意境\",\n",
      "    \"sentiment\": \"負面\"\n",
      "}\n"
     ]
    },
    {
     "name": "stderr",
     "output_type": "stream",
     "text": [
      "\rGPT ABSA 處理中:   9%|▊         | 87/1000 [00:52<09:34,  1.59it/s]"
     ]
    },
    {
     "name": "stdout",
     "output_type": "stream",
     "text": [
      "✅ 回傳： { \"aspect\": \"情感共鳴\", \"sentiment\": \"負面\" }\n"
     ]
    },
    {
     "name": "stderr",
     "output_type": "stream",
     "text": [
      "\rGPT ABSA 處理中:   9%|▉         | 88/1000 [00:53<10:38,  1.43it/s]"
     ]
    },
    {
     "name": "stdout",
     "output_type": "stream",
     "text": [
      "✅ 回傳： {\n",
      "    \"aspect\": \"情感共鳴\",\n",
      "    \"sentiment\": \"負面\"\n",
      "}\n"
     ]
    },
    {
     "name": "stderr",
     "output_type": "stream",
     "text": [
      "\rGPT ABSA 處理中:   9%|▉         | 89/1000 [00:54<10:06,  1.50it/s]"
     ]
    },
    {
     "name": "stdout",
     "output_type": "stream",
     "text": [
      "✅ 回傳： { \"aspect\": \"音樂風格\", \"sentiment\": \"中立\" }\n"
     ]
    },
    {
     "name": "stderr",
     "output_type": "stream",
     "text": [
      "\rGPT ABSA 處理中:   9%|▉         | 90/1000 [00:54<10:10,  1.49it/s]"
     ]
    },
    {
     "name": "stdout",
     "output_type": "stream",
     "text": [
      "✅ 回傳： { \"aspect\": \"情感共鳴\", \"sentiment\": \"負面\" }\n"
     ]
    },
    {
     "name": "stderr",
     "output_type": "stream",
     "text": [
      "\rGPT ABSA 處理中:   9%|▉         | 91/1000 [00:55<09:50,  1.54it/s]"
     ]
    },
    {
     "name": "stdout",
     "output_type": "stream",
     "text": [
      "✅ 回傳： { \"aspect\": \"歌詞意境\", \"sentiment\": \"負面\" }\n"
     ]
    },
    {
     "name": "stderr",
     "output_type": "stream",
     "text": [
      "\rGPT ABSA 處理中:   9%|▉         | 92/1000 [00:56<11:10,  1.35it/s]"
     ]
    },
    {
     "name": "stdout",
     "output_type": "stream",
     "text": [
      "✅ 回傳： {\n",
      "    \"aspect\": \"歌詞意境\",\n",
      "    \"sentiment\": \"負面\"\n",
      "}\n"
     ]
    },
    {
     "name": "stderr",
     "output_type": "stream",
     "text": [
      "\rGPT ABSA 處理中:   9%|▉         | 93/1000 [00:56<10:16,  1.47it/s]"
     ]
    },
    {
     "name": "stdout",
     "output_type": "stream",
     "text": [
      "✅ 回傳： { \"aspect\": \"歌詞意境\", \"sentiment\": \"負面\" }\n"
     ]
    },
    {
     "name": "stderr",
     "output_type": "stream",
     "text": [
      "\rGPT ABSA 處理中:   9%|▉         | 94/1000 [00:57<09:30,  1.59it/s]"
     ]
    },
    {
     "name": "stdout",
     "output_type": "stream",
     "text": [
      "✅ 回傳： {\n",
      "  \"aspect\": \"情感共鳴\",\n",
      "  \"sentiment\": \"負面\"\n",
      "}\n"
     ]
    },
    {
     "name": "stderr",
     "output_type": "stream",
     "text": [
      "\rGPT ABSA 處理中:  10%|▉         | 95/1000 [00:58<10:32,  1.43it/s]"
     ]
    },
    {
     "name": "stdout",
     "output_type": "stream",
     "text": [
      "✅ 回傳： { \"aspect\": \"音樂風格\", \"sentiment\": \"負面\" }\n"
     ]
    },
    {
     "name": "stderr",
     "output_type": "stream",
     "text": [
      "\rGPT ABSA 處理中:  10%|▉         | 96/1000 [00:58<09:32,  1.58it/s]"
     ]
    },
    {
     "name": "stdout",
     "output_type": "stream",
     "text": [
      "✅ 回傳： { \"aspect\": \"情感共鳴\", \"sentiment\": \"負面\" }\n"
     ]
    },
    {
     "name": "stderr",
     "output_type": "stream",
     "text": [
      "\rGPT ABSA 處理中:  10%|▉         | 97/1000 [00:59<08:57,  1.68it/s]"
     ]
    },
    {
     "name": "stdout",
     "output_type": "stream",
     "text": [
      "✅ 回傳： { \"aspect\": \"情感共鳴\", \"sentiment\": \"負面\" }\n"
     ]
    },
    {
     "name": "stderr",
     "output_type": "stream",
     "text": [
      "\rGPT ABSA 處理中:  10%|▉         | 98/1000 [00:59<09:20,  1.61it/s]"
     ]
    },
    {
     "name": "stdout",
     "output_type": "stream",
     "text": [
      "✅ 回傳： {\n",
      "    \"aspect\": \"對比分析\",\n",
      "    \"sentiment\": \"正面\"\n",
      "}\n"
     ]
    },
    {
     "name": "stderr",
     "output_type": "stream",
     "text": [
      "\rGPT ABSA 處理中:  10%|▉         | 99/1000 [01:00<09:11,  1.63it/s]"
     ]
    },
    {
     "name": "stdout",
     "output_type": "stream",
     "text": [
      "✅ 回傳： { \"aspect\": \"青春回憶\", \"sentiment\": \"中立\" }\n"
     ]
    },
    {
     "name": "stderr",
     "output_type": "stream",
     "text": [
      "\rGPT ABSA 處理中:  10%|█         | 100/1000 [01:00<08:42,  1.72it/s]"
     ]
    },
    {
     "name": "stdout",
     "output_type": "stream",
     "text": [
      "✅ 回傳： {\n",
      "    \"aspect\": \"情感共鳴\",\n",
      "    \"sentiment\": \"正面\"\n",
      "}\n",
      "✅ 存檔 checkpoint at row 100\n"
     ]
    },
    {
     "name": "stderr",
     "output_type": "stream",
     "text": [
      "\rGPT ABSA 處理中:  10%|█         | 101/1000 [01:01<08:15,  1.81it/s]"
     ]
    },
    {
     "name": "stdout",
     "output_type": "stream",
     "text": [
      "✅ 回傳： {\n",
      "  \"aspect\": \"情感共鳴\",\n",
      "  \"sentiment\": \"正面\"\n",
      "}\n"
     ]
    },
    {
     "name": "stderr",
     "output_type": "stream",
     "text": [
      "\rGPT ABSA 處理中:  10%|█         | 102/1000 [01:02<09:05,  1.65it/s]"
     ]
    },
    {
     "name": "stdout",
     "output_type": "stream",
     "text": [
      "✅ 回傳： { \"aspect\": \"情感共鳴\", \"sentiment\": \"負面\" }\n"
     ]
    },
    {
     "name": "stderr",
     "output_type": "stream",
     "text": [
      "\rGPT ABSA 處理中:  10%|█         | 103/1000 [01:02<08:56,  1.67it/s]"
     ]
    },
    {
     "name": "stdout",
     "output_type": "stream",
     "text": [
      "✅ 回傳： { \"aspect\": \"對比分析\", \"sentiment\": \"正面\" }\n"
     ]
    },
    {
     "name": "stderr",
     "output_type": "stream",
     "text": [
      "\rGPT ABSA 處理中:  10%|█         | 104/1000 [01:03<09:50,  1.52it/s]"
     ]
    },
    {
     "name": "stdout",
     "output_type": "stream",
     "text": [
      "✅ 回傳： { \"aspect\": \"對比分析\", \"sentiment\": \"正面\" }\n"
     ]
    },
    {
     "name": "stderr",
     "output_type": "stream",
     "text": [
      "\rGPT ABSA 處理中:  10%|█         | 105/1000 [01:04<10:40,  1.40it/s]"
     ]
    },
    {
     "name": "stdout",
     "output_type": "stream",
     "text": [
      "✅ 回傳： {\n",
      "    \"aspect\": \"音樂風格\",\n",
      "    \"sentiment\": \"正面\"\n",
      "}\n"
     ]
    },
    {
     "name": "stderr",
     "output_type": "stream",
     "text": [
      "\rGPT ABSA 處理中:  11%|█         | 106/1000 [01:04<09:45,  1.53it/s]"
     ]
    },
    {
     "name": "stdout",
     "output_type": "stream",
     "text": [
      "✅ 回傳： {\n",
      "    \"aspect\": \"音樂風格\",\n",
      "    \"sentiment\": \"正面\"\n",
      "}\n"
     ]
    },
    {
     "name": "stderr",
     "output_type": "stream",
     "text": [
      "\rGPT ABSA 處理中:  11%|█         | 107/1000 [01:05<09:00,  1.65it/s]"
     ]
    },
    {
     "name": "stdout",
     "output_type": "stream",
     "text": [
      "✅ 回傳： {\n",
      "  \"aspect\": \"歌詞意境\",\n",
      "  \"sentiment\": \"正面\"\n",
      "}\n"
     ]
    },
    {
     "name": "stderr",
     "output_type": "stream",
     "text": [
      "\rGPT ABSA 處理中:  11%|█         | 108/1000 [01:06<09:01,  1.65it/s]"
     ]
    },
    {
     "name": "stdout",
     "output_type": "stream",
     "text": [
      "✅ 回傳： {\n",
      "    \"aspect\": \"歌詞意境\",\n",
      "    \"sentiment\": \"正面\"\n",
      "}\n"
     ]
    },
    {
     "name": "stderr",
     "output_type": "stream",
     "text": [
      "\rGPT ABSA 處理中:  11%|█         | 109/1000 [01:07<10:46,  1.38it/s]"
     ]
    },
    {
     "name": "stdout",
     "output_type": "stream",
     "text": [
      "✅ 回傳： {\n",
      "    \"aspect\": \"對比分析\",\n",
      "    \"sentiment\": \"中立\"\n",
      "}\n"
     ]
    },
    {
     "name": "stderr",
     "output_type": "stream",
     "text": [
      "\rGPT ABSA 處理中:  11%|█         | 110/1000 [01:07<10:30,  1.41it/s]"
     ]
    },
    {
     "name": "stdout",
     "output_type": "stream",
     "text": [
      "✅ 回傳： {\n",
      "    \"aspect\": \"歌詞意境\",\n",
      "    \"sentiment\": \"正面\"\n",
      "}\n"
     ]
    },
    {
     "name": "stderr",
     "output_type": "stream",
     "text": [
      "\rGPT ABSA 處理中:  11%|█         | 111/1000 [01:08<12:16,  1.21it/s]"
     ]
    },
    {
     "name": "stdout",
     "output_type": "stream",
     "text": [
      "✅ 回傳： { \"aspect\": \"情感共鳴\", \"sentiment\": \"正面\" }\n"
     ]
    },
    {
     "name": "stderr",
     "output_type": "stream",
     "text": [
      "\rGPT ABSA 處理中:  11%|█         | 112/1000 [01:09<11:13,  1.32it/s]"
     ]
    },
    {
     "name": "stdout",
     "output_type": "stream",
     "text": [
      "✅ 回傳： { \"aspect\": \"歌詞意境\", \"sentiment\": \"中立\" }\n"
     ]
    },
    {
     "name": "stderr",
     "output_type": "stream",
     "text": [
      "\rGPT ABSA 處理中:  11%|█▏        | 113/1000 [01:10<10:44,  1.38it/s]"
     ]
    },
    {
     "name": "stdout",
     "output_type": "stream",
     "text": [
      "✅ 回傳： { \"aspect\": \"音樂風格\", \"sentiment\": \"負面\" }\n"
     ]
    },
    {
     "name": "stderr",
     "output_type": "stream",
     "text": [
      "\rGPT ABSA 處理中:  11%|█▏        | 114/1000 [01:11<11:37,  1.27it/s]"
     ]
    },
    {
     "name": "stdout",
     "output_type": "stream",
     "text": [
      "✅ 回傳： {\n",
      "  \"aspect\": \"情感共鳴\",\n",
      "  \"sentiment\": \"正面\"\n",
      "}\n"
     ]
    },
    {
     "name": "stderr",
     "output_type": "stream",
     "text": [
      "\rGPT ABSA 處理中:  12%|█▏        | 115/1000 [01:11<11:01,  1.34it/s]"
     ]
    },
    {
     "name": "stdout",
     "output_type": "stream",
     "text": [
      "✅ 回傳： {\n",
      "    \"aspect\": \"音樂風格\",\n",
      "    \"sentiment\": \"負面\"\n",
      "}\n"
     ]
    },
    {
     "name": "stderr",
     "output_type": "stream",
     "text": [
      "\rGPT ABSA 處理中:  12%|█▏        | 116/1000 [01:12<10:03,  1.46it/s]"
     ]
    },
    {
     "name": "stdout",
     "output_type": "stream",
     "text": [
      "✅ 回傳： {\n",
      "  \"aspect\": \"音樂風格\",\n",
      "  \"sentiment\": \"正面\"\n",
      "}\n"
     ]
    },
    {
     "name": "stderr",
     "output_type": "stream",
     "text": [
      "\rGPT ABSA 處理中:  12%|█▏        | 117/1000 [01:14<15:41,  1.07s/it]"
     ]
    },
    {
     "name": "stdout",
     "output_type": "stream",
     "text": [
      "✅ 回傳： {\n",
      "    \"aspect\": \"情感共鳴\",\n",
      "    \"sentiment\": \"正面\"\n",
      "}\n"
     ]
    },
    {
     "name": "stderr",
     "output_type": "stream",
     "text": [
      "\rGPT ABSA 處理中:  12%|█▏        | 118/1000 [01:14<12:58,  1.13it/s]"
     ]
    },
    {
     "name": "stdout",
     "output_type": "stream",
     "text": [
      "✅ 回傳： { \"aspect\": \"音樂風格\", \"sentiment\": \"正面\" }\n"
     ]
    },
    {
     "name": "stderr",
     "output_type": "stream",
     "text": [
      "\rGPT ABSA 處理中:  12%|█▏        | 119/1000 [01:15<12:03,  1.22it/s]"
     ]
    },
    {
     "name": "stdout",
     "output_type": "stream",
     "text": [
      "✅ 回傳： {\n",
      "    \"aspect\": \"青春回憶\",\n",
      "    \"sentiment\": \"正面\"\n",
      "}\n"
     ]
    },
    {
     "name": "stderr",
     "output_type": "stream",
     "text": [
      "\rGPT ABSA 處理中:  12%|█▏        | 120/1000 [01:15<10:13,  1.43it/s]"
     ]
    },
    {
     "name": "stdout",
     "output_type": "stream",
     "text": [
      "✅ 回傳： {\n",
      "  \"aspect\": \"情感共鳴\",\n",
      "  \"sentiment\": \"正面\"\n",
      "}\n"
     ]
    },
    {
     "name": "stderr",
     "output_type": "stream",
     "text": [
      "\rGPT ABSA 處理中:  12%|█▏        | 121/1000 [01:16<09:29,  1.54it/s]"
     ]
    },
    {
     "name": "stdout",
     "output_type": "stream",
     "text": [
      "✅ 回傳： {\n",
      "    \"aspect\": \"青春回憶\",\n",
      "    \"sentiment\": \"正面\"\n",
      "}\n"
     ]
    },
    {
     "name": "stderr",
     "output_type": "stream",
     "text": [
      "\rGPT ABSA 處理中:  12%|█▏        | 122/1000 [01:17<10:20,  1.41it/s]"
     ]
    },
    {
     "name": "stdout",
     "output_type": "stream",
     "text": [
      "✅ 回傳： { \"aspect\": \"音樂風格\", \"sentiment\": \"正面\" }\n"
     ]
    },
    {
     "name": "stderr",
     "output_type": "stream",
     "text": [
      "\rGPT ABSA 處理中:  12%|█▏        | 123/1000 [01:17<10:11,  1.43it/s]"
     ]
    },
    {
     "name": "stdout",
     "output_type": "stream",
     "text": [
      "✅ 回傳： {\n",
      "    \"aspect\": \"情感共鳴\",\n",
      "    \"sentiment\": \"正面\"\n",
      "}\n"
     ]
    },
    {
     "name": "stderr",
     "output_type": "stream",
     "text": [
      "\rGPT ABSA 處理中:  12%|█▏        | 124/1000 [01:18<10:16,  1.42it/s]"
     ]
    },
    {
     "name": "stdout",
     "output_type": "stream",
     "text": [
      "✅ 回傳： {\n",
      "    \"aspect\": \"音樂風格\",\n",
      "    \"sentiment\": \"正面\"\n",
      "}\n"
     ]
    },
    {
     "name": "stderr",
     "output_type": "stream",
     "text": [
      "\rGPT ABSA 處理中:  12%|█▎        | 125/1000 [01:19<10:19,  1.41it/s]"
     ]
    },
    {
     "name": "stdout",
     "output_type": "stream",
     "text": [
      "✅ 回傳： {\n",
      "  \"aspect\": \"青春回憶\",\n",
      "  \"sentiment\": \"中立\"\n",
      "}\n"
     ]
    },
    {
     "name": "stderr",
     "output_type": "stream",
     "text": [
      "\rGPT ABSA 處理中:  13%|█▎        | 126/1000 [01:19<09:44,  1.50it/s]"
     ]
    },
    {
     "name": "stdout",
     "output_type": "stream",
     "text": [
      "✅ 回傳： {\n",
      "    \"aspect\": \"歌詞意境\",\n",
      "    \"sentiment\": \"中立\"\n",
      "}\n"
     ]
    },
    {
     "name": "stderr",
     "output_type": "stream",
     "text": [
      "\rGPT ABSA 處理中:  13%|█▎        | 127/1000 [01:20<09:49,  1.48it/s]"
     ]
    },
    {
     "name": "stdout",
     "output_type": "stream",
     "text": [
      "✅ 回傳： {\n",
      "    \"aspect\": \"對比分析\",\n",
      "    \"sentiment\": \"負面\"\n",
      "}\n"
     ]
    },
    {
     "name": "stderr",
     "output_type": "stream",
     "text": [
      "\rGPT ABSA 處理中:  13%|█▎        | 128/1000 [01:21<10:56,  1.33it/s]"
     ]
    },
    {
     "name": "stdout",
     "output_type": "stream",
     "text": [
      "✅ 回傳： { \"aspect\": \"音樂風格\", \"sentiment\": \"中立\" }\n"
     ]
    },
    {
     "name": "stderr",
     "output_type": "stream",
     "text": [
      "\rGPT ABSA 處理中:  13%|█▎        | 129/1000 [01:21<09:58,  1.45it/s]"
     ]
    },
    {
     "name": "stdout",
     "output_type": "stream",
     "text": [
      "✅ 回傳： {\n",
      "    \"aspect\": \"青春回憶\",\n",
      "    \"sentiment\": \"負面\"\n",
      "}\n"
     ]
    },
    {
     "name": "stderr",
     "output_type": "stream",
     "text": [
      "\rGPT ABSA 處理中:  13%|█▎        | 130/1000 [01:22<09:19,  1.55it/s]"
     ]
    },
    {
     "name": "stdout",
     "output_type": "stream",
     "text": [
      "✅ 回傳： {\n",
      "  \"aspect\": \"情感共鳴\",\n",
      "  \"sentiment\": \"正面\"\n",
      "}\n"
     ]
    },
    {
     "name": "stderr",
     "output_type": "stream",
     "text": [
      "\rGPT ABSA 處理中:  13%|█▎        | 131/1000 [01:22<08:33,  1.69it/s]"
     ]
    },
    {
     "name": "stdout",
     "output_type": "stream",
     "text": [
      "✅ 回傳： {\n",
      "    \"aspect\": \"青春回憶\",\n",
      "    \"sentiment\": \"正面\"\n",
      "}\n"
     ]
    },
    {
     "name": "stderr",
     "output_type": "stream",
     "text": [
      "\rGPT ABSA 處理中:  13%|█▎        | 132/1000 [01:24<11:44,  1.23it/s]"
     ]
    },
    {
     "name": "stdout",
     "output_type": "stream",
     "text": [
      "✅ 回傳： {\n",
      "  \"aspect\": \"歌詞意境\",\n",
      "  \"sentiment\": \"中立\"\n",
      "}\n"
     ]
    },
    {
     "name": "stderr",
     "output_type": "stream",
     "text": [
      "\rGPT ABSA 處理中:  13%|█▎        | 133/1000 [01:24<10:27,  1.38it/s]"
     ]
    },
    {
     "name": "stdout",
     "output_type": "stream",
     "text": [
      "✅ 回傳： {\n",
      "    \"aspect\": \"對比分析\",\n",
      "    \"sentiment\": \"正面\"\n",
      "}\n"
     ]
    },
    {
     "name": "stderr",
     "output_type": "stream",
     "text": [
      "\rGPT ABSA 處理中:  13%|█▎        | 134/1000 [01:25<09:27,  1.53it/s]"
     ]
    },
    {
     "name": "stdout",
     "output_type": "stream",
     "text": [
      "✅ 回傳： {\n",
      "    \"aspect\": \"情感共鳴\",\n",
      "    \"sentiment\": \"中立\"\n",
      "}\n"
     ]
    },
    {
     "name": "stderr",
     "output_type": "stream",
     "text": [
      "\rGPT ABSA 處理中:  14%|█▎        | 135/1000 [01:25<08:46,  1.64it/s]"
     ]
    },
    {
     "name": "stdout",
     "output_type": "stream",
     "text": [
      "✅ 回傳： {\n",
      "    \"aspect\": \"音樂風格\",\n",
      "    \"sentiment\": \"中立\"\n",
      "}\n"
     ]
    },
    {
     "name": "stderr",
     "output_type": "stream",
     "text": [
      "\rGPT ABSA 處理中:  14%|█▎        | 136/1000 [01:26<08:21,  1.72it/s]"
     ]
    },
    {
     "name": "stdout",
     "output_type": "stream",
     "text": [
      "✅ 回傳： {\n",
      "    \"aspect\": \"對比分析\",\n",
      "    \"sentiment\": \"正面\"\n",
      "}\n"
     ]
    },
    {
     "name": "stderr",
     "output_type": "stream",
     "text": [
      "\rGPT ABSA 處理中:  14%|█▎        | 137/1000 [01:26<07:52,  1.83it/s]"
     ]
    },
    {
     "name": "stdout",
     "output_type": "stream",
     "text": [
      "✅ 回傳： {\n",
      "  \"aspect\": \"音樂風格\",\n",
      "  \"sentiment\": \"正面\"\n",
      "}\n"
     ]
    },
    {
     "name": "stderr",
     "output_type": "stream",
     "text": [
      "\rGPT ABSA 處理中:  14%|█▍        | 138/1000 [01:27<07:54,  1.82it/s]"
     ]
    },
    {
     "name": "stdout",
     "output_type": "stream",
     "text": [
      "✅ 回傳： {\n",
      "    \"aspect\": \"青春回憶\",\n",
      "    \"sentiment\": \"正面\"\n",
      "}\n"
     ]
    },
    {
     "name": "stderr",
     "output_type": "stream",
     "text": [
      "\rGPT ABSA 處理中:  14%|█▍        | 139/1000 [01:27<07:53,  1.82it/s]"
     ]
    },
    {
     "name": "stdout",
     "output_type": "stream",
     "text": [
      "✅ 回傳： {\n",
      "    \"aspect\": \"音樂風格\",\n",
      "    \"sentiment\": \"負面\"\n",
      "}\n"
     ]
    },
    {
     "name": "stderr",
     "output_type": "stream",
     "text": [
      "\rGPT ABSA 處理中:  14%|█▍        | 140/1000 [01:28<08:15,  1.73it/s]"
     ]
    },
    {
     "name": "stdout",
     "output_type": "stream",
     "text": [
      "✅ 回傳： {\n",
      "  \"aspect\": \"情感共鳴\",\n",
      "  \"sentiment\": \"正面\"\n",
      "}\n"
     ]
    },
    {
     "name": "stderr",
     "output_type": "stream",
     "text": [
      "\rGPT ABSA 處理中:  14%|█▍        | 141/1000 [01:29<08:19,  1.72it/s]"
     ]
    },
    {
     "name": "stdout",
     "output_type": "stream",
     "text": [
      "✅ 回傳： {\n",
      "  \"aspect\": \"音樂風格\",\n",
      "  \"sentiment\": \"正面\"\n",
      "}\n"
     ]
    },
    {
     "name": "stderr",
     "output_type": "stream",
     "text": [
      "\rGPT ABSA 處理中:  14%|█▍        | 142/1000 [01:29<07:58,  1.79it/s]"
     ]
    },
    {
     "name": "stdout",
     "output_type": "stream",
     "text": [
      "✅ 回傳： {\n",
      "    \"aspect\": \"青春回憶\",\n",
      "    \"sentiment\": \"正面\"\n",
      "}\n"
     ]
    },
    {
     "name": "stderr",
     "output_type": "stream",
     "text": [
      "\rGPT ABSA 處理中:  14%|█▍        | 143/1000 [01:30<07:46,  1.84it/s]"
     ]
    },
    {
     "name": "stdout",
     "output_type": "stream",
     "text": [
      "✅ 回傳： { \"aspect\": \"情感共鳴\", \"sentiment\": \"正面\" }\n"
     ]
    },
    {
     "name": "stderr",
     "output_type": "stream",
     "text": [
      "\rGPT ABSA 處理中:  14%|█▍        | 144/1000 [01:30<07:34,  1.88it/s]"
     ]
    },
    {
     "name": "stdout",
     "output_type": "stream",
     "text": [
      "✅ 回傳： {\n",
      "    \"aspect\": \"情感共鳴\",\n",
      "    \"sentiment\": \"正面\"\n",
      "}\n"
     ]
    },
    {
     "name": "stderr",
     "output_type": "stream",
     "text": [
      "\rGPT ABSA 處理中:  14%|█▍        | 145/1000 [01:31<07:37,  1.87it/s]"
     ]
    },
    {
     "name": "stdout",
     "output_type": "stream",
     "text": [
      "✅ 回傳： {\n",
      "  \"aspect\": \"音樂風格\",\n",
      "  \"sentiment\": \"正面\"\n",
      "}\n"
     ]
    },
    {
     "name": "stderr",
     "output_type": "stream",
     "text": [
      "\rGPT ABSA 處理中:  15%|█▍        | 146/1000 [01:31<08:09,  1.75it/s]"
     ]
    },
    {
     "name": "stdout",
     "output_type": "stream",
     "text": [
      "✅ 回傳： {\n",
      "    \"aspect\": \"音樂風格\",\n",
      "    \"sentiment\": \"正面\"\n",
      "}\n"
     ]
    },
    {
     "name": "stderr",
     "output_type": "stream",
     "text": [
      "\rGPT ABSA 處理中:  15%|█▍        | 147/1000 [01:33<13:10,  1.08it/s]"
     ]
    },
    {
     "name": "stdout",
     "output_type": "stream",
     "text": [
      "✅ 回傳： {\n",
      "  \"aspect\": \"對比分析\",\n",
      "  \"sentiment\": \"負面\"\n",
      "}\n"
     ]
    },
    {
     "name": "stderr",
     "output_type": "stream",
     "text": [
      "\rGPT ABSA 處理中:  15%|█▍        | 148/1000 [01:34<11:31,  1.23it/s]"
     ]
    },
    {
     "name": "stdout",
     "output_type": "stream",
     "text": [
      "✅ 回傳： {\n",
      "    \"aspect\": \"青春回憶\",\n",
      "    \"sentiment\": \"正面\"\n",
      "}\n"
     ]
    },
    {
     "name": "stderr",
     "output_type": "stream",
     "text": [
      "\rGPT ABSA 處理中:  15%|█▍        | 149/1000 [01:34<10:49,  1.31it/s]"
     ]
    },
    {
     "name": "stdout",
     "output_type": "stream",
     "text": [
      "✅ 回傳： {\n",
      "  \"aspect\": \"音樂風格\",\n",
      "  \"sentiment\": \"正面\"\n",
      "}\n"
     ]
    },
    {
     "name": "stderr",
     "output_type": "stream",
     "text": [
      "\rGPT ABSA 處理中:  15%|█▌        | 150/1000 [01:35<10:16,  1.38it/s]"
     ]
    },
    {
     "name": "stdout",
     "output_type": "stream",
     "text": [
      "✅ 回傳： {\n",
      "    \"aspect\": \"音樂風格\",\n",
      "    \"sentiment\": \"正面\"\n",
      "}\n"
     ]
    },
    {
     "name": "stderr",
     "output_type": "stream",
     "text": [
      "\rGPT ABSA 處理中:  15%|█▌        | 151/1000 [01:37<15:21,  1.09s/it]"
     ]
    },
    {
     "name": "stdout",
     "output_type": "stream",
     "text": [
      "✅ 回傳： {\n",
      "    \"aspect\": \"情感共鳴\",\n",
      "    \"sentiment\": \"正面\"\n",
      "}\n"
     ]
    },
    {
     "name": "stderr",
     "output_type": "stream",
     "text": [
      "\rGPT ABSA 處理中:  15%|█▌        | 152/1000 [01:37<13:01,  1.08it/s]"
     ]
    },
    {
     "name": "stdout",
     "output_type": "stream",
     "text": [
      "✅ 回傳： {\n",
      "    \"aspect\": \"音樂風格\",\n",
      "    \"sentiment\": \"正面\"\n",
      "}\n"
     ]
    },
    {
     "name": "stderr",
     "output_type": "stream",
     "text": [
      "\rGPT ABSA 處理中:  15%|█▌        | 153/1000 [01:38<11:22,  1.24it/s]"
     ]
    },
    {
     "name": "stdout",
     "output_type": "stream",
     "text": [
      "✅ 回傳： {\n",
      "    \"aspect\": \"青春回憶\",\n",
      "    \"sentiment\": \"正面\"\n",
      "}\n"
     ]
    },
    {
     "name": "stderr",
     "output_type": "stream",
     "text": [
      "\rGPT ABSA 處理中:  15%|█▌        | 154/1000 [01:38<10:08,  1.39it/s]"
     ]
    },
    {
     "name": "stdout",
     "output_type": "stream",
     "text": [
      "✅ 回傳： {\n",
      "    \"aspect\": \"青春回憶\",\n",
      "    \"sentiment\": \"正面\"\n",
      "}\n"
     ]
    },
    {
     "name": "stderr",
     "output_type": "stream",
     "text": [
      "\rGPT ABSA 處理中:  16%|█▌        | 155/1000 [01:39<09:15,  1.52it/s]"
     ]
    },
    {
     "name": "stdout",
     "output_type": "stream",
     "text": [
      "✅ 回傳： {\n",
      "    \"aspect\": \"青春回憶\",\n",
      "    \"sentiment\": \"正面\"\n",
      "}\n"
     ]
    },
    {
     "name": "stderr",
     "output_type": "stream",
     "text": [
      "\rGPT ABSA 處理中:  16%|█▌        | 156/1000 [01:40<08:58,  1.57it/s]"
     ]
    },
    {
     "name": "stdout",
     "output_type": "stream",
     "text": [
      "✅ 回傳： { \"aspect\": \"音樂風格\", \"sentiment\": \"正面\" }\n"
     ]
    },
    {
     "name": "stderr",
     "output_type": "stream",
     "text": [
      "\rGPT ABSA 處理中:  16%|█▌        | 157/1000 [01:40<08:58,  1.57it/s]"
     ]
    },
    {
     "name": "stdout",
     "output_type": "stream",
     "text": [
      "✅ 回傳： {\n",
      "    \"aspect\": \"歌詞意境\",\n",
      "    \"sentiment\": \"中立\"\n",
      "}\n"
     ]
    },
    {
     "name": "stderr",
     "output_type": "stream",
     "text": [
      "\rGPT ABSA 處理中:  16%|█▌        | 158/1000 [01:41<08:38,  1.63it/s]"
     ]
    },
    {
     "name": "stdout",
     "output_type": "stream",
     "text": [
      "✅ 回傳： { \"aspect\": \"青春回憶\", \"sentiment\": \"正面\" }\n"
     ]
    },
    {
     "name": "stderr",
     "output_type": "stream",
     "text": [
      "\rGPT ABSA 處理中:  16%|█▌        | 159/1000 [01:41<08:12,  1.71it/s]"
     ]
    },
    {
     "name": "stdout",
     "output_type": "stream",
     "text": [
      "✅ 回傳： {\n",
      "    \"aspect\": \"青春回憶\",\n",
      "    \"sentiment\": \"正面\"\n",
      "}\n"
     ]
    },
    {
     "name": "stderr",
     "output_type": "stream",
     "text": [
      "\rGPT ABSA 處理中:  16%|█▌        | 160/1000 [01:42<08:00,  1.75it/s]"
     ]
    },
    {
     "name": "stdout",
     "output_type": "stream",
     "text": [
      "✅ 回傳： { \"aspect\": \"情感共鳴\", \"sentiment\": \"正面\" }\n"
     ]
    },
    {
     "name": "stderr",
     "output_type": "stream",
     "text": [
      "\rGPT ABSA 處理中:  16%|█▌        | 161/1000 [01:42<07:57,  1.76it/s]"
     ]
    },
    {
     "name": "stdout",
     "output_type": "stream",
     "text": [
      "✅ 回傳： {\n",
      "  \"aspect\": \"音樂風格\",\n",
      "  \"sentiment\": \"負面\"\n",
      "}\n"
     ]
    },
    {
     "name": "stderr",
     "output_type": "stream",
     "text": [
      "\rGPT ABSA 處理中:  16%|█▌        | 162/1000 [01:43<07:56,  1.76it/s]"
     ]
    },
    {
     "name": "stdout",
     "output_type": "stream",
     "text": [
      "✅ 回傳： {\n",
      "  \"aspect\": \"音樂風格\",\n",
      "  \"sentiment\": \"正面\"\n",
      "}\n"
     ]
    },
    {
     "name": "stderr",
     "output_type": "stream",
     "text": [
      "\rGPT ABSA 處理中:  16%|█▋        | 163/1000 [01:44<09:35,  1.45it/s]"
     ]
    },
    {
     "name": "stdout",
     "output_type": "stream",
     "text": [
      "✅ 回傳： {\n",
      "    \"aspect\": \"情感共鳴\",\n",
      "    \"sentiment\": \"正面\"\n",
      "}\n"
     ]
    },
    {
     "name": "stderr",
     "output_type": "stream",
     "text": [
      "\rGPT ABSA 處理中:  16%|█▋        | 164/1000 [01:45<09:39,  1.44it/s]"
     ]
    },
    {
     "name": "stdout",
     "output_type": "stream",
     "text": [
      "✅ 回傳： {\n",
      "    \"aspect\": \"對比分析\",\n",
      "    \"sentiment\": \"正面\"\n",
      "}\n"
     ]
    },
    {
     "name": "stderr",
     "output_type": "stream",
     "text": [
      "\rGPT ABSA 處理中:  16%|█▋        | 165/1000 [01:45<09:19,  1.49it/s]"
     ]
    },
    {
     "name": "stdout",
     "output_type": "stream",
     "text": [
      "✅ 回傳： {\n",
      "    \"aspect\": \"青春回憶\",\n",
      "    \"sentiment\": \"正面\"\n",
      "}\n"
     ]
    },
    {
     "name": "stderr",
     "output_type": "stream",
     "text": [
      "\rGPT ABSA 處理中:  17%|█▋        | 166/1000 [01:46<08:48,  1.58it/s]"
     ]
    },
    {
     "name": "stdout",
     "output_type": "stream",
     "text": [
      "✅ 回傳： {\n",
      "    \"aspect\": \"青春回憶\",\n",
      "    \"sentiment\": \"中立\"\n",
      "}\n"
     ]
    },
    {
     "name": "stderr",
     "output_type": "stream",
     "text": [
      "\rGPT ABSA 處理中:  17%|█▋        | 167/1000 [01:46<08:04,  1.72it/s]"
     ]
    },
    {
     "name": "stdout",
     "output_type": "stream",
     "text": [
      "✅ 回傳： {\n",
      "    \"aspect\": \"對比分析\",\n",
      "    \"sentiment\": \"中立\"\n",
      "}\n"
     ]
    },
    {
     "name": "stderr",
     "output_type": "stream",
     "text": [
      "\rGPT ABSA 處理中:  17%|█▋        | 168/1000 [01:47<07:34,  1.83it/s]"
     ]
    },
    {
     "name": "stdout",
     "output_type": "stream",
     "text": [
      "✅ 回傳： {\n",
      "  \"aspect\": \"音樂風格\",\n",
      "  \"sentiment\": \"負面\"\n",
      "}\n"
     ]
    },
    {
     "name": "stderr",
     "output_type": "stream",
     "text": [
      "\rGPT ABSA 處理中:  17%|█▋        | 169/1000 [01:47<07:22,  1.88it/s]"
     ]
    },
    {
     "name": "stdout",
     "output_type": "stream",
     "text": [
      "✅ 回傳： {\n",
      "    \"aspect\": \"音樂風格\",\n",
      "    \"sentiment\": \"正面\"\n",
      "}\n"
     ]
    },
    {
     "name": "stderr",
     "output_type": "stream",
     "text": [
      "\rGPT ABSA 處理中:  17%|█▋        | 170/1000 [01:48<08:51,  1.56it/s]"
     ]
    },
    {
     "name": "stdout",
     "output_type": "stream",
     "text": [
      "✅ 回傳： {\n",
      "    \"aspect\": \"青春回憶\",\n",
      "    \"sentiment\": \"正面\"\n",
      "}\n"
     ]
    },
    {
     "name": "stderr",
     "output_type": "stream",
     "text": [
      "\rGPT ABSA 處理中:  17%|█▋        | 171/1000 [01:49<10:06,  1.37it/s]"
     ]
    },
    {
     "name": "stdout",
     "output_type": "stream",
     "text": [
      "✅ 回傳： {\n",
      "    \"aspect\": \"音樂風格\",\n",
      "    \"sentiment\": \"正面\"\n",
      "}\n"
     ]
    },
    {
     "name": "stderr",
     "output_type": "stream",
     "text": [
      "\rGPT ABSA 處理中:  17%|█▋        | 172/1000 [01:49<08:54,  1.55it/s]"
     ]
    },
    {
     "name": "stdout",
     "output_type": "stream",
     "text": [
      "✅ 回傳： { \"aspect\": \"情感共鳴\", \"sentiment\": \"正面\" }\n"
     ]
    },
    {
     "name": "stderr",
     "output_type": "stream",
     "text": [
      "\rGPT ABSA 處理中:  17%|█▋        | 173/1000 [01:50<08:45,  1.58it/s]"
     ]
    },
    {
     "name": "stdout",
     "output_type": "stream",
     "text": [
      "✅ 回傳： { \"aspect\": \"青春回憶\", \"sentiment\": \"正面\" }\n"
     ]
    },
    {
     "name": "stderr",
     "output_type": "stream",
     "text": [
      "\rGPT ABSA 處理中:  17%|█▋        | 174/1000 [01:51<10:08,  1.36it/s]"
     ]
    },
    {
     "name": "stdout",
     "output_type": "stream",
     "text": [
      "✅ 回傳： {\n",
      "  \"aspect\": \"音樂風格\",\n",
      "  \"sentiment\": \"正面\"\n",
      "}\n"
     ]
    },
    {
     "name": "stderr",
     "output_type": "stream",
     "text": [
      "\rGPT ABSA 處理中:  18%|█▊        | 175/1000 [01:52<10:59,  1.25it/s]"
     ]
    },
    {
     "name": "stdout",
     "output_type": "stream",
     "text": [
      "✅ 回傳： { \"aspect\": \"音樂風格\", \"sentiment\": \"正面\" }\n"
     ]
    },
    {
     "name": "stderr",
     "output_type": "stream",
     "text": [
      "\rGPT ABSA 處理中:  18%|█▊        | 176/1000 [01:53<10:12,  1.34it/s]"
     ]
    },
    {
     "name": "stdout",
     "output_type": "stream",
     "text": [
      "✅ 回傳： {\n",
      "    \"aspect\": \"音樂風格\",\n",
      "    \"sentiment\": \"負面\"\n",
      "}\n"
     ]
    },
    {
     "name": "stderr",
     "output_type": "stream",
     "text": [
      "\rGPT ABSA 處理中:  18%|█▊        | 177/1000 [01:53<09:09,  1.50it/s]"
     ]
    },
    {
     "name": "stdout",
     "output_type": "stream",
     "text": [
      "✅ 回傳： {\n",
      "    \"aspect\": \"青春回憶\",\n",
      "    \"sentiment\": \"正面\"\n",
      "}\n"
     ]
    },
    {
     "name": "stderr",
     "output_type": "stream",
     "text": [
      "\rGPT ABSA 處理中:  18%|█▊        | 178/1000 [01:54<09:01,  1.52it/s]"
     ]
    },
    {
     "name": "stdout",
     "output_type": "stream",
     "text": [
      "✅ 回傳： { \"aspect\": \"青春回憶\", \"sentiment\": \"中立\" }\n"
     ]
    },
    {
     "name": "stderr",
     "output_type": "stream",
     "text": [
      "\rGPT ABSA 處理中:  18%|█▊        | 179/1000 [01:54<08:54,  1.54it/s]"
     ]
    },
    {
     "name": "stdout",
     "output_type": "stream",
     "text": [
      "✅ 回傳： {\n",
      "    \"aspect\": \"青春回憶\",\n",
      "    \"sentiment\": \"正面\"\n",
      "}\n"
     ]
    },
    {
     "name": "stderr",
     "output_type": "stream",
     "text": [
      "\rGPT ABSA 處理中:  18%|█▊        | 180/1000 [01:55<08:51,  1.54it/s]"
     ]
    },
    {
     "name": "stdout",
     "output_type": "stream",
     "text": [
      "✅ 回傳： {\n",
      "    \"aspect\": \"青春回憶\",\n",
      "    \"sentiment\": \"正面\"\n",
      "}\n"
     ]
    },
    {
     "name": "stderr",
     "output_type": "stream",
     "text": [
      "\rGPT ABSA 處理中:  18%|█▊        | 181/1000 [01:56<08:26,  1.62it/s]"
     ]
    },
    {
     "name": "stdout",
     "output_type": "stream",
     "text": [
      "✅ 回傳： {\n",
      "    \"aspect\": \"音樂風格\",\n",
      "    \"sentiment\": \"正面\"\n",
      "}\n"
     ]
    },
    {
     "name": "stderr",
     "output_type": "stream",
     "text": [
      "\rGPT ABSA 處理中:  18%|█▊        | 182/1000 [01:56<08:55,  1.53it/s]"
     ]
    },
    {
     "name": "stdout",
     "output_type": "stream",
     "text": [
      "✅ 回傳： {\n",
      "    \"aspect\": \"音樂風格\",\n",
      "    \"sentiment\": \"正面\"\n",
      "}\n"
     ]
    },
    {
     "name": "stderr",
     "output_type": "stream",
     "text": [
      "\rGPT ABSA 處理中:  18%|█▊        | 183/1000 [01:57<08:36,  1.58it/s]"
     ]
    },
    {
     "name": "stdout",
     "output_type": "stream",
     "text": [
      "✅ 回傳： {\n",
      "    \"aspect\": \"對比分析\",\n",
      "    \"sentiment\": \"正面\"\n",
      "}\n"
     ]
    },
    {
     "name": "stderr",
     "output_type": "stream",
     "text": [
      "\rGPT ABSA 處理中:  18%|█▊        | 184/1000 [01:57<08:18,  1.64it/s]"
     ]
    },
    {
     "name": "stdout",
     "output_type": "stream",
     "text": [
      "✅ 回傳： {\n",
      "    \"aspect\": \"音樂風格\",\n",
      "    \"sentiment\": \"負面\"\n",
      "}\n"
     ]
    },
    {
     "name": "stderr",
     "output_type": "stream",
     "text": [
      "\rGPT ABSA 處理中:  18%|█▊        | 185/1000 [01:58<07:28,  1.82it/s]"
     ]
    },
    {
     "name": "stdout",
     "output_type": "stream",
     "text": [
      "✅ 回傳： {\n",
      "    \"aspect\": \"對比分析\",\n",
      "    \"sentiment\": \"正面\"\n",
      "}\n"
     ]
    },
    {
     "name": "stderr",
     "output_type": "stream",
     "text": [
      "\rGPT ABSA 處理中:  19%|█▊        | 186/1000 [01:58<07:10,  1.89it/s]"
     ]
    },
    {
     "name": "stdout",
     "output_type": "stream",
     "text": [
      "✅ 回傳： {\n",
      "  \"aspect\": \"對比分析\",\n",
      "  \"sentiment\": \"正面\"\n",
      "}\n"
     ]
    },
    {
     "name": "stderr",
     "output_type": "stream",
     "text": [
      "\rGPT ABSA 處理中:  19%|█▊        | 187/1000 [01:59<07:02,  1.92it/s]"
     ]
    },
    {
     "name": "stdout",
     "output_type": "stream",
     "text": [
      "✅ 回傳： {\n",
      "    \"aspect\": \"青春回憶\",\n",
      "    \"sentiment\": \"正面\"\n",
      "}\n"
     ]
    },
    {
     "name": "stderr",
     "output_type": "stream",
     "text": [
      "\rGPT ABSA 處理中:  19%|█▉        | 188/1000 [02:00<07:59,  1.69it/s]"
     ]
    },
    {
     "name": "stdout",
     "output_type": "stream",
     "text": [
      "✅ 回傳： {\n",
      "    \"aspect\": \"青春回憶\",\n",
      "    \"sentiment\": \"正面\"\n",
      "}\n"
     ]
    },
    {
     "name": "stderr",
     "output_type": "stream",
     "text": [
      "\rGPT ABSA 處理中:  19%|█▉        | 189/1000 [02:00<07:35,  1.78it/s]"
     ]
    },
    {
     "name": "stdout",
     "output_type": "stream",
     "text": [
      "✅ 回傳： {\n",
      "    \"aspect\": \"音樂風格\",\n",
      "    \"sentiment\": \"正面\"\n",
      "}\n"
     ]
    },
    {
     "name": "stderr",
     "output_type": "stream",
     "text": [
      "\rGPT ABSA 處理中:  19%|█▉        | 190/1000 [02:01<08:04,  1.67it/s]"
     ]
    },
    {
     "name": "stdout",
     "output_type": "stream",
     "text": [
      "✅ 回傳： {\n",
      "    \"aspect\": \"青春回憶\",\n",
      "    \"sentiment\": \"正面\"\n",
      "}\n"
     ]
    },
    {
     "name": "stderr",
     "output_type": "stream",
     "text": [
      "\rGPT ABSA 處理中:  19%|█▉        | 191/1000 [02:01<08:08,  1.66it/s]"
     ]
    },
    {
     "name": "stdout",
     "output_type": "stream",
     "text": [
      "✅ 回傳： { \"aspect\": \"歌詞意境\", \"sentiment\": \"中立\" }\n"
     ]
    },
    {
     "name": "stderr",
     "output_type": "stream",
     "text": [
      "\rGPT ABSA 處理中:  19%|█▉        | 192/1000 [02:02<07:29,  1.80it/s]"
     ]
    },
    {
     "name": "stdout",
     "output_type": "stream",
     "text": [
      "✅ 回傳： {\n",
      "    \"aspect\": \"青春回憶\",\n",
      "    \"sentiment\": \"正面\"\n",
      "}\n"
     ]
    },
    {
     "name": "stderr",
     "output_type": "stream",
     "text": [
      "\rGPT ABSA 處理中:  19%|█▉        | 193/1000 [02:02<07:37,  1.76it/s]"
     ]
    },
    {
     "name": "stdout",
     "output_type": "stream",
     "text": [
      "✅ 回傳： {\n",
      "    \"aspect\": \"歌詞意境\",\n",
      "    \"sentiment\": \"中立\"\n",
      "}\n"
     ]
    },
    {
     "name": "stderr",
     "output_type": "stream",
     "text": [
      "\rGPT ABSA 處理中:  19%|█▉        | 194/1000 [02:03<07:56,  1.69it/s]"
     ]
    },
    {
     "name": "stdout",
     "output_type": "stream",
     "text": [
      "✅ 回傳： {\n",
      "    \"aspect\": \"音樂風格\",\n",
      "    \"sentiment\": \"正面\"\n",
      "}\n"
     ]
    },
    {
     "name": "stderr",
     "output_type": "stream",
     "text": [
      "\rGPT ABSA 處理中:  20%|█▉        | 195/1000 [02:04<07:32,  1.78it/s]"
     ]
    },
    {
     "name": "stdout",
     "output_type": "stream",
     "text": [
      "✅ 回傳： {\n",
      "  \"aspect\": \"音樂風格\",\n",
      "  \"sentiment\": \"正面\"\n",
      "}\n"
     ]
    },
    {
     "name": "stderr",
     "output_type": "stream",
     "text": [
      "\rGPT ABSA 處理中:  20%|█▉        | 196/1000 [02:04<07:06,  1.89it/s]"
     ]
    },
    {
     "name": "stdout",
     "output_type": "stream",
     "text": [
      "✅ 回傳： {\n",
      "  \"aspect\": \"情感共鳴\",\n",
      "  \"sentiment\": \"正面\"\n",
      "}\n"
     ]
    },
    {
     "name": "stderr",
     "output_type": "stream",
     "text": [
      "\rGPT ABSA 處理中:  20%|█▉        | 197/1000 [02:05<07:14,  1.85it/s]"
     ]
    },
    {
     "name": "stdout",
     "output_type": "stream",
     "text": [
      "✅ 回傳： { \"aspect\": \"情感共鳴\", \"sentiment\": \"正面\" }\n"
     ]
    },
    {
     "name": "stderr",
     "output_type": "stream",
     "text": [
      "\rGPT ABSA 處理中:  20%|█▉        | 198/1000 [02:05<07:08,  1.87it/s]"
     ]
    },
    {
     "name": "stdout",
     "output_type": "stream",
     "text": [
      "✅ 回傳： {\n",
      "    \"aspect\": \"青春回憶\",\n",
      "    \"sentiment\": \"正面\"\n",
      "}\n"
     ]
    },
    {
     "name": "stderr",
     "output_type": "stream",
     "text": [
      "\rGPT ABSA 處理中:  20%|█▉        | 199/1000 [02:06<08:58,  1.49it/s]"
     ]
    },
    {
     "name": "stdout",
     "output_type": "stream",
     "text": [
      "✅ 回傳： {\n",
      "    \"aspect\": \"情感共鳴\",\n",
      "    \"sentiment\": \"正面\"\n",
      "}\n"
     ]
    },
    {
     "name": "stderr",
     "output_type": "stream",
     "text": [
      "\rGPT ABSA 處理中:  20%|██        | 200/1000 [02:07<08:55,  1.49it/s]"
     ]
    },
    {
     "name": "stdout",
     "output_type": "stream",
     "text": [
      "✅ 回傳： { \"aspect\": \"青春回憶\", \"sentiment\": \"正面\" }\n",
      "✅ 存檔 checkpoint at row 200\n"
     ]
    },
    {
     "name": "stderr",
     "output_type": "stream",
     "text": [
      "\rGPT ABSA 處理中:  20%|██        | 201/1000 [02:07<08:06,  1.64it/s]"
     ]
    },
    {
     "name": "stdout",
     "output_type": "stream",
     "text": [
      "✅ 回傳： {\n",
      "    \"aspect\": \"音樂風格\",\n",
      "    \"sentiment\": \"中立\"\n",
      "}\n"
     ]
    },
    {
     "name": "stderr",
     "output_type": "stream",
     "text": [
      "\rGPT ABSA 處理中:  20%|██        | 202/1000 [02:08<08:28,  1.57it/s]"
     ]
    },
    {
     "name": "stdout",
     "output_type": "stream",
     "text": [
      "✅ 回傳： {\n",
      "  \"aspect\": \"情感共鳴\",\n",
      "  \"sentiment\": \"正面\"\n",
      "}\n"
     ]
    },
    {
     "name": "stderr",
     "output_type": "stream",
     "text": [
      "\rGPT ABSA 處理中:  20%|██        | 203/1000 [02:08<07:52,  1.69it/s]"
     ]
    },
    {
     "name": "stdout",
     "output_type": "stream",
     "text": [
      "✅ 回傳： {\n",
      "  \"aspect\": \"情感共鳴\",\n",
      "  \"sentiment\": \"正面\"\n",
      "}\n"
     ]
    },
    {
     "name": "stderr",
     "output_type": "stream",
     "text": [
      "\rGPT ABSA 處理中:  20%|██        | 204/1000 [02:09<08:12,  1.62it/s]"
     ]
    },
    {
     "name": "stdout",
     "output_type": "stream",
     "text": [
      "✅ 回傳： {\n",
      "    \"aspect\": \"情感共鳴\",\n",
      "    \"sentiment\": \"中立\"\n",
      "}\n"
     ]
    },
    {
     "name": "stderr",
     "output_type": "stream",
     "text": [
      "\rGPT ABSA 處理中:  20%|██        | 205/1000 [02:10<08:58,  1.48it/s]"
     ]
    },
    {
     "name": "stdout",
     "output_type": "stream",
     "text": [
      "✅ 回傳： {\n",
      "    \"aspect\": \"音樂風格\",\n",
      "    \"sentiment\": \"中立\"\n",
      "}\n"
     ]
    },
    {
     "name": "stderr",
     "output_type": "stream",
     "text": [
      "\rGPT ABSA 處理中:  21%|██        | 206/1000 [02:10<07:56,  1.67it/s]"
     ]
    },
    {
     "name": "stdout",
     "output_type": "stream",
     "text": [
      "✅ 回傳： {\n",
      "  \"aspect\": \"對比分析\",\n",
      "  \"sentiment\": \"負面\"\n",
      "}\n"
     ]
    },
    {
     "name": "stderr",
     "output_type": "stream",
     "text": [
      "\rGPT ABSA 處理中:  21%|██        | 207/1000 [02:11<07:24,  1.78it/s]"
     ]
    },
    {
     "name": "stdout",
     "output_type": "stream",
     "text": [
      "✅ 回傳： {\n",
      "    \"aspect\": \"青春回憶\",\n",
      "    \"sentiment\": \"正面\"\n",
      "}\n"
     ]
    },
    {
     "name": "stderr",
     "output_type": "stream",
     "text": [
      "\rGPT ABSA 處理中:  21%|██        | 208/1000 [02:11<07:47,  1.69it/s]"
     ]
    },
    {
     "name": "stdout",
     "output_type": "stream",
     "text": [
      "✅ 回傳： {\n",
      "    \"aspect\": \"音樂風格\",\n",
      "    \"sentiment\": \"中立\"\n",
      "}\n"
     ]
    },
    {
     "name": "stderr",
     "output_type": "stream",
     "text": [
      "\rGPT ABSA 處理中:  21%|██        | 209/1000 [02:12<07:20,  1.80it/s]"
     ]
    },
    {
     "name": "stdout",
     "output_type": "stream",
     "text": [
      "✅ 回傳： {\n",
      "  \"aspect\": \"音樂風格\",\n",
      "  \"sentiment\": \"中立\"\n",
      "}\n"
     ]
    },
    {
     "name": "stderr",
     "output_type": "stream",
     "text": [
      "\rGPT ABSA 處理中:  21%|██        | 210/1000 [02:12<07:04,  1.86it/s]"
     ]
    },
    {
     "name": "stdout",
     "output_type": "stream",
     "text": [
      "✅ 回傳： {\n",
      "    \"aspect\": \"青春回憶\",\n",
      "    \"sentiment\": \"中立\"\n",
      "}\n"
     ]
    },
    {
     "name": "stderr",
     "output_type": "stream",
     "text": [
      "\rGPT ABSA 處理中:  21%|██        | 211/1000 [02:13<07:17,  1.80it/s]"
     ]
    },
    {
     "name": "stdout",
     "output_type": "stream",
     "text": [
      "✅ 回傳： { \"aspect\": \"青春回憶\", \"sentiment\": \"中立\" }\n"
     ]
    },
    {
     "name": "stderr",
     "output_type": "stream",
     "text": [
      "\rGPT ABSA 處理中:  21%|██        | 212/1000 [02:14<07:30,  1.75it/s]"
     ]
    },
    {
     "name": "stdout",
     "output_type": "stream",
     "text": [
      "✅ 回傳： {\n",
      "    \"aspect\": \"對比分析\",\n",
      "    \"sentiment\": \"正面\"\n",
      "}\n"
     ]
    },
    {
     "name": "stderr",
     "output_type": "stream",
     "text": [
      "\rGPT ABSA 處理中:  21%|██▏       | 213/1000 [02:14<07:07,  1.84it/s]"
     ]
    },
    {
     "name": "stdout",
     "output_type": "stream",
     "text": [
      "✅ 回傳： {\n",
      "  \"aspect\": \"對比分析\",\n",
      "  \"sentiment\": \"正面\"\n",
      "}\n"
     ]
    },
    {
     "name": "stderr",
     "output_type": "stream",
     "text": [
      "\rGPT ABSA 處理中:  21%|██▏       | 214/1000 [02:15<07:11,  1.82it/s]"
     ]
    },
    {
     "name": "stdout",
     "output_type": "stream",
     "text": [
      "✅ 回傳： {\n",
      "    \"aspect\": \"青春回憶\",\n",
      "    \"sentiment\": \"正面\"\n",
      "}\n"
     ]
    },
    {
     "name": "stderr",
     "output_type": "stream",
     "text": [
      "\rGPT ABSA 處理中:  22%|██▏       | 215/1000 [02:15<07:11,  1.82it/s]"
     ]
    },
    {
     "name": "stdout",
     "output_type": "stream",
     "text": [
      "✅ 回傳： { \"aspect\": \"青春回憶\", \"sentiment\": \"中立\" }\n"
     ]
    },
    {
     "name": "stderr",
     "output_type": "stream",
     "text": [
      "\rGPT ABSA 處理中:  22%|██▏       | 216/1000 [02:16<06:58,  1.87it/s]"
     ]
    },
    {
     "name": "stdout",
     "output_type": "stream",
     "text": [
      "✅ 回傳： {\n",
      "    \"aspect\": \"對比分析\",\n",
      "    \"sentiment\": \"中立\"\n",
      "}\n"
     ]
    },
    {
     "name": "stderr",
     "output_type": "stream",
     "text": [
      "\rGPT ABSA 處理中:  22%|██▏       | 217/1000 [02:16<06:56,  1.88it/s]"
     ]
    },
    {
     "name": "stdout",
     "output_type": "stream",
     "text": [
      "✅ 回傳： {\n",
      "    \"aspect\": \"對比分析\",\n",
      "    \"sentiment\": \"正面\"\n",
      "}\n"
     ]
    },
    {
     "name": "stderr",
     "output_type": "stream",
     "text": [
      "\rGPT ABSA 處理中:  22%|██▏       | 218/1000 [02:17<06:49,  1.91it/s]"
     ]
    },
    {
     "name": "stdout",
     "output_type": "stream",
     "text": [
      "✅ 回傳： {\n",
      "    \"aspect\": \"青春回憶\",\n",
      "    \"sentiment\": \"正面\"\n",
      "}\n"
     ]
    },
    {
     "name": "stderr",
     "output_type": "stream",
     "text": [
      "\rGPT ABSA 處理中:  22%|██▏       | 219/1000 [02:17<07:02,  1.85it/s]"
     ]
    },
    {
     "name": "stdout",
     "output_type": "stream",
     "text": [
      "✅ 回傳： {\n",
      "    \"aspect\": \"音樂風格\",\n",
      "    \"sentiment\": \"正面\"\n",
      "}\n"
     ]
    },
    {
     "name": "stderr",
     "output_type": "stream",
     "text": [
      "\rGPT ABSA 處理中:  22%|██▏       | 220/1000 [02:18<06:37,  1.96it/s]"
     ]
    },
    {
     "name": "stdout",
     "output_type": "stream",
     "text": [
      "✅ 回傳： {\n",
      "  \"aspect\": \"對比分析\",\n",
      "  \"sentiment\": \"正面\"\n",
      "}\n"
     ]
    },
    {
     "name": "stderr",
     "output_type": "stream",
     "text": [
      "\rGPT ABSA 處理中:  22%|██▏       | 221/1000 [02:18<06:40,  1.94it/s]"
     ]
    },
    {
     "name": "stdout",
     "output_type": "stream",
     "text": [
      "✅ 回傳： {\n",
      "    \"aspect\": \"青春回憶\",\n",
      "    \"sentiment\": \"正面\"\n",
      "}\n"
     ]
    },
    {
     "name": "stderr",
     "output_type": "stream",
     "text": [
      "\rGPT ABSA 處理中:  22%|██▏       | 222/1000 [02:19<06:34,  1.97it/s]"
     ]
    },
    {
     "name": "stdout",
     "output_type": "stream",
     "text": [
      "✅ 回傳： {\n",
      "    \"aspect\": \"音樂風格\",\n",
      "    \"sentiment\": \"正面\"\n",
      "}\n"
     ]
    },
    {
     "name": "stderr",
     "output_type": "stream",
     "text": [
      "\rGPT ABSA 處理中:  22%|██▏       | 223/1000 [02:19<07:12,  1.80it/s]"
     ]
    },
    {
     "name": "stdout",
     "output_type": "stream",
     "text": [
      "✅ 回傳： { \"aspect\": \"情感共鳴\", \"sentiment\": \"負面\" }\n"
     ]
    },
    {
     "name": "stderr",
     "output_type": "stream",
     "text": [
      "\rGPT ABSA 處理中:  22%|██▏       | 224/1000 [02:20<07:26,  1.74it/s]"
     ]
    },
    {
     "name": "stdout",
     "output_type": "stream",
     "text": [
      "✅ 回傳： { \"aspect\": \"音樂風格\", \"sentiment\": \"正面\" }\n"
     ]
    },
    {
     "name": "stderr",
     "output_type": "stream",
     "text": [
      "\rGPT ABSA 處理中:  22%|██▎       | 225/1000 [02:21<09:24,  1.37it/s]"
     ]
    },
    {
     "name": "stdout",
     "output_type": "stream",
     "text": [
      "✅ 回傳： { \"aspect\": \"音樂風格\", \"sentiment\": \"中立\" }\n"
     ]
    },
    {
     "name": "stderr",
     "output_type": "stream",
     "text": [
      "\rGPT ABSA 處理中:  23%|██▎       | 226/1000 [02:22<08:44,  1.48it/s]"
     ]
    },
    {
     "name": "stdout",
     "output_type": "stream",
     "text": [
      "✅ 回傳： {\n",
      "    \"aspect\": \"音樂風格\",\n",
      "    \"sentiment\": \"中立\"\n",
      "}\n"
     ]
    },
    {
     "name": "stderr",
     "output_type": "stream",
     "text": [
      "\rGPT ABSA 處理中:  23%|██▎       | 227/1000 [02:22<08:04,  1.60it/s]"
     ]
    },
    {
     "name": "stdout",
     "output_type": "stream",
     "text": [
      "✅ 回傳： {\n",
      "  \"aspect\": \"對比分析\",\n",
      "  \"sentiment\": \"正面\"\n",
      "}\n"
     ]
    },
    {
     "name": "stderr",
     "output_type": "stream",
     "text": [
      "\rGPT ABSA 處理中:  23%|██▎       | 228/1000 [02:23<07:55,  1.63it/s]"
     ]
    },
    {
     "name": "stdout",
     "output_type": "stream",
     "text": [
      "✅ 回傳： {\n",
      "  \"aspect\": \"歌詞意境\",\n",
      "  \"sentiment\": \"正面\"\n",
      "}\n"
     ]
    },
    {
     "name": "stderr",
     "output_type": "stream",
     "text": [
      "\rGPT ABSA 處理中:  23%|██▎       | 229/1000 [02:23<07:47,  1.65it/s]"
     ]
    },
    {
     "name": "stdout",
     "output_type": "stream",
     "text": [
      "✅ 回傳： { \"aspect\": \"音樂風格\", \"sentiment\": \"正面\" }\n"
     ]
    },
    {
     "name": "stderr",
     "output_type": "stream",
     "text": [
      "\rGPT ABSA 處理中:  23%|██▎       | 230/1000 [02:24<07:48,  1.64it/s]"
     ]
    },
    {
     "name": "stdout",
     "output_type": "stream",
     "text": [
      "✅ 回傳： {\n",
      "  \"aspect\": \"對比分析\",\n",
      "  \"sentiment\": \"中立\"\n",
      "}\n"
     ]
    },
    {
     "name": "stderr",
     "output_type": "stream",
     "text": [
      "\rGPT ABSA 處理中:  23%|██▎       | 231/1000 [02:25<07:38,  1.68it/s]"
     ]
    },
    {
     "name": "stdout",
     "output_type": "stream",
     "text": [
      "✅ 回傳： {\n",
      "    \"aspect\": \"音樂風格\",\n",
      "    \"sentiment\": \"中立\"\n",
      "}\n"
     ]
    },
    {
     "name": "stderr",
     "output_type": "stream",
     "text": [
      "\rGPT ABSA 處理中:  23%|██▎       | 232/1000 [02:25<07:31,  1.70it/s]"
     ]
    },
    {
     "name": "stdout",
     "output_type": "stream",
     "text": [
      "✅ 回傳： { \"aspect\": \"青春回憶\", \"sentiment\": \"正面\" }\n"
     ]
    },
    {
     "name": "stderr",
     "output_type": "stream",
     "text": [
      "\rGPT ABSA 處理中:  23%|██▎       | 233/1000 [02:26<07:07,  1.80it/s]"
     ]
    },
    {
     "name": "stdout",
     "output_type": "stream",
     "text": [
      "✅ 回傳： { \"aspect\": \"音樂風格\", \"sentiment\": \"正面\" }\n"
     ]
    },
    {
     "name": "stderr",
     "output_type": "stream",
     "text": [
      "\rGPT ABSA 處理中:  23%|██▎       | 234/1000 [02:27<08:32,  1.50it/s]"
     ]
    },
    {
     "name": "stdout",
     "output_type": "stream",
     "text": [
      "✅ 回傳： {\n",
      "    \"aspect\": \"對比分析\",\n",
      "    \"sentiment\": \"正面\"\n",
      "}\n"
     ]
    },
    {
     "name": "stderr",
     "output_type": "stream",
     "text": [
      "\rGPT ABSA 處理中:  24%|██▎       | 235/1000 [02:27<07:54,  1.61it/s]"
     ]
    },
    {
     "name": "stdout",
     "output_type": "stream",
     "text": [
      "✅ 回傳： {\n",
      "    \"aspect\": \"音樂風格\",\n",
      "    \"sentiment\": \"正面\"\n",
      "}\n"
     ]
    },
    {
     "name": "stderr",
     "output_type": "stream",
     "text": [
      "\rGPT ABSA 處理中:  24%|██▎       | 236/1000 [02:28<07:35,  1.68it/s]"
     ]
    },
    {
     "name": "stdout",
     "output_type": "stream",
     "text": [
      "✅ 回傳： {\n",
      "    \"aspect\": \"音樂風格\",\n",
      "    \"sentiment\": \"正面\"\n",
      "}\n"
     ]
    },
    {
     "name": "stderr",
     "output_type": "stream",
     "text": [
      "\rGPT ABSA 處理中:  24%|██▎       | 237/1000 [02:28<07:18,  1.74it/s]"
     ]
    },
    {
     "name": "stdout",
     "output_type": "stream",
     "text": [
      "✅ 回傳： {\n",
      "  \"aspect\": \"音樂風格\",\n",
      "  \"sentiment\": \"正面\"\n",
      "}\n"
     ]
    },
    {
     "name": "stderr",
     "output_type": "stream",
     "text": [
      "\rGPT ABSA 處理中:  24%|██▍       | 238/1000 [02:29<06:46,  1.88it/s]"
     ]
    },
    {
     "name": "stdout",
     "output_type": "stream",
     "text": [
      "✅ 回傳： {\n",
      "    \"aspect\": \"歌詞意境\",\n",
      "    \"sentiment\": \"中立\"\n",
      "}\n"
     ]
    },
    {
     "name": "stderr",
     "output_type": "stream",
     "text": [
      "\rGPT ABSA 處理中:  24%|██▍       | 239/1000 [02:29<06:25,  1.97it/s]"
     ]
    },
    {
     "name": "stdout",
     "output_type": "stream",
     "text": [
      "✅ 回傳： { \"aspect\": \"音樂風格\", \"sentiment\": \"中立\" }\n"
     ]
    },
    {
     "name": "stderr",
     "output_type": "stream",
     "text": [
      "\rGPT ABSA 處理中:  24%|██▍       | 240/1000 [02:30<06:36,  1.92it/s]"
     ]
    },
    {
     "name": "stdout",
     "output_type": "stream",
     "text": [
      "✅ 回傳： {\n",
      "  \"aspect\": \"對比分析\",\n",
      "  \"sentiment\": \"中立\"\n",
      "}\n"
     ]
    },
    {
     "name": "stderr",
     "output_type": "stream",
     "text": [
      "\rGPT ABSA 處理中:  24%|██▍       | 241/1000 [02:30<06:28,  1.95it/s]"
     ]
    },
    {
     "name": "stdout",
     "output_type": "stream",
     "text": [
      "✅ 回傳： {\n",
      "    \"aspect\": \"音樂風格\",\n",
      "    \"sentiment\": \"中立\"\n",
      "}\n"
     ]
    },
    {
     "name": "stderr",
     "output_type": "stream",
     "text": [
      "\rGPT ABSA 處理中:  24%|██▍       | 242/1000 [02:30<06:13,  2.03it/s]"
     ]
    },
    {
     "name": "stdout",
     "output_type": "stream",
     "text": [
      "✅ 回傳： {\n",
      "    \"aspect\": \"音樂風格\",\n",
      "    \"sentiment\": \"中立\"\n",
      "}\n"
     ]
    },
    {
     "name": "stderr",
     "output_type": "stream",
     "text": [
      "\rGPT ABSA 處理中:  24%|██▍       | 243/1000 [02:31<07:08,  1.77it/s]"
     ]
    },
    {
     "name": "stdout",
     "output_type": "stream",
     "text": [
      "✅ 回傳： {\n",
      "    \"aspect\": \"歌詞意境\",\n",
      "    \"sentiment\": \"中立\"\n",
      "}\n"
     ]
    },
    {
     "name": "stderr",
     "output_type": "stream",
     "text": [
      "\rGPT ABSA 處理中:  24%|██▍       | 244/1000 [02:32<07:29,  1.68it/s]"
     ]
    },
    {
     "name": "stdout",
     "output_type": "stream",
     "text": [
      "✅ 回傳： {\n",
      "  \"aspect\": \"歌詞意境\",\n",
      "  \"sentiment\": \"中立\"\n",
      "}\n"
     ]
    },
    {
     "name": "stderr",
     "output_type": "stream",
     "text": [
      "\rGPT ABSA 處理中:  24%|██▍       | 245/1000 [02:33<08:00,  1.57it/s]"
     ]
    },
    {
     "name": "stdout",
     "output_type": "stream",
     "text": [
      "✅ 回傳： {\n",
      "    \"aspect\": \"音樂風格\",\n",
      "    \"sentiment\": \"中立\"\n",
      "}\n"
     ]
    },
    {
     "name": "stderr",
     "output_type": "stream",
     "text": [
      "\rGPT ABSA 處理中:  25%|██▍       | 246/1000 [02:33<08:11,  1.53it/s]"
     ]
    },
    {
     "name": "stdout",
     "output_type": "stream",
     "text": [
      "✅ 回傳： {\n",
      "    \"aspect\": \"歌詞意境\",\n",
      "    \"sentiment\": \"負面\"\n",
      "}\n"
     ]
    },
    {
     "name": "stderr",
     "output_type": "stream",
     "text": [
      "\rGPT ABSA 處理中:  25%|██▍       | 247/1000 [02:34<07:47,  1.61it/s]"
     ]
    },
    {
     "name": "stdout",
     "output_type": "stream",
     "text": [
      "✅ 回傳： {\n",
      "    \"aspect\": \"情感共鳴\",\n",
      "    \"sentiment\": \"中立\"\n",
      "}\n"
     ]
    },
    {
     "name": "stderr",
     "output_type": "stream",
     "text": [
      "\rGPT ABSA 處理中:  25%|██▍       | 248/1000 [02:34<07:17,  1.72it/s]"
     ]
    },
    {
     "name": "stdout",
     "output_type": "stream",
     "text": [
      "✅ 回傳： { \"aspect\": \"音樂風格\", \"sentiment\": \"中立\" }\n"
     ]
    },
    {
     "name": "stderr",
     "output_type": "stream",
     "text": [
      "\rGPT ABSA 處理中:  25%|██▍       | 249/1000 [02:35<06:58,  1.79it/s]"
     ]
    },
    {
     "name": "stdout",
     "output_type": "stream",
     "text": [
      "✅ 回傳： {\n",
      "    \"aspect\": \"對比分析\",\n",
      "    \"sentiment\": \"中立\"\n",
      "}\n"
     ]
    },
    {
     "name": "stderr",
     "output_type": "stream",
     "text": [
      "\rGPT ABSA 處理中:  25%|██▌       | 250/1000 [02:35<07:11,  1.74it/s]"
     ]
    },
    {
     "name": "stdout",
     "output_type": "stream",
     "text": [
      "✅ 回傳： {\n",
      "  \"aspect\": \"情感共鳴\",\n",
      "  \"sentiment\": \"正面\"\n",
      "}\n"
     ]
    },
    {
     "name": "stderr",
     "output_type": "stream",
     "text": [
      "\rGPT ABSA 處理中:  25%|██▌       | 251/1000 [02:36<06:49,  1.83it/s]"
     ]
    },
    {
     "name": "stdout",
     "output_type": "stream",
     "text": [
      "✅ 回傳： {\n",
      "    \"aspect\": \"歌詞意境\",\n",
      "    \"sentiment\": \"正面\"\n",
      "}\n"
     ]
    },
    {
     "name": "stderr",
     "output_type": "stream",
     "text": [
      "\rGPT ABSA 處理中:  25%|██▌       | 252/1000 [02:37<08:09,  1.53it/s]"
     ]
    },
    {
     "name": "stdout",
     "output_type": "stream",
     "text": [
      "✅ 回傳： { \"aspect\": \"音樂風格\", \"sentiment\": \"正面\" }\n"
     ]
    },
    {
     "name": "stderr",
     "output_type": "stream",
     "text": [
      "\rGPT ABSA 處理中:  25%|██▌       | 253/1000 [02:38<08:24,  1.48it/s]"
     ]
    },
    {
     "name": "stdout",
     "output_type": "stream",
     "text": [
      "✅ 回傳： {\n",
      "    \"aspect\": \"音樂風格\",\n",
      "    \"sentiment\": \"中立\"\n",
      "}\n"
     ]
    },
    {
     "name": "stderr",
     "output_type": "stream",
     "text": [
      "\rGPT ABSA 處理中:  25%|██▌       | 254/1000 [02:38<09:06,  1.37it/s]"
     ]
    },
    {
     "name": "stdout",
     "output_type": "stream",
     "text": [
      "✅ 回傳： {\n",
      "    \"aspect\": \"音樂風格\",\n",
      "    \"sentiment\": \"正面\"\n",
      "}\n"
     ]
    },
    {
     "name": "stderr",
     "output_type": "stream",
     "text": [
      "\rGPT ABSA 處理中:  26%|██▌       | 255/1000 [02:39<08:24,  1.48it/s]"
     ]
    },
    {
     "name": "stdout",
     "output_type": "stream",
     "text": [
      "✅ 回傳： {\n",
      "    \"aspect\": \"青春回憶\",\n",
      "    \"sentiment\": \"正面\"\n",
      "}\n"
     ]
    },
    {
     "name": "stderr",
     "output_type": "stream",
     "text": [
      "\rGPT ABSA 處理中:  26%|██▌       | 256/1000 [02:40<08:33,  1.45it/s]"
     ]
    },
    {
     "name": "stdout",
     "output_type": "stream",
     "text": [
      "✅ 回傳： {\n",
      "    \"aspect\": \"對比分析\",\n",
      "    \"sentiment\": \"正面\"\n",
      "}\n"
     ]
    },
    {
     "name": "stderr",
     "output_type": "stream",
     "text": [
      "\rGPT ABSA 處理中:  26%|██▌       | 257/1000 [02:40<07:46,  1.59it/s]"
     ]
    },
    {
     "name": "stdout",
     "output_type": "stream",
     "text": [
      "✅ 回傳： { \"aspect\": \"音樂風格\", \"sentiment\": \"正面\" }\n"
     ]
    },
    {
     "name": "stderr",
     "output_type": "stream",
     "text": [
      "\rGPT ABSA 處理中:  26%|██▌       | 258/1000 [02:41<07:10,  1.72it/s]"
     ]
    },
    {
     "name": "stdout",
     "output_type": "stream",
     "text": [
      "✅ 回傳： { \"aspect\": \"音樂風格\", \"sentiment\": \"中立\" }\n"
     ]
    },
    {
     "name": "stderr",
     "output_type": "stream",
     "text": [
      "\rGPT ABSA 處理中:  26%|██▌       | 259/1000 [02:41<06:38,  1.86it/s]"
     ]
    },
    {
     "name": "stdout",
     "output_type": "stream",
     "text": [
      "✅ 回傳： {\n",
      "    \"aspect\": \"青春回憶\",\n",
      "    \"sentiment\": \"正面\"\n",
      "}\n"
     ]
    },
    {
     "name": "stderr",
     "output_type": "stream",
     "text": [
      "\rGPT ABSA 處理中:  26%|██▌       | 260/1000 [02:42<06:31,  1.89it/s]"
     ]
    },
    {
     "name": "stdout",
     "output_type": "stream",
     "text": [
      "✅ 回傳： {\n",
      "    \"aspect\": \"音樂風格\",\n",
      "    \"sentiment\": \"正面\"\n",
      "}\n"
     ]
    },
    {
     "name": "stderr",
     "output_type": "stream",
     "text": [
      "\rGPT ABSA 處理中:  26%|██▌       | 261/1000 [02:42<06:31,  1.89it/s]"
     ]
    },
    {
     "name": "stdout",
     "output_type": "stream",
     "text": [
      "✅ 回傳： {\n",
      "  \"aspect\": \"對比分析\",\n",
      "  \"sentiment\": \"正面\"\n",
      "}\n"
     ]
    },
    {
     "name": "stderr",
     "output_type": "stream",
     "text": [
      "\rGPT ABSA 處理中:  26%|██▌       | 262/1000 [02:43<06:44,  1.82it/s]"
     ]
    },
    {
     "name": "stdout",
     "output_type": "stream",
     "text": [
      "✅ 回傳： {\n",
      "    \"aspect\": \"青春回憶\",\n",
      "    \"sentiment\": \"正面\"\n",
      "}\n"
     ]
    },
    {
     "name": "stderr",
     "output_type": "stream",
     "text": [
      "\rGPT ABSA 處理中:  26%|██▋       | 263/1000 [02:43<06:20,  1.94it/s]"
     ]
    },
    {
     "name": "stdout",
     "output_type": "stream",
     "text": [
      "✅ 回傳： {\n",
      "    \"aspect\": \"音樂風格\",\n",
      "    \"sentiment\": \"負面\"\n",
      "}\n"
     ]
    },
    {
     "name": "stderr",
     "output_type": "stream",
     "text": [
      "\rGPT ABSA 處理中:  26%|██▋       | 264/1000 [02:44<06:25,  1.91it/s]"
     ]
    },
    {
     "name": "stdout",
     "output_type": "stream",
     "text": [
      "✅ 回傳： {\n",
      "    \"aspect\": \"音樂風格\",\n",
      "    \"sentiment\": \"正面\"\n",
      "}\n"
     ]
    },
    {
     "name": "stderr",
     "output_type": "stream",
     "text": [
      "\rGPT ABSA 處理中:  26%|██▋       | 265/1000 [02:44<06:45,  1.81it/s]"
     ]
    },
    {
     "name": "stdout",
     "output_type": "stream",
     "text": [
      "✅ 回傳： {\n",
      "    \"aspect\": \"青春回憶\",\n",
      "    \"sentiment\": \"正面\"\n",
      "}\n"
     ]
    },
    {
     "name": "stderr",
     "output_type": "stream",
     "text": [
      "\rGPT ABSA 處理中:  27%|██▋       | 266/1000 [02:45<06:49,  1.79it/s]"
     ]
    },
    {
     "name": "stdout",
     "output_type": "stream",
     "text": [
      "✅ 回傳： {\n",
      "  \"aspect\": \"音樂風格\",\n",
      "  \"sentiment\": \"正面\"\n",
      "}\n"
     ]
    },
    {
     "name": "stderr",
     "output_type": "stream",
     "text": [
      "\rGPT ABSA 處理中:  27%|██▋       | 267/1000 [02:46<07:03,  1.73it/s]"
     ]
    },
    {
     "name": "stdout",
     "output_type": "stream",
     "text": [
      "✅ 回傳： { \"aspect\": \"對比分析\", \"sentiment\": \"正面\" }\n"
     ]
    },
    {
     "name": "stderr",
     "output_type": "stream",
     "text": [
      "\rGPT ABSA 處理中:  27%|██▋       | 268/1000 [02:46<06:56,  1.76it/s]"
     ]
    },
    {
     "name": "stdout",
     "output_type": "stream",
     "text": [
      "✅ 回傳： {\n",
      "    \"aspect\": \"對比分析\",\n",
      "    \"sentiment\": \"中立\"\n",
      "}\n"
     ]
    },
    {
     "name": "stderr",
     "output_type": "stream",
     "text": [
      "\rGPT ABSA 處理中:  27%|██▋       | 269/1000 [02:47<06:44,  1.81it/s]"
     ]
    },
    {
     "name": "stdout",
     "output_type": "stream",
     "text": [
      "✅ 回傳： {\n",
      "    \"aspect\": \"音樂風格\",\n",
      "    \"sentiment\": \"中立\"\n",
      "}\n"
     ]
    },
    {
     "name": "stderr",
     "output_type": "stream",
     "text": [
      "\rGPT ABSA 處理中:  27%|██▋       | 270/1000 [02:47<06:48,  1.79it/s]"
     ]
    },
    {
     "name": "stdout",
     "output_type": "stream",
     "text": [
      "✅ 回傳： {\n",
      "    \"aspect\": \"青春回憶\",\n",
      "    \"sentiment\": \"負面\"\n",
      "}\n"
     ]
    },
    {
     "name": "stderr",
     "output_type": "stream",
     "text": [
      "\rGPT ABSA 處理中:  27%|██▋       | 271/1000 [02:48<06:24,  1.90it/s]"
     ]
    },
    {
     "name": "stdout",
     "output_type": "stream",
     "text": [
      "✅ 回傳： {\n",
      "    \"aspect\": \"青春回憶\",\n",
      "    \"sentiment\": \"負面\"\n",
      "}\n"
     ]
    },
    {
     "name": "stderr",
     "output_type": "stream",
     "text": [
      "\rGPT ABSA 處理中:  27%|██▋       | 272/1000 [02:48<06:18,  1.93it/s]"
     ]
    },
    {
     "name": "stdout",
     "output_type": "stream",
     "text": [
      "✅ 回傳： {\n",
      "  \"aspect\": \"歌詞意境\",\n",
      "  \"sentiment\": \"負面\"\n",
      "}\n"
     ]
    },
    {
     "name": "stderr",
     "output_type": "stream",
     "text": [
      "\rGPT ABSA 處理中:  27%|██▋       | 273/1000 [02:49<06:20,  1.91it/s]"
     ]
    },
    {
     "name": "stdout",
     "output_type": "stream",
     "text": [
      "✅ 回傳： {\n",
      "    \"aspect\": \"音樂風格\",\n",
      "    \"sentiment\": \"正面\"\n",
      "}\n"
     ]
    },
    {
     "name": "stderr",
     "output_type": "stream",
     "text": [
      "\rGPT ABSA 處理中:  27%|██▋       | 274/1000 [02:49<06:32,  1.85it/s]"
     ]
    },
    {
     "name": "stdout",
     "output_type": "stream",
     "text": [
      "✅ 回傳： { \"aspect\": \"音樂風格\", \"sentiment\": \"中立\" }\n"
     ]
    },
    {
     "name": "stderr",
     "output_type": "stream",
     "text": [
      "\rGPT ABSA 處理中:  28%|██▊       | 275/1000 [02:58<38:01,  3.15s/it]"
     ]
    },
    {
     "name": "stdout",
     "output_type": "stream",
     "text": [
      "✅ 回傳： {\n",
      "  \"aspect\": \"音樂風格\",\n",
      "  \"sentiment\": \"正面\"\n",
      "}\n"
     ]
    },
    {
     "name": "stderr",
     "output_type": "stream",
     "text": [
      "\rGPT ABSA 處理中:  28%|██▊       | 276/1000 [03:08<1:00:21,  5.00s/it]"
     ]
    },
    {
     "name": "stdout",
     "output_type": "stream",
     "text": [
      "✅ 回傳： {\n",
      "  \"aspect\": \"音樂風格\",\n",
      "  \"sentiment\": \"正面\"\n",
      "}\n"
     ]
    },
    {
     "name": "stderr",
     "output_type": "stream",
     "text": [
      "\rGPT ABSA 處理中:  28%|██▊       | 277/1000 [03:08<44:06,  3.66s/it]  "
     ]
    },
    {
     "name": "stdout",
     "output_type": "stream",
     "text": [
      "✅ 回傳： { \"aspect\": \"音樂風格\", \"sentiment\": \"正面\" }\n"
     ]
    },
    {
     "name": "stderr",
     "output_type": "stream",
     "text": [
      "\rGPT ABSA 處理中:  28%|██▊       | 278/1000 [03:09<32:45,  2.72s/it]"
     ]
    },
    {
     "name": "stdout",
     "output_type": "stream",
     "text": [
      "✅ 回傳： { \"aspect\": \"情感共鳴\", \"sentiment\": \"正面\" }\n"
     ]
    },
    {
     "name": "stderr",
     "output_type": "stream",
     "text": [
      "\rGPT ABSA 處理中:  28%|██▊       | 279/1000 [03:18<56:37,  4.71s/it]"
     ]
    },
    {
     "name": "stdout",
     "output_type": "stream",
     "text": [
      "✅ 回傳： {\n",
      "    \"aspect\": \"音樂風格\",\n",
      "    \"sentiment\": \"正面\"\n",
      "}\n"
     ]
    },
    {
     "name": "stderr",
     "output_type": "stream",
     "text": [
      "\rGPT ABSA 處理中:  28%|██▊       | 280/1000 [03:27<1:12:44,  6.06s/it]"
     ]
    },
    {
     "name": "stdout",
     "output_type": "stream",
     "text": [
      "✅ 回傳： {\n",
      "    \"aspect\": \"音樂風格\",\n",
      "    \"sentiment\": \"正面\"\n",
      "}\n"
     ]
    },
    {
     "name": "stderr",
     "output_type": "stream",
     "text": [
      "\rGPT ABSA 處理中:  28%|██▊       | 281/1000 [03:46<1:56:16,  9.70s/it]"
     ]
    },
    {
     "name": "stdout",
     "output_type": "stream",
     "text": [
      "✅ 回傳： {\n",
      "    \"aspect\": \"歌詞意境\",\n",
      "    \"sentiment\": \"正面\"\n",
      "}\n"
     ]
    },
    {
     "name": "stderr",
     "output_type": "stream",
     "text": [
      "\rGPT ABSA 處理中:  28%|██▊       | 282/1000 [03:55<1:55:00,  9.61s/it]"
     ]
    },
    {
     "name": "stdout",
     "output_type": "stream",
     "text": [
      "✅ 回傳： {\n",
      "    \"aspect\": \"音樂風格\",\n",
      "    \"sentiment\": \"正面\"\n",
      "}\n"
     ]
    },
    {
     "name": "stderr",
     "output_type": "stream",
     "text": [
      "\rGPT ABSA 處理中:  28%|██▊       | 283/1000 [04:12<2:23:03, 11.97s/it]"
     ]
    },
    {
     "name": "stdout",
     "output_type": "stream",
     "text": [
      "❌ 錯誤： Error code: 429 - {'error': {'message': 'Rate limit reached for gpt-3.5-turbo in organization org-Bz0CtrQHvfWxTonXiHMcFRvW on requests per day (RPD): Limit 10000, Used 10000, Requested 1. Please try again in 8.64s. Visit https://platform.openai.com/account/rate-limits to learn more.', 'type': 'requests', 'param': None, 'code': 'rate_limit_exceeded'}}\n"
     ]
    },
    {
     "name": "stderr",
     "output_type": "stream",
     "text": [
      "\rGPT ABSA 處理中:  28%|██▊       | 284/1000 [04:13<1:42:59,  8.63s/it]"
     ]
    },
    {
     "name": "stdout",
     "output_type": "stream",
     "text": [
      "✅ 回傳： {\n",
      "  \"aspect\": \"青春回憶\",\n",
      "  \"sentiment\": \"中立\"\n",
      "}\n"
     ]
    },
    {
     "name": "stderr",
     "output_type": "stream",
     "text": [
      "\rGPT ABSA 處理中:  28%|██▊       | 285/1000 [04:32<2:18:57, 11.66s/it]"
     ]
    },
    {
     "name": "stdout",
     "output_type": "stream",
     "text": [
      "✅ 回傳： {\n",
      "    \"aspect\": \"青春回憶\",\n",
      "    \"sentiment\": \"中立\"\n",
      "}\n"
     ]
    },
    {
     "name": "stderr",
     "output_type": "stream",
     "text": [
      "\rGPT ABSA 處理中:  29%|██▊       | 286/1000 [04:33<1:40:32,  8.45s/it]"
     ]
    },
    {
     "name": "stdout",
     "output_type": "stream",
     "text": [
      "✅ 回傳： { \"aspect\": \"情感共鳴\", \"sentiment\": \"正面\" }\n"
     ]
    },
    {
     "name": "stderr",
     "output_type": "stream",
     "text": [
      "\rGPT ABSA 處理中:  29%|██▊       | 287/1000 [04:42<1:43:07,  8.68s/it]"
     ]
    },
    {
     "name": "stdout",
     "output_type": "stream",
     "text": [
      "✅ 回傳： { \"aspect\": \"情感共鳴\", \"sentiment\": \"負面\" }\n"
     ]
    },
    {
     "name": "stderr",
     "output_type": "stream",
     "text": [
      "\rGPT ABSA 處理中:  29%|██▉       | 288/1000 [04:43<1:14:06,  6.24s/it]"
     ]
    },
    {
     "name": "stdout",
     "output_type": "stream",
     "text": [
      "✅ 回傳： { \"aspect\": \"音樂風格\", \"sentiment\": \"負面\" }\n"
     ]
    },
    {
     "name": "stderr",
     "output_type": "stream",
     "text": [
      "\rGPT ABSA 處理中:  29%|██▉       | 289/1000 [04:43<53:42,  4.53s/it]  "
     ]
    },
    {
     "name": "stdout",
     "output_type": "stream",
     "text": [
      "✅ 回傳： {\n",
      "    \"aspect\": \"音樂風格\",\n",
      "    \"sentiment\": \"中立\"\n",
      "}\n"
     ]
    },
    {
     "name": "stderr",
     "output_type": "stream",
     "text": [
      "\rGPT ABSA 處理中:  29%|██▉       | 290/1000 [04:44<39:25,  3.33s/it]"
     ]
    },
    {
     "name": "stdout",
     "output_type": "stream",
     "text": [
      "✅ 回傳： {\n",
      "  \"aspect\": \"情感共鳴\",\n",
      "  \"sentiment\": \"中立\"\n",
      "}\n"
     ]
    },
    {
     "name": "stderr",
     "output_type": "stream",
     "text": [
      "\rGPT ABSA 處理中:  29%|██▉       | 291/1000 [05:03<1:34:01,  7.96s/it]"
     ]
    },
    {
     "name": "stdout",
     "output_type": "stream",
     "text": [
      "✅ 回傳： { \"aspect\": \"音樂風格\", \"sentiment\": \"正面\" }\n"
     ]
    },
    {
     "name": "stderr",
     "output_type": "stream",
     "text": [
      "\rGPT ABSA 處理中:  29%|██▉       | 292/1000 [05:21<2:09:12, 10.95s/it]"
     ]
    },
    {
     "name": "stdout",
     "output_type": "stream",
     "text": [
      "✅ 回傳： { \"aspect\": \"青春回憶\", \"sentiment\": \"正面\" }\n"
     ]
    },
    {
     "name": "stderr",
     "output_type": "stream",
     "text": [
      "\rGPT ABSA 處理中:  29%|██▉       | 293/1000 [05:21<1:33:04,  7.90s/it]"
     ]
    },
    {
     "name": "stdout",
     "output_type": "stream",
     "text": [
      "✅ 回傳： { \"aspect\": \"對比分析\", \"sentiment\": \"負面\" }\n"
     ]
    },
    {
     "name": "stderr",
     "output_type": "stream",
     "text": [
      "\rGPT ABSA 處理中:  29%|██▉       | 294/1000 [05:39<2:08:33, 10.93s/it]"
     ]
    },
    {
     "name": "stdout",
     "output_type": "stream",
     "text": [
      "✅ 回傳： {\n",
      "    \"aspect\": \"歌詞意境\",\n",
      "    \"sentiment\": \"負面\"\n",
      "}\n"
     ]
    },
    {
     "name": "stderr",
     "output_type": "stream",
     "text": [
      "\rGPT ABSA 處理中:  30%|██▉       | 295/1000 [05:40<1:31:34,  7.79s/it]"
     ]
    },
    {
     "name": "stdout",
     "output_type": "stream",
     "text": [
      "✅ 回傳： { \"aspect\": \"音樂風格\", \"sentiment\": \"正面\" }\n"
     ]
    },
    {
     "name": "stderr",
     "output_type": "stream",
     "text": [
      "\rGPT ABSA 處理中:  30%|██▉       | 296/1000 [05:40<1:06:03,  5.63s/it]"
     ]
    },
    {
     "name": "stdout",
     "output_type": "stream",
     "text": [
      "✅ 回傳： { \"aspect\": \"情感共鳴\", \"sentiment\": \"正面\" }\n"
     ]
    },
    {
     "name": "stderr",
     "output_type": "stream",
     "text": [
      "\rGPT ABSA 處理中:  30%|██▉       | 297/1000 [05:50<1:18:55,  6.74s/it]"
     ]
    },
    {
     "name": "stdout",
     "output_type": "stream",
     "text": [
      "✅ 回傳： { \"aspect\": \"音樂風格\", \"sentiment\": \"正面\" }\n"
     ]
    },
    {
     "name": "stderr",
     "output_type": "stream",
     "text": [
      "\rGPT ABSA 處理中:  30%|██▉       | 298/1000 [06:08<1:58:12, 10.10s/it]"
     ]
    },
    {
     "name": "stdout",
     "output_type": "stream",
     "text": [
      "✅ 回傳： { \"aspect\": \"對比分析\", \"sentiment\": \"負面\" }\n"
     ]
    },
    {
     "name": "stderr",
     "output_type": "stream",
     "text": [
      "\rGPT ABSA 處理中:  30%|██▉       | 299/1000 [06:08<1:24:53,  7.27s/it]"
     ]
    },
    {
     "name": "stdout",
     "output_type": "stream",
     "text": [
      "✅ 回傳： {\n",
      "    \"aspect\": \"青春回憶\",\n",
      "    \"sentiment\": \"正面\"\n",
      "}\n"
     ]
    },
    {
     "name": "stderr",
     "output_type": "stream",
     "text": [
      "\rGPT ABSA 處理中:  30%|███       | 300/1000 [06:26<2:00:40, 10.34s/it]"
     ]
    },
    {
     "name": "stdout",
     "output_type": "stream",
     "text": [
      "❌ 錯誤： Error code: 429 - {'error': {'message': 'Rate limit reached for gpt-3.5-turbo in organization org-Bz0CtrQHvfWxTonXiHMcFRvW on requests per day (RPD): Limit 10000, Used 10000, Requested 1. Please try again in 8.64s. Visit https://platform.openai.com/account/rate-limits to learn more.', 'type': 'requests', 'param': None, 'code': 'rate_limit_exceeded'}}\n",
      "✅ 存檔 checkpoint at row 300\n"
     ]
    },
    {
     "name": "stderr",
     "output_type": "stream",
     "text": [
      "\rGPT ABSA 處理中:  30%|███       | 301/1000 [06:35<1:56:28, 10.00s/it]"
     ]
    },
    {
     "name": "stdout",
     "output_type": "stream",
     "text": [
      "✅ 回傳： { \"aspect\": \"音樂風格\", \"sentiment\": \"正面\" }\n"
     ]
    },
    {
     "name": "stderr",
     "output_type": "stream",
     "text": [
      "\rGPT ABSA 處理中:  30%|███       | 302/1000 [06:36<1:23:08,  7.15s/it]"
     ]
    },
    {
     "name": "stdout",
     "output_type": "stream",
     "text": [
      "✅ 回傳： {\n",
      "    \"aspect\": \"青春回憶\",\n",
      "    \"sentiment\": \"中立\"\n",
      "}\n"
     ]
    },
    {
     "name": "stderr",
     "output_type": "stream",
     "text": [
      "\rGPT ABSA 處理中:  30%|███       | 303/1000 [06:36<59:58,  5.16s/it]  "
     ]
    },
    {
     "name": "stdout",
     "output_type": "stream",
     "text": [
      "✅ 回傳： { \"aspect\": \"情感共鳴\", \"sentiment\": \"正面\" }\n"
     ]
    },
    {
     "name": "stderr",
     "output_type": "stream",
     "text": [
      "\rGPT ABSA 處理中:  30%|███       | 304/1000 [06:45<1:14:09,  6.39s/it]"
     ]
    },
    {
     "name": "stdout",
     "output_type": "stream",
     "text": [
      "✅ 回傳： {\n",
      "    \"aspect\": \"音樂風格\",\n",
      "    \"sentiment\": \"正面\"\n",
      "}\n"
     ]
    },
    {
     "name": "stderr",
     "output_type": "stream",
     "text": [
      "\rGPT ABSA 處理中:  30%|███       | 305/1000 [07:03<1:54:24,  9.88s/it]"
     ]
    },
    {
     "name": "stdout",
     "output_type": "stream",
     "text": [
      "✅ 回傳： {\n",
      "  \"aspect\": \"歌詞意境\",\n",
      "  \"sentiment\": \"正面\"\n",
      "}\n"
     ]
    },
    {
     "name": "stderr",
     "output_type": "stream",
     "text": [
      "\rGPT ABSA 處理中:  31%|███       | 306/1000 [07:13<1:52:27,  9.72s/it]"
     ]
    },
    {
     "name": "stdout",
     "output_type": "stream",
     "text": [
      "✅ 回傳： {\n",
      "    \"aspect\": \"音樂風格\",\n",
      "    \"sentiment\": \"中立\"\n",
      "}\n"
     ]
    },
    {
     "name": "stderr",
     "output_type": "stream",
     "text": [
      "\rGPT ABSA 處理中:  31%|███       | 307/1000 [07:13<1:20:45,  6.99s/it]"
     ]
    },
    {
     "name": "stdout",
     "output_type": "stream",
     "text": [
      "✅ 回傳： {\n",
      "    \"aspect\": \"對比分析\",\n",
      "    \"sentiment\": \"負面\"\n",
      "}\n"
     ]
    },
    {
     "name": "stderr",
     "output_type": "stream",
     "text": [
      "\rGPT ABSA 處理中:  31%|███       | 308/1000 [07:32<1:59:32, 10.36s/it]"
     ]
    },
    {
     "name": "stdout",
     "output_type": "stream",
     "text": [
      "✅ 回傳： {\n",
      "    \"aspect\": \"音樂風格\",\n",
      "    \"sentiment\": \"正面\"\n",
      "}\n"
     ]
    },
    {
     "name": "stderr",
     "output_type": "stream",
     "text": [
      "\rGPT ABSA 處理中:  31%|███       | 309/1000 [07:41<1:56:01, 10.07s/it]"
     ]
    },
    {
     "name": "stdout",
     "output_type": "stream",
     "text": [
      "✅ 回傳： { \"aspect\": \"音樂風格\", \"sentiment\": \"正面\" }\n"
     ]
    },
    {
     "name": "stderr",
     "output_type": "stream",
     "text": [
      "\rGPT ABSA 處理中:  31%|███       | 310/1000 [07:50<1:52:36,  9.79s/it]"
     ]
    },
    {
     "name": "stdout",
     "output_type": "stream",
     "text": [
      "✅ 回傳： {\n",
      "    \"aspect\": \"音樂風格\",\n",
      "    \"sentiment\": \"正面\"\n",
      "}\n"
     ]
    },
    {
     "name": "stderr",
     "output_type": "stream",
     "text": [
      "\rGPT ABSA 處理中:  31%|███       | 311/1000 [07:51<1:20:44,  7.03s/it]"
     ]
    },
    {
     "name": "stdout",
     "output_type": "stream",
     "text": [
      "✅ 回傳： {\n",
      "    \"aspect\": \"對比分析\",\n",
      "    \"sentiment\": \"負面\"\n",
      "}\n"
     ]
    },
    {
     "name": "stderr",
     "output_type": "stream",
     "text": [
      "\rGPT ABSA 處理中:  31%|███       | 312/1000 [08:00<1:28:17,  7.70s/it]"
     ]
    },
    {
     "name": "stdout",
     "output_type": "stream",
     "text": [
      "✅ 回傳： {\n",
      "    \"aspect\": \"音樂風格\",\n",
      "    \"sentiment\": \"正面\"\n",
      "}\n"
     ]
    },
    {
     "name": "stderr",
     "output_type": "stream",
     "text": [
      "\rGPT ABSA 處理中:  31%|███▏      | 313/1000 [08:01<1:04:08,  5.60s/it]"
     ]
    },
    {
     "name": "stdout",
     "output_type": "stream",
     "text": [
      "✅ 回傳： {\n",
      "    \"aspect\": \"青春回憶\",\n",
      "    \"sentiment\": \"正面\"\n",
      "}\n"
     ]
    },
    {
     "name": "stderr",
     "output_type": "stream",
     "text": [
      "\rGPT ABSA 處理中:  31%|███▏      | 314/1000 [08:01<47:01,  4.11s/it]  "
     ]
    },
    {
     "name": "stdout",
     "output_type": "stream",
     "text": [
      "✅ 回傳： {\n",
      "  \"aspect\": \"音樂風格\",\n",
      "  \"sentiment\": \"正面\"\n",
      "}\n"
     ]
    },
    {
     "name": "stderr",
     "output_type": "stream",
     "text": [
      "\rGPT ABSA 處理中:  32%|███▏      | 315/1000 [08:10<1:04:23,  5.64s/it]"
     ]
    },
    {
     "name": "stdout",
     "output_type": "stream",
     "text": [
      "✅ 回傳： {\n",
      "    \"aspect\": \"音樂風格\",\n",
      "    \"sentiment\": \"正面\"\n",
      "}\n"
     ]
    },
    {
     "name": "stderr",
     "output_type": "stream",
     "text": [
      "\rGPT ABSA 處理中:  32%|███▏      | 316/1000 [08:28<1:44:47,  9.19s/it]"
     ]
    },
    {
     "name": "stdout",
     "output_type": "stream",
     "text": [
      "❌ 錯誤： Error code: 429 - {'error': {'message': 'Rate limit reached for gpt-3.5-turbo in organization org-Bz0CtrQHvfWxTonXiHMcFRvW on requests per day (RPD): Limit 10000, Used 10000, Requested 1. Please try again in 8.64s. Visit https://platform.openai.com/account/rate-limits to learn more.', 'type': 'requests', 'param': None, 'code': 'rate_limit_exceeded'}}\n"
     ]
    },
    {
     "name": "stderr",
     "output_type": "stream",
     "text": [
      "\rGPT ABSA 處理中:  32%|███▏      | 317/1000 [08:28<1:14:53,  6.58s/it]"
     ]
    },
    {
     "name": "stdout",
     "output_type": "stream",
     "text": [
      "✅ 回傳： {\n",
      "    \"aspect\": \"青春回憶\",\n",
      "    \"sentiment\": \"正面\"\n",
      "}\n"
     ]
    },
    {
     "name": "stderr",
     "output_type": "stream",
     "text": [
      "\rGPT ABSA 處理中:  32%|███▏      | 318/1000 [08:29<54:21,  4.78s/it]  "
     ]
    },
    {
     "name": "stdout",
     "output_type": "stream",
     "text": [
      "✅ 回傳： {\n",
      "    \"aspect\": \"青春回憶\",\n",
      "    \"sentiment\": \"正面\"\n",
      "}\n"
     ]
    },
    {
     "name": "stderr",
     "output_type": "stream",
     "text": [
      "\rGPT ABSA 處理中:  32%|███▏      | 319/1000 [08:47<1:37:45,  8.61s/it]"
     ]
    },
    {
     "name": "stdout",
     "output_type": "stream",
     "text": [
      "❌ 錯誤： Error code: 429 - {'error': {'message': 'Rate limit reached for gpt-3.5-turbo in organization org-Bz0CtrQHvfWxTonXiHMcFRvW on requests per day (RPD): Limit 10000, Used 10000, Requested 1. Please try again in 8.64s. Visit https://platform.openai.com/account/rate-limits to learn more.', 'type': 'requests', 'param': None, 'code': 'rate_limit_exceeded'}}\n"
     ]
    },
    {
     "name": "stderr",
     "output_type": "stream",
     "text": [
      "\rGPT ABSA 處理中:  32%|███▏      | 320/1000 [08:56<1:40:50,  8.90s/it]"
     ]
    },
    {
     "name": "stdout",
     "output_type": "stream",
     "text": [
      "✅ 回傳： {\n",
      "    \"aspect\": \"歌詞意境\",\n",
      "    \"sentiment\": \"負面\"\n",
      "}\n"
     ]
    },
    {
     "name": "stderr",
     "output_type": "stream",
     "text": [
      "\rGPT ABSA 處理中:  32%|███▏      | 321/1000 [09:06<1:42:23,  9.05s/it]"
     ]
    },
    {
     "name": "stdout",
     "output_type": "stream",
     "text": [
      "✅ 回傳： {\n",
      "    \"aspect\": \"音樂風格\",\n",
      "    \"sentiment\": \"正面\"\n",
      "}\n"
     ]
    },
    {
     "name": "stderr",
     "output_type": "stream",
     "text": [
      "\rGPT ABSA 處理中:  32%|███▏      | 322/1000 [09:23<2:12:11, 11.70s/it]"
     ]
    },
    {
     "name": "stdout",
     "output_type": "stream",
     "text": [
      "✅ 回傳： { \"aspect\": \"歌詞意境\", \"sentiment\": \"負面\" }\n"
     ]
    },
    {
     "name": "stderr",
     "output_type": "stream",
     "text": [
      "\rGPT ABSA 處理中:  32%|███▏      | 323/1000 [09:24<1:34:20,  8.36s/it]"
     ]
    },
    {
     "name": "stdout",
     "output_type": "stream",
     "text": [
      "✅ 回傳： {\n",
      "  \"aspect\": \"青春回憶\",\n",
      "  \"sentiment\": \"正面\"\n",
      "}\n"
     ]
    },
    {
     "name": "stderr",
     "output_type": "stream",
     "text": [
      "\rGPT ABSA 處理中:  32%|███▏      | 324/1000 [09:33<1:37:16,  8.63s/it]"
     ]
    },
    {
     "name": "stdout",
     "output_type": "stream",
     "text": [
      "✅ 回傳： {\n",
      "    \"aspect\": \"青春回憶\",\n",
      "    \"sentiment\": \"正面\"\n",
      "}\n"
     ]
    },
    {
     "name": "stderr",
     "output_type": "stream",
     "text": [
      "\rGPT ABSA 處理中:  32%|███▎      | 325/1000 [09:34<1:10:22,  6.26s/it]"
     ]
    },
    {
     "name": "stdout",
     "output_type": "stream",
     "text": [
      "✅ 回傳： {\n",
      "    \"aspect\": \"青春回憶\",\n",
      "    \"sentiment\": \"正面\"\n",
      "}\n"
     ]
    },
    {
     "name": "stderr",
     "output_type": "stream",
     "text": [
      "\rGPT ABSA 處理中:  33%|███▎      | 326/1000 [09:34<50:56,  4.54s/it]  "
     ]
    },
    {
     "name": "stdout",
     "output_type": "stream",
     "text": [
      "✅ 回傳： {\n",
      "  \"aspect\": \"音樂風格\",\n",
      "  \"sentiment\": \"正面\"\n",
      "}\n"
     ]
    },
    {
     "name": "stderr",
     "output_type": "stream",
     "text": [
      "\rGPT ABSA 處理中:  33%|███▎      | 327/1000 [09:44<1:06:36,  5.94s/it]"
     ]
    },
    {
     "name": "stdout",
     "output_type": "stream",
     "text": [
      "✅ 回傳： {\n",
      "  \"aspect\": \"青春回憶\",\n",
      "  \"sentiment\": \"正面\"\n",
      "}\n"
     ]
    },
    {
     "name": "stderr",
     "output_type": "stream",
     "text": [
      "\rGPT ABSA 處理中:  33%|███▎      | 328/1000 [09:53<1:17:35,  6.93s/it]"
     ]
    },
    {
     "name": "stdout",
     "output_type": "stream",
     "text": [
      "✅ 回傳： { \"aspect\": \"歌詞意境\", \"sentiment\": \"負面\" }\n"
     ]
    },
    {
     "name": "stderr",
     "output_type": "stream",
     "text": [
      "\rGPT ABSA 處理中:  33%|███▎      | 329/1000 [10:02<1:25:38,  7.66s/it]"
     ]
    },
    {
     "name": "stdout",
     "output_type": "stream",
     "text": [
      "✅ 回傳： {\n",
      "    \"aspect\": \"青春回憶\",\n",
      "    \"sentiment\": \"中立\"\n",
      "}\n"
     ]
    },
    {
     "name": "stderr",
     "output_type": "stream",
     "text": [
      "\rGPT ABSA 處理中:  33%|███▎      | 330/1000 [10:20<2:00:34, 10.80s/it]"
     ]
    },
    {
     "name": "stdout",
     "output_type": "stream",
     "text": [
      "✅ 回傳： {\n",
      "    \"aspect\": \"青春回憶\",\n",
      "    \"sentiment\": \"正面\"\n",
      "}\n"
     ]
    },
    {
     "name": "stderr",
     "output_type": "stream",
     "text": [
      "\rGPT ABSA 處理中:  33%|███▎      | 331/1000 [10:30<1:55:11, 10.33s/it]"
     ]
    },
    {
     "name": "stdout",
     "output_type": "stream",
     "text": [
      "✅ 回傳： {\n",
      "    \"aspect\": \"青春回憶\",\n",
      "    \"sentiment\": \"中立\"\n",
      "}\n"
     ]
    },
    {
     "name": "stderr",
     "output_type": "stream",
     "text": [
      "\rGPT ABSA 處理中:  33%|███▎      | 332/1000 [10:30<1:23:05,  7.46s/it]"
     ]
    },
    {
     "name": "stdout",
     "output_type": "stream",
     "text": [
      "✅ 回傳： {\n",
      "    \"aspect\": \"青春回憶\",\n",
      "    \"sentiment\": \"正面\"\n",
      "}\n"
     ]
    },
    {
     "name": "stderr",
     "output_type": "stream",
     "text": [
      "\rGPT ABSA 處理中:  33%|███▎      | 333/1000 [10:31<59:42,  5.37s/it]  "
     ]
    },
    {
     "name": "stdout",
     "output_type": "stream",
     "text": [
      "✅ 回傳： {\n",
      "    \"aspect\": \"對比分析\",\n",
      "    \"sentiment\": \"中立\"\n",
      "}\n"
     ]
    },
    {
     "name": "stderr",
     "output_type": "stream",
     "text": [
      "\rGPT ABSA 處理中:  33%|███▎      | 334/1000 [10:48<1:39:58,  9.01s/it]"
     ]
    },
    {
     "name": "stdout",
     "output_type": "stream",
     "text": [
      "❌ 錯誤： Error code: 429 - {'error': {'message': 'Rate limit reached for gpt-3.5-turbo in organization org-Bz0CtrQHvfWxTonXiHMcFRvW on requests per day (RPD): Limit 10000, Used 10000, Requested 1. Please try again in 8.64s. Visit https://platform.openai.com/account/rate-limits to learn more.', 'type': 'requests', 'param': None, 'code': 'rate_limit_exceeded'}}\n"
     ]
    },
    {
     "name": "stderr",
     "output_type": "stream",
     "text": [
      "\rGPT ABSA 處理中:  34%|███▎      | 335/1000 [11:06<2:09:23, 11.67s/it]"
     ]
    },
    {
     "name": "stdout",
     "output_type": "stream",
     "text": [
      "✅ 回傳： { \"aspect\": \"歌詞意境\", \"sentiment\": \"負面\" }\n"
     ]
    },
    {
     "name": "stderr",
     "output_type": "stream",
     "text": [
      "\rGPT ABSA 處理中:  34%|███▎      | 336/1000 [11:07<1:32:11,  8.33s/it]"
     ]
    },
    {
     "name": "stdout",
     "output_type": "stream",
     "text": [
      "✅ 回傳： { \"aspect\": \"音樂風格\", \"sentiment\": \"中立\" }\n"
     ]
    },
    {
     "name": "stderr",
     "output_type": "stream",
     "text": [
      "\rGPT ABSA 處理中:  34%|███▎      | 337/1000 [11:08<1:06:59,  6.06s/it]"
     ]
    },
    {
     "name": "stdout",
     "output_type": "stream",
     "text": [
      "✅ 回傳： {\n",
      "    \"aspect\": \"音樂風格\",\n",
      "    \"sentiment\": \"正面\"\n",
      "}\n"
     ]
    },
    {
     "name": "stderr",
     "output_type": "stream",
     "text": [
      "\rGPT ABSA 處理中:  34%|███▍      | 338/1000 [11:08<49:24,  4.48s/it]  "
     ]
    },
    {
     "name": "stdout",
     "output_type": "stream",
     "text": [
      "✅ 回傳： {\n",
      "    \"aspect\": \"音樂風格\",\n",
      "    \"sentiment\": \"正面\"\n",
      "}\n"
     ]
    },
    {
     "name": "stderr",
     "output_type": "stream",
     "text": [
      "\rGPT ABSA 處理中:  34%|███▍      | 339/1000 [11:27<1:34:32,  8.58s/it]"
     ]
    },
    {
     "name": "stdout",
     "output_type": "stream",
     "text": [
      "✅ 回傳： {\n",
      "    \"aspect\": \"青春回憶\",\n",
      "    \"sentiment\": \"正面\"\n",
      "}\n"
     ]
    },
    {
     "name": "stderr",
     "output_type": "stream",
     "text": [
      "\rGPT ABSA 處理中:  34%|███▍      | 340/1000 [11:45<2:05:48, 11.44s/it]"
     ]
    },
    {
     "name": "stdout",
     "output_type": "stream",
     "text": [
      "✅ 回傳： { \"aspect\": \"歌詞意境\", \"sentiment\": \"中立\" }\n"
     ]
    },
    {
     "name": "stderr",
     "output_type": "stream",
     "text": [
      "\rGPT ABSA 處理中:  34%|███▍      | 341/1000 [11:54<1:59:29, 10.88s/it]"
     ]
    },
    {
     "name": "stdout",
     "output_type": "stream",
     "text": [
      "✅ 回傳： {\n",
      "  \"aspect\": \"音樂風格\",\n",
      "  \"sentiment\": \"正面\"\n",
      "}\n"
     ]
    },
    {
     "name": "stderr",
     "output_type": "stream",
     "text": [
      "\rGPT ABSA 處理中:  34%|███▍      | 342/1000 [12:04<1:54:40, 10.46s/it]"
     ]
    },
    {
     "name": "stdout",
     "output_type": "stream",
     "text": [
      "✅ 回傳： {\n",
      "  \"aspect\": \"音樂風格\",\n",
      "  \"sentiment\": \"正面\"\n",
      "}\n"
     ]
    },
    {
     "name": "stderr",
     "output_type": "stream",
     "text": [
      "\rGPT ABSA 處理中:  34%|███▍      | 343/1000 [12:13<1:50:34, 10.10s/it]"
     ]
    },
    {
     "name": "stdout",
     "output_type": "stream",
     "text": [
      "✅ 回傳： {\n",
      "    \"aspect\": \"音樂風格\",\n",
      "    \"sentiment\": \"中立\"\n",
      "}\n"
     ]
    },
    {
     "name": "stderr",
     "output_type": "stream",
     "text": [
      "\rGPT ABSA 處理中:  34%|███▍      | 344/1000 [12:14<1:19:05,  7.23s/it]"
     ]
    },
    {
     "name": "stdout",
     "output_type": "stream",
     "text": [
      "✅ 回傳： {\n",
      "    \"aspect\": \"青春回憶\",\n",
      "    \"sentiment\": \"中立\"\n",
      "}\n"
     ]
    },
    {
     "name": "stderr",
     "output_type": "stream",
     "text": [
      "\rGPT ABSA 處理中:  34%|███▍      | 345/1000 [12:31<1:54:05, 10.45s/it]"
     ]
    },
    {
     "name": "stdout",
     "output_type": "stream",
     "text": [
      "✅ 回傳： {\n",
      "  \"aspect\": \"對比分析\",\n",
      "  \"sentiment\": \"正面\"\n",
      "}\n"
     ]
    },
    {
     "name": "stderr",
     "output_type": "stream",
     "text": [
      "\rGPT ABSA 處理中:  35%|███▍      | 346/1000 [12:32<1:21:13,  7.45s/it]"
     ]
    },
    {
     "name": "stdout",
     "output_type": "stream",
     "text": [
      "✅ 回傳： { \"aspect\": \"外貌外表\", \"sentiment\": \"正面\" }\n"
     ]
    },
    {
     "name": "stderr",
     "output_type": "stream",
     "text": [
      "\rGPT ABSA 處理中:  35%|███▍      | 347/1000 [12:41<1:27:10,  8.01s/it]"
     ]
    },
    {
     "name": "stdout",
     "output_type": "stream",
     "text": [
      "✅ 回傳： {\n",
      "    \"aspect\": \"青春回憶\",\n",
      "    \"sentiment\": \"中立\"\n",
      "}\n"
     ]
    },
    {
     "name": "stderr",
     "output_type": "stream",
     "text": [
      "\rGPT ABSA 處理中:  35%|███▍      | 348/1000 [12:59<1:59:21, 10.98s/it]"
     ]
    },
    {
     "name": "stdout",
     "output_type": "stream",
     "text": [
      "✅ 回傳： {\n",
      "    \"aspect\": \"音樂風格\",\n",
      "    \"sentiment\": \"正面\"\n",
      "}\n"
     ]
    },
    {
     "name": "stderr",
     "output_type": "stream",
     "text": [
      "\rGPT ABSA 處理中:  35%|███▍      | 349/1000 [13:00<1:25:17,  7.86s/it]"
     ]
    },
    {
     "name": "stdout",
     "output_type": "stream",
     "text": [
      "✅ 回傳： { \"aspect\": \"音樂風格\", \"sentiment\": \"負面\" }\n"
     ]
    },
    {
     "name": "stderr",
     "output_type": "stream",
     "text": [
      "\rGPT ABSA 處理中:  35%|███▌      | 350/1000 [13:00<1:01:35,  5.68s/it]"
     ]
    },
    {
     "name": "stdout",
     "output_type": "stream",
     "text": [
      "✅ 回傳： { \"aspect\": \"音樂風格\", \"sentiment\": \"正面\" }\n"
     ]
    },
    {
     "name": "stderr",
     "output_type": "stream",
     "text": [
      "\rGPT ABSA 處理中:  35%|███▌      | 351/1000 [13:10<1:13:09,  6.76s/it]"
     ]
    },
    {
     "name": "stdout",
     "output_type": "stream",
     "text": [
      "✅ 回傳： {\n",
      "  \"aspect\": \"對比分析\",\n",
      "  \"sentiment\": \"負面\"\n",
      "}\n"
     ]
    },
    {
     "name": "stderr",
     "output_type": "stream",
     "text": [
      "\rGPT ABSA 處理中:  35%|███▌      | 352/1000 [13:10<53:08,  4.92s/it]  "
     ]
    },
    {
     "name": "stdout",
     "output_type": "stream",
     "text": [
      "✅ 回傳： {\n",
      "    \"aspect\": \"音樂風格\",\n",
      "    \"sentiment\": \"中立\"\n",
      "}\n"
     ]
    },
    {
     "name": "stderr",
     "output_type": "stream",
     "text": [
      "\rGPT ABSA 處理中:  35%|███▌      | 353/1000 [13:28<1:33:59,  8.72s/it]"
     ]
    },
    {
     "name": "stdout",
     "output_type": "stream",
     "text": [
      "❌ 錯誤： Error code: 429 - {'error': {'message': 'Rate limit reached for gpt-3.5-turbo in organization org-Bz0CtrQHvfWxTonXiHMcFRvW on requests per day (RPD): Limit 10000, Used 10000, Requested 1. Please try again in 8.64s. Visit https://platform.openai.com/account/rate-limits to learn more.', 'type': 'requests', 'param': None, 'code': 'rate_limit_exceeded'}}\n"
     ]
    },
    {
     "name": "stderr",
     "output_type": "stream",
     "text": [
      "\rGPT ABSA 處理中:  35%|███▌      | 354/1000 [13:46<2:03:26, 11.46s/it]"
     ]
    },
    {
     "name": "stdout",
     "output_type": "stream",
     "text": [
      "✅ 回傳： { \"aspect\": \"音樂風格\", \"sentiment\": \"正面\" }\n"
     ]
    },
    {
     "name": "stderr",
     "output_type": "stream",
     "text": [
      "\rGPT ABSA 處理中:  36%|███▌      | 355/1000 [13:46<1:28:32,  8.24s/it]"
     ]
    },
    {
     "name": "stdout",
     "output_type": "stream",
     "text": [
      "✅ 回傳： { \"aspect\": \"青春回憶\", \"sentiment\": \"正面\" }\n"
     ]
    },
    {
     "name": "stderr",
     "output_type": "stream",
     "text": [
      "\rGPT ABSA 處理中:  36%|███▌      | 356/1000 [13:56<1:31:23,  8.51s/it]"
     ]
    },
    {
     "name": "stdout",
     "output_type": "stream",
     "text": [
      "✅ 回傳： {\n",
      "    \"aspect\": \"音樂風格\",\n",
      "    \"sentiment\": \"中立\"\n",
      "}\n"
     ]
    },
    {
     "name": "stderr",
     "output_type": "stream",
     "text": [
      "\rGPT ABSA 處理中:  36%|███▌      | 357/1000 [13:56<1:05:46,  6.14s/it]"
     ]
    },
    {
     "name": "stdout",
     "output_type": "stream",
     "text": [
      "✅ 回傳： {\n",
      "    \"aspect\": \"情感共鳴\",\n",
      "    \"sentiment\": \"正面\"\n",
      "}\n"
     ]
    },
    {
     "name": "stderr",
     "output_type": "stream",
     "text": [
      "\rGPT ABSA 處理中:  36%|███▌      | 358/1000 [14:05<1:15:21,  7.04s/it]"
     ]
    },
    {
     "name": "stdout",
     "output_type": "stream",
     "text": [
      "✅ 回傳： {\n",
      "    \"aspect\": \"音樂風格\",\n",
      "    \"sentiment\": \"正面\"\n",
      "}\n"
     ]
    },
    {
     "name": "stderr",
     "output_type": "stream",
     "text": [
      "\rGPT ABSA 處理中:  36%|███▌      | 359/1000 [14:23<1:50:35, 10.35s/it]"
     ]
    },
    {
     "name": "stdout",
     "output_type": "stream",
     "text": [
      "✅ 回傳： { \"aspect\": \"音樂風格\", \"sentiment\": \"負面\" }\n"
     ]
    },
    {
     "name": "stderr",
     "output_type": "stream",
     "text": [
      "\rGPT ABSA 處理中:  36%|███▌      | 360/1000 [14:24<1:18:39,  7.37s/it]"
     ]
    },
    {
     "name": "stdout",
     "output_type": "stream",
     "text": [
      "✅ 回傳： {\n",
      "  \"aspect\": \"對比分析\",\n",
      "  \"sentiment\": \"中立\"\n",
      "}\n"
     ]
    },
    {
     "name": "stderr",
     "output_type": "stream",
     "text": [
      "\rGPT ABSA 處理中:  36%|███▌      | 361/1000 [14:24<56:45,  5.33s/it]  "
     ]
    },
    {
     "name": "stdout",
     "output_type": "stream",
     "text": [
      "✅ 回傳： { \"aspect\": \"音樂風格\", \"sentiment\": \"中立\" }\n"
     ]
    },
    {
     "name": "stderr",
     "output_type": "stream",
     "text": [
      "\rGPT ABSA 處理中:  36%|███▌      | 362/1000 [14:34<1:09:31,  6.54s/it]"
     ]
    },
    {
     "name": "stdout",
     "output_type": "stream",
     "text": [
      "✅ 回傳： { \"aspect\": \"青春回憶\", \"sentiment\": \"正面\" }\n"
     ]
    },
    {
     "name": "stderr",
     "output_type": "stream",
     "text": [
      "\rGPT ABSA 處理中:  36%|███▋      | 363/1000 [14:43<1:17:58,  7.34s/it]"
     ]
    },
    {
     "name": "stdout",
     "output_type": "stream",
     "text": [
      "✅ 回傳： {\n",
      "  \"aspect\": \"音樂風格\",\n",
      "  \"sentiment\": \"正面\"\n",
      "}\n"
     ]
    },
    {
     "name": "stderr",
     "output_type": "stream",
     "text": [
      "\rGPT ABSA 處理中:  36%|███▋      | 364/1000 [15:01<1:52:09, 10.58s/it]"
     ]
    },
    {
     "name": "stdout",
     "output_type": "stream",
     "text": [
      "✅ 回傳： { \"aspect\": \"音樂風格\", \"sentiment\": \"中立\" }\n"
     ]
    },
    {
     "name": "stderr",
     "output_type": "stream",
     "text": [
      "\rGPT ABSA 處理中:  36%|███▋      | 365/1000 [15:02<1:20:32,  7.61s/it]"
     ]
    },
    {
     "name": "stdout",
     "output_type": "stream",
     "text": [
      "✅ 回傳： {\n",
      "    \"aspect\": \"青春回憶\",\n",
      "    \"sentiment\": \"正面\"\n",
      "}\n"
     ]
    },
    {
     "name": "stderr",
     "output_type": "stream",
     "text": [
      "\rGPT ABSA 處理中:  37%|███▋      | 366/1000 [15:11<1:25:46,  8.12s/it]"
     ]
    },
    {
     "name": "stdout",
     "output_type": "stream",
     "text": [
      "✅ 回傳： {\n",
      "  \"aspect\": \"對比分析\",\n",
      "  \"sentiment\": \"正面\"\n",
      "}\n"
     ]
    },
    {
     "name": "stderr",
     "output_type": "stream",
     "text": [
      "\rGPT ABSA 處理中:  37%|███▋      | 367/1000 [15:12<1:02:18,  5.91s/it]"
     ]
    },
    {
     "name": "stdout",
     "output_type": "stream",
     "text": [
      "✅ 回傳： { \"aspect\": \"音樂風格\", \"sentiment\": \"中立\" }\n"
     ]
    },
    {
     "name": "stderr",
     "output_type": "stream",
     "text": [
      "\rGPT ABSA 處理中:  37%|███▋      | 368/1000 [15:30<1:40:55,  9.58s/it]"
     ]
    },
    {
     "name": "stdout",
     "output_type": "stream",
     "text": [
      "✅ 回傳： {\n",
      "    \"aspect\": \"音樂風格\",\n",
      "    \"sentiment\": \"正面\"\n",
      "}\n"
     ]
    },
    {
     "name": "stderr",
     "output_type": "stream",
     "text": [
      "\rGPT ABSA 處理中:  37%|███▋      | 369/1000 [15:48<2:08:16, 12.20s/it]"
     ]
    },
    {
     "name": "stdout",
     "output_type": "stream",
     "text": [
      "✅ 回傳： {\n",
      "  \"aspect\": \"歌詞意境\",\n",
      "  \"sentiment\": \"中立\"\n",
      "}\n"
     ]
    },
    {
     "name": "stderr",
     "output_type": "stream",
     "text": [
      "\rGPT ABSA 處理中:  37%|███▋      | 370/1000 [15:57<1:58:31, 11.29s/it]"
     ]
    },
    {
     "name": "stdout",
     "output_type": "stream",
     "text": [
      "✅ 回傳： {\n",
      "  \"aspect\": \"音樂風格\",\n",
      "  \"sentiment\": \"負面\"\n",
      "}\n"
     ]
    },
    {
     "name": "stderr",
     "output_type": "stream",
     "text": [
      "\rGPT ABSA 處理中:  37%|███▋      | 371/1000 [15:58<1:25:05,  8.12s/it]"
     ]
    },
    {
     "name": "stdout",
     "output_type": "stream",
     "text": [
      "✅ 回傳： { \"aspect\": \"音樂風格\", \"sentiment\": \"正面\" }\n"
     ]
    },
    {
     "name": "stderr",
     "output_type": "stream",
     "text": [
      "\rGPT ABSA 處理中:  37%|███▋      | 372/1000 [16:07<1:28:24,  8.45s/it]"
     ]
    },
    {
     "name": "stdout",
     "output_type": "stream",
     "text": [
      "✅ 回傳： {\n",
      "  \"aspect\": \"青春回憶\",\n",
      "  \"sentiment\": \"正面\"\n",
      "}\n"
     ]
    },
    {
     "name": "stderr",
     "output_type": "stream",
     "text": [
      "\rGPT ABSA 處理中:  37%|███▋      | 373/1000 [16:16<1:30:25,  8.65s/it]"
     ]
    },
    {
     "name": "stdout",
     "output_type": "stream",
     "text": [
      "✅ 回傳： {\n",
      "    \"aspect\": \"音樂風格\",\n",
      "    \"sentiment\": \"正面\"\n",
      "}\n"
     ]
    },
    {
     "name": "stderr",
     "output_type": "stream",
     "text": [
      "\rGPT ABSA 處理中:  37%|███▋      | 374/1000 [16:17<1:04:47,  6.21s/it]"
     ]
    },
    {
     "name": "stdout",
     "output_type": "stream",
     "text": [
      "✅ 回傳： {\n",
      "    \"aspect\": \"青春回憶\",\n",
      "    \"sentiment\": \"中立\"\n",
      "}\n"
     ]
    },
    {
     "name": "stderr",
     "output_type": "stream",
     "text": [
      "\rGPT ABSA 處理中:  38%|███▊      | 375/1000 [16:18<47:13,  4.53s/it]  "
     ]
    },
    {
     "name": "stdout",
     "output_type": "stream",
     "text": [
      "✅ 回傳： {\n",
      "    \"aspect\": \"青春回憶\",\n",
      "    \"sentiment\": \"正面\"\n",
      "}\n"
     ]
    },
    {
     "name": "stderr",
     "output_type": "stream",
     "text": [
      "\rGPT ABSA 處理中:  38%|███▊      | 376/1000 [16:35<1:27:41,  8.43s/it]"
     ]
    },
    {
     "name": "stdout",
     "output_type": "stream",
     "text": [
      "❌ 錯誤： Error code: 429 - {'error': {'message': 'Rate limit reached for gpt-3.5-turbo in organization org-Bz0CtrQHvfWxTonXiHMcFRvW on requests per day (RPD): Limit 10000, Used 10000, Requested 1. Please try again in 8.64s. Visit https://platform.openai.com/account/rate-limits to learn more.', 'type': 'requests', 'param': None, 'code': 'rate_limit_exceeded'}}\n"
     ]
    },
    {
     "name": "stderr",
     "output_type": "stream",
     "text": [
      "\rGPT ABSA 處理中:  38%|███▊      | 377/1000 [16:44<1:30:01,  8.67s/it]"
     ]
    },
    {
     "name": "stdout",
     "output_type": "stream",
     "text": [
      "✅ 回傳： { \"aspect\": \"情感共鳴\", \"sentiment\": \"負面\" }\n"
     ]
    },
    {
     "name": "stderr",
     "output_type": "stream",
     "text": [
      "\rGPT ABSA 處理中:  38%|███▊      | 378/1000 [16:45<1:04:33,  6.23s/it]"
     ]
    },
    {
     "name": "stdout",
     "output_type": "stream",
     "text": [
      "✅ 回傳： { \"aspect\": \"歌詞意境\", \"sentiment\": \"負面\" }\n"
     ]
    },
    {
     "name": "stderr",
     "output_type": "stream",
     "text": [
      "\rGPT ABSA 處理中:  38%|███▊      | 379/1000 [16:45<46:39,  4.51s/it]  "
     ]
    },
    {
     "name": "stdout",
     "output_type": "stream",
     "text": [
      "✅ 回傳： { \"aspect\": \"音樂風格\", \"sentiment\": \"中立\" }\n"
     ]
    },
    {
     "name": "stderr",
     "output_type": "stream",
     "text": [
      "\rGPT ABSA 處理中:  38%|███▊      | 380/1000 [17:03<1:28:26,  8.56s/it]"
     ]
    },
    {
     "name": "stdout",
     "output_type": "stream",
     "text": [
      "✅ 回傳： {\n",
      "    \"aspect\": \"青春回憶\",\n",
      "    \"sentiment\": \"正面\"\n",
      "}\n"
     ]
    },
    {
     "name": "stderr",
     "output_type": "stream",
     "text": [
      "\rGPT ABSA 處理中:  38%|███▊      | 381/1000 [17:13<1:30:14,  8.75s/it]"
     ]
    },
    {
     "name": "stdout",
     "output_type": "stream",
     "text": [
      "✅ 回傳： { \"aspect\": \"音樂風格\", \"sentiment\": \"正面\" }\n"
     ]
    },
    {
     "name": "stderr",
     "output_type": "stream",
     "text": [
      "\rGPT ABSA 處理中:  38%|███▊      | 382/1000 [17:31<1:58:29, 11.50s/it]"
     ]
    },
    {
     "name": "stdout",
     "output_type": "stream",
     "text": [
      "✅ 回傳： {\n",
      "    \"aspect\": \"青春回憶\",\n",
      "    \"sentiment\": \"正面\"\n",
      "}\n"
     ]
    },
    {
     "name": "stderr",
     "output_type": "stream",
     "text": [
      "\rGPT ABSA 處理中:  38%|███▊      | 383/1000 [17:32<1:25:53,  8.35s/it]"
     ]
    },
    {
     "name": "stdout",
     "output_type": "stream",
     "text": [
      "✅ 回傳： { \"aspect\": \"情感共鳴\", \"sentiment\": \"正面\" }\n"
     ]
    },
    {
     "name": "stderr",
     "output_type": "stream",
     "text": [
      "\rGPT ABSA 處理中:  38%|███▊      | 384/1000 [17:50<1:55:26, 11.24s/it]"
     ]
    },
    {
     "name": "stdout",
     "output_type": "stream",
     "text": [
      "✅ 回傳： {\n",
      "    \"aspect\": \"音樂風格\",\n",
      "    \"sentiment\": \"正面\"\n",
      "}\n"
     ]
    },
    {
     "name": "stderr",
     "output_type": "stream",
     "text": [
      "\rGPT ABSA 處理中:  38%|███▊      | 385/1000 [17:50<1:22:55,  8.09s/it]"
     ]
    },
    {
     "name": "stdout",
     "output_type": "stream",
     "text": [
      "✅ 回傳： { \"aspect\": \"情感共鳴\", \"sentiment\": \"正面\" }\n"
     ]
    },
    {
     "name": "stderr",
     "output_type": "stream",
     "text": [
      "\rGPT ABSA 處理中:  39%|███▊      | 386/1000 [17:51<1:00:02,  5.87s/it]"
     ]
    },
    {
     "name": "stdout",
     "output_type": "stream",
     "text": [
      "✅ 回傳： {\n",
      "    \"aspect\": \"音樂風格\",\n",
      "    \"sentiment\": \"正面\"\n",
      "}\n"
     ]
    },
    {
     "name": "stderr",
     "output_type": "stream",
     "text": [
      "\rGPT ABSA 處理中:  39%|███▊      | 387/1000 [17:51<43:21,  4.24s/it]  "
     ]
    },
    {
     "name": "stdout",
     "output_type": "stream",
     "text": [
      "✅ 回傳： { \"aspect\": \"外貌\", \"sentiment\": \"中立\" }\n"
     ]
    },
    {
     "name": "stderr",
     "output_type": "stream",
     "text": [
      "\rGPT ABSA 處理中:  39%|███▉      | 388/1000 [18:09<1:23:52,  8.22s/it]"
     ]
    },
    {
     "name": "stdout",
     "output_type": "stream",
     "text": [
      "❌ 錯誤： Error code: 429 - {'error': {'message': 'Rate limit reached for gpt-3.5-turbo in organization org-Bz0CtrQHvfWxTonXiHMcFRvW on requests per day (RPD): Limit 10000, Used 10000, Requested 1. Please try again in 8.64s. Visit https://platform.openai.com/account/rate-limits to learn more.', 'type': 'requests', 'param': None, 'code': 'rate_limit_exceeded'}}\n"
     ]
    },
    {
     "name": "stderr",
     "output_type": "stream",
     "text": [
      "\rGPT ABSA 處理中:  39%|███▉      | 389/1000 [18:18<1:27:06,  8.55s/it]"
     ]
    },
    {
     "name": "stdout",
     "output_type": "stream",
     "text": [
      "✅ 回傳： {\n",
      "  \"aspect\": \"音樂風格\",\n",
      "  \"sentiment\": \"正面\"\n",
      "}\n"
     ]
    },
    {
     "name": "stderr",
     "output_type": "stream",
     "text": [
      "\rGPT ABSA 處理中:  39%|███▉      | 390/1000 [18:19<1:02:31,  6.15s/it]"
     ]
    },
    {
     "name": "stdout",
     "output_type": "stream",
     "text": [
      "✅ 回傳： {\n",
      "    \"aspect\": \"音樂風格\",\n",
      "    \"sentiment\": \"中立\"\n",
      "}\n"
     ]
    },
    {
     "name": "stderr",
     "output_type": "stream",
     "text": [
      "\rGPT ABSA 處理中:  39%|███▉      | 391/1000 [18:37<1:38:43,  9.73s/it]"
     ]
    },
    {
     "name": "stdout",
     "output_type": "stream",
     "text": [
      "✅ 回傳： {\n",
      "    \"aspect\": \"音樂風格\",\n",
      "    \"sentiment\": \"正面\"\n",
      "}\n"
     ]
    },
    {
     "name": "stderr",
     "output_type": "stream",
     "text": [
      "\rGPT ABSA 處理中:  39%|███▉      | 392/1000 [18:46<1:36:48,  9.55s/it]"
     ]
    },
    {
     "name": "stdout",
     "output_type": "stream",
     "text": [
      "✅ 回傳： { \"aspect\": \"音樂風格\", \"sentiment\": \"正面\" }\n"
     ]
    },
    {
     "name": "stderr",
     "output_type": "stream",
     "text": [
      "\rGPT ABSA 處理中:  39%|███▉      | 393/1000 [18:55<1:35:54,  9.48s/it]"
     ]
    },
    {
     "name": "stdout",
     "output_type": "stream",
     "text": [
      "✅ 回傳： {\n",
      "    \"aspect\": \"情感共鳴\",\n",
      "    \"sentiment\": \"正面\"\n",
      "}\n"
     ]
    },
    {
     "name": "stderr",
     "output_type": "stream",
     "text": [
      "\rGPT ABSA 處理中:  39%|███▉      | 394/1000 [19:05<1:35:12,  9.43s/it]"
     ]
    },
    {
     "name": "stdout",
     "output_type": "stream",
     "text": [
      "✅ 回傳： {\n",
      "    \"aspect\": \"音樂風格\",\n",
      "    \"sentiment\": \"正面\"\n",
      "}\n"
     ]
    },
    {
     "name": "stderr",
     "output_type": "stream",
     "text": [
      "\rGPT ABSA 處理中:  40%|███▉      | 395/1000 [19:05<1:08:11,  6.76s/it]"
     ]
    },
    {
     "name": "stdout",
     "output_type": "stream",
     "text": [
      "✅ 回傳： { \"aspect\": \"音樂風格\", \"sentiment\": \"正面\" }\n"
     ]
    },
    {
     "name": "stderr",
     "output_type": "stream",
     "text": [
      "\rGPT ABSA 處理中:  40%|███▉      | 396/1000 [19:15<1:15:58,  7.55s/it]"
     ]
    },
    {
     "name": "stdout",
     "output_type": "stream",
     "text": [
      "✅ 回傳： {\n",
      "    \"aspect\": \"音樂風格\",\n",
      "    \"sentiment\": \"正面\"\n",
      "}\n"
     ]
    },
    {
     "name": "stderr",
     "output_type": "stream",
     "text": [
      "\rGPT ABSA 處理中:  40%|███▉      | 397/1000 [19:24<1:20:59,  8.06s/it]"
     ]
    },
    {
     "name": "stdout",
     "output_type": "stream",
     "text": [
      "✅ 回傳： {\n",
      "    \"aspect\": \"情感共鳴\",\n",
      "    \"sentiment\": \"正面\"\n",
      "}\n"
     ]
    },
    {
     "name": "stderr",
     "output_type": "stream",
     "text": [
      "\rGPT ABSA 處理中:  40%|███▉      | 398/1000 [19:42<1:50:54, 11.05s/it]"
     ]
    },
    {
     "name": "stdout",
     "output_type": "stream",
     "text": [
      "✅ 回傳： { \"aspect\": \"音樂風格\", \"sentiment\": \"正面\" }\n"
     ]
    },
    {
     "name": "stderr",
     "output_type": "stream",
     "text": [
      "\rGPT ABSA 處理中:  40%|███▉      | 399/1000 [19:42<1:19:04,  7.89s/it]"
     ]
    },
    {
     "name": "stdout",
     "output_type": "stream",
     "text": [
      "✅ 回傳： {\n",
      "    \"aspect\": \"情感共鳴\",\n",
      "    \"sentiment\": \"正面\"\n",
      "}\n"
     ]
    },
    {
     "name": "stderr",
     "output_type": "stream",
     "text": [
      "\rGPT ABSA 處理中:  40%|████      | 400/1000 [19:43<56:48,  5.68s/it]  "
     ]
    },
    {
     "name": "stdout",
     "output_type": "stream",
     "text": [
      "✅ 回傳： {\n",
      "    \"aspect\": \"音樂風格\",\n",
      "    \"sentiment\": \"正面\"\n",
      "}\n",
      "✅ 存檔 checkpoint at row 400\n"
     ]
    },
    {
     "name": "stderr",
     "output_type": "stream",
     "text": [
      "\rGPT ABSA 處理中:  40%|████      | 401/1000 [19:52<1:07:59,  6.81s/it]"
     ]
    },
    {
     "name": "stdout",
     "output_type": "stream",
     "text": [
      "✅ 回傳： {\n",
      "    \"aspect\": \"情感共鳴\",\n",
      "    \"sentiment\": \"正面\"\n",
      "}\n"
     ]
    },
    {
     "name": "stderr",
     "output_type": "stream",
     "text": [
      "\rGPT ABSA 處理中:  40%|████      | 402/1000 [20:02<1:15:36,  7.59s/it]"
     ]
    },
    {
     "name": "stdout",
     "output_type": "stream",
     "text": [
      "✅ 回傳： {\n",
      "    \"aspect\": \"情感共鳴\",\n",
      "    \"sentiment\": \"正面\"\n",
      "}\n"
     ]
    },
    {
     "name": "stderr",
     "output_type": "stream",
     "text": [
      "\rGPT ABSA 處理中:  40%|████      | 403/1000 [20:11<1:20:27,  8.09s/it]"
     ]
    },
    {
     "name": "stdout",
     "output_type": "stream",
     "text": [
      "✅ 回傳： {\n",
      "    \"aspect\": \"情感共鳴\",\n",
      "    \"sentiment\": \"正面\"\n",
      "}\n"
     ]
    },
    {
     "name": "stderr",
     "output_type": "stream",
     "text": [
      "\rGPT ABSA 處理中:  40%|████      | 404/1000 [20:12<58:10,  5.86s/it]  "
     ]
    },
    {
     "name": "stdout",
     "output_type": "stream",
     "text": [
      "✅ 回傳： {\n",
      "    \"aspect\": \"音樂人致謝\",\n",
      "    \"sentiment\": \"正面\"\n",
      "}\n"
     ]
    },
    {
     "name": "stderr",
     "output_type": "stream",
     "text": [
      "\rGPT ABSA 處理中:  40%|████      | 405/1000 [20:21<1:07:58,  6.85s/it]"
     ]
    },
    {
     "name": "stdout",
     "output_type": "stream",
     "text": [
      "✅ 回傳： {\n",
      "    \"aspect\": \"情感共鳴\",\n",
      "    \"sentiment\": \"正面\"\n",
      "}\n"
     ]
    },
    {
     "name": "stderr",
     "output_type": "stream",
     "text": [
      "\rGPT ABSA 處理中:  41%|████      | 406/1000 [20:38<1:39:28, 10.05s/it]"
     ]
    },
    {
     "name": "stdout",
     "output_type": "stream",
     "text": [
      "❌ 錯誤： Error code: 429 - {'error': {'message': 'Rate limit reached for gpt-3.5-turbo in organization org-Bz0CtrQHvfWxTonXiHMcFRvW on requests per day (RPD): Limit 10000, Used 10000, Requested 1. Please try again in 8.64s. Visit https://platform.openai.com/account/rate-limits to learn more.', 'type': 'requests', 'param': None, 'code': 'rate_limit_exceeded'}}\n"
     ]
    },
    {
     "name": "stderr",
     "output_type": "stream",
     "text": [
      "\rGPT ABSA 處理中:  41%|████      | 407/1000 [20:47<1:36:45,  9.79s/it]"
     ]
    },
    {
     "name": "stdout",
     "output_type": "stream",
     "text": [
      "✅ 回傳： {\n",
      "    \"aspect\": \"情感共鳴\",\n",
      "    \"sentiment\": \"正面\"\n",
      "}\n"
     ]
    },
    {
     "name": "stderr",
     "output_type": "stream",
     "text": [
      "\rGPT ABSA 處理中:  41%|████      | 408/1000 [20:48<1:09:18,  7.02s/it]"
     ]
    },
    {
     "name": "stdout",
     "output_type": "stream",
     "text": [
      "✅ 回傳： {\n",
      "  \"aspect\": \"情感共鳴\",\n",
      "  \"sentiment\": \"正面\"\n",
      "}\n"
     ]
    },
    {
     "name": "stderr",
     "output_type": "stream",
     "text": [
      "\rGPT ABSA 處理中:  41%|████      | 409/1000 [21:06<1:40:04, 10.16s/it]"
     ]
    },
    {
     "name": "stdout",
     "output_type": "stream",
     "text": [
      "❌ 錯誤： Error code: 429 - {'error': {'message': 'Rate limit reached for gpt-3.5-turbo in organization org-Bz0CtrQHvfWxTonXiHMcFRvW on requests per day (RPD): Limit 10000, Used 10000, Requested 1. Please try again in 8.64s. Visit https://platform.openai.com/account/rate-limits to learn more.', 'type': 'requests', 'param': None, 'code': 'rate_limit_exceeded'}}\n"
     ]
    },
    {
     "name": "stderr",
     "output_type": "stream",
     "text": [
      "\rGPT ABSA 處理中:  41%|████      | 410/1000 [21:15<1:36:56,  9.86s/it]"
     ]
    },
    {
     "name": "stdout",
     "output_type": "stream",
     "text": [
      "✅ 回傳： {\n",
      "    \"aspect\": \"音樂風格\",\n",
      "    \"sentiment\": \"正面\"\n",
      "}\n"
     ]
    },
    {
     "name": "stderr",
     "output_type": "stream",
     "text": [
      "\rGPT ABSA 處理中:  41%|████      | 411/1000 [21:15<1:09:38,  7.09s/it]"
     ]
    },
    {
     "name": "stdout",
     "output_type": "stream",
     "text": [
      "✅ 回傳： {\n",
      "    \"aspect\": \"情感共鳴\",\n",
      "    \"sentiment\": \"負面\"\n",
      "}\n"
     ]
    },
    {
     "name": "stderr",
     "output_type": "stream",
     "text": [
      "\rGPT ABSA 處理中:  41%|████      | 412/1000 [21:16<50:06,  5.11s/it]  "
     ]
    },
    {
     "name": "stdout",
     "output_type": "stream",
     "text": [
      "✅ 回傳： { \"aspect\": \"情感共鳴\", \"sentiment\": \"負面\" }\n"
     ]
    },
    {
     "name": "stderr",
     "output_type": "stream",
     "text": [
      "\rGPT ABSA 處理中:  41%|████▏     | 413/1000 [21:16<36:43,  3.75s/it]"
     ]
    },
    {
     "name": "stdout",
     "output_type": "stream",
     "text": [
      "✅ 回傳： {\n",
      "    \"aspect\": \"音樂風格\",\n",
      "    \"sentiment\": \"正面\"\n",
      "}\n"
     ]
    },
    {
     "name": "stderr",
     "output_type": "stream",
     "text": [
      "\rGPT ABSA 處理中:  41%|████▏     | 414/1000 [21:17<27:34,  2.82s/it]"
     ]
    },
    {
     "name": "stdout",
     "output_type": "stream",
     "text": [
      "✅ 回傳： { \"aspect\": \"音樂風格\", \"sentiment\": \"中立\" }\n"
     ]
    },
    {
     "name": "stderr",
     "output_type": "stream",
     "text": [
      "\rGPT ABSA 處理中:  42%|████▏     | 415/1000 [21:26<46:48,  4.80s/it]"
     ]
    },
    {
     "name": "stdout",
     "output_type": "stream",
     "text": [
      "✅ 回傳： {\n",
      "    \"aspect\": \"音樂風格\",\n",
      "    \"sentiment\": \"正面\"\n",
      "}\n"
     ]
    },
    {
     "name": "stderr",
     "output_type": "stream",
     "text": [
      "\rGPT ABSA 處理中:  42%|████▏     | 416/1000 [21:44<1:23:42,  8.60s/it]"
     ]
    },
    {
     "name": "stdout",
     "output_type": "stream",
     "text": [
      "❌ 錯誤： Error code: 429 - {'error': {'message': 'Rate limit reached for gpt-3.5-turbo in organization org-Bz0CtrQHvfWxTonXiHMcFRvW on requests per day (RPD): Limit 10000, Used 10000, Requested 1. Please try again in 8.64s. Visit https://platform.openai.com/account/rate-limits to learn more.', 'type': 'requests', 'param': None, 'code': 'rate_limit_exceeded'}}\n"
     ]
    },
    {
     "name": "stderr",
     "output_type": "stream",
     "text": [
      "\rGPT ABSA 處理中:  42%|████▏     | 417/1000 [21:45<1:01:12,  6.30s/it]"
     ]
    },
    {
     "name": "stdout",
     "output_type": "stream",
     "text": [
      "✅ 回傳： {\n",
      "  \"aspect\": \"歌詞意境\",\n",
      "  \"sentiment\": \"中立\"\n",
      "}\n"
     ]
    },
    {
     "name": "stderr",
     "output_type": "stream",
     "text": [
      "\rGPT ABSA 處理中:  42%|████▏     | 418/1000 [22:03<1:35:10,  9.81s/it]"
     ]
    },
    {
     "name": "stdout",
     "output_type": "stream",
     "text": [
      "✅ 回傳： {\n",
      "    \"aspect\": \"音樂風格\",\n",
      "    \"sentiment\": \"正面\"\n",
      "}\n"
     ]
    },
    {
     "name": "stderr",
     "output_type": "stream",
     "text": [
      "\rGPT ABSA 處理中:  42%|████▏     | 419/1000 [22:21<1:59:21, 12.33s/it]"
     ]
    },
    {
     "name": "stdout",
     "output_type": "stream",
     "text": [
      "✅ 回傳： {\n",
      "    \"aspect\": \"音樂風格\",\n",
      "    \"sentiment\": \"正面\"\n",
      "}\n"
     ]
    },
    {
     "name": "stderr",
     "output_type": "stream",
     "text": [
      "\rGPT ABSA 處理中:  42%|████▏     | 420/1000 [22:22<1:25:35,  8.85s/it]"
     ]
    },
    {
     "name": "stdout",
     "output_type": "stream",
     "text": [
      "✅ 回傳： {\n",
      "  \"aspect\": \"青春回憶\",\n",
      "  \"sentiment\": \"正面\"\n",
      "}\n"
     ]
    },
    {
     "name": "stderr",
     "output_type": "stream",
     "text": [
      "\rGPT ABSA 處理中:  42%|████▏     | 421/1000 [22:31<1:26:36,  8.98s/it]"
     ]
    },
    {
     "name": "stdout",
     "output_type": "stream",
     "text": [
      "✅ 回傳： { \"aspect\": \"情感共鳴\", \"sentiment\": \"正面\" }\n"
     ]
    },
    {
     "name": "stderr",
     "output_type": "stream",
     "text": [
      "\rGPT ABSA 處理中:  42%|████▏     | 422/1000 [22:40<1:27:23,  9.07s/it]"
     ]
    },
    {
     "name": "stdout",
     "output_type": "stream",
     "text": [
      "✅ 回傳： { \"aspect\": \"音樂風格\", \"sentiment\": \"中立\" }\n"
     ]
    },
    {
     "name": "stderr",
     "output_type": "stream",
     "text": [
      "\rGPT ABSA 處理中:  42%|████▏     | 423/1000 [22:58<1:53:09, 11.77s/it]"
     ]
    },
    {
     "name": "stdout",
     "output_type": "stream",
     "text": [
      "✅ 回傳： {\n",
      "    \"aspect\": \"音樂風格\",\n",
      "    \"sentiment\": \"中立\"\n",
      "}\n"
     ]
    },
    {
     "name": "stderr",
     "output_type": "stream",
     "text": [
      "\rGPT ABSA 處理中:  42%|████▏     | 424/1000 [22:59<1:20:46,  8.41s/it]"
     ]
    },
    {
     "name": "stdout",
     "output_type": "stream",
     "text": [
      "✅ 回傳： {\n",
      "    \"aspect\": \"青春回憶\",\n",
      "    \"sentiment\": \"正面\"\n",
      "}\n"
     ]
    },
    {
     "name": "stderr",
     "output_type": "stream",
     "text": [
      "\rGPT ABSA 處理中:  42%|████▎     | 425/1000 [23:00<58:00,  6.05s/it]  "
     ]
    },
    {
     "name": "stdout",
     "output_type": "stream",
     "text": [
      "✅ 回傳： {\n",
      "  \"aspect\": \"音樂風格\",\n",
      "  \"sentiment\": \"正面\"\n",
      "}\n"
     ]
    },
    {
     "name": "stderr",
     "output_type": "stream",
     "text": [
      "\rGPT ABSA 處理中:  43%|████▎     | 426/1000 [23:09<1:07:10,  7.02s/it]"
     ]
    },
    {
     "name": "stdout",
     "output_type": "stream",
     "text": [
      "✅ 回傳： {\n",
      "    \"aspect\": \"青春回憶\",\n",
      "    \"sentiment\": \"正面\"\n",
      "}\n"
     ]
    },
    {
     "name": "stderr",
     "output_type": "stream",
     "text": [
      "\rGPT ABSA 處理中:  43%|████▎     | 427/1000 [23:09<48:31,  5.08s/it]  "
     ]
    },
    {
     "name": "stdout",
     "output_type": "stream",
     "text": [
      "✅ 回傳： {\n",
      "    \"aspect\": \"對比分析\",\n",
      "    \"sentiment\": \"負面\"\n",
      "}\n"
     ]
    },
    {
     "name": "stderr",
     "output_type": "stream",
     "text": [
      "\rGPT ABSA 處理中:  43%|████▎     | 428/1000 [23:27<1:25:34,  8.98s/it]"
     ]
    },
    {
     "name": "stdout",
     "output_type": "stream",
     "text": [
      "✅ 回傳： { \"aspect\": \"青春回憶\", \"sentiment\": \"中立\" }\n"
     ]
    },
    {
     "name": "stderr",
     "output_type": "stream",
     "text": [
      "\rGPT ABSA 處理中:  43%|████▎     | 429/1000 [23:29<1:03:04,  6.63s/it]"
     ]
    },
    {
     "name": "stdout",
     "output_type": "stream",
     "text": [
      "✅ 回傳： {\n",
      "    \"aspect\": \"青春回憶\",\n",
      "    \"sentiment\": \"中立\"\n",
      "}\n"
     ]
    },
    {
     "name": "stderr",
     "output_type": "stream",
     "text": [
      "\rGPT ABSA 處理中:  43%|████▎     | 430/1000 [23:47<1:35:30, 10.05s/it]"
     ]
    },
    {
     "name": "stdout",
     "output_type": "stream",
     "text": [
      "✅ 回傳： { \"aspect\": \"青春回憶\", \"sentiment\": \"中立\" }\n"
     ]
    },
    {
     "name": "stderr",
     "output_type": "stream",
     "text": [
      "\rGPT ABSA 處理中:  43%|████▎     | 431/1000 [23:56<1:33:39,  9.88s/it]"
     ]
    },
    {
     "name": "stdout",
     "output_type": "stream",
     "text": [
      "✅ 回傳： {\n",
      "    \"aspect\": \"青春回憶\",\n",
      "    \"sentiment\": \"正面\"\n",
      "}\n"
     ]
    },
    {
     "name": "stderr",
     "output_type": "stream",
     "text": [
      "\rGPT ABSA 處理中:  43%|████▎     | 432/1000 [24:05<1:31:35,  9.67s/it]"
     ]
    },
    {
     "name": "stdout",
     "output_type": "stream",
     "text": [
      "✅ 回傳： {\n",
      "    \"aspect\": \"青春回憶\",\n",
      "    \"sentiment\": \"正面\"\n",
      "}\n"
     ]
    },
    {
     "name": "stderr",
     "output_type": "stream",
     "text": [
      "\rGPT ABSA 處理中:  43%|████▎     | 433/1000 [24:23<1:54:56, 12.16s/it]"
     ]
    },
    {
     "name": "stdout",
     "output_type": "stream",
     "text": [
      "✅ 回傳： {\n",
      "    \"aspect\": \"情感共鳴\",\n",
      "    \"sentiment\": \"正面\"\n",
      "}\n"
     ]
    },
    {
     "name": "stderr",
     "output_type": "stream",
     "text": [
      "\rGPT ABSA 處理中:  43%|████▎     | 434/1000 [24:24<1:21:53,  8.68s/it]"
     ]
    },
    {
     "name": "stdout",
     "output_type": "stream",
     "text": [
      "✅ 回傳： {\n",
      "    \"aspect\": \"對比分析\",\n",
      "    \"sentiment\": \"正面\"\n",
      "}\n"
     ]
    },
    {
     "name": "stderr",
     "output_type": "stream",
     "text": [
      "\rGPT ABSA 處理中:  44%|████▎     | 435/1000 [24:42<1:48:04, 11.48s/it]"
     ]
    },
    {
     "name": "stdout",
     "output_type": "stream",
     "text": [
      "✅ 回傳： {\n",
      "  \"aspect\": \"青春回憶\",\n",
      "  \"sentiment\": \"正面\"\n",
      "}\n"
     ]
    },
    {
     "name": "stderr",
     "output_type": "stream",
     "text": [
      "\rGPT ABSA 處理中:  44%|████▎     | 436/1000 [24:43<1:17:36,  8.26s/it]"
     ]
    },
    {
     "name": "stdout",
     "output_type": "stream",
     "text": [
      "✅ 回傳： {\n",
      "    \"aspect\": \"情感共鳴\",\n",
      "    \"sentiment\": \"正面\"\n",
      "}\n"
     ]
    },
    {
     "name": "stderr",
     "output_type": "stream",
     "text": [
      "\rGPT ABSA 處理中:  44%|████▎     | 437/1000 [24:43<55:56,  5.96s/it]  "
     ]
    },
    {
     "name": "stdout",
     "output_type": "stream",
     "text": [
      "✅ 回傳： {\n",
      "    \"aspect\": \"青春回憶\",\n",
      "    \"sentiment\": \"正面\"\n",
      "}\n"
     ]
    },
    {
     "name": "stderr",
     "output_type": "stream",
     "text": [
      "\rGPT ABSA 處理中:  44%|████▍     | 438/1000 [24:53<1:05:27,  6.99s/it]"
     ]
    },
    {
     "name": "stdout",
     "output_type": "stream",
     "text": [
      "✅ 回傳： {\n",
      "    \"aspect\": \"對比分析\",\n",
      "    \"sentiment\": \"中立\"\n",
      "}\n"
     ]
    },
    {
     "name": "stderr",
     "output_type": "stream",
     "text": [
      "\rGPT ABSA 處理中:  44%|████▍     | 439/1000 [24:53<47:35,  5.09s/it]  "
     ]
    },
    {
     "name": "stdout",
     "output_type": "stream",
     "text": [
      "✅ 回傳： {\n",
      "    \"aspect\": \"情感共鳴\",\n",
      "    \"sentiment\": \"負面\"\n",
      "}\n"
     ]
    },
    {
     "name": "stderr",
     "output_type": "stream",
     "text": [
      "\rGPT ABSA 處理中:  44%|████▍     | 440/1000 [25:11<1:23:26,  8.94s/it]"
     ]
    },
    {
     "name": "stdout",
     "output_type": "stream",
     "text": [
      "✅ 回傳： {\n",
      "    \"aspect\": \"情感共鳴\",\n",
      "    \"sentiment\": \"負面\"\n",
      "}\n"
     ]
    },
    {
     "name": "stderr",
     "output_type": "stream",
     "text": [
      "\rGPT ABSA 處理中:  44%|████▍     | 441/1000 [25:12<59:47,  6.42s/it]  "
     ]
    },
    {
     "name": "stdout",
     "output_type": "stream",
     "text": [
      "✅ 回傳： {\n",
      "  \"aspect\": \"青春回憶\",\n",
      "  \"sentiment\": \"正面\"\n",
      "}\n"
     ]
    },
    {
     "name": "stderr",
     "output_type": "stream",
     "text": [
      "\rGPT ABSA 處理中:  44%|████▍     | 442/1000 [25:30<1:33:26, 10.05s/it]"
     ]
    },
    {
     "name": "stdout",
     "output_type": "stream",
     "text": [
      "✅ 回傳： {\n",
      "    \"aspect\": \"青春回憶\",\n",
      "    \"sentiment\": \"正面\"\n",
      "}\n"
     ]
    },
    {
     "name": "stderr",
     "output_type": "stream",
     "text": [
      "\rGPT ABSA 處理中:  44%|████▍     | 443/1000 [25:31<1:08:13,  7.35s/it]"
     ]
    },
    {
     "name": "stdout",
     "output_type": "stream",
     "text": [
      "✅ 回傳： {\n",
      "    \"aspect\": \"音樂風格\",\n",
      "    \"sentiment\": \"正面\"\n",
      "}\n"
     ]
    },
    {
     "name": "stderr",
     "output_type": "stream",
     "text": [
      "\rGPT ABSA 處理中:  44%|████▍     | 444/1000 [25:41<1:13:45,  7.96s/it]"
     ]
    },
    {
     "name": "stdout",
     "output_type": "stream",
     "text": [
      "✅ 回傳： {\n",
      "    \"aspect\": \"青春回憶\",\n",
      "    \"sentiment\": \"正面\"\n",
      "}\n"
     ]
    },
    {
     "name": "stderr",
     "output_type": "stream",
     "text": [
      "\rGPT ABSA 處理中:  44%|████▍     | 445/1000 [25:59<1:41:49, 11.01s/it]"
     ]
    },
    {
     "name": "stdout",
     "output_type": "stream",
     "text": [
      "✅ 回傳： {\n",
      "    \"aspect\": \"音樂風格\",\n",
      "    \"sentiment\": \"正面\"\n",
      "}\n"
     ]
    },
    {
     "name": "stderr",
     "output_type": "stream",
     "text": [
      "\rGPT ABSA 處理中:  45%|████▍     | 446/1000 [26:00<1:13:11,  7.93s/it]"
     ]
    },
    {
     "name": "stdout",
     "output_type": "stream",
     "text": [
      "✅ 回傳： {\n",
      "    \"aspect\": \"音樂風格\",\n",
      "    \"sentiment\": \"正面\"\n",
      "}\n"
     ]
    },
    {
     "name": "stderr",
     "output_type": "stream",
     "text": [
      "\rGPT ABSA 處理中:  45%|████▍     | 447/1000 [26:00<52:32,  5.70s/it]  "
     ]
    },
    {
     "name": "stdout",
     "output_type": "stream",
     "text": [
      "✅ 回傳： {\n",
      "    \"aspect\": \"情感共鳴\",\n",
      "    \"sentiment\": \"正面\"\n",
      "}\n"
     ]
    },
    {
     "name": "stderr",
     "output_type": "stream",
     "text": [
      "\rGPT ABSA 處理中:  45%|████▍     | 448/1000 [26:09<1:02:45,  6.82s/it]"
     ]
    },
    {
     "name": "stdout",
     "output_type": "stream",
     "text": [
      "✅ 回傳： { \"aspect\": \"青春回憶\", \"sentiment\": \"正面\" }\n"
     ]
    },
    {
     "name": "stderr",
     "output_type": "stream",
     "text": [
      "\rGPT ABSA 處理中:  45%|████▍     | 449/1000 [26:19<1:09:36,  7.58s/it]"
     ]
    },
    {
     "name": "stdout",
     "output_type": "stream",
     "text": [
      "✅ 回傳： { \"aspect\": \"情感共鳴\", \"sentiment\": \"正面\" }\n"
     ]
    },
    {
     "name": "stderr",
     "output_type": "stream",
     "text": [
      "\rGPT ABSA 處理中:  45%|████▌     | 450/1000 [26:19<50:09,  5.47s/it]  "
     ]
    },
    {
     "name": "stdout",
     "output_type": "stream",
     "text": [
      "✅ 回傳： {\n",
      "  \"aspect\": \"青春回憶\",\n",
      "  \"sentiment\": \"中立\"\n",
      "}\n"
     ]
    },
    {
     "name": "stderr",
     "output_type": "stream",
     "text": [
      "\rGPT ABSA 處理中:  45%|████▌     | 451/1000 [26:37<1:24:39,  9.25s/it]"
     ]
    },
    {
     "name": "stdout",
     "output_type": "stream",
     "text": [
      "✅ 回傳： {\n",
      "    \"aspect\": \"青春回憶\",\n",
      "    \"sentiment\": \"正面\"\n",
      "}\n"
     ]
    },
    {
     "name": "stderr",
     "output_type": "stream",
     "text": [
      "\rGPT ABSA 處理中:  45%|████▌     | 452/1000 [26:47<1:24:51,  9.29s/it]"
     ]
    },
    {
     "name": "stdout",
     "output_type": "stream",
     "text": [
      "✅ 回傳： {\n",
      "    \"aspect\": \"情感共鳴\",\n",
      "    \"sentiment\": \"中立\"\n",
      "}\n"
     ]
    },
    {
     "name": "stderr",
     "output_type": "stream",
     "text": [
      "\rGPT ABSA 處理中:  45%|████▌     | 453/1000 [27:04<1:47:11, 11.76s/it]"
     ]
    },
    {
     "name": "stdout",
     "output_type": "stream",
     "text": [
      "❌ 錯誤： Error code: 429 - {'error': {'message': 'Rate limit reached for gpt-3.5-turbo in organization org-Bz0CtrQHvfWxTonXiHMcFRvW on requests per day (RPD): Limit 10000, Used 10000, Requested 1. Please try again in 8.64s. Visit https://platform.openai.com/account/rate-limits to learn more.', 'type': 'requests', 'param': None, 'code': 'rate_limit_exceeded'}}\n"
     ]
    },
    {
     "name": "stderr",
     "output_type": "stream",
     "text": [
      "\rGPT ABSA 處理中:  45%|████▌     | 454/1000 [27:05<1:16:52,  8.45s/it]"
     ]
    },
    {
     "name": "stdout",
     "output_type": "stream",
     "text": [
      "✅ 回傳： {\n",
      "  \"aspect\": \"音樂風格\",\n",
      "  \"sentiment\": \"正面\"\n",
      "}\n"
     ]
    },
    {
     "name": "stderr",
     "output_type": "stream",
     "text": [
      "\rGPT ABSA 處理中:  46%|████▌     | 455/1000 [27:07<58:41,  6.46s/it]  "
     ]
    },
    {
     "name": "stdout",
     "output_type": "stream",
     "text": [
      "✅ 回傳： { \"aspect\": \"情感共鳴\", \"sentiment\": \"正面\" }\n"
     ]
    },
    {
     "name": "stderr",
     "output_type": "stream",
     "text": [
      "\rGPT ABSA 處理中:  46%|████▌     | 456/1000 [27:08<42:51,  4.73s/it]"
     ]
    },
    {
     "name": "stdout",
     "output_type": "stream",
     "text": [
      "✅ 回傳： {\n",
      "    \"aspect\": \"音樂風格\",\n",
      "    \"sentiment\": \"正面\"\n",
      "}\n"
     ]
    },
    {
     "name": "stderr",
     "output_type": "stream",
     "text": [
      "\rGPT ABSA 處理中:  46%|████▌     | 457/1000 [27:25<1:17:25,  8.56s/it]"
     ]
    },
    {
     "name": "stdout",
     "output_type": "stream",
     "text": [
      "❌ 錯誤： Error code: 429 - {'error': {'message': 'Rate limit reached for gpt-3.5-turbo in organization org-Bz0CtrQHvfWxTonXiHMcFRvW on requests per day (RPD): Limit 10000, Used 10000, Requested 1. Please try again in 8.64s. Visit https://platform.openai.com/account/rate-limits to learn more.', 'type': 'requests', 'param': None, 'code': 'rate_limit_exceeded'}}\n"
     ]
    },
    {
     "name": "stderr",
     "output_type": "stream",
     "text": [
      "\rGPT ABSA 處理中:  46%|████▌     | 458/1000 [27:34<1:19:30,  8.80s/it]"
     ]
    },
    {
     "name": "stdout",
     "output_type": "stream",
     "text": [
      "✅ 回傳： {\n",
      "    \"aspect\": \"音樂風格\",\n",
      "    \"sentiment\": \"負面\"\n",
      "}\n"
     ]
    },
    {
     "name": "stderr",
     "output_type": "stream",
     "text": [
      "\rGPT ABSA 處理中:  46%|████▌     | 459/1000 [27:35<57:02,  6.33s/it]  "
     ]
    },
    {
     "name": "stdout",
     "output_type": "stream",
     "text": [
      "✅ 回傳： { \"aspect\": \"音樂風格\", \"sentiment\": \"負面\" }\n"
     ]
    },
    {
     "name": "stderr",
     "output_type": "stream",
     "text": [
      "\rGPT ABSA 處理中:  46%|████▌     | 460/1000 [27:46<1:10:34,  7.84s/it]"
     ]
    },
    {
     "name": "stdout",
     "output_type": "stream",
     "text": [
      "✅ 回傳： {\n",
      "    \"aspect\": \"青春回憶\",\n",
      "    \"sentiment\": \"正面\"\n",
      "}\n"
     ]
    },
    {
     "name": "stderr",
     "output_type": "stream",
     "text": [
      "\rGPT ABSA 處理中:  46%|████▌     | 461/1000 [27:56<1:14:19,  8.27s/it]"
     ]
    },
    {
     "name": "stdout",
     "output_type": "stream",
     "text": [
      "✅ 回傳： {\n",
      "    \"aspect\": \"青春回憶\",\n",
      "    \"sentiment\": \"正面\"\n",
      "}\n"
     ]
    },
    {
     "name": "stderr",
     "output_type": "stream",
     "text": [
      "\rGPT ABSA 處理中:  46%|████▌     | 462/1000 [27:56<53:20,  5.95s/it]  "
     ]
    },
    {
     "name": "stdout",
     "output_type": "stream",
     "text": [
      "✅ 回傳： {\n",
      "    \"aspect\": \"音樂風格\",\n",
      "    \"sentiment\": \"正面\"\n",
      "}\n"
     ]
    },
    {
     "name": "stderr",
     "output_type": "stream",
     "text": [
      "\rGPT ABSA 處理中:  46%|████▋     | 463/1000 [28:05<1:02:03,  6.93s/it]"
     ]
    },
    {
     "name": "stdout",
     "output_type": "stream",
     "text": [
      "✅ 回傳： { \"aspect\": \"音樂風格\", \"sentiment\": \"中立\" }\n"
     ]
    },
    {
     "name": "stderr",
     "output_type": "stream",
     "text": [
      "\rGPT ABSA 處理中:  46%|████▋     | 464/1000 [28:23<1:31:40, 10.26s/it]"
     ]
    },
    {
     "name": "stdout",
     "output_type": "stream",
     "text": [
      "✅ 回傳： {\n",
      "  \"aspect\": \"音樂風格\",\n",
      "  \"sentiment\": \"正面\"\n",
      "}\n"
     ]
    },
    {
     "name": "stderr",
     "output_type": "stream",
     "text": [
      "\rGPT ABSA 處理中:  46%|████▋     | 465/1000 [28:41<1:52:13, 12.59s/it]"
     ]
    },
    {
     "name": "stdout",
     "output_type": "stream",
     "text": [
      "✅ 回傳： {\n",
      "    \"aspect\": \"青春回憶\",\n",
      "    \"sentiment\": \"中立\"\n",
      "}\n"
     ]
    },
    {
     "name": "stderr",
     "output_type": "stream",
     "text": [
      "\rGPT ABSA 處理中:  47%|████▋     | 466/1000 [28:51<1:42:58, 11.57s/it]"
     ]
    },
    {
     "name": "stdout",
     "output_type": "stream",
     "text": [
      "✅ 回傳： {\n",
      "    \"aspect\": \"音樂風格\",\n",
      "    \"sentiment\": \"正面\"\n",
      "}\n"
     ]
    },
    {
     "name": "stderr",
     "output_type": "stream",
     "text": [
      "\rGPT ABSA 處理中:  47%|████▋     | 467/1000 [29:00<1:36:50, 10.90s/it]"
     ]
    },
    {
     "name": "stdout",
     "output_type": "stream",
     "text": [
      "✅ 回傳： {\n",
      "    \"aspect\": \"音樂風格\",\n",
      "    \"sentiment\": \"正面\"\n",
      "}\n"
     ]
    },
    {
     "name": "stderr",
     "output_type": "stream",
     "text": [
      "\rGPT ABSA 處理中:  47%|████▋     | 468/1000 [29:00<1:08:50,  7.76s/it]"
     ]
    },
    {
     "name": "stdout",
     "output_type": "stream",
     "text": [
      "✅ 回傳： {\n",
      "  \"aspect\": \"音樂風格\",\n",
      "  \"sentiment\": \"正面\"\n",
      "}\n"
     ]
    },
    {
     "name": "stderr",
     "output_type": "stream",
     "text": [
      "\rGPT ABSA 處理中:  47%|████▋     | 469/1000 [29:01<50:01,  5.65s/it]  "
     ]
    },
    {
     "name": "stdout",
     "output_type": "stream",
     "text": [
      "✅ 回傳： {\n",
      "    \"aspect\": \"對比分析\",\n",
      "    \"sentiment\": \"正面\"\n",
      "}\n"
     ]
    },
    {
     "name": "stderr",
     "output_type": "stream",
     "text": [
      "\rGPT ABSA 處理中:  47%|████▋     | 470/1000 [29:19<1:21:17,  9.20s/it]"
     ]
    },
    {
     "name": "stdout",
     "output_type": "stream",
     "text": [
      "❌ 錯誤： Error code: 429 - {'error': {'message': 'Rate limit reached for gpt-3.5-turbo in organization org-Bz0CtrQHvfWxTonXiHMcFRvW on requests per day (RPD): Limit 10000, Used 10000, Requested 1. Please try again in 8.64s. Visit https://platform.openai.com/account/rate-limits to learn more.', 'type': 'requests', 'param': None, 'code': 'rate_limit_exceeded'}}\n"
     ]
    },
    {
     "name": "stderr",
     "output_type": "stream",
     "text": [
      "\rGPT ABSA 處理中:  47%|████▋     | 471/1000 [29:19<58:16,  6.61s/it]  "
     ]
    },
    {
     "name": "stdout",
     "output_type": "stream",
     "text": [
      "✅ 回傳： {\n",
      "    \"aspect\": \"歌詞意境\",\n",
      "    \"sentiment\": \"負面\"\n",
      "}\n"
     ]
    },
    {
     "name": "stderr",
     "output_type": "stream",
     "text": [
      "\rGPT ABSA 處理中:  47%|████▋     | 472/1000 [29:20<42:24,  4.82s/it]"
     ]
    },
    {
     "name": "stdout",
     "output_type": "stream",
     "text": [
      "✅ 回傳： { \"aspect\": \"音樂風格\", \"sentiment\": \"正面\" }\n"
     ]
    },
    {
     "name": "stderr",
     "output_type": "stream",
     "text": [
      "\rGPT ABSA 處理中:  47%|████▋     | 473/1000 [29:29<53:59,  6.15s/it]"
     ]
    },
    {
     "name": "stdout",
     "output_type": "stream",
     "text": [
      "✅ 回傳： {\n",
      "    \"aspect\": \"青春回憶\",\n",
      "    \"sentiment\": \"正面\"\n",
      "}\n"
     ]
    },
    {
     "name": "stderr",
     "output_type": "stream",
     "text": [
      "\rGPT ABSA 處理中:  47%|████▋     | 474/1000 [29:39<1:02:44,  7.16s/it]"
     ]
    },
    {
     "name": "stdout",
     "output_type": "stream",
     "text": [
      "✅ 回傳： {\n",
      "    \"aspect\": \"音樂風格\",\n",
      "    \"sentiment\": \"正面\"\n",
      "}\n"
     ]
    },
    {
     "name": "stderr",
     "output_type": "stream",
     "text": [
      "\rGPT ABSA 處理中:  48%|████▊     | 475/1000 [29:48<1:08:18,  7.81s/it]"
     ]
    },
    {
     "name": "stdout",
     "output_type": "stream",
     "text": [
      "✅ 回傳： { \"aspect\": \"青春回憶\", \"sentiment\": \"正面\" }\n"
     ]
    },
    {
     "name": "stderr",
     "output_type": "stream",
     "text": [
      "\rGPT ABSA 處理中:  48%|████▊     | 476/1000 [29:57<1:12:44,  8.33s/it]"
     ]
    },
    {
     "name": "stdout",
     "output_type": "stream",
     "text": [
      "✅ 回傳： {\n",
      "    \"aspect\": \"青春回憶\",\n",
      "    \"sentiment\": \"正面\"\n",
      "}\n"
     ]
    },
    {
     "name": "stderr",
     "output_type": "stream",
     "text": [
      "\rGPT ABSA 處理中:  48%|████▊     | 477/1000 [29:58<52:20,  6.00s/it]  "
     ]
    },
    {
     "name": "stdout",
     "output_type": "stream",
     "text": [
      "✅ 回傳： { \"aspect\": \"歌詞意境\", \"sentiment\": \"中立\" }\n"
     ]
    },
    {
     "name": "stderr",
     "output_type": "stream",
     "text": [
      "\rGPT ABSA 處理中:  48%|████▊     | 478/1000 [30:07<1:00:57,  7.01s/it]"
     ]
    },
    {
     "name": "stdout",
     "output_type": "stream",
     "text": [
      "✅ 回傳： {\n",
      "  \"aspect\": \"音樂風格\",\n",
      "  \"sentiment\": \"正面\"\n",
      "}\n"
     ]
    },
    {
     "name": "stderr",
     "output_type": "stream",
     "text": [
      "\rGPT ABSA 處理中:  48%|████▊     | 479/1000 [30:25<1:29:12, 10.27s/it]"
     ]
    },
    {
     "name": "stdout",
     "output_type": "stream",
     "text": [
      "✅ 回傳： { \"aspect\": \"情感共鳴\", \"sentiment\": \"中立\" }\n"
     ]
    },
    {
     "name": "stderr",
     "output_type": "stream",
     "text": [
      "\rGPT ABSA 處理中:  48%|████▊     | 480/1000 [30:35<1:26:21,  9.96s/it]"
     ]
    },
    {
     "name": "stdout",
     "output_type": "stream",
     "text": [
      "✅ 回傳： {\n",
      "    \"aspect\": \"青春回憶\",\n",
      "    \"sentiment\": \"正面\"\n",
      "}\n"
     ]
    },
    {
     "name": "stderr",
     "output_type": "stream",
     "text": [
      "\rGPT ABSA 處理中:  48%|████▊     | 481/1000 [30:44<1:24:15,  9.74s/it]"
     ]
    },
    {
     "name": "stdout",
     "output_type": "stream",
     "text": [
      "✅ 回傳： {\n",
      "    \"aspect\": \"音樂風格\",\n",
      "    \"sentiment\": \"正面\"\n",
      "}\n"
     ]
    },
    {
     "name": "stderr",
     "output_type": "stream",
     "text": [
      "\rGPT ABSA 處理中:  48%|████▊     | 482/1000 [30:44<1:00:18,  6.98s/it]"
     ]
    },
    {
     "name": "stdout",
     "output_type": "stream",
     "text": [
      "✅ 回傳： {\n",
      "    \"aspect\": \"青春回憶\",\n",
      "    \"sentiment\": \"正面\"\n",
      "}\n"
     ]
    },
    {
     "name": "stderr",
     "output_type": "stream",
     "text": [
      "\rGPT ABSA 處理中:  48%|████▊     | 483/1000 [30:45<44:04,  5.12s/it]  "
     ]
    },
    {
     "name": "stdout",
     "output_type": "stream",
     "text": [
      "✅ 回傳： {\n",
      "    \"aspect\": \"情感共鳴\",\n",
      "    \"sentiment\": \"正面\"\n",
      "}\n"
     ]
    },
    {
     "name": "stderr",
     "output_type": "stream",
     "text": [
      "\rGPT ABSA 處理中:  48%|████▊     | 484/1000 [31:03<1:16:03,  8.84s/it]"
     ]
    },
    {
     "name": "stdout",
     "output_type": "stream",
     "text": [
      "❌ 錯誤： Error code: 429 - {'error': {'message': 'Rate limit reached for gpt-3.5-turbo in organization org-Bz0CtrQHvfWxTonXiHMcFRvW on requests per day (RPD): Limit 10000, Used 10000, Requested 1. Please try again in 8.64s. Visit https://platform.openai.com/account/rate-limits to learn more.', 'type': 'requests', 'param': None, 'code': 'rate_limit_exceeded'}}\n"
     ]
    },
    {
     "name": "stderr",
     "output_type": "stream",
     "text": [
      "\rGPT ABSA 處理中:  48%|████▊     | 485/1000 [31:03<54:31,  6.35s/it]  "
     ]
    },
    {
     "name": "stdout",
     "output_type": "stream",
     "text": [
      "✅ 回傳： {\n",
      "  \"aspect\": \"對比分析\",\n",
      "  \"sentiment\": \"負面\"\n",
      "}\n"
     ]
    },
    {
     "name": "stderr",
     "output_type": "stream",
     "text": [
      "\rGPT ABSA 處理中:  49%|████▊     | 486/1000 [31:12<1:02:11,  7.26s/it]"
     ]
    },
    {
     "name": "stdout",
     "output_type": "stream",
     "text": [
      "✅ 回傳： {\n",
      "    \"aspect\": \"青春回憶\",\n",
      "    \"sentiment\": \"正面\"\n",
      "}\n"
     ]
    },
    {
     "name": "stderr",
     "output_type": "stream",
     "text": [
      "\rGPT ABSA 處理中:  49%|████▊     | 487/1000 [31:31<1:29:52, 10.51s/it]"
     ]
    },
    {
     "name": "stdout",
     "output_type": "stream",
     "text": [
      "✅ 回傳： { \"aspect\": \"青春回憶\", \"sentiment\": \"中立\" }\n"
     ]
    },
    {
     "name": "stderr",
     "output_type": "stream",
     "text": [
      "\rGPT ABSA 處理中:  49%|████▉     | 488/1000 [31:31<1:03:54,  7.49s/it]"
     ]
    },
    {
     "name": "stdout",
     "output_type": "stream",
     "text": [
      "✅ 回傳： {\n",
      "    \"aspect\": \"青春回憶\",\n",
      "    \"sentiment\": \"正面\"\n",
      "}\n"
     ]
    },
    {
     "name": "stderr",
     "output_type": "stream",
     "text": [
      "\rGPT ABSA 處理中:  49%|████▉     | 489/1000 [31:32<46:05,  5.41s/it]  "
     ]
    },
    {
     "name": "stdout",
     "output_type": "stream",
     "text": [
      "✅ 回傳： {\n",
      "    \"aspect\": \"青春回憶\",\n",
      "    \"sentiment\": \"正面\"\n",
      "}\n"
     ]
    },
    {
     "name": "stderr",
     "output_type": "stream",
     "text": [
      "\rGPT ABSA 處理中:  49%|████▉     | 490/1000 [31:50<1:18:11,  9.20s/it]"
     ]
    },
    {
     "name": "stdout",
     "output_type": "stream",
     "text": [
      "✅ 回傳： { \"aspect\": \"青春回憶\", \"sentiment\": \"正面\" }\n"
     ]
    },
    {
     "name": "stderr",
     "output_type": "stream",
     "text": [
      "\rGPT ABSA 處理中:  49%|████▉     | 491/1000 [31:50<56:20,  6.64s/it]  "
     ]
    },
    {
     "name": "stdout",
     "output_type": "stream",
     "text": [
      "✅ 回傳： { \"aspect\": \"情感共鳴\", \"sentiment\": \"負面\" }\n"
     ]
    },
    {
     "name": "stderr",
     "output_type": "stream",
     "text": [
      "\rGPT ABSA 處理中:  49%|████▉     | 492/1000 [31:51<40:37,  4.80s/it]"
     ]
    },
    {
     "name": "stdout",
     "output_type": "stream",
     "text": [
      "✅ 回傳： {\n",
      "    \"aspect\": \"音樂風格\",\n",
      "    \"sentiment\": \"正面\"\n",
      "}\n"
     ]
    },
    {
     "name": "stderr",
     "output_type": "stream",
     "text": [
      "\rGPT ABSA 處理中:  49%|████▉     | 493/1000 [32:00<52:07,  6.17s/it]"
     ]
    },
    {
     "name": "stdout",
     "output_type": "stream",
     "text": [
      "✅ 回傳： {\n",
      "    \"aspect\": \"對比分析\",\n",
      "    \"sentiment\": \"負面\"\n",
      "}\n"
     ]
    },
    {
     "name": "stderr",
     "output_type": "stream",
     "text": [
      "\rGPT ABSA 處理中:  49%|████▉     | 494/1000 [32:10<1:00:31,  7.18s/it]"
     ]
    },
    {
     "name": "stdout",
     "output_type": "stream",
     "text": [
      "✅ 回傳： {\n",
      "  \"aspect\": \"對比分析\",\n",
      "  \"sentiment\": \"正面\"\n",
      "}\n"
     ]
    },
    {
     "name": "stderr",
     "output_type": "stream",
     "text": [
      "\rGPT ABSA 處理中:  50%|████▉     | 495/1000 [32:28<1:27:53, 10.44s/it]"
     ]
    },
    {
     "name": "stdout",
     "output_type": "stream",
     "text": [
      "✅ 回傳： { \"aspect\": \"青春回憶\", \"sentiment\": \"正面\" }\n"
     ]
    },
    {
     "name": "stderr",
     "output_type": "stream",
     "text": [
      "\rGPT ABSA 處理中:  50%|████▉     | 496/1000 [32:28<1:02:48,  7.48s/it]"
     ]
    },
    {
     "name": "stdout",
     "output_type": "stream",
     "text": [
      "✅ 回傳： { \"aspect\": \"音樂風格\", \"sentiment\": \"負面\" }\n"
     ]
    },
    {
     "name": "stderr",
     "output_type": "stream",
     "text": [
      "\rGPT ABSA 處理中:  50%|████▉     | 497/1000 [32:29<45:37,  5.44s/it]  "
     ]
    },
    {
     "name": "stdout",
     "output_type": "stream",
     "text": [
      "✅ 回傳： {\n",
      "  \"aspect\": \"青春回憶\",\n",
      "  \"sentiment\": \"中立\"\n",
      "}\n"
     ]
    },
    {
     "name": "stderr",
     "output_type": "stream",
     "text": [
      "\rGPT ABSA 處理中:  50%|████▉     | 498/1000 [32:38<55:20,  6.61s/it]"
     ]
    },
    {
     "name": "stdout",
     "output_type": "stream",
     "text": [
      "✅ 回傳： { \"aspect\": \"音樂風格\", \"sentiment\": \"正面\" }\n"
     ]
    },
    {
     "name": "stderr",
     "output_type": "stream",
     "text": [
      "\rGPT ABSA 處理中:  50%|████▉     | 499/1000 [32:56<1:23:37, 10.02s/it]"
     ]
    },
    {
     "name": "stdout",
     "output_type": "stream",
     "text": [
      "✅ 回傳： {\n",
      "    \"aspect\": \"音樂風格\",\n",
      "    \"sentiment\": \"正面\"\n",
      "}\n"
     ]
    },
    {
     "name": "stderr",
     "output_type": "stream",
     "text": [
      "\rGPT ABSA 處理中:  50%|█████     | 500/1000 [33:06<1:21:48,  9.82s/it]"
     ]
    },
    {
     "name": "stdout",
     "output_type": "stream",
     "text": [
      "✅ 回傳： { \"aspect\": \"音樂風格\", \"sentiment\": \"正面\" }\n",
      "✅ 存檔 checkpoint at row 500\n"
     ]
    },
    {
     "name": "stderr",
     "output_type": "stream",
     "text": [
      "\rGPT ABSA 處理中:  50%|█████     | 501/1000 [33:24<1:42:09, 12.28s/it]"
     ]
    },
    {
     "name": "stdout",
     "output_type": "stream",
     "text": [
      "✅ 回傳： { \"aspect\": \"音樂風格\", \"sentiment\": \"正面\" }\n"
     ]
    },
    {
     "name": "stderr",
     "output_type": "stream",
     "text": [
      "\rGPT ABSA 處理中:  50%|█████     | 502/1000 [33:33<1:35:00, 11.45s/it]"
     ]
    },
    {
     "name": "stdout",
     "output_type": "stream",
     "text": [
      "✅ 回傳： {\n",
      "  \"aspect\": \"青春回憶\",\n",
      "  \"sentiment\": \"正面\"\n",
      "}\n"
     ]
    },
    {
     "name": "stderr",
     "output_type": "stream",
     "text": [
      "\rGPT ABSA 處理中:  50%|█████     | 503/1000 [33:43<1:29:32, 10.81s/it]"
     ]
    },
    {
     "name": "stdout",
     "output_type": "stream",
     "text": [
      "✅ 回傳： {\n",
      "    \"aspect\": \"歌詞意境\",\n",
      "    \"sentiment\": \"正面\"\n",
      "}\n"
     ]
    },
    {
     "name": "stderr",
     "output_type": "stream",
     "text": [
      "\rGPT ABSA 處理中:  50%|█████     | 504/1000 [33:44<1:06:35,  8.06s/it]"
     ]
    },
    {
     "name": "stdout",
     "output_type": "stream",
     "text": [
      "✅ 回傳： { \"aspect\": \"青春回憶\", \"sentiment\": \"中立\" }\n"
     ]
    },
    {
     "name": "stderr",
     "output_type": "stream",
     "text": [
      "\rGPT ABSA 處理中:  50%|█████     | 505/1000 [33:45<48:03,  5.83s/it]  "
     ]
    },
    {
     "name": "stdout",
     "output_type": "stream",
     "text": [
      "✅ 回傳： { \"aspect\": \"音樂風格\", \"sentiment\": \"中立\" }\n"
     ]
    },
    {
     "name": "stderr",
     "output_type": "stream",
     "text": [
      "\rGPT ABSA 處理中:  51%|█████     | 506/1000 [33:54<56:33,  6.87s/it]"
     ]
    },
    {
     "name": "stdout",
     "output_type": "stream",
     "text": [
      "✅ 回傳： {\n",
      "    \"aspect\": \"情感共鳴\",\n",
      "    \"sentiment\": \"正面\"\n",
      "}\n"
     ]
    },
    {
     "name": "stderr",
     "output_type": "stream",
     "text": [
      "\rGPT ABSA 處理中:  51%|█████     | 507/1000 [34:12<1:22:39, 10.06s/it]"
     ]
    },
    {
     "name": "stdout",
     "output_type": "stream",
     "text": [
      "❌ 錯誤： Error code: 429 - {'error': {'message': 'Rate limit reached for gpt-3.5-turbo in organization org-Bz0CtrQHvfWxTonXiHMcFRvW on requests per day (RPD): Limit 10000, Used 10000, Requested 1. Please try again in 8.64s. Visit https://platform.openai.com/account/rate-limits to learn more.', 'type': 'requests', 'param': None, 'code': 'rate_limit_exceeded'}}\n"
     ]
    },
    {
     "name": "stderr",
     "output_type": "stream",
     "text": [
      "\rGPT ABSA 處理中:  51%|█████     | 508/1000 [34:12<58:56,  7.19s/it]  "
     ]
    },
    {
     "name": "stdout",
     "output_type": "stream",
     "text": [
      "✅ 回傳： { \"aspect\": \"青春回憶\", \"sentiment\": \"正面\" }\n"
     ]
    },
    {
     "name": "stderr",
     "output_type": "stream",
     "text": [
      "\rGPT ABSA 處理中:  51%|█████     | 509/1000 [34:21<1:04:13,  7.85s/it]"
     ]
    },
    {
     "name": "stdout",
     "output_type": "stream",
     "text": [
      "✅ 回傳： {\n",
      "  \"aspect\": \"音樂風格\",\n",
      "  \"sentiment\": \"正面\"\n",
      "}\n"
     ]
    },
    {
     "name": "stderr",
     "output_type": "stream",
     "text": [
      "\rGPT ABSA 處理中:  51%|█████     | 510/1000 [34:22<46:07,  5.65s/it]  "
     ]
    },
    {
     "name": "stdout",
     "output_type": "stream",
     "text": [
      "✅ 回傳： {\n",
      "    \"aspect\": \"情感共鳴\",\n",
      "    \"sentiment\": \"正面\"\n",
      "}\n"
     ]
    },
    {
     "name": "stderr",
     "output_type": "stream",
     "text": [
      "\rGPT ABSA 處理中:  51%|█████     | 511/1000 [34:31<54:52,  6.73s/it]"
     ]
    },
    {
     "name": "stdout",
     "output_type": "stream",
     "text": [
      "✅ 回傳： {\n",
      "    \"aspect\": \"情感共鳴\",\n",
      "    \"sentiment\": \"正面\"\n",
      "}\n"
     ]
    },
    {
     "name": "stderr",
     "output_type": "stream",
     "text": [
      "\rGPT ABSA 處理中:  51%|█████     | 512/1000 [34:50<1:22:54, 10.19s/it]"
     ]
    },
    {
     "name": "stdout",
     "output_type": "stream",
     "text": [
      "✅ 回傳： { \"aspect\": \"音樂風格\", \"sentiment\": \"正面\" }\n"
     ]
    },
    {
     "name": "stderr",
     "output_type": "stream",
     "text": [
      "\rGPT ABSA 處理中:  51%|█████▏    | 513/1000 [34:59<1:20:36,  9.93s/it]"
     ]
    },
    {
     "name": "stdout",
     "output_type": "stream",
     "text": [
      "✅ 回傳： {\n",
      "    \"aspect\": \"情感共鳴\",\n",
      "    \"sentiment\": \"正面\"\n",
      "}\n"
     ]
    },
    {
     "name": "stderr",
     "output_type": "stream",
     "text": [
      "\rGPT ABSA 處理中:  51%|█████▏    | 514/1000 [35:17<1:40:26, 12.40s/it]"
     ]
    },
    {
     "name": "stdout",
     "output_type": "stream",
     "text": [
      "✅ 回傳： {\n",
      "    \"aspect\": \"音樂風格\",\n",
      "    \"sentiment\": \"正面\"\n",
      "}\n"
     ]
    },
    {
     "name": "stderr",
     "output_type": "stream",
     "text": [
      "\rGPT ABSA 處理中:  52%|█████▏    | 515/1000 [35:26<1:32:47, 11.48s/it]"
     ]
    },
    {
     "name": "stdout",
     "output_type": "stream",
     "text": [
      "✅ 回傳： { \"aspect\": \"青春回憶\", \"sentiment\": \"正面\" }\n"
     ]
    },
    {
     "name": "stderr",
     "output_type": "stream",
     "text": [
      "\rGPT ABSA 處理中:  52%|█████▏    | 516/1000 [35:36<1:27:04, 10.79s/it]"
     ]
    },
    {
     "name": "stdout",
     "output_type": "stream",
     "text": [
      "✅ 回傳： { \"aspect\": \"音樂風格\", \"sentiment\": \"正面\" }\n"
     ]
    },
    {
     "name": "stderr",
     "output_type": "stream",
     "text": [
      "\rGPT ABSA 處理中:  52%|█████▏    | 517/1000 [35:45<1:23:41, 10.40s/it]"
     ]
    },
    {
     "name": "stdout",
     "output_type": "stream",
     "text": [
      "✅ 回傳： { \"aspect\": \"青春回憶\", \"sentiment\": \"中立\" }\n"
     ]
    },
    {
     "name": "stderr",
     "output_type": "stream",
     "text": [
      "\rGPT ABSA 處理中:  52%|█████▏    | 518/1000 [35:46<59:57,  7.46s/it]  "
     ]
    },
    {
     "name": "stdout",
     "output_type": "stream",
     "text": [
      "✅ 回傳： {\n",
      "    \"aspect\": \"音樂風格\",\n",
      "    \"sentiment\": \"中立\"\n",
      "}\n"
     ]
    },
    {
     "name": "stderr",
     "output_type": "stream",
     "text": [
      "\rGPT ABSA 處理中:  52%|█████▏    | 519/1000 [35:55<1:05:15,  8.14s/it]"
     ]
    },
    {
     "name": "stdout",
     "output_type": "stream",
     "text": [
      "✅ 回傳： {\n",
      "  \"aspect\": \"對比分析\",\n",
      "  \"sentiment\": \"正面\"\n",
      "}\n"
     ]
    },
    {
     "name": "stderr",
     "output_type": "stream",
     "text": [
      "\rGPT ABSA 處理中:  52%|█████▏    | 520/1000 [36:05<1:07:56,  8.49s/it]"
     ]
    },
    {
     "name": "stdout",
     "output_type": "stream",
     "text": [
      "✅ 回傳： {\n",
      "    \"aspect\": \"青春回憶\",\n",
      "    \"sentiment\": \"中立\"\n",
      "}\n"
     ]
    },
    {
     "name": "stderr",
     "output_type": "stream",
     "text": [
      "\rGPT ABSA 處理中:  52%|█████▏    | 521/1000 [36:23<1:30:50, 11.38s/it]"
     ]
    },
    {
     "name": "stdout",
     "output_type": "stream",
     "text": [
      "✅ 回傳： { \"aspect\": \"音樂風格\", \"sentiment\": \"正面\" }\n"
     ]
    },
    {
     "name": "stderr",
     "output_type": "stream",
     "text": [
      "\rGPT ABSA 處理中:  52%|█████▏    | 522/1000 [36:23<1:04:39,  8.12s/it]"
     ]
    },
    {
     "name": "stdout",
     "output_type": "stream",
     "text": [
      "✅ 回傳： {\n",
      "    \"aspect\": \"音樂風格\",\n",
      "    \"sentiment\": \"正面\"\n",
      "}\n"
     ]
    },
    {
     "name": "stderr",
     "output_type": "stream",
     "text": [
      "\rGPT ABSA 處理中:  52%|█████▏    | 523/1000 [36:33<1:08:18,  8.59s/it]"
     ]
    },
    {
     "name": "stdout",
     "output_type": "stream",
     "text": [
      "✅ 回傳： {\n",
      "    \"aspect\": \"情感共鳴\",\n",
      "    \"sentiment\": \"正面\"\n",
      "}\n"
     ]
    },
    {
     "name": "stderr",
     "output_type": "stream",
     "text": [
      "\rGPT ABSA 處理中:  52%|█████▏    | 524/1000 [36:42<1:09:48,  8.80s/it]"
     ]
    },
    {
     "name": "stdout",
     "output_type": "stream",
     "text": [
      "✅ 回傳： {\n",
      "    \"aspect\": \"歌詞意境\",\n",
      "    \"sentiment\": \"正面\"\n",
      "}\n"
     ]
    },
    {
     "name": "stderr",
     "output_type": "stream",
     "text": [
      "\rGPT ABSA 處理中:  52%|█████▎    | 525/1000 [36:43<50:09,  6.34s/it]  "
     ]
    },
    {
     "name": "stdout",
     "output_type": "stream",
     "text": [
      "✅ 回傳： {\n",
      "  \"aspect\": \"對比分析\",\n",
      "  \"sentiment\": \"正面\"\n",
      "}\n"
     ]
    },
    {
     "name": "stderr",
     "output_type": "stream",
     "text": [
      "\rGPT ABSA 處理中:  53%|█████▎    | 526/1000 [36:52<57:13,  7.24s/it]"
     ]
    },
    {
     "name": "stdout",
     "output_type": "stream",
     "text": [
      "✅ 回傳： {\n",
      "    \"aspect\": \"對比分析\",\n",
      "    \"sentiment\": \"負面\"\n",
      "}\n"
     ]
    },
    {
     "name": "stderr",
     "output_type": "stream",
     "text": [
      "\rGPT ABSA 處理中:  53%|█████▎    | 527/1000 [37:01<1:01:52,  7.85s/it]"
     ]
    },
    {
     "name": "stdout",
     "output_type": "stream",
     "text": [
      "✅ 回傳： {\n",
      "    \"aspect\": \"音樂風格\",\n",
      "    \"sentiment\": \"正面\"\n",
      "}\n"
     ]
    },
    {
     "name": "stderr",
     "output_type": "stream",
     "text": [
      "\rGPT ABSA 處理中:  53%|█████▎    | 528/1000 [37:20<1:26:06, 10.95s/it]"
     ]
    },
    {
     "name": "stdout",
     "output_type": "stream",
     "text": [
      "✅ 回傳： {\n",
      "    \"aspect\": \"對比分析\",\n",
      "    \"sentiment\": \"正面\"\n",
      "}\n"
     ]
    },
    {
     "name": "stderr",
     "output_type": "stream",
     "text": [
      "\rGPT ABSA 處理中:  53%|█████▎    | 529/1000 [37:20<1:01:51,  7.88s/it]"
     ]
    },
    {
     "name": "stdout",
     "output_type": "stream",
     "text": [
      "✅ 回傳： {\n",
      "    \"aspect\": \"音樂風格\",\n",
      "    \"sentiment\": \"正面\"\n",
      "}\n"
     ]
    },
    {
     "name": "stderr",
     "output_type": "stream",
     "text": [
      "\rGPT ABSA 處理中:  53%|█████▎    | 530/1000 [37:38<1:25:27, 10.91s/it]"
     ]
    },
    {
     "name": "stdout",
     "output_type": "stream",
     "text": [
      "✅ 回傳： {\n",
      "  \"aspect\": \"音樂風格\",\n",
      "  \"sentiment\": \"正面\"\n",
      "}\n"
     ]
    },
    {
     "name": "stderr",
     "output_type": "stream",
     "text": [
      "\rGPT ABSA 處理中:  53%|█████▎    | 531/1000 [37:39<1:00:43,  7.77s/it]"
     ]
    },
    {
     "name": "stdout",
     "output_type": "stream",
     "text": [
      "✅ 回傳： {\n",
      "    \"aspect\": \"青春回憶\",\n",
      "    \"sentiment\": \"正面\"\n",
      "}\n"
     ]
    },
    {
     "name": "stderr",
     "output_type": "stream",
     "text": [
      "\rGPT ABSA 處理中:  53%|█████▎    | 532/1000 [37:39<43:31,  5.58s/it]  "
     ]
    },
    {
     "name": "stdout",
     "output_type": "stream",
     "text": [
      "✅ 回傳： { \"aspect\": \"情感共鳴\", \"sentiment\": \"中立\" }\n"
     ]
    },
    {
     "name": "stderr",
     "output_type": "stream",
     "text": [
      "\rGPT ABSA 處理中:  53%|█████▎    | 533/1000 [37:49<52:11,  6.70s/it]"
     ]
    },
    {
     "name": "stdout",
     "output_type": "stream",
     "text": [
      "✅ 回傳： {\n",
      "    \"aspect\": \"青春回憶\",\n",
      "    \"sentiment\": \"正面\"\n",
      "}\n"
     ]
    },
    {
     "name": "stderr",
     "output_type": "stream",
     "text": [
      "\rGPT ABSA 處理中:  53%|█████▎    | 534/1000 [38:07<1:18:24, 10.09s/it]"
     ]
    },
    {
     "name": "stdout",
     "output_type": "stream",
     "text": [
      "✅ 回傳： {\n",
      "  \"aspect\": \"青春回憶\",\n",
      "  \"sentiment\": \"正面\"\n",
      "}\n"
     ]
    },
    {
     "name": "stderr",
     "output_type": "stream",
     "text": [
      "\rGPT ABSA 處理中:  54%|█████▎    | 535/1000 [38:16<1:16:24,  9.86s/it]"
     ]
    },
    {
     "name": "stdout",
     "output_type": "stream",
     "text": [
      "✅ 回傳： {\n",
      "  \"aspect\": \"青春回憶\",\n",
      "  \"sentiment\": \"正面\"\n",
      "}\n"
     ]
    },
    {
     "name": "stderr",
     "output_type": "stream",
     "text": [
      "\rGPT ABSA 處理中:  54%|█████▎    | 536/1000 [38:16<54:38,  7.07s/it]  "
     ]
    },
    {
     "name": "stdout",
     "output_type": "stream",
     "text": [
      "✅ 回傳： {\n",
      "    \"aspect\": \"對比分析\",\n",
      "    \"sentiment\": \"正面\"\n",
      "}\n"
     ]
    },
    {
     "name": "stderr",
     "output_type": "stream",
     "text": [
      "\rGPT ABSA 處理中:  54%|█████▎    | 537/1000 [38:26<59:19,  7.69s/it]"
     ]
    },
    {
     "name": "stdout",
     "output_type": "stream",
     "text": [
      "✅ 回傳： {\n",
      "  \"aspect\": \"音樂風格\",\n",
      "  \"sentiment\": \"正面\"\n",
      "}\n"
     ]
    },
    {
     "name": "stderr",
     "output_type": "stream",
     "text": [
      "\rGPT ABSA 處理中:  54%|█████▍    | 538/1000 [38:43<1:22:45, 10.75s/it]"
     ]
    },
    {
     "name": "stdout",
     "output_type": "stream",
     "text": [
      "✅ 回傳： {\n",
      "  \"aspect\": \"青春回憶\",\n",
      "  \"sentiment\": \"正面\"\n",
      "}\n"
     ]
    },
    {
     "name": "stderr",
     "output_type": "stream",
     "text": [
      "\rGPT ABSA 處理中:  54%|█████▍    | 539/1000 [38:53<1:19:18, 10.32s/it]"
     ]
    },
    {
     "name": "stdout",
     "output_type": "stream",
     "text": [
      "✅ 回傳： {\n",
      "    \"aspect\": \"青春回憶\",\n",
      "    \"sentiment\": \"正面\"\n",
      "}\n"
     ]
    },
    {
     "name": "stderr",
     "output_type": "stream",
     "text": [
      "\rGPT ABSA 處理中:  54%|█████▍    | 540/1000 [38:54<57:47,  7.54s/it]  "
     ]
    },
    {
     "name": "stdout",
     "output_type": "stream",
     "text": [
      "✅ 回傳： {\n",
      "    \"aspect\": \"青春回憶\",\n",
      "    \"sentiment\": \"中立\"\n",
      "}\n"
     ]
    },
    {
     "name": "stderr",
     "output_type": "stream",
     "text": [
      "\rGPT ABSA 處理中:  54%|█████▍    | 541/1000 [39:12<1:21:40, 10.68s/it]"
     ]
    },
    {
     "name": "stdout",
     "output_type": "stream",
     "text": [
      "✅ 回傳： {\n",
      "    \"aspect\": \"青春回憶\",\n",
      "    \"sentiment\": \"正面\"\n",
      "}\n"
     ]
    },
    {
     "name": "stderr",
     "output_type": "stream",
     "text": [
      "\rGPT ABSA 處理中:  54%|█████▍    | 542/1000 [39:12<58:30,  7.66s/it]  "
     ]
    },
    {
     "name": "stdout",
     "output_type": "stream",
     "text": [
      "✅ 回傳： {\n",
      "    \"aspect\": \"音樂風格\",\n",
      "    \"sentiment\": \"正面\"\n",
      "}\n"
     ]
    },
    {
     "name": "stderr",
     "output_type": "stream",
     "text": [
      "\rGPT ABSA 處理中:  54%|█████▍    | 543/1000 [39:13<42:01,  5.52s/it]"
     ]
    },
    {
     "name": "stdout",
     "output_type": "stream",
     "text": [
      "✅ 回傳： {\n",
      "    \"aspect\": \"青春回憶\",\n",
      "    \"sentiment\": \"正面\"\n",
      "}\n"
     ]
    },
    {
     "name": "stderr",
     "output_type": "stream",
     "text": [
      "\rGPT ABSA 處理中:  54%|█████▍    | 544/1000 [39:14<30:33,  4.02s/it]"
     ]
    },
    {
     "name": "stdout",
     "output_type": "stream",
     "text": [
      "✅ 回傳： {\n",
      "    \"aspect\": \"音樂風格\",\n",
      "    \"sentiment\": \"正面\"\n",
      "}\n"
     ]
    },
    {
     "name": "stderr",
     "output_type": "stream",
     "text": [
      "\rGPT ABSA 處理中:  55%|█████▍    | 545/1000 [39:31<1:01:09,  8.07s/it]"
     ]
    },
    {
     "name": "stdout",
     "output_type": "stream",
     "text": [
      "❌ 錯誤： Error code: 429 - {'error': {'message': 'Rate limit reached for gpt-3.5-turbo in organization org-Bz0CtrQHvfWxTonXiHMcFRvW on requests per day (RPD): Limit 10000, Used 10000, Requested 1. Please try again in 8.64s. Visit https://platform.openai.com/account/rate-limits to learn more.', 'type': 'requests', 'param': None, 'code': 'rate_limit_exceeded'}}\n"
     ]
    },
    {
     "name": "stderr",
     "output_type": "stream",
     "text": [
      "\rGPT ABSA 處理中:  55%|█████▍    | 546/1000 [39:49<1:23:28, 11.03s/it]"
     ]
    },
    {
     "name": "stdout",
     "output_type": "stream",
     "text": [
      "✅ 回傳： {\n",
      "    \"aspect\": \"情感共鳴\",\n",
      "    \"sentiment\": \"正面\"\n",
      "}\n"
     ]
    },
    {
     "name": "stderr",
     "output_type": "stream",
     "text": [
      "\rGPT ABSA 處理中:  55%|█████▍    | 547/1000 [39:50<59:42,  7.91s/it]  "
     ]
    },
    {
     "name": "stdout",
     "output_type": "stream",
     "text": [
      "✅ 回傳： { \"aspect\": \"情感共鳴\", \"sentiment\": \"正面\" }\n"
     ]
    },
    {
     "name": "stderr",
     "output_type": "stream",
     "text": [
      "\rGPT ABSA 處理中:  55%|█████▍    | 548/1000 [40:08<1:22:28, 10.95s/it]"
     ]
    },
    {
     "name": "stdout",
     "output_type": "stream",
     "text": [
      "✅ 回傳： { \"aspect\": \"音樂風格\", \"sentiment\": \"正面\" }\n"
     ]
    },
    {
     "name": "stderr",
     "output_type": "stream",
     "text": [
      "\rGPT ABSA 處理中:  55%|█████▍    | 549/1000 [40:08<58:33,  7.79s/it]  "
     ]
    },
    {
     "name": "stdout",
     "output_type": "stream",
     "text": [
      "✅ 回傳： {\n",
      "    \"aspect\": \"音樂風格\",\n",
      "    \"sentiment\": \"正面\"\n",
      "}\n"
     ]
    },
    {
     "name": "stderr",
     "output_type": "stream",
     "text": [
      "\rGPT ABSA 處理中:  55%|█████▌    | 550/1000 [40:17<1:01:31,  8.20s/it]"
     ]
    },
    {
     "name": "stdout",
     "output_type": "stream",
     "text": [
      "✅ 回傳： { \"aspect\": \"青春回憶\", \"sentiment\": \"正面\" }\n"
     ]
    },
    {
     "name": "stderr",
     "output_type": "stream",
     "text": [
      "\rGPT ABSA 處理中:  55%|█████▌    | 551/1000 [40:18<44:17,  5.92s/it]  "
     ]
    },
    {
     "name": "stdout",
     "output_type": "stream",
     "text": [
      "✅ 回傳： {\n",
      "  \"aspect\": \"青春回憶\",\n",
      "  \"sentiment\": \"正面\"\n",
      "}\n"
     ]
    },
    {
     "name": "stderr",
     "output_type": "stream",
     "text": [
      "\rGPT ABSA 處理中:  55%|█████▌    | 552/1000 [40:18<32:18,  4.33s/it]"
     ]
    },
    {
     "name": "stdout",
     "output_type": "stream",
     "text": [
      "✅ 回傳： {\n",
      "  \"aspect\": \"情感共鳴\",\n",
      "  \"sentiment\": \"中立\"\n",
      "}\n"
     ]
    },
    {
     "name": "stderr",
     "output_type": "stream",
     "text": [
      "\rGPT ABSA 處理中:  55%|█████▌    | 553/1000 [40:36<1:02:59,  8.45s/it]"
     ]
    },
    {
     "name": "stdout",
     "output_type": "stream",
     "text": [
      "✅ 回傳： {\n",
      "  \"aspect\": \"青春回憶\",\n",
      "  \"sentiment\": \"正面\"\n",
      "}\n"
     ]
    },
    {
     "name": "stderr",
     "output_type": "stream",
     "text": [
      "\rGPT ABSA 處理中:  55%|█████▌    | 554/1000 [40:54<1:23:46, 11.27s/it]"
     ]
    },
    {
     "name": "stdout",
     "output_type": "stream",
     "text": [
      "✅ 回傳： { \"aspect\": \"青春回憶\", \"sentiment\": \"正面\" }\n"
     ]
    },
    {
     "name": "stderr",
     "output_type": "stream",
     "text": [
      "\rGPT ABSA 處理中:  56%|█████▌    | 555/1000 [40:55<59:36,  8.04s/it]  "
     ]
    },
    {
     "name": "stdout",
     "output_type": "stream",
     "text": [
      "✅ 回傳： { \"aspect\": \"青春回憶\", \"sentiment\": \"正面\" }\n"
     ]
    },
    {
     "name": "stderr",
     "output_type": "stream",
     "text": [
      "\rGPT ABSA 處理中:  56%|█████▌    | 556/1000 [40:56<43:20,  5.86s/it]"
     ]
    },
    {
     "name": "stdout",
     "output_type": "stream",
     "text": [
      "✅ 回傳： {\n",
      "    \"aspect\": \"音樂風格\",\n",
      "    \"sentiment\": \"正面\"\n",
      "}\n"
     ]
    },
    {
     "name": "stderr",
     "output_type": "stream",
     "text": [
      "\rGPT ABSA 處理中:  56%|█████▌    | 557/1000 [40:56<31:25,  4.26s/it]"
     ]
    },
    {
     "name": "stdout",
     "output_type": "stream",
     "text": [
      "✅ 回傳： {\n",
      "    \"aspect\": \"對比分析\",\n",
      "    \"sentiment\": \"正面\"\n",
      "}\n"
     ]
    },
    {
     "name": "stderr",
     "output_type": "stream",
     "text": [
      "\rGPT ABSA 處理中:  56%|█████▌    | 558/1000 [41:14<1:00:36,  8.23s/it]"
     ]
    },
    {
     "name": "stdout",
     "output_type": "stream",
     "text": [
      "❌ 錯誤： Error code: 429 - {'error': {'message': 'Rate limit reached for gpt-3.5-turbo in organization org-Bz0CtrQHvfWxTonXiHMcFRvW on requests per day (RPD): Limit 10000, Used 10000, Requested 1. Please try again in 8.64s. Visit https://platform.openai.com/account/rate-limits to learn more.', 'type': 'requests', 'param': None, 'code': 'rate_limit_exceeded'}}\n"
     ]
    },
    {
     "name": "stderr",
     "output_type": "stream",
     "text": [
      "\rGPT ABSA 處理中:  56%|█████▌    | 559/1000 [41:32<1:22:23, 11.21s/it]"
     ]
    },
    {
     "name": "stdout",
     "output_type": "stream",
     "text": [
      "✅ 回傳： {\n",
      "    \"aspect\": \"音樂風格\",\n",
      "    \"sentiment\": \"正面\"\n",
      "}\n"
     ]
    },
    {
     "name": "stderr",
     "output_type": "stream",
     "text": [
      "\rGPT ABSA 處理中:  56%|█████▌    | 560/1000 [41:32<58:38,  8.00s/it]  "
     ]
    },
    {
     "name": "stdout",
     "output_type": "stream",
     "text": [
      "✅ 回傳： { \"aspect\": \"對比分析\", \"sentiment\": \"負面\" }\n"
     ]
    },
    {
     "name": "stderr",
     "output_type": "stream",
     "text": [
      "\rGPT ABSA 處理中:  56%|█████▌    | 561/1000 [41:50<1:20:45, 11.04s/it]"
     ]
    },
    {
     "name": "stdout",
     "output_type": "stream",
     "text": [
      "✅ 回傳： { \"aspect\": \"青春回憶\", \"sentiment\": \"中立\" }\n"
     ]
    },
    {
     "name": "stderr",
     "output_type": "stream",
     "text": [
      "\rGPT ABSA 處理中:  56%|█████▌    | 562/1000 [41:51<57:31,  7.88s/it]  "
     ]
    },
    {
     "name": "stdout",
     "output_type": "stream",
     "text": [
      "✅ 回傳： {\n",
      "    \"aspect\": \"音樂風格\",\n",
      "    \"sentiment\": \"負面\"\n",
      "}\n"
     ]
    },
    {
     "name": "stderr",
     "output_type": "stream",
     "text": [
      "\rGPT ABSA 處理中:  56%|█████▋    | 563/1000 [42:01<1:01:20,  8.42s/it]"
     ]
    },
    {
     "name": "stdout",
     "output_type": "stream",
     "text": [
      "✅ 回傳： {\n",
      "  \"aspect\": \"情感共鳴\",\n",
      "  \"sentiment\": \"正面\"\n",
      "}\n"
     ]
    },
    {
     "name": "stderr",
     "output_type": "stream",
     "text": [
      "\rGPT ABSA 處理中:  56%|█████▋    | 564/1000 [42:01<43:57,  6.05s/it]  "
     ]
    },
    {
     "name": "stdout",
     "output_type": "stream",
     "text": [
      "✅ 回傳： {\n",
      "    \"aspect\": \"青春回憶\",\n",
      "    \"sentiment\": \"正面\"\n",
      "}\n"
     ]
    },
    {
     "name": "stderr",
     "output_type": "stream",
     "text": [
      "\rGPT ABSA 處理中:  56%|█████▋    | 565/1000 [42:02<31:49,  4.39s/it]"
     ]
    },
    {
     "name": "stdout",
     "output_type": "stream",
     "text": [
      "✅ 回傳： {\n",
      "  \"aspect\": \"音樂風格\",\n",
      "  \"sentiment\": \"正面\"\n",
      "}\n"
     ]
    },
    {
     "name": "stderr",
     "output_type": "stream",
     "text": [
      "\rGPT ABSA 處理中:  57%|█████▋    | 566/1000 [42:02<23:20,  3.23s/it]"
     ]
    },
    {
     "name": "stdout",
     "output_type": "stream",
     "text": [
      "✅ 回傳： {\n",
      "    \"aspect\": \"對比分析\",\n",
      "    \"sentiment\": \"正面\"\n",
      "}\n"
     ]
    },
    {
     "name": "stderr",
     "output_type": "stream",
     "text": [
      "\rGPT ABSA 處理中:  57%|█████▋    | 567/1000 [42:20<54:09,  7.50s/it]"
     ]
    },
    {
     "name": "stdout",
     "output_type": "stream",
     "text": [
      "❌ 錯誤： Error code: 429 - {'error': {'message': 'Rate limit reached for gpt-3.5-turbo in organization org-Bz0CtrQHvfWxTonXiHMcFRvW on requests per day (RPD): Limit 10000, Used 10000, Requested 1. Please try again in 8.64s. Visit https://platform.openai.com/account/rate-limits to learn more.', 'type': 'requests', 'param': None, 'code': 'rate_limit_exceeded'}}\n"
     ]
    },
    {
     "name": "stderr",
     "output_type": "stream",
     "text": [
      "\rGPT ABSA 處理中:  57%|█████▋    | 568/1000 [42:29<57:49,  8.03s/it]"
     ]
    },
    {
     "name": "stdout",
     "output_type": "stream",
     "text": [
      "✅ 回傳： { \"aspect\": \"音樂風格\", \"sentiment\": \"正面\" }\n"
     ]
    },
    {
     "name": "stderr",
     "output_type": "stream",
     "text": [
      "\rGPT ABSA 處理中:  57%|█████▋    | 569/1000 [42:29<41:33,  5.79s/it]"
     ]
    },
    {
     "name": "stdout",
     "output_type": "stream",
     "text": [
      "✅ 回傳： {\n",
      "    \"aspect\": \"情感共鳴\",\n",
      "    \"sentiment\": \"正面\"\n",
      "}\n"
     ]
    },
    {
     "name": "stderr",
     "output_type": "stream",
     "text": [
      "\rGPT ABSA 處理中:  57%|█████▋    | 570/1000 [42:30<30:44,  4.29s/it]"
     ]
    },
    {
     "name": "stdout",
     "output_type": "stream",
     "text": [
      "✅ 回傳： {\n",
      "    \"aspect\": \"青春回憶\",\n",
      "    \"sentiment\": \"正面\"\n",
      "}\n"
     ]
    },
    {
     "name": "stderr",
     "output_type": "stream",
     "text": [
      "\rGPT ABSA 處理中:  57%|█████▋    | 571/1000 [42:48<59:09,  8.27s/it]"
     ]
    },
    {
     "name": "stdout",
     "output_type": "stream",
     "text": [
      "❌ 錯誤： Error code: 429 - {'error': {'message': 'Rate limit reached for gpt-3.5-turbo in organization org-Bz0CtrQHvfWxTonXiHMcFRvW on requests per day (RPD): Limit 10000, Used 10000, Requested 1. Please try again in 8.64s. Visit https://platform.openai.com/account/rate-limits to learn more.', 'type': 'requests', 'param': None, 'code': 'rate_limit_exceeded'}}\n"
     ]
    },
    {
     "name": "stderr",
     "output_type": "stream",
     "text": [
      "\rGPT ABSA 處理中:  57%|█████▋    | 572/1000 [42:48<42:17,  5.93s/it]"
     ]
    },
    {
     "name": "stdout",
     "output_type": "stream",
     "text": [
      "✅ 回傳： { \"aspect\": \"歌詞意境\", \"sentiment\": \"中立\" }\n"
     ]
    },
    {
     "name": "stderr",
     "output_type": "stream",
     "text": [
      "\rGPT ABSA 處理中:  57%|█████▋    | 573/1000 [42:49<30:52,  4.34s/it]"
     ]
    },
    {
     "name": "stdout",
     "output_type": "stream",
     "text": [
      "✅ 回傳： { \"aspect\": \"音樂風格\", \"sentiment\": \"中立\" }\n"
     ]
    },
    {
     "name": "stderr",
     "output_type": "stream",
     "text": [
      "\rGPT ABSA 處理中:  57%|█████▋    | 574/1000 [43:06<58:55,  8.30s/it]"
     ]
    },
    {
     "name": "stdout",
     "output_type": "stream",
     "text": [
      "❌ 錯誤： Error code: 429 - {'error': {'message': 'Rate limit reached for gpt-3.5-turbo in organization org-Bz0CtrQHvfWxTonXiHMcFRvW on requests per day (RPD): Limit 10000, Used 10000, Requested 1. Please try again in 8.64s. Visit https://platform.openai.com/account/rate-limits to learn more.', 'type': 'requests', 'param': None, 'code': 'rate_limit_exceeded'}}\n"
     ]
    },
    {
     "name": "stderr",
     "output_type": "stream",
     "text": [
      "\rGPT ABSA 處理中:  57%|█████▊    | 575/1000 [43:07<42:17,  5.97s/it]"
     ]
    },
    {
     "name": "stdout",
     "output_type": "stream",
     "text": [
      "✅ 回傳： {\n",
      "    \"aspect\": \"青春回憶\",\n",
      "    \"sentiment\": \"正面\"\n",
      "}\n"
     ]
    },
    {
     "name": "stderr",
     "output_type": "stream",
     "text": [
      "\rGPT ABSA 處理中:  58%|█████▊    | 576/1000 [43:16<49:14,  6.97s/it]"
     ]
    },
    {
     "name": "stdout",
     "output_type": "stream",
     "text": [
      "✅ 回傳： {\n",
      "  \"aspect\": \"情感共鳴\",\n",
      "  \"sentiment\": \"正面\"\n",
      "}\n"
     ]
    },
    {
     "name": "stderr",
     "output_type": "stream",
     "text": [
      "\rGPT ABSA 處理中:  58%|█████▊    | 577/1000 [43:26<54:09,  7.68s/it]"
     ]
    },
    {
     "name": "stdout",
     "output_type": "stream",
     "text": [
      "✅ 回傳： {\n",
      "    \"aspect\": \"對比分析\",\n",
      "    \"sentiment\": \"正面\"\n",
      "}\n"
     ]
    },
    {
     "name": "stderr",
     "output_type": "stream",
     "text": [
      "\rGPT ABSA 處理中:  58%|█████▊    | 578/1000 [43:26<39:00,  5.55s/it]"
     ]
    },
    {
     "name": "stdout",
     "output_type": "stream",
     "text": [
      "✅ 回傳： {\n",
      "    \"aspect\": \"對比分析\",\n",
      "    \"sentiment\": \"中立\"\n",
      "}\n"
     ]
    },
    {
     "name": "stderr",
     "output_type": "stream",
     "text": [
      "\rGPT ABSA 處理中:  58%|█████▊    | 579/1000 [43:44<1:05:04,  9.27s/it]"
     ]
    },
    {
     "name": "stdout",
     "output_type": "stream",
     "text": [
      "✅ 回傳： { \"aspect\": \"情感共鳴\", \"sentiment\": \"中立\" }\n"
     ]
    },
    {
     "name": "stderr",
     "output_type": "stream",
     "text": [
      "\rGPT ABSA 處理中:  58%|█████▊    | 580/1000 [43:45<46:34,  6.65s/it]  "
     ]
    },
    {
     "name": "stdout",
     "output_type": "stream",
     "text": [
      "✅ 回傳： { \"aspect\": \"對比分析\", \"sentiment\": \"正面\" }\n"
     ]
    },
    {
     "name": "stderr",
     "output_type": "stream",
     "text": [
      "\rGPT ABSA 處理中:  58%|█████▊    | 581/1000 [44:03<1:10:18, 10.07s/it]"
     ]
    },
    {
     "name": "stdout",
     "output_type": "stream",
     "text": [
      "✅ 回傳： { \"aspect\": \"音樂風格\", \"sentiment\": \"正面\" }\n"
     ]
    },
    {
     "name": "stderr",
     "output_type": "stream",
     "text": [
      "\rGPT ABSA 處理中:  58%|█████▊    | 582/1000 [44:03<50:20,  7.23s/it]  "
     ]
    },
    {
     "name": "stdout",
     "output_type": "stream",
     "text": [
      "✅ 回傳： { \"aspect\": \"青春回憶\", \"sentiment\": \"中立\" }\n"
     ]
    },
    {
     "name": "stderr",
     "output_type": "stream",
     "text": [
      "\rGPT ABSA 處理中:  58%|█████▊    | 583/1000 [44:21<1:11:37, 10.31s/it]"
     ]
    },
    {
     "name": "stdout",
     "output_type": "stream",
     "text": [
      "❌ 錯誤： Error code: 429 - {'error': {'message': 'Rate limit reached for gpt-3.5-turbo in organization org-Bz0CtrQHvfWxTonXiHMcFRvW on requests per day (RPD): Limit 10000, Used 10000, Requested 1. Please try again in 8.64s. Visit https://platform.openai.com/account/rate-limits to learn more.', 'type': 'requests', 'param': None, 'code': 'rate_limit_exceeded'}}\n"
     ]
    },
    {
     "name": "stderr",
     "output_type": "stream",
     "text": [
      "\rGPT ABSA 處理中:  58%|█████▊    | 584/1000 [44:30<1:09:33, 10.03s/it]"
     ]
    },
    {
     "name": "stdout",
     "output_type": "stream",
     "text": [
      "✅ 回傳： {\n",
      "    \"aspect\": \"音樂風格\",\n",
      "    \"sentiment\": \"正面\"\n",
      "}\n"
     ]
    },
    {
     "name": "stderr",
     "output_type": "stream",
     "text": [
      "\rGPT ABSA 處理中:  58%|█████▊    | 585/1000 [44:31<49:39,  7.18s/it]  "
     ]
    },
    {
     "name": "stdout",
     "output_type": "stream",
     "text": [
      "✅ 回傳： {\n",
      "    \"aspect\": \"青春回憶\",\n",
      "    \"sentiment\": \"中立\"\n",
      "}\n"
     ]
    },
    {
     "name": "stderr",
     "output_type": "stream",
     "text": [
      "\rGPT ABSA 處理中:  59%|█████▊    | 586/1000 [44:31<36:05,  5.23s/it]"
     ]
    },
    {
     "name": "stdout",
     "output_type": "stream",
     "text": [
      "✅ 回傳： { \"aspect\": \"情感共鳴\", \"sentiment\": \"中立\" }\n"
     ]
    },
    {
     "name": "stderr",
     "output_type": "stream",
     "text": [
      "\rGPT ABSA 處理中:  59%|█████▊    | 587/1000 [44:32<26:46,  3.89s/it]"
     ]
    },
    {
     "name": "stdout",
     "output_type": "stream",
     "text": [
      "✅ 回傳： {\n",
      "    \"aspect\": \"對比分析\",\n",
      "    \"sentiment\": \"中立\"\n",
      "}\n"
     ]
    },
    {
     "name": "stderr",
     "output_type": "stream",
     "text": [
      "\rGPT ABSA 處理中:  59%|█████▉    | 588/1000 [44:51<57:02,  8.31s/it]"
     ]
    },
    {
     "name": "stdout",
     "output_type": "stream",
     "text": [
      "✅ 回傳： { \"aspect\": \"青春回憶\", \"sentiment\": \"正面\" }\n"
     ]
    },
    {
     "name": "stderr",
     "output_type": "stream",
     "text": [
      "\rGPT ABSA 處理中:  59%|█████▉    | 589/1000 [44:51<41:16,  6.02s/it]"
     ]
    },
    {
     "name": "stdout",
     "output_type": "stream",
     "text": [
      "✅ 回傳： {\n",
      "    \"aspect\": \"青春回憶\",\n",
      "    \"sentiment\": \"正面\"\n",
      "}\n"
     ]
    },
    {
     "name": "stderr",
     "output_type": "stream",
     "text": [
      "\rGPT ABSA 處理中:  59%|█████▉    | 590/1000 [45:01<48:09,  7.05s/it]"
     ]
    },
    {
     "name": "stdout",
     "output_type": "stream",
     "text": [
      "✅ 回傳： {\n",
      "    \"aspect\": \"歌詞意境\",\n",
      "    \"sentiment\": \"中立\"\n",
      "}\n"
     ]
    },
    {
     "name": "stderr",
     "output_type": "stream",
     "text": [
      "\rGPT ABSA 處理中:  59%|█████▉    | 591/1000 [45:02<34:57,  5.13s/it]"
     ]
    },
    {
     "name": "stdout",
     "output_type": "stream",
     "text": [
      "✅ 回傳： { \"aspect\": \"青春回憶\", \"sentiment\": \"正面\" }\n"
     ]
    },
    {
     "name": "stderr",
     "output_type": "stream",
     "text": [
      "\rGPT ABSA 處理中:  59%|█████▉    | 592/1000 [45:11<43:13,  6.36s/it]"
     ]
    },
    {
     "name": "stdout",
     "output_type": "stream",
     "text": [
      "✅ 回傳： {\n",
      "    \"aspect\": \"對比分析\",\n",
      "    \"sentiment\": \"正面\"\n",
      "}\n"
     ]
    },
    {
     "name": "stderr",
     "output_type": "stream",
     "text": [
      "\rGPT ABSA 處理中:  59%|█████▉    | 593/1000 [45:20<49:01,  7.23s/it]"
     ]
    },
    {
     "name": "stdout",
     "output_type": "stream",
     "text": [
      "✅ 回傳： {\n",
      "    \"aspect\": \"情感共鳴\",\n",
      "    \"sentiment\": \"正面\"\n",
      "}\n"
     ]
    },
    {
     "name": "stderr",
     "output_type": "stream",
     "text": [
      "\rGPT ABSA 處理中:  59%|█████▉    | 594/1000 [45:38<1:09:50, 10.32s/it]"
     ]
    },
    {
     "name": "stdout",
     "output_type": "stream",
     "text": [
      "❌ 錯誤： Error code: 429 - {'error': {'message': 'Rate limit reached for gpt-3.5-turbo in organization org-Bz0CtrQHvfWxTonXiHMcFRvW on requests per day (RPD): Limit 10000, Used 10000, Requested 1. Please try again in 8.64s. Visit https://platform.openai.com/account/rate-limits to learn more.', 'type': 'requests', 'param': None, 'code': 'rate_limit_exceeded'}}\n"
     ]
    },
    {
     "name": "stderr",
     "output_type": "stream",
     "text": [
      "\rGPT ABSA 處理中:  60%|█████▉    | 595/1000 [45:47<1:07:21,  9.98s/it]"
     ]
    },
    {
     "name": "stdout",
     "output_type": "stream",
     "text": [
      "✅ 回傳： { \"aspect\": \"青春回憶\", \"sentiment\": \"中立\" }\n"
     ]
    },
    {
     "name": "stderr",
     "output_type": "stream",
     "text": [
      "\rGPT ABSA 處理中:  60%|█████▉    | 596/1000 [45:47<48:09,  7.15s/it]  "
     ]
    },
    {
     "name": "stdout",
     "output_type": "stream",
     "text": [
      "✅ 回傳： { \"aspect\": \"青春回憶\", \"sentiment\": \"中立\" }\n"
     ]
    },
    {
     "name": "stderr",
     "output_type": "stream",
     "text": [
      "\rGPT ABSA 處理中:  60%|█████▉    | 597/1000 [45:48<34:45,  5.18s/it]"
     ]
    },
    {
     "name": "stdout",
     "output_type": "stream",
     "text": [
      "✅ 回傳： { \"aspect\": \"青春回憶\", \"sentiment\": \"中立\" }\n"
     ]
    },
    {
     "name": "stderr",
     "output_type": "stream",
     "text": [
      "\rGPT ABSA 處理中:  60%|█████▉    | 598/1000 [46:06<1:00:30,  9.03s/it]"
     ]
    },
    {
     "name": "stdout",
     "output_type": "stream",
     "text": [
      "✅ 回傳： {\n",
      "    \"aspect\": \"歌詞意境\",\n",
      "    \"sentiment\": \"正面\"\n",
      "}\n"
     ]
    },
    {
     "name": "stderr",
     "output_type": "stream",
     "text": [
      "\rGPT ABSA 處理中:  60%|█████▉    | 599/1000 [46:24<1:19:27, 11.89s/it]"
     ]
    },
    {
     "name": "stdout",
     "output_type": "stream",
     "text": [
      "✅ 回傳： {\n",
      "    \"aspect\": \"青春回憶\",\n",
      "    \"sentiment\": \"正面\"\n",
      "}\n"
     ]
    },
    {
     "name": "stderr",
     "output_type": "stream",
     "text": [
      "\rGPT ABSA 處理中:  60%|██████    | 600/1000 [46:26<58:16,  8.74s/it]  "
     ]
    },
    {
     "name": "stdout",
     "output_type": "stream",
     "text": [
      "✅ 回傳： {\n",
      "    \"aspect\": \"音樂風格\",\n",
      "    \"sentiment\": \"中立\"\n",
      "}\n",
      "✅ 存檔 checkpoint at row 600\n"
     ]
    },
    {
     "name": "stderr",
     "output_type": "stream",
     "text": [
      "\rGPT ABSA 處理中:  60%|██████    | 601/1000 [46:35<59:14,  8.91s/it]"
     ]
    },
    {
     "name": "stdout",
     "output_type": "stream",
     "text": [
      "✅ 回傳： { \"aspect\": \"青春回憶\", \"sentiment\": \"中立\" }\n"
     ]
    },
    {
     "name": "stderr",
     "output_type": "stream",
     "text": [
      "\rGPT ABSA 處理中:  60%|██████    | 602/1000 [46:53<1:17:06, 11.62s/it]"
     ]
    },
    {
     "name": "stdout",
     "output_type": "stream",
     "text": [
      "✅ 回傳： { \"aspect\": \"青春回憶\", \"sentiment\": \"中立\" }\n"
     ]
    },
    {
     "name": "stderr",
     "output_type": "stream",
     "text": [
      "\rGPT ABSA 處理中:  60%|██████    | 603/1000 [47:02<1:12:20, 10.93s/it]"
     ]
    },
    {
     "name": "stdout",
     "output_type": "stream",
     "text": [
      "✅ 回傳： {\n",
      "    \"aspect\": \"青春回憶\",\n",
      "    \"sentiment\": \"中立\"\n",
      "}\n"
     ]
    },
    {
     "name": "stderr",
     "output_type": "stream",
     "text": [
      "\rGPT ABSA 處理中:  60%|██████    | 604/1000 [47:12<1:08:58, 10.45s/it]"
     ]
    },
    {
     "name": "stdout",
     "output_type": "stream",
     "text": [
      "✅ 回傳： { \"aspect\": \"青春回憶\", \"sentiment\": \"正面\" }\n"
     ]
    },
    {
     "name": "stderr",
     "output_type": "stream",
     "text": [
      "\rGPT ABSA 處理中:  60%|██████    | 605/1000 [47:12<49:22,  7.50s/it]  "
     ]
    },
    {
     "name": "stdout",
     "output_type": "stream",
     "text": [
      "✅ 回傳： {\n",
      "    \"aspect\": \"情感共鳴\",\n",
      "    \"sentiment\": \"正面\"\n",
      "}\n"
     ]
    },
    {
     "name": "stderr",
     "output_type": "stream",
     "text": [
      "\rGPT ABSA 處理中:  61%|██████    | 606/1000 [47:22<52:47,  8.04s/it]"
     ]
    },
    {
     "name": "stdout",
     "output_type": "stream",
     "text": [
      "✅ 回傳： {\n",
      "    \"aspect\": \"情感共鳴\",\n",
      "    \"sentiment\": \"正面\"\n",
      "}\n"
     ]
    },
    {
     "name": "stderr",
     "output_type": "stream",
     "text": [
      "\rGPT ABSA 處理中:  61%|██████    | 607/1000 [47:40<1:12:08, 11.01s/it]"
     ]
    },
    {
     "name": "stdout",
     "output_type": "stream",
     "text": [
      "✅ 回傳： { \"aspect\": \"青春回憶\", \"sentiment\": \"中立\" }\n"
     ]
    },
    {
     "name": "stderr",
     "output_type": "stream",
     "text": [
      "\rGPT ABSA 處理中:  61%|██████    | 608/1000 [47:49<1:08:38, 10.51s/it]"
     ]
    },
    {
     "name": "stdout",
     "output_type": "stream",
     "text": [
      "✅ 回傳： {\n",
      "    \"aspect\": \"音樂風格\",\n",
      "    \"sentiment\": \"負面\"\n",
      "}\n"
     ]
    },
    {
     "name": "stderr",
     "output_type": "stream",
     "text": [
      "\rGPT ABSA 處理中:  61%|██████    | 609/1000 [47:50<48:59,  7.52s/it]  "
     ]
    },
    {
     "name": "stdout",
     "output_type": "stream",
     "text": [
      "✅ 回傳： { \"aspect\": \"青春回憶\", \"sentiment\": \"中立\" }\n"
     ]
    },
    {
     "name": "stderr",
     "output_type": "stream",
     "text": [
      "\rGPT ABSA 處理中:  61%|██████    | 610/1000 [47:59<52:11,  8.03s/it]"
     ]
    },
    {
     "name": "stdout",
     "output_type": "stream",
     "text": [
      "✅ 回傳： {\n",
      "  \"aspect\": \"音樂風格\",\n",
      "  \"sentiment\": \"正面\"\n",
      "}\n"
     ]
    },
    {
     "name": "stderr",
     "output_type": "stream",
     "text": [
      "\rGPT ABSA 處理中:  61%|██████    | 611/1000 [48:08<54:18,  8.38s/it]"
     ]
    },
    {
     "name": "stdout",
     "output_type": "stream",
     "text": [
      "✅ 回傳： { \"aspect\": \"青春回憶\", \"sentiment\": \"正面\" }\n"
     ]
    },
    {
     "name": "stderr",
     "output_type": "stream",
     "text": [
      "\rGPT ABSA 處理中:  61%|██████    | 612/1000 [48:26<1:12:34, 11.22s/it]"
     ]
    },
    {
     "name": "stdout",
     "output_type": "stream",
     "text": [
      "✅ 回傳： {\n",
      "    \"aspect\": \"情感共鳴\",\n",
      "    \"sentiment\": \"正面\"\n",
      "}\n"
     ]
    },
    {
     "name": "stderr",
     "output_type": "stream",
     "text": [
      "\rGPT ABSA 處理中:  61%|██████▏   | 613/1000 [48:35<1:08:25, 10.61s/it]"
     ]
    },
    {
     "name": "stdout",
     "output_type": "stream",
     "text": [
      "✅ 回傳： {\n",
      "    \"aspect\": \"音樂風格\",\n",
      "    \"sentiment\": \"正面\"\n",
      "}\n"
     ]
    },
    {
     "name": "stderr",
     "output_type": "stream",
     "text": [
      "\rGPT ABSA 處理中:  61%|██████▏   | 614/1000 [48:44<1:06:01, 10.26s/it]"
     ]
    },
    {
     "name": "stdout",
     "output_type": "stream",
     "text": [
      "✅ 回傳： {\n",
      "    \"aspect\": \"情感共鳴\",\n",
      "    \"sentiment\": \"正面\"\n",
      "}\n"
     ]
    },
    {
     "name": "stderr",
     "output_type": "stream",
     "text": [
      "\rGPT ABSA 處理中:  62%|██████▏   | 615/1000 [48:45<47:02,  7.33s/it]  "
     ]
    },
    {
     "name": "stdout",
     "output_type": "stream",
     "text": [
      "✅ 回傳： { \"aspect\": \"情感共鳴\", \"sentiment\": \"中立\" }\n"
     ]
    },
    {
     "name": "stderr",
     "output_type": "stream",
     "text": [
      "\rGPT ABSA 處理中:  62%|██████▏   | 616/1000 [48:54<50:50,  7.94s/it]"
     ]
    },
    {
     "name": "stdout",
     "output_type": "stream",
     "text": [
      "✅ 回傳： {\n",
      "    \"aspect\": \"音樂風格\",\n",
      "    \"sentiment\": \"負面\"\n",
      "}\n"
     ]
    },
    {
     "name": "stderr",
     "output_type": "stream",
     "text": [
      "\rGPT ABSA 處理中:  62%|██████▏   | 617/1000 [48:55<36:40,  5.75s/it]"
     ]
    },
    {
     "name": "stdout",
     "output_type": "stream",
     "text": [
      "✅ 回傳： {\n",
      "    \"aspect\": \"青春回憶\",\n",
      "    \"sentiment\": \"正面\"\n",
      "}\n"
     ]
    },
    {
     "name": "stderr",
     "output_type": "stream",
     "text": [
      "\rGPT ABSA 處理中:  62%|██████▏   | 618/1000 [49:04<43:35,  6.85s/it]"
     ]
    },
    {
     "name": "stdout",
     "output_type": "stream",
     "text": [
      "✅ 回傳： { \"aspect\": \"音樂風格\", \"sentiment\": \"正面\" }\n"
     ]
    },
    {
     "name": "stderr",
     "output_type": "stream",
     "text": [
      "\rGPT ABSA 處理中:  62%|██████▏   | 619/1000 [49:14<48:07,  7.58s/it]"
     ]
    },
    {
     "name": "stdout",
     "output_type": "stream",
     "text": [
      "✅ 回傳： {\n",
      "    \"aspect\": \"音樂風格\",\n",
      "    \"sentiment\": \"正面\"\n",
      "}\n"
     ]
    },
    {
     "name": "stderr",
     "output_type": "stream",
     "text": [
      "\rGPT ABSA 處理中:  62%|██████▏   | 620/1000 [49:14<34:41,  5.48s/it]"
     ]
    },
    {
     "name": "stdout",
     "output_type": "stream",
     "text": [
      "✅ 回傳： {\n",
      "    \"aspect\": \"對比分析\",\n",
      "    \"sentiment\": \"負面\"\n",
      "}\n"
     ]
    },
    {
     "name": "stderr",
     "output_type": "stream",
     "text": [
      "\rGPT ABSA 處理中:  62%|██████▏   | 621/1000 [49:32<57:22,  9.08s/it]"
     ]
    },
    {
     "name": "stdout",
     "output_type": "stream",
     "text": [
      "❌ 錯誤： Error code: 429 - {'error': {'message': 'Rate limit reached for gpt-3.5-turbo in organization org-Bz0CtrQHvfWxTonXiHMcFRvW on requests per day (RPD): Limit 10000, Used 10000, Requested 1. Please try again in 8.64s. Visit https://platform.openai.com/account/rate-limits to learn more.', 'type': 'requests', 'param': None, 'code': 'rate_limit_exceeded'}}\n"
     ]
    },
    {
     "name": "stderr",
     "output_type": "stream",
     "text": [
      "\rGPT ABSA 處理中:  62%|██████▏   | 622/1000 [49:32<41:28,  6.58s/it]"
     ]
    },
    {
     "name": "stdout",
     "output_type": "stream",
     "text": [
      "✅ 回傳： {\n",
      "  \"aspect\": \"青春回憶\",\n",
      "  \"sentiment\": \"正面\"\n",
      "}\n"
     ]
    },
    {
     "name": "stderr",
     "output_type": "stream",
     "text": [
      "\rGPT ABSA 處理中:  62%|██████▏   | 623/1000 [49:42<46:42,  7.43s/it]"
     ]
    },
    {
     "name": "stdout",
     "output_type": "stream",
     "text": [
      "✅ 回傳： {\n",
      "    \"aspect\": \"青春回憶\",\n",
      "    \"sentiment\": \"正面\"\n",
      "}\n"
     ]
    },
    {
     "name": "stderr",
     "output_type": "stream",
     "text": [
      "\rGPT ABSA 處理中:  62%|██████▏   | 624/1000 [49:51<50:20,  8.03s/it]"
     ]
    },
    {
     "name": "stdout",
     "output_type": "stream",
     "text": [
      "✅ 回傳： { \"aspect\": \"青春回憶\", \"sentiment\": \"負面\" }\n"
     ]
    },
    {
     "name": "stderr",
     "output_type": "stream",
     "text": [
      "\rGPT ABSA 處理中:  62%|██████▎   | 625/1000 [50:01<52:40,  8.43s/it]"
     ]
    },
    {
     "name": "stdout",
     "output_type": "stream",
     "text": [
      "✅ 回傳： {\n",
      "    \"aspect\": \"青春回憶\",\n",
      "    \"sentiment\": \"正面\"\n",
      "}\n"
     ]
    },
    {
     "name": "stderr",
     "output_type": "stream",
     "text": [
      "\rGPT ABSA 處理中:  63%|██████▎   | 626/1000 [50:10<53:58,  8.66s/it]"
     ]
    },
    {
     "name": "stdout",
     "output_type": "stream",
     "text": [
      "✅ 回傳： {\n",
      "    \"aspect\": \"歌詞意境\",\n",
      "    \"sentiment\": \"正面\"\n",
      "}\n"
     ]
    },
    {
     "name": "stderr",
     "output_type": "stream",
     "text": [
      "\rGPT ABSA 處理中:  63%|██████▎   | 627/1000 [50:11<39:04,  6.28s/it]"
     ]
    },
    {
     "name": "stdout",
     "output_type": "stream",
     "text": [
      "✅ 回傳： {\n",
      "  \"aspect\": \"音樂風格\",\n",
      "  \"sentiment\": \"正面\"\n",
      "}\n"
     ]
    },
    {
     "name": "stderr",
     "output_type": "stream",
     "text": [
      "\rGPT ABSA 處理中:  63%|██████▎   | 628/1000 [50:11<28:41,  4.63s/it]"
     ]
    },
    {
     "name": "stdout",
     "output_type": "stream",
     "text": [
      "✅ 回傳： {\n",
      "  \"aspect\": \"青春回憶\",\n",
      "  \"sentiment\": \"正面\"\n",
      "}\n"
     ]
    },
    {
     "name": "stderr",
     "output_type": "stream",
     "text": [
      "\rGPT ABSA 處理中:  63%|██████▎   | 629/1000 [50:29<53:22,  8.63s/it]"
     ]
    },
    {
     "name": "stdout",
     "output_type": "stream",
     "text": [
      "✅ 回傳： { \"aspect\": \"音樂風格\", \"sentiment\": \"正面\" }\n"
     ]
    },
    {
     "name": "stderr",
     "output_type": "stream",
     "text": [
      "\rGPT ABSA 處理中:  63%|██████▎   | 630/1000 [50:47<1:10:23, 11.41s/it]"
     ]
    },
    {
     "name": "stdout",
     "output_type": "stream",
     "text": [
      "✅ 回傳： {\n",
      "    \"aspect\": \"音樂風格\",\n",
      "    \"sentiment\": \"負面\"\n",
      "}\n"
     ]
    },
    {
     "name": "stderr",
     "output_type": "stream",
     "text": [
      "\rGPT ABSA 處理中:  63%|██████▎   | 631/1000 [50:48<50:00,  8.13s/it]  "
     ]
    },
    {
     "name": "stdout",
     "output_type": "stream",
     "text": [
      "✅ 回傳： { \"aspect\": \"青春回憶\", \"sentiment\": \"中立\" }\n"
     ]
    },
    {
     "name": "stderr",
     "output_type": "stream",
     "text": [
      "\rGPT ABSA 處理中:  63%|██████▎   | 632/1000 [50:57<51:55,  8.46s/it]"
     ]
    },
    {
     "name": "stdout",
     "output_type": "stream",
     "text": [
      "✅ 回傳： {\n",
      "    \"aspect\": \"青春回憶\",\n",
      "    \"sentiment\": \"正面\"\n",
      "}\n"
     ]
    },
    {
     "name": "stderr",
     "output_type": "stream",
     "text": [
      "\rGPT ABSA 處理中:  63%|██████▎   | 633/1000 [50:58<37:37,  6.15s/it]"
     ]
    },
    {
     "name": "stdout",
     "output_type": "stream",
     "text": [
      "✅ 回傳： {\n",
      "    \"aspect\": \"情感共鳴\",\n",
      "    \"sentiment\": \"正面\"\n",
      "}\n"
     ]
    },
    {
     "name": "stderr",
     "output_type": "stream",
     "text": [
      "\rGPT ABSA 處理中:  63%|██████▎   | 634/1000 [51:07<43:11,  7.08s/it]"
     ]
    },
    {
     "name": "stdout",
     "output_type": "stream",
     "text": [
      "✅ 回傳： {\n",
      "    \"aspect\": \"音樂風格\",\n",
      "    \"sentiment\": \"正面\"\n",
      "}\n"
     ]
    },
    {
     "name": "stderr",
     "output_type": "stream",
     "text": [
      "\rGPT ABSA 處理中:  64%|██████▎   | 635/1000 [51:24<1:02:01, 10.20s/it]"
     ]
    },
    {
     "name": "stdout",
     "output_type": "stream",
     "text": [
      "❌ 錯誤： Error code: 429 - {'error': {'message': 'Rate limit reached for gpt-3.5-turbo in organization org-Bz0CtrQHvfWxTonXiHMcFRvW on requests per day (RPD): Limit 10000, Used 10000, Requested 1. Please try again in 8.64s. Visit https://platform.openai.com/account/rate-limits to learn more.', 'type': 'requests', 'param': None, 'code': 'rate_limit_exceeded'}}\n"
     ]
    },
    {
     "name": "stderr",
     "output_type": "stream",
     "text": [
      "\rGPT ABSA 處理中:  64%|██████▎   | 636/1000 [51:25<44:15,  7.29s/it]  "
     ]
    },
    {
     "name": "stdout",
     "output_type": "stream",
     "text": [
      "✅ 回傳： {\n",
      "    \"aspect\": \"音樂風格\",\n",
      "    \"sentiment\": \"中立\"\n",
      "}\n"
     ]
    },
    {
     "name": "stderr",
     "output_type": "stream",
     "text": [
      "\rGPT ABSA 處理中:  64%|██████▎   | 637/1000 [51:34<47:41,  7.88s/it]"
     ]
    },
    {
     "name": "stdout",
     "output_type": "stream",
     "text": [
      "✅ 回傳： {\n",
      "    \"aspect\": \"青春回憶\",\n",
      "    \"sentiment\": \"正面\"\n",
      "}\n"
     ]
    },
    {
     "name": "stderr",
     "output_type": "stream",
     "text": [
      "\rGPT ABSA 處理中:  64%|██████▍   | 638/1000 [51:43<50:02,  8.29s/it]"
     ]
    },
    {
     "name": "stdout",
     "output_type": "stream",
     "text": [
      "✅ 回傳： {\n",
      "    \"aspect\": \"音樂風格\",\n",
      "    \"sentiment\": \"正面\"\n",
      "}\n"
     ]
    },
    {
     "name": "stderr",
     "output_type": "stream",
     "text": [
      "\rGPT ABSA 處理中:  64%|██████▍   | 639/1000 [51:53<52:00,  8.64s/it]"
     ]
    },
    {
     "name": "stdout",
     "output_type": "stream",
     "text": [
      "✅ 回傳： { \"aspect\": \"音樂風格\", \"sentiment\": \"正面\" }\n"
     ]
    },
    {
     "name": "stderr",
     "output_type": "stream",
     "text": [
      "\rGPT ABSA 處理中:  64%|██████▍   | 640/1000 [51:54<37:57,  6.33s/it]"
     ]
    },
    {
     "name": "stdout",
     "output_type": "stream",
     "text": [
      "✅ 回傳： {\n",
      "    \"aspect\": \"青春回憶\",\n",
      "    \"sentiment\": \"正面\"\n",
      "}\n"
     ]
    },
    {
     "name": "stderr",
     "output_type": "stream",
     "text": [
      "\rGPT ABSA 處理中:  64%|██████▍   | 641/1000 [52:03<43:14,  7.23s/it]"
     ]
    },
    {
     "name": "stdout",
     "output_type": "stream",
     "text": [
      "✅ 回傳： { \"aspect\": \"情感共鳴\", \"sentiment\": \"負面\" }\n"
     ]
    },
    {
     "name": "stderr",
     "output_type": "stream",
     "text": [
      "\rGPT ABSA 處理中:  64%|██████▍   | 642/1000 [52:12<46:44,  7.83s/it]"
     ]
    },
    {
     "name": "stdout",
     "output_type": "stream",
     "text": [
      "✅ 回傳： {\n",
      "  \"aspect\": \"對比分析\",\n",
      "  \"sentiment\": \"正面\"\n",
      "}\n"
     ]
    },
    {
     "name": "stderr",
     "output_type": "stream",
     "text": [
      "\rGPT ABSA 處理中:  64%|██████▍   | 643/1000 [52:30<1:04:42, 10.87s/it]"
     ]
    },
    {
     "name": "stdout",
     "output_type": "stream",
     "text": [
      "✅ 回傳： {\n",
      "    \"aspect\": \"音樂風格\",\n",
      "    \"sentiment\": \"正面\"\n",
      "}\n"
     ]
    },
    {
     "name": "stderr",
     "output_type": "stream",
     "text": [
      "\rGPT ABSA 處理中:  64%|██████▍   | 644/1000 [52:31<46:04,  7.77s/it]  "
     ]
    },
    {
     "name": "stdout",
     "output_type": "stream",
     "text": [
      "✅ 回傳： {\n",
      "    \"aspect\": \"音樂風格\",\n",
      "    \"sentiment\": \"中立\"\n",
      "}\n"
     ]
    },
    {
     "name": "stderr",
     "output_type": "stream",
     "text": [
      "\rGPT ABSA 處理中:  64%|██████▍   | 645/1000 [52:40<48:40,  8.23s/it]"
     ]
    },
    {
     "name": "stdout",
     "output_type": "stream",
     "text": [
      "✅ 回傳： {\n",
      "    \"aspect\": \"音樂風格\",\n",
      "    \"sentiment\": \"中立\"\n",
      "}\n"
     ]
    },
    {
     "name": "stderr",
     "output_type": "stream",
     "text": [
      "\rGPT ABSA 處理中:  65%|██████▍   | 646/1000 [52:41<35:25,  6.00s/it]"
     ]
    },
    {
     "name": "stdout",
     "output_type": "stream",
     "text": [
      "✅ 回傳： {\n",
      "    \"aspect\": \"音樂風格\",\n",
      "    \"sentiment\": \"正面\"\n",
      "}\n"
     ]
    },
    {
     "name": "stderr",
     "output_type": "stream",
     "text": [
      "\rGPT ABSA 處理中:  65%|██████▍   | 647/1000 [52:50<41:12,  7.00s/it]"
     ]
    },
    {
     "name": "stdout",
     "output_type": "stream",
     "text": [
      "✅ 回傳： {\n",
      "    \"aspect\": \"音樂風格\",\n",
      "    \"sentiment\": \"正面\"\n",
      "}\n"
     ]
    },
    {
     "name": "stderr",
     "output_type": "stream",
     "text": [
      "\rGPT ABSA 處理中:  65%|██████▍   | 648/1000 [53:09<1:00:46, 10.36s/it]"
     ]
    },
    {
     "name": "stdout",
     "output_type": "stream",
     "text": [
      "✅ 回傳： {\n",
      "    \"aspect\": \"青春回憶\",\n",
      "    \"sentiment\": \"正面\"\n",
      "}\n"
     ]
    },
    {
     "name": "stderr",
     "output_type": "stream",
     "text": [
      "\rGPT ABSA 處理中:  65%|██████▍   | 649/1000 [53:09<43:30,  7.44s/it]  "
     ]
    },
    {
     "name": "stdout",
     "output_type": "stream",
     "text": [
      "✅ 回傳： {\n",
      "    \"aspect\": \"青春回憶\",\n",
      "    \"sentiment\": \"正面\"\n",
      "}\n"
     ]
    },
    {
     "name": "stderr",
     "output_type": "stream",
     "text": [
      "\rGPT ABSA 處理中:  65%|██████▌   | 650/1000 [53:10<31:20,  5.37s/it]"
     ]
    },
    {
     "name": "stdout",
     "output_type": "stream",
     "text": [
      "✅ 回傳： { \"aspect\": \"音樂風格\", \"sentiment\": \"正面\" }\n"
     ]
    },
    {
     "name": "stderr",
     "output_type": "stream",
     "text": [
      "\rGPT ABSA 處理中:  65%|██████▌   | 651/1000 [53:27<52:21,  9.00s/it]"
     ]
    },
    {
     "name": "stdout",
     "output_type": "stream",
     "text": [
      "❌ 錯誤： Error code: 429 - {'error': {'message': 'Rate limit reached for gpt-3.5-turbo in organization org-Bz0CtrQHvfWxTonXiHMcFRvW on requests per day (RPD): Limit 10000, Used 10000, Requested 1. Please try again in 8.64s. Visit https://platform.openai.com/account/rate-limits to learn more.', 'type': 'requests', 'param': None, 'code': 'rate_limit_exceeded'}}\n"
     ]
    },
    {
     "name": "stderr",
     "output_type": "stream",
     "text": [
      "\rGPT ABSA 處理中:  65%|██████▌   | 652/1000 [53:45<1:07:52, 11.70s/it]"
     ]
    },
    {
     "name": "stdout",
     "output_type": "stream",
     "text": [
      "✅ 回傳： {\n",
      "    \"aspect\": \"青春回憶\",\n",
      "    \"sentiment\": \"正面\"\n",
      "}\n"
     ]
    },
    {
     "name": "stderr",
     "output_type": "stream",
     "text": [
      "\rGPT ABSA 處理中:  65%|██████▌   | 653/1000 [53:54<1:03:25, 10.97s/it]"
     ]
    },
    {
     "name": "stdout",
     "output_type": "stream",
     "text": [
      "✅ 回傳： { \"aspect\": \"音樂風格\", \"sentiment\": \"正面\" }\n"
     ]
    },
    {
     "name": "stderr",
     "output_type": "stream",
     "text": [
      "\rGPT ABSA 處理中:  65%|██████▌   | 654/1000 [54:04<1:00:21, 10.47s/it]"
     ]
    },
    {
     "name": "stdout",
     "output_type": "stream",
     "text": [
      "✅ 回傳： {\n",
      "  \"aspect\": \"音樂風格\",\n",
      "  \"sentiment\": \"正面\"\n",
      "}\n"
     ]
    },
    {
     "name": "stderr",
     "output_type": "stream",
     "text": [
      "\rGPT ABSA 處理中:  66%|██████▌   | 655/1000 [54:04<43:20,  7.54s/it]  "
     ]
    },
    {
     "name": "stdout",
     "output_type": "stream",
     "text": [
      "✅ 回傳： {\n",
      "    \"aspect\": \"歌詞意境\",\n",
      "    \"sentiment\": \"中立\"\n",
      "}\n"
     ]
    },
    {
     "name": "stderr",
     "output_type": "stream",
     "text": [
      "\rGPT ABSA 處理中:  66%|██████▌   | 656/1000 [54:05<31:06,  5.43s/it]"
     ]
    },
    {
     "name": "stdout",
     "output_type": "stream",
     "text": [
      "✅ 回傳： {\n",
      "    \"aspect\": \"音樂風格\",\n",
      "    \"sentiment\": \"中立\"\n",
      "}\n"
     ]
    },
    {
     "name": "stderr",
     "output_type": "stream",
     "text": [
      "\rGPT ABSA 處理中:  66%|██████▌   | 657/1000 [54:23<52:22,  9.16s/it]"
     ]
    },
    {
     "name": "stdout",
     "output_type": "stream",
     "text": [
      "✅ 回傳： { \"aspect\": \"歌詞意境\", \"sentiment\": \"中立\" }\n"
     ]
    },
    {
     "name": "stderr",
     "output_type": "stream",
     "text": [
      "\rGPT ABSA 處理中:  66%|██████▌   | 658/1000 [54:23<37:20,  6.55s/it]"
     ]
    },
    {
     "name": "stdout",
     "output_type": "stream",
     "text": [
      "✅ 回傳： {\n",
      "    \"aspect\": \"對比分析\",\n",
      "    \"sentiment\": \"正面\"\n",
      "}\n"
     ]
    },
    {
     "name": "stderr",
     "output_type": "stream",
     "text": [
      "\rGPT ABSA 處理中:  66%|██████▌   | 659/1000 [54:32<41:42,  7.34s/it]"
     ]
    },
    {
     "name": "stdout",
     "output_type": "stream",
     "text": [
      "✅ 回傳： {\n",
      "    \"aspect\": \"青春回憶\",\n",
      "    \"sentiment\": \"正面\"\n",
      "}\n"
     ]
    },
    {
     "name": "stderr",
     "output_type": "stream",
     "text": [
      "\rGPT ABSA 處理中:  66%|██████▌   | 660/1000 [54:51<1:01:30, 10.86s/it]"
     ]
    },
    {
     "name": "stdout",
     "output_type": "stream",
     "text": [
      "✅ 回傳： {\n",
      "    \"aspect\": \"青春回憶\",\n",
      "    \"sentiment\": \"中立\"\n",
      "}\n"
     ]
    },
    {
     "name": "stderr",
     "output_type": "stream",
     "text": [
      "\rGPT ABSA 處理中:  66%|██████▌   | 661/1000 [54:52<43:47,  7.75s/it]  "
     ]
    },
    {
     "name": "stdout",
     "output_type": "stream",
     "text": [
      "✅ 回傳： { \"aspect\": \"外觀設計\", \"sentiment\": \"正面\" }\n"
     ]
    },
    {
     "name": "stderr",
     "output_type": "stream",
     "text": [
      "\rGPT ABSA 處理中:  66%|██████▌   | 662/1000 [55:10<1:00:52, 10.81s/it]"
     ]
    },
    {
     "name": "stdout",
     "output_type": "stream",
     "text": [
      "✅ 回傳： { \"aspect\": \"青春回憶\", \"sentiment\": \"正面\" }\n"
     ]
    },
    {
     "name": "stderr",
     "output_type": "stream",
     "text": [
      "\rGPT ABSA 處理中:  66%|██████▋   | 663/1000 [55:19<58:07, 10.35s/it]  "
     ]
    },
    {
     "name": "stdout",
     "output_type": "stream",
     "text": [
      "✅ 回傳： {\n",
      "    \"aspect\": \"音樂風格\",\n",
      "    \"sentiment\": \"正面\"\n",
      "}\n"
     ]
    },
    {
     "name": "stderr",
     "output_type": "stream",
     "text": [
      "\rGPT ABSA 處理中:  66%|██████▋   | 664/1000 [55:20<41:21,  7.38s/it]"
     ]
    },
    {
     "name": "stdout",
     "output_type": "stream",
     "text": [
      "✅ 回傳： {\n",
      "    \"aspect\": \"青春回憶\",\n",
      "    \"sentiment\": \"正面\"\n",
      "}\n"
     ]
    },
    {
     "name": "stderr",
     "output_type": "stream",
     "text": [
      "\rGPT ABSA 處理中:  66%|██████▋   | 665/1000 [55:29<44:37,  7.99s/it]"
     ]
    },
    {
     "name": "stdout",
     "output_type": "stream",
     "text": [
      "✅ 回傳： {\n",
      "  \"aspect\": \"音樂風格\",\n",
      "  \"sentiment\": \"正面\"\n",
      "}\n"
     ]
    },
    {
     "name": "stderr",
     "output_type": "stream",
     "text": [
      "\rGPT ABSA 處理中:  67%|██████▋   | 666/1000 [55:30<31:57,  5.74s/it]"
     ]
    },
    {
     "name": "stdout",
     "output_type": "stream",
     "text": [
      "✅ 回傳： { \"aspect\": \"情感共鳴\", \"sentiment\": \"正面\" }\n"
     ]
    },
    {
     "name": "stderr",
     "output_type": "stream",
     "text": [
      "\rGPT ABSA 處理中:  67%|██████▋   | 667/1000 [55:39<37:50,  6.82s/it]"
     ]
    },
    {
     "name": "stdout",
     "output_type": "stream",
     "text": [
      "✅ 回傳： {\n",
      "    \"aspect\": \"青春回憶\",\n",
      "    \"sentiment\": \"正面\"\n",
      "}\n"
     ]
    },
    {
     "name": "stderr",
     "output_type": "stream",
     "text": [
      "\rGPT ABSA 處理中:  67%|██████▋   | 668/1000 [55:48<41:53,  7.57s/it]"
     ]
    },
    {
     "name": "stdout",
     "output_type": "stream",
     "text": [
      "✅ 回傳： { \"aspect\": \"音樂風格\", \"sentiment\": \"正面\" }\n"
     ]
    },
    {
     "name": "stderr",
     "output_type": "stream",
     "text": [
      "\rGPT ABSA 處理中:  67%|██████▋   | 669/1000 [55:58<44:36,  8.09s/it]"
     ]
    },
    {
     "name": "stdout",
     "output_type": "stream",
     "text": [
      "✅ 回傳： {\n",
      "    \"aspect\": \"情感共鳴\",\n",
      "    \"sentiment\": \"中立\"\n",
      "}\n"
     ]
    },
    {
     "name": "stderr",
     "output_type": "stream",
     "text": [
      "\rGPT ABSA 處理中:  67%|██████▋   | 670/1000 [56:07<47:21,  8.61s/it]"
     ]
    },
    {
     "name": "stdout",
     "output_type": "stream",
     "text": [
      "✅ 回傳： {\n",
      "    \"aspect\": \"音樂風格\",\n",
      "    \"sentiment\": \"正面\"\n",
      "}\n"
     ]
    },
    {
     "name": "stderr",
     "output_type": "stream",
     "text": [
      "\rGPT ABSA 處理中:  67%|██████▋   | 671/1000 [56:17<48:23,  8.82s/it]"
     ]
    },
    {
     "name": "stdout",
     "output_type": "stream",
     "text": [
      "✅ 回傳： {\n",
      "  \"aspect\": \"音樂風格\",\n",
      "  \"sentiment\": \"正面\"\n",
      "}\n"
     ]
    },
    {
     "name": "stderr",
     "output_type": "stream",
     "text": [
      "\rGPT ABSA 處理中:  67%|██████▋   | 672/1000 [56:26<49:10,  9.00s/it]"
     ]
    },
    {
     "name": "stdout",
     "output_type": "stream",
     "text": [
      "✅ 回傳： { \"aspect\": \"青春回憶\", \"sentiment\": \"正面\" }\n"
     ]
    },
    {
     "name": "stderr",
     "output_type": "stream",
     "text": [
      "\rGPT ABSA 處理中:  67%|██████▋   | 673/1000 [56:36<50:30,  9.27s/it]"
     ]
    },
    {
     "name": "stdout",
     "output_type": "stream",
     "text": [
      "✅ 回傳： {\n",
      "    \"aspect\": \"對比分析\",\n",
      "    \"sentiment\": \"正面\"\n",
      "}\n"
     ]
    },
    {
     "name": "stderr",
     "output_type": "stream",
     "text": [
      "\rGPT ABSA 處理中:  67%|██████▋   | 674/1000 [56:37<36:09,  6.65s/it]"
     ]
    },
    {
     "name": "stdout",
     "output_type": "stream",
     "text": [
      "✅ 回傳： { \"aspect\": \"音樂風格\", \"sentiment\": \"正面\" }\n"
     ]
    },
    {
     "name": "stderr",
     "output_type": "stream",
     "text": [
      "\rGPT ABSA 處理中:  68%|██████▊   | 675/1000 [56:55<54:37, 10.09s/it]"
     ]
    },
    {
     "name": "stdout",
     "output_type": "stream",
     "text": [
      "✅ 回傳： { \"aspect\": \"青春回憶\", \"sentiment\": \"正面\" }\n"
     ]
    },
    {
     "name": "stderr",
     "output_type": "stream",
     "text": [
      "\rGPT ABSA 處理中:  68%|██████▊   | 676/1000 [57:04<53:10,  9.85s/it]"
     ]
    },
    {
     "name": "stdout",
     "output_type": "stream",
     "text": [
      "✅ 回傳： { \"aspect\": \"音樂風格\", \"sentiment\": \"正面\" }\n"
     ]
    },
    {
     "name": "stderr",
     "output_type": "stream",
     "text": [
      "\rGPT ABSA 處理中:  68%|██████▊   | 677/1000 [57:05<38:11,  7.09s/it]"
     ]
    },
    {
     "name": "stdout",
     "output_type": "stream",
     "text": [
      "✅ 回傳： {\n",
      "    \"aspect\": \"青春回憶\",\n",
      "    \"sentiment\": \"中立\"\n",
      "}\n"
     ]
    },
    {
     "name": "stderr",
     "output_type": "stream",
     "text": [
      "\rGPT ABSA 處理中:  68%|██████▊   | 678/1000 [57:23<55:40, 10.37s/it]"
     ]
    },
    {
     "name": "stdout",
     "output_type": "stream",
     "text": [
      "✅ 回傳： {\n",
      "    \"aspect\": \"對比分析\",\n",
      "    \"sentiment\": \"正面\"\n",
      "}\n"
     ]
    },
    {
     "name": "stderr",
     "output_type": "stream",
     "text": [
      "\rGPT ABSA 處理中:  68%|██████▊   | 679/1000 [57:41<1:07:34, 12.63s/it]"
     ]
    },
    {
     "name": "stdout",
     "output_type": "stream",
     "text": [
      "✅ 回傳： { \"aspect\": \"情感共鳴\", \"sentiment\": \"中立\" }\n"
     ]
    },
    {
     "name": "stderr",
     "output_type": "stream",
     "text": [
      "\rGPT ABSA 處理中:  68%|██████▊   | 680/1000 [57:41<48:01,  9.00s/it]  "
     ]
    },
    {
     "name": "stdout",
     "output_type": "stream",
     "text": [
      "✅ 回傳： {\n",
      "    \"aspect\": \"歌詞意境\",\n",
      "    \"sentiment\": \"正面\"\n",
      "}\n"
     ]
    },
    {
     "name": "stderr",
     "output_type": "stream",
     "text": [
      "\rGPT ABSA 處理中:  68%|██████▊   | 681/1000 [57:50<48:18,  9.09s/it]"
     ]
    },
    {
     "name": "stdout",
     "output_type": "stream",
     "text": [
      "✅ 回傳： {\n",
      "    \"aspect\": \"青春回憶\",\n",
      "    \"sentiment\": \"正面\"\n",
      "}\n"
     ]
    },
    {
     "name": "stderr",
     "output_type": "stream",
     "text": [
      "\rGPT ABSA 處理中:  68%|██████▊   | 682/1000 [58:00<48:32,  9.16s/it]"
     ]
    },
    {
     "name": "stdout",
     "output_type": "stream",
     "text": [
      "✅ 回傳： {\n",
      "    \"aspect\": \"對比分析\",\n",
      "    \"sentiment\": \"正面\"\n",
      "}\n"
     ]
    },
    {
     "name": "stderr",
     "output_type": "stream",
     "text": [
      "\rGPT ABSA 處理中:  68%|██████▊   | 683/1000 [58:00<34:38,  6.56s/it]"
     ]
    },
    {
     "name": "stdout",
     "output_type": "stream",
     "text": [
      "✅ 回傳： {\n",
      "  \"aspect\": \"音樂風格\",\n",
      "  \"sentiment\": \"中立\"\n",
      "}\n"
     ]
    },
    {
     "name": "stderr",
     "output_type": "stream",
     "text": [
      "\rGPT ABSA 處理中:  68%|██████▊   | 684/1000 [58:10<39:16,  7.46s/it]"
     ]
    },
    {
     "name": "stdout",
     "output_type": "stream",
     "text": [
      "✅ 回傳： {\n",
      "    \"aspect\": \"青春回憶\",\n",
      "    \"sentiment\": \"中立\"\n",
      "}\n"
     ]
    },
    {
     "name": "stderr",
     "output_type": "stream",
     "text": [
      "\rGPT ABSA 處理中:  68%|██████▊   | 685/1000 [58:28<55:57, 10.66s/it]"
     ]
    },
    {
     "name": "stdout",
     "output_type": "stream",
     "text": [
      "✅ 回傳： {\n",
      "    \"aspect\": \"對比分析\",\n",
      "    \"sentiment\": \"正面\"\n",
      "}\n"
     ]
    },
    {
     "name": "stderr",
     "output_type": "stream",
     "text": [
      "\rGPT ABSA 處理中:  69%|██████▊   | 686/1000 [58:28<40:00,  7.65s/it]"
     ]
    },
    {
     "name": "stdout",
     "output_type": "stream",
     "text": [
      "✅ 回傳： {\n",
      "    \"aspect\": \"音樂風格\",\n",
      "    \"sentiment\": \"正面\"\n",
      "}\n"
     ]
    },
    {
     "name": "stderr",
     "output_type": "stream",
     "text": [
      "\rGPT ABSA 處理中:  69%|██████▊   | 687/1000 [58:46<55:56, 10.72s/it]"
     ]
    },
    {
     "name": "stdout",
     "output_type": "stream",
     "text": [
      "✅ 回傳： { \"aspect\": \"青春回憶\", \"sentiment\": \"中立\" }\n"
     ]
    },
    {
     "name": "stderr",
     "output_type": "stream",
     "text": [
      "\rGPT ABSA 處理中:  69%|██████▉   | 688/1000 [58:56<53:43, 10.33s/it]"
     ]
    },
    {
     "name": "stdout",
     "output_type": "stream",
     "text": [
      "✅ 回傳： { \"aspect\": \"青春回憶\", \"sentiment\": \"正面\" }\n"
     ]
    },
    {
     "name": "stderr",
     "output_type": "stream",
     "text": [
      "\rGPT ABSA 處理中:  69%|██████▉   | 689/1000 [58:56<38:16,  7.38s/it]"
     ]
    },
    {
     "name": "stdout",
     "output_type": "stream",
     "text": [
      "✅ 回傳： {\n",
      "    \"aspect\": \"青春回憶\",\n",
      "    \"sentiment\": \"正面\"\n",
      "}\n"
     ]
    },
    {
     "name": "stderr",
     "output_type": "stream",
     "text": [
      "\rGPT ABSA 處理中:  69%|██████▉   | 690/1000 [58:57<27:26,  5.31s/it]"
     ]
    },
    {
     "name": "stdout",
     "output_type": "stream",
     "text": [
      "✅ 回傳： { \"aspect\": \"音樂風格\", \"sentiment\": \"正面\" }\n"
     ]
    },
    {
     "name": "stderr",
     "output_type": "stream",
     "text": [
      "\rGPT ABSA 處理中:  69%|██████▉   | 691/1000 [59:15<47:03,  9.14s/it]"
     ]
    },
    {
     "name": "stdout",
     "output_type": "stream",
     "text": [
      "✅ 回傳： { \"aspect\": \"歌詞意境\", \"sentiment\": \"負面\" }\n"
     ]
    },
    {
     "name": "stderr",
     "output_type": "stream",
     "text": [
      "\rGPT ABSA 處理中:  69%|██████▉   | 692/1000 [59:33<1:00:35, 11.80s/it]"
     ]
    },
    {
     "name": "stdout",
     "output_type": "stream",
     "text": [
      "✅ 回傳： {\n",
      "    \"aspect\": \"青春回憶\",\n",
      "    \"sentiment\": \"正面\"\n",
      "}\n"
     ]
    },
    {
     "name": "stderr",
     "output_type": "stream",
     "text": [
      "\rGPT ABSA 處理中:  69%|██████▉   | 693/1000 [59:33<42:59,  8.40s/it]  "
     ]
    },
    {
     "name": "stdout",
     "output_type": "stream",
     "text": [
      "✅ 回傳： {\n",
      "    \"aspect\": \"青春回憶\",\n",
      "    \"sentiment\": \"中立\"\n",
      "}\n"
     ]
    },
    {
     "name": "stderr",
     "output_type": "stream",
     "text": [
      "\rGPT ABSA 處理中:  69%|██████▉   | 694/1000 [59:42<44:01,  8.63s/it]"
     ]
    },
    {
     "name": "stdout",
     "output_type": "stream",
     "text": [
      "✅ 回傳： {\n",
      "    \"aspect\": \"音樂風格\",\n",
      "    \"sentiment\": \"正面\"\n",
      "}\n"
     ]
    },
    {
     "name": "stderr",
     "output_type": "stream",
     "text": [
      "\rGPT ABSA 處理中:  70%|██████▉   | 695/1000 [59:43<31:24,  6.18s/it]"
     ]
    },
    {
     "name": "stdout",
     "output_type": "stream",
     "text": [
      "✅ 回傳： {\n",
      "    \"aspect\": \"對比分析\",\n",
      "    \"sentiment\": \"負面\"\n",
      "}\n"
     ]
    },
    {
     "name": "stderr",
     "output_type": "stream",
     "text": [
      "\rGPT ABSA 處理中:  70%|██████▉   | 696/1000 [59:44<23:01,  4.54s/it]"
     ]
    },
    {
     "name": "stdout",
     "output_type": "stream",
     "text": [
      "✅ 回傳： {\n",
      "  \"aspect\": \"音樂風格\",\n",
      "  \"sentiment\": \"負面\"\n",
      "}\n"
     ]
    },
    {
     "name": "stderr",
     "output_type": "stream",
     "text": [
      "\rGPT ABSA 處理中:  70%|██████▉   | 697/1000 [59:44<16:52,  3.34s/it]"
     ]
    },
    {
     "name": "stdout",
     "output_type": "stream",
     "text": [
      "✅ 回傳： {\n",
      "    \"aspect\": \"音樂風格\",\n",
      "    \"sentiment\": \"正面\"\n",
      "}\n"
     ]
    },
    {
     "name": "stderr",
     "output_type": "stream",
     "text": [
      "\rGPT ABSA 處理中:  70%|██████▉   | 698/1000 [59:54<25:49,  5.13s/it]"
     ]
    },
    {
     "name": "stdout",
     "output_type": "stream",
     "text": [
      "✅ 回傳： {\n",
      "  \"aspect\": \"對比分析\",\n",
      "  \"sentiment\": \"正面\"\n",
      "}\n"
     ]
    },
    {
     "name": "stderr",
     "output_type": "stream",
     "text": [
      "\rGPT ABSA 處理中:  70%|██████▉   | 699/1000 [1:00:11<44:23,  8.85s/it]"
     ]
    },
    {
     "name": "stdout",
     "output_type": "stream",
     "text": [
      "❌ 錯誤： Error code: 429 - {'error': {'message': 'Rate limit reached for gpt-3.5-turbo in organization org-Bz0CtrQHvfWxTonXiHMcFRvW on requests per day (RPD): Limit 10000, Used 10000, Requested 1. Please try again in 8.64s. Visit https://platform.openai.com/account/rate-limits to learn more.', 'type': 'requests', 'param': None, 'code': 'rate_limit_exceeded'}}\n"
     ]
    },
    {
     "name": "stderr",
     "output_type": "stream",
     "text": [
      "\rGPT ABSA 處理中:  70%|███████   | 700/1000 [1:00:12<32:01,  6.41s/it]"
     ]
    },
    {
     "name": "stdout",
     "output_type": "stream",
     "text": [
      "✅ 回傳： {\n",
      "    \"aspect\": \"音樂風格\",\n",
      "    \"sentiment\": \"正面\"\n",
      "}\n",
      "✅ 存檔 checkpoint at row 700\n"
     ]
    },
    {
     "name": "stderr",
     "output_type": "stream",
     "text": [
      "\rGPT ABSA 處理中:  70%|███████   | 701/1000 [1:00:12<23:10,  4.65s/it]"
     ]
    },
    {
     "name": "stdout",
     "output_type": "stream",
     "text": [
      "✅ 回傳： { \"aspect\": \"音樂風格\", \"sentiment\": \"中立\" }\n"
     ]
    },
    {
     "name": "stderr",
     "output_type": "stream",
     "text": [
      "\rGPT ABSA 處理中:  70%|███████   | 702/1000 [1:00:30<42:13,  8.50s/it]"
     ]
    },
    {
     "name": "stdout",
     "output_type": "stream",
     "text": [
      "❌ 錯誤： Error code: 429 - {'error': {'message': 'Rate limit reached for gpt-3.5-turbo in organization org-Bz0CtrQHvfWxTonXiHMcFRvW on requests per day (RPD): Limit 10000, Used 10000, Requested 1. Please try again in 8.64s. Visit https://platform.openai.com/account/rate-limits to learn more.', 'type': 'requests', 'param': None, 'code': 'rate_limit_exceeded'}}\n"
     ]
    },
    {
     "name": "stderr",
     "output_type": "stream",
     "text": [
      "\rGPT ABSA 處理中:  70%|███████   | 703/1000 [1:00:39<43:08,  8.71s/it]"
     ]
    },
    {
     "name": "stdout",
     "output_type": "stream",
     "text": [
      "✅ 回傳： {\n",
      "    \"aspect\": \"青春回憶\",\n",
      "    \"sentiment\": \"正面\"\n",
      "}\n"
     ]
    },
    {
     "name": "stderr",
     "output_type": "stream",
     "text": [
      "\rGPT ABSA 處理中:  70%|███████   | 704/1000 [1:00:57<56:53, 11.53s/it]"
     ]
    },
    {
     "name": "stdout",
     "output_type": "stream",
     "text": [
      "✅ 回傳： {\n",
      "  \"aspect\": \"音樂風格\",\n",
      "  \"sentiment\": \"負面\"\n",
      "}\n"
     ]
    },
    {
     "name": "stderr",
     "output_type": "stream",
     "text": [
      "\rGPT ABSA 處理中:  70%|███████   | 705/1000 [1:00:58<40:27,  8.23s/it]"
     ]
    },
    {
     "name": "stdout",
     "output_type": "stream",
     "text": [
      "✅ 回傳： { \"aspect\": \"音樂風格\", \"sentiment\": \"正面\" }\n"
     ]
    },
    {
     "name": "stderr",
     "output_type": "stream",
     "text": [
      "\rGPT ABSA 處理中:  71%|███████   | 706/1000 [1:01:07<41:49,  8.54s/it]"
     ]
    },
    {
     "name": "stdout",
     "output_type": "stream",
     "text": [
      "✅ 回傳： {\n",
      "    \"aspect\": \"歌詞意境\",\n",
      "    \"sentiment\": \"負面\"\n",
      "}\n"
     ]
    },
    {
     "name": "stderr",
     "output_type": "stream",
     "text": [
      "\rGPT ABSA 處理中:  71%|███████   | 707/1000 [1:01:07<30:01,  6.15s/it]"
     ]
    },
    {
     "name": "stdout",
     "output_type": "stream",
     "text": [
      "✅ 回傳： { \"aspect\": \"情感共鳴\", \"sentiment\": \"正面\" }\n"
     ]
    },
    {
     "name": "stderr",
     "output_type": "stream",
     "text": [
      "\rGPT ABSA 處理中:  71%|███████   | 708/1000 [1:01:25<47:07,  9.68s/it]"
     ]
    },
    {
     "name": "stdout",
     "output_type": "stream",
     "text": [
      "✅ 回傳： {\n",
      "    \"aspect\": \"音樂風格\",\n",
      "    \"sentiment\": \"正面\"\n",
      "}\n"
     ]
    },
    {
     "name": "stderr",
     "output_type": "stream",
     "text": [
      "\rGPT ABSA 處理中:  71%|███████   | 709/1000 [1:01:35<46:17,  9.54s/it]"
     ]
    },
    {
     "name": "stdout",
     "output_type": "stream",
     "text": [
      "✅ 回傳： {\n",
      "    \"aspect\": \"對比分析\",\n",
      "    \"sentiment\": \"正面\"\n",
      "}\n"
     ]
    },
    {
     "name": "stderr",
     "output_type": "stream",
     "text": [
      "\rGPT ABSA 處理中:  71%|███████   | 710/1000 [1:01:35<33:04,  6.84s/it]"
     ]
    },
    {
     "name": "stdout",
     "output_type": "stream",
     "text": [
      "✅ 回傳： { \"aspect\": \"音樂風格\", \"sentiment\": \"正面\" }\n"
     ]
    },
    {
     "name": "stderr",
     "output_type": "stream",
     "text": [
      "\rGPT ABSA 處理中:  71%|███████   | 711/1000 [1:01:36<24:11,  5.02s/it]"
     ]
    },
    {
     "name": "stdout",
     "output_type": "stream",
     "text": [
      "✅ 回傳： {\n",
      "    \"aspect\": \"歌詞意境\",\n",
      "    \"sentiment\": \"負面\"\n",
      "}\n"
     ]
    },
    {
     "name": "stderr",
     "output_type": "stream",
     "text": [
      "\rGPT ABSA 處理中:  71%|███████   | 712/1000 [1:01:36<17:35,  3.67s/it]"
     ]
    },
    {
     "name": "stdout",
     "output_type": "stream",
     "text": [
      "✅ 回傳： {\n",
      "    \"aspect\": \"情感共鳴\",\n",
      "    \"sentiment\": \"負面\"\n",
      "}\n"
     ]
    },
    {
     "name": "stderr",
     "output_type": "stream",
     "text": [
      "\rGPT ABSA 處理中:  71%|███████▏  | 713/1000 [1:01:46<25:40,  5.37s/it]"
     ]
    },
    {
     "name": "stdout",
     "output_type": "stream",
     "text": [
      "✅ 回傳： {\n",
      "    \"aspect\": \"音樂風格\",\n",
      "    \"sentiment\": \"正面\"\n",
      "}\n"
     ]
    },
    {
     "name": "stderr",
     "output_type": "stream",
     "text": [
      "\rGPT ABSA 處理中:  71%|███████▏  | 714/1000 [1:02:04<43:42,  9.17s/it]"
     ]
    },
    {
     "name": "stdout",
     "output_type": "stream",
     "text": [
      "✅ 回傳： {\n",
      "    \"aspect\": \"情感共鳴\",\n",
      "    \"sentiment\": \"負面\"\n",
      "}\n"
     ]
    },
    {
     "name": "stderr",
     "output_type": "stream",
     "text": [
      "\rGPT ABSA 處理中:  72%|███████▏  | 715/1000 [1:02:13<43:45,  9.21s/it]"
     ]
    },
    {
     "name": "stdout",
     "output_type": "stream",
     "text": [
      "✅ 回傳： {\n",
      "  \"aspect\": \"對比分析\",\n",
      "  \"sentiment\": \"中立\"\n",
      "}\n"
     ]
    },
    {
     "name": "stderr",
     "output_type": "stream",
     "text": [
      "\rGPT ABSA 處理中:  72%|███████▏  | 716/1000 [1:02:31<56:07, 11.86s/it]"
     ]
    },
    {
     "name": "stdout",
     "output_type": "stream",
     "text": [
      "✅ 回傳： {\n",
      "    \"aspect\": \"音樂風格\",\n",
      "    \"sentiment\": \"正面\"\n",
      "}\n"
     ]
    },
    {
     "name": "stderr",
     "output_type": "stream",
     "text": [
      "\rGPT ABSA 處理中:  72%|███████▏  | 717/1000 [1:02:32<39:51,  8.45s/it]"
     ]
    },
    {
     "name": "stdout",
     "output_type": "stream",
     "text": [
      "✅ 回傳： {\n",
      "    \"aspect\": \"情感共鳴\",\n",
      "    \"sentiment\": \"正面\"\n",
      "}\n"
     ]
    },
    {
     "name": "stderr",
     "output_type": "stream",
     "text": [
      "\rGPT ABSA 處理中:  72%|███████▏  | 718/1000 [1:02:32<28:32,  6.07s/it]"
     ]
    },
    {
     "name": "stdout",
     "output_type": "stream",
     "text": [
      "✅ 回傳： {\n",
      "    \"aspect\": \"音樂風格\",\n",
      "    \"sentiment\": \"中立\"\n",
      "}\n"
     ]
    },
    {
     "name": "stderr",
     "output_type": "stream",
     "text": [
      "\rGPT ABSA 處理中:  72%|███████▏  | 719/1000 [1:02:50<44:42,  9.55s/it]"
     ]
    },
    {
     "name": "stdout",
     "output_type": "stream",
     "text": [
      "❌ 錯誤： Error code: 429 - {'error': {'message': 'Rate limit reached for gpt-3.5-turbo in organization org-Bz0CtrQHvfWxTonXiHMcFRvW on requests per day (RPD): Limit 10000, Used 10000, Requested 1. Please try again in 8.64s. Visit https://platform.openai.com/account/rate-limits to learn more.', 'type': 'requests', 'param': None, 'code': 'rate_limit_exceeded'}}\n"
     ]
    },
    {
     "name": "stderr",
     "output_type": "stream",
     "text": [
      "\rGPT ABSA 處理中:  72%|███████▏  | 720/1000 [1:02:50<31:59,  6.86s/it]"
     ]
    },
    {
     "name": "stdout",
     "output_type": "stream",
     "text": [
      "✅ 回傳： { \"aspect\": \"音樂風格\", \"sentiment\": \"正面\" }\n"
     ]
    },
    {
     "name": "stderr",
     "output_type": "stream",
     "text": [
      "\rGPT ABSA 處理中:  72%|███████▏  | 721/1000 [1:03:08<47:21, 10.19s/it]"
     ]
    },
    {
     "name": "stdout",
     "output_type": "stream",
     "text": [
      "✅ 回傳： {\n",
      "    \"aspect\": \"音樂風格\",\n",
      "    \"sentiment\": \"正面\"\n",
      "}\n"
     ]
    },
    {
     "name": "stderr",
     "output_type": "stream",
     "text": [
      "\rGPT ABSA 處理中:  72%|███████▏  | 722/1000 [1:03:26<58:15, 12.57s/it]"
     ]
    },
    {
     "name": "stdout",
     "output_type": "stream",
     "text": [
      "✅ 回傳： {\n",
      "    \"aspect\": \"音樂風格\",\n",
      "    \"sentiment\": \"正面\"\n",
      "}\n"
     ]
    },
    {
     "name": "stderr",
     "output_type": "stream",
     "text": [
      "\rGPT ABSA 處理中:  72%|███████▏  | 723/1000 [1:03:27<41:27,  8.98s/it]"
     ]
    },
    {
     "name": "stdout",
     "output_type": "stream",
     "text": [
      "✅ 回傳： {\n",
      "    \"aspect\": \"歌詞意境\",\n",
      "    \"sentiment\": \"正面\"\n",
      "}\n"
     ]
    },
    {
     "name": "stderr",
     "output_type": "stream",
     "text": [
      "\rGPT ABSA 處理中:  72%|███████▏  | 724/1000 [1:03:28<30:13,  6.57s/it]"
     ]
    },
    {
     "name": "stdout",
     "output_type": "stream",
     "text": [
      "✅ 回傳： {\n",
      "  \"aspect\": \"音樂風格\",\n",
      "  \"sentiment\": \"正面\"\n",
      "}\n"
     ]
    },
    {
     "name": "stderr",
     "output_type": "stream",
     "text": [
      "\rGPT ABSA 處理中:  72%|███████▎  | 725/1000 [1:03:37<33:44,  7.36s/it]"
     ]
    },
    {
     "name": "stdout",
     "output_type": "stream",
     "text": [
      "✅ 回傳： {\n",
      "    \"aspect\": \"青春回憶\",\n",
      "    \"sentiment\": \"正面\"\n",
      "}\n"
     ]
    },
    {
     "name": "stderr",
     "output_type": "stream",
     "text": [
      "\rGPT ABSA 處理中:  73%|███████▎  | 726/1000 [1:03:38<24:32,  5.37s/it]"
     ]
    },
    {
     "name": "stdout",
     "output_type": "stream",
     "text": [
      "✅ 回傳： { \"aspect\": \"音樂風格\", \"sentiment\": \"正面\" }\n"
     ]
    },
    {
     "name": "stderr",
     "output_type": "stream",
     "text": [
      "\rGPT ABSA 處理中:  73%|███████▎  | 727/1000 [1:03:39<18:12,  4.00s/it]"
     ]
    },
    {
     "name": "stdout",
     "output_type": "stream",
     "text": [
      "✅ 回傳： {\n",
      "    \"aspect\": \"歌詞意境\",\n",
      "    \"sentiment\": \"正面\"\n",
      "}\n"
     ]
    },
    {
     "name": "stderr",
     "output_type": "stream",
     "text": [
      "\rGPT ABSA 處理中:  73%|███████▎  | 728/1000 [1:03:48<25:33,  5.64s/it]"
     ]
    },
    {
     "name": "stdout",
     "output_type": "stream",
     "text": [
      "✅ 回傳： { \"aspect\": \"音樂風格\", \"sentiment\": \"中立\" }\n"
     ]
    },
    {
     "name": "stderr",
     "output_type": "stream",
     "text": [
      "\rGPT ABSA 處理中:  73%|███████▎  | 729/1000 [1:04:06<42:20,  9.37s/it]"
     ]
    },
    {
     "name": "stdout",
     "output_type": "stream",
     "text": [
      "✅ 回傳： {\n",
      "    \"aspect\": \"音樂風格\",\n",
      "    \"sentiment\": \"正面\"\n",
      "}\n"
     ]
    },
    {
     "name": "stderr",
     "output_type": "stream",
     "text": [
      "\rGPT ABSA 處理中:  73%|███████▎  | 730/1000 [1:04:24<53:46, 11.95s/it]"
     ]
    },
    {
     "name": "stdout",
     "output_type": "stream",
     "text": [
      "✅ 回傳： {\n",
      "    \"aspect\": \"音樂風格\",\n",
      "    \"sentiment\": \"負面\"\n",
      "}\n"
     ]
    },
    {
     "name": "stderr",
     "output_type": "stream",
     "text": [
      "\rGPT ABSA 處理中:  73%|███████▎  | 731/1000 [1:04:34<50:08, 11.19s/it]"
     ]
    },
    {
     "name": "stdout",
     "output_type": "stream",
     "text": [
      "✅ 回傳： { \"aspect\": \"音樂風格\", \"sentiment\": \"中立\" }\n"
     ]
    },
    {
     "name": "stderr",
     "output_type": "stream",
     "text": [
      "\rGPT ABSA 處理中:  73%|███████▎  | 732/1000 [1:04:34<35:52,  8.03s/it]"
     ]
    },
    {
     "name": "stdout",
     "output_type": "stream",
     "text": [
      "✅ 回傳： {\n",
      "    \"aspect\": \"音樂風格\",\n",
      "    \"sentiment\": \"正面\"\n",
      "}\n"
     ]
    },
    {
     "name": "stderr",
     "output_type": "stream",
     "text": [
      "\rGPT ABSA 處理中:  73%|███████▎  | 733/1000 [1:04:35<25:52,  5.81s/it]"
     ]
    },
    {
     "name": "stdout",
     "output_type": "stream",
     "text": [
      "✅ 回傳： {\n",
      "  \"aspect\": \"音樂風格\",\n",
      "  \"sentiment\": \"正面\"\n",
      "}\n"
     ]
    },
    {
     "name": "stderr",
     "output_type": "stream",
     "text": [
      "\rGPT ABSA 處理中:  73%|███████▎  | 734/1000 [1:04:53<41:57,  9.46s/it]"
     ]
    },
    {
     "name": "stdout",
     "output_type": "stream",
     "text": [
      "✅ 回傳： {\n",
      "    \"aspect\": \"對比分析\",\n",
      "    \"sentiment\": \"正面\"\n",
      "}\n"
     ]
    },
    {
     "name": "stderr",
     "output_type": "stream",
     "text": [
      "\rGPT ABSA 處理中:  74%|███████▎  | 735/1000 [1:05:11<53:04, 12.02s/it]"
     ]
    },
    {
     "name": "stdout",
     "output_type": "stream",
     "text": [
      "✅ 回傳： { \"aspect\": \"情感共鳴\", \"sentiment\": \"中立\" }\n"
     ]
    },
    {
     "name": "stderr",
     "output_type": "stream",
     "text": [
      "\rGPT ABSA 處理中:  74%|███████▎  | 736/1000 [1:05:20<49:13, 11.19s/it]"
     ]
    },
    {
     "name": "stdout",
     "output_type": "stream",
     "text": [
      "✅ 回傳： {\n",
      "    \"aspect\": \"音樂風格\",\n",
      "    \"sentiment\": \"正面\"\n",
      "}\n"
     ]
    },
    {
     "name": "stderr",
     "output_type": "stream",
     "text": [
      "\rGPT ABSA 處理中:  74%|███████▎  | 737/1000 [1:05:21<34:56,  7.97s/it]"
     ]
    },
    {
     "name": "stdout",
     "output_type": "stream",
     "text": [
      "✅ 回傳： {\n",
      "    \"aspect\": \"情感共鳴\",\n",
      "    \"sentiment\": \"正面\"\n",
      "}\n"
     ]
    },
    {
     "name": "stderr",
     "output_type": "stream",
     "text": [
      "\rGPT ABSA 處理中:  74%|███████▍  | 738/1000 [1:05:39<48:25, 11.09s/it]"
     ]
    },
    {
     "name": "stdout",
     "output_type": "stream",
     "text": [
      "✅ 回傳： {\n",
      "    \"aspect\": \"青春回憶\",\n",
      "    \"sentiment\": \"中立\"\n",
      "}\n"
     ]
    },
    {
     "name": "stderr",
     "output_type": "stream",
     "text": [
      "\rGPT ABSA 處理中:  74%|███████▍  | 739/1000 [1:05:40<34:27,  7.92s/it]"
     ]
    },
    {
     "name": "stdout",
     "output_type": "stream",
     "text": [
      "✅ 回傳： { \"aspect\": \"情感共鳴\", \"sentiment\": \"中立\" }\n"
     ]
    },
    {
     "name": "stderr",
     "output_type": "stream",
     "text": [
      "\rGPT ABSA 處理中:  74%|███████▍  | 740/1000 [1:05:49<36:49,  8.50s/it]"
     ]
    },
    {
     "name": "stdout",
     "output_type": "stream",
     "text": [
      "✅ 回傳： {\n",
      "    \"aspect\": \"歌詞意境\",\n",
      "    \"sentiment\": \"中立\"\n",
      "}\n"
     ]
    },
    {
     "name": "stderr",
     "output_type": "stream",
     "text": [
      "\rGPT ABSA 處理中:  74%|███████▍  | 741/1000 [1:05:59<37:33,  8.70s/it]"
     ]
    },
    {
     "name": "stdout",
     "output_type": "stream",
     "text": [
      "✅ 回傳： {\n",
      "    \"aspect\": \"音樂風格\",\n",
      "    \"sentiment\": \"正面\"\n",
      "}\n"
     ]
    },
    {
     "name": "stderr",
     "output_type": "stream",
     "text": [
      "\rGPT ABSA 處理中:  74%|███████▍  | 742/1000 [1:06:08<38:35,  8.97s/it]"
     ]
    },
    {
     "name": "stdout",
     "output_type": "stream",
     "text": [
      "✅ 回傳： {\n",
      "    \"aspect\": \"對比分析\",\n",
      "    \"sentiment\": \"正面\"\n",
      "}\n"
     ]
    },
    {
     "name": "stderr",
     "output_type": "stream",
     "text": [
      "\rGPT ABSA 處理中:  74%|███████▍  | 743/1000 [1:06:09<27:30,  6.42s/it]"
     ]
    },
    {
     "name": "stdout",
     "output_type": "stream",
     "text": [
      "✅ 回傳： { \"aspect\": \"青春回憶\", \"sentiment\": \"中立\" }\n"
     ]
    },
    {
     "name": "stderr",
     "output_type": "stream",
     "text": [
      "\rGPT ABSA 處理中:  74%|███████▍  | 744/1000 [1:06:18<31:14,  7.32s/it]"
     ]
    },
    {
     "name": "stdout",
     "output_type": "stream",
     "text": [
      "✅ 回傳： {\n",
      "    \"aspect\": \"情感共鳴\",\n",
      "    \"sentiment\": \"正面\"\n",
      "}\n"
     ]
    },
    {
     "name": "stderr",
     "output_type": "stream",
     "text": [
      "\rGPT ABSA 處理中:  74%|███████▍  | 745/1000 [1:06:19<22:42,  5.34s/it]"
     ]
    },
    {
     "name": "stdout",
     "output_type": "stream",
     "text": [
      "✅ 回傳： {\n",
      "    \"aspect\": \"青春回憶\",\n",
      "    \"sentiment\": \"正面\"\n",
      "}\n"
     ]
    },
    {
     "name": "stderr",
     "output_type": "stream",
     "text": [
      "\rGPT ABSA 處理中:  75%|███████▍  | 746/1000 [1:06:36<38:04,  9.00s/it]"
     ]
    },
    {
     "name": "stdout",
     "output_type": "stream",
     "text": [
      "❌ 錯誤： Error code: 429 - {'error': {'message': 'Rate limit reached for gpt-3.5-turbo in organization org-Bz0CtrQHvfWxTonXiHMcFRvW on requests per day (RPD): Limit 10000, Used 10000, Requested 1. Please try again in 8.64s. Visit https://platform.openai.com/account/rate-limits to learn more.', 'type': 'requests', 'param': None, 'code': 'rate_limit_exceeded'}}\n"
     ]
    },
    {
     "name": "stderr",
     "output_type": "stream",
     "text": [
      "\rGPT ABSA 處理中:  75%|███████▍  | 747/1000 [1:06:46<38:10,  9.05s/it]"
     ]
    },
    {
     "name": "stdout",
     "output_type": "stream",
     "text": [
      "✅ 回傳： {\n",
      "    \"aspect\": \"音樂風格\",\n",
      "    \"sentiment\": \"正面\"\n",
      "}\n"
     ]
    },
    {
     "name": "stderr",
     "output_type": "stream",
     "text": [
      "\rGPT ABSA 處理中:  75%|███████▍  | 748/1000 [1:06:46<27:21,  6.51s/it]"
     ]
    },
    {
     "name": "stdout",
     "output_type": "stream",
     "text": [
      "✅ 回傳： {\n",
      "    \"aspect\": \"音樂風格\",\n",
      "    \"sentiment\": \"中立\"\n",
      "}\n"
     ]
    },
    {
     "name": "stderr",
     "output_type": "stream",
     "text": [
      "\rGPT ABSA 處理中:  75%|███████▍  | 749/1000 [1:06:55<30:46,  7.36s/it]"
     ]
    },
    {
     "name": "stdout",
     "output_type": "stream",
     "text": [
      "✅ 回傳： { \"aspect\": \"青春回憶\", \"sentiment\": \"正面\" }\n"
     ]
    },
    {
     "name": "stderr",
     "output_type": "stream",
     "text": [
      "\rGPT ABSA 處理中:  75%|███████▌  | 750/1000 [1:07:14<44:30, 10.68s/it]"
     ]
    },
    {
     "name": "stdout",
     "output_type": "stream",
     "text": [
      "✅ 回傳： {\n",
      "  \"aspect\": \"音樂風格\",\n",
      "  \"sentiment\": \"負面\"\n",
      "}\n"
     ]
    },
    {
     "name": "stderr",
     "output_type": "stream",
     "text": [
      "\rGPT ABSA 處理中:  75%|███████▌  | 751/1000 [1:07:14<31:36,  7.62s/it]"
     ]
    },
    {
     "name": "stdout",
     "output_type": "stream",
     "text": [
      "✅ 回傳： { \"aspect\": \"音樂風格\", \"sentiment\": \"正面\" }\n"
     ]
    },
    {
     "name": "stderr",
     "output_type": "stream",
     "text": [
      "\rGPT ABSA 處理中:  75%|███████▌  | 752/1000 [1:07:15<22:45,  5.50s/it]"
     ]
    },
    {
     "name": "stdout",
     "output_type": "stream",
     "text": [
      "✅ 回傳： {\n",
      "    \"aspect\": \"青春回憶\",\n",
      "    \"sentiment\": \"正面\"\n",
      "}\n"
     ]
    },
    {
     "name": "stderr",
     "output_type": "stream",
     "text": [
      "\rGPT ABSA 處理中:  75%|███████▌  | 753/1000 [1:07:33<37:58,  9.23s/it]"
     ]
    },
    {
     "name": "stdout",
     "output_type": "stream",
     "text": [
      "✅ 回傳： { \"aspect\": \"對比分析\", \"sentiment\": \"負面\" }\n"
     ]
    },
    {
     "name": "stderr",
     "output_type": "stream",
     "text": [
      "\rGPT ABSA 處理中:  75%|███████▌  | 754/1000 [1:07:51<48:42, 11.88s/it]"
     ]
    },
    {
     "name": "stdout",
     "output_type": "stream",
     "text": [
      "✅ 回傳： {\n",
      "  \"aspect\": \"歌詞意境\",\n",
      "  \"sentiment\": \"負面\"\n",
      "}\n"
     ]
    },
    {
     "name": "stderr",
     "output_type": "stream",
     "text": [
      "\rGPT ABSA 處理中:  76%|███████▌  | 755/1000 [1:07:51<34:40,  8.49s/it]"
     ]
    },
    {
     "name": "stdout",
     "output_type": "stream",
     "text": [
      "✅ 回傳： {\n",
      "  \"aspect\": \"青春回憶\",\n",
      "  \"sentiment\": \"正面\"\n",
      "}\n"
     ]
    },
    {
     "name": "stderr",
     "output_type": "stream",
     "text": [
      "\rGPT ABSA 處理中:  76%|███████▌  | 756/1000 [1:08:09<46:05, 11.33s/it]"
     ]
    },
    {
     "name": "stdout",
     "output_type": "stream",
     "text": [
      "✅ 回傳： {\n",
      "    \"aspect\": \"對比分析\",\n",
      "    \"sentiment\": \"正面\"\n",
      "}\n"
     ]
    },
    {
     "name": "stderr",
     "output_type": "stream",
     "text": [
      "\rGPT ABSA 處理中:  76%|███████▌  | 757/1000 [1:08:10<32:44,  8.09s/it]"
     ]
    },
    {
     "name": "stdout",
     "output_type": "stream",
     "text": [
      "✅ 回傳： {\n",
      "  \"aspect\": \"音樂風格\",\n",
      "  \"sentiment\": \"正面\"\n",
      "}\n"
     ]
    },
    {
     "name": "stderr",
     "output_type": "stream",
     "text": [
      "\rGPT ABSA 處理中:  76%|███████▌  | 758/1000 [1:08:10<23:22,  5.79s/it]"
     ]
    },
    {
     "name": "stdout",
     "output_type": "stream",
     "text": [
      "✅ 回傳： { \"aspect\": \"對比分析\", \"sentiment\": \"負面\" }\n"
     ]
    },
    {
     "name": "stderr",
     "output_type": "stream",
     "text": [
      "\rGPT ABSA 處理中:  76%|███████▌  | 759/1000 [1:08:28<37:24,  9.31s/it]"
     ]
    },
    {
     "name": "stdout",
     "output_type": "stream",
     "text": [
      "❌ 錯誤： Error code: 429 - {'error': {'message': 'Rate limit reached for gpt-3.5-turbo in organization org-Bz0CtrQHvfWxTonXiHMcFRvW on requests per day (RPD): Limit 10000, Used 10000, Requested 1. Please try again in 8.64s. Visit https://platform.openai.com/account/rate-limits to learn more.', 'type': 'requests', 'param': None, 'code': 'rate_limit_exceeded'}}\n"
     ]
    },
    {
     "name": "stderr",
     "output_type": "stream",
     "text": [
      "\rGPT ABSA 處理中:  76%|███████▌  | 760/1000 [1:08:37<37:13,  9.31s/it]"
     ]
    },
    {
     "name": "stdout",
     "output_type": "stream",
     "text": [
      "✅ 回傳： { \"aspect\": \"音樂風格\", \"sentiment\": \"正面\" }\n"
     ]
    },
    {
     "name": "stderr",
     "output_type": "stream",
     "text": [
      "\rGPT ABSA 處理中:  76%|███████▌  | 761/1000 [1:08:38<26:38,  6.69s/it]"
     ]
    },
    {
     "name": "stdout",
     "output_type": "stream",
     "text": [
      "✅ 回傳： {\n",
      "    \"aspect\": \"對比分析\",\n",
      "    \"sentiment\": \"正面\"\n",
      "}\n"
     ]
    },
    {
     "name": "stderr",
     "output_type": "stream",
     "text": [
      "\rGPT ABSA 處理中:  76%|███████▌  | 762/1000 [1:08:39<19:53,  5.01s/it]"
     ]
    },
    {
     "name": "stdout",
     "output_type": "stream",
     "text": [
      "✅ 回傳： {\n",
      "  \"aspect\": \"情感共鳴\",\n",
      "  \"sentiment\": \"正面\"\n",
      "}\n"
     ]
    },
    {
     "name": "stderr",
     "output_type": "stream",
     "text": [
      "\rGPT ABSA 處理中:  76%|███████▋  | 763/1000 [1:08:57<35:14,  8.92s/it]"
     ]
    },
    {
     "name": "stdout",
     "output_type": "stream",
     "text": [
      "✅ 回傳： {\n",
      "  \"aspect\": \"對比分析\",\n",
      "  \"sentiment\": \"負面\"\n",
      "}\n"
     ]
    },
    {
     "name": "stderr",
     "output_type": "stream",
     "text": [
      "\rGPT ABSA 處理中:  76%|███████▋  | 764/1000 [1:08:58<25:16,  6.43s/it]"
     ]
    },
    {
     "name": "stdout",
     "output_type": "stream",
     "text": [
      "✅ 回傳： {\n",
      "    \"aspect\": \"青春回憶\",\n",
      "    \"sentiment\": \"正面\"\n",
      "}\n"
     ]
    },
    {
     "name": "stderr",
     "output_type": "stream",
     "text": [
      "\rGPT ABSA 處理中:  76%|███████▋  | 765/1000 [1:08:58<18:26,  4.71s/it]"
     ]
    },
    {
     "name": "stdout",
     "output_type": "stream",
     "text": [
      "✅ 回傳： {\n",
      "    \"aspect\": \"音樂風格\",\n",
      "    \"sentiment\": \"負面\"\n",
      "}\n"
     ]
    },
    {
     "name": "stderr",
     "output_type": "stream",
     "text": [
      "\rGPT ABSA 處理中:  77%|███████▋  | 766/1000 [1:09:16<33:58,  8.71s/it]"
     ]
    },
    {
     "name": "stdout",
     "output_type": "stream",
     "text": [
      "✅ 回傳： {\n",
      "    \"aspect\": \"音樂風格\",\n",
      "    \"sentiment\": \"負面\"\n",
      "}\n"
     ]
    },
    {
     "name": "stderr",
     "output_type": "stream",
     "text": [
      "\rGPT ABSA 處理中:  77%|███████▋  | 767/1000 [1:09:26<34:38,  8.92s/it]"
     ]
    },
    {
     "name": "stdout",
     "output_type": "stream",
     "text": [
      "✅ 回傳： {\n",
      "  \"aspect\": \"對比分析\",\n",
      "  \"sentiment\": \"負面\"\n",
      "}\n"
     ]
    },
    {
     "name": "stderr",
     "output_type": "stream",
     "text": [
      "\rGPT ABSA 處理中:  77%|███████▋  | 768/1000 [1:09:26<24:47,  6.41s/it]"
     ]
    },
    {
     "name": "stdout",
     "output_type": "stream",
     "text": [
      "✅ 回傳： {\n",
      "    \"aspect\": \"音樂風格\",\n",
      "    \"sentiment\": \"正面\"\n",
      "}\n"
     ]
    },
    {
     "name": "stderr",
     "output_type": "stream",
     "text": [
      "\rGPT ABSA 處理中:  77%|███████▋  | 769/1000 [1:09:27<17:51,  4.64s/it]"
     ]
    },
    {
     "name": "stdout",
     "output_type": "stream",
     "text": [
      "✅ 回傳： {\n",
      "    \"aspect\": \"青春回憶\",\n",
      "    \"sentiment\": \"正面\"\n",
      "}\n"
     ]
    },
    {
     "name": "stderr",
     "output_type": "stream",
     "text": [
      "\rGPT ABSA 處理中:  77%|███████▋  | 770/1000 [1:09:45<33:09,  8.65s/it]"
     ]
    },
    {
     "name": "stdout",
     "output_type": "stream",
     "text": [
      "✅ 回傳： {\n",
      "    \"aspect\": \"對比分析\",\n",
      "    \"sentiment\": \"正面\"\n",
      "}\n"
     ]
    },
    {
     "name": "stderr",
     "output_type": "stream",
     "text": [
      "\rGPT ABSA 處理中:  77%|███████▋  | 771/1000 [1:09:45<23:47,  6.23s/it]"
     ]
    },
    {
     "name": "stdout",
     "output_type": "stream",
     "text": [
      "✅ 回傳： {\n",
      "    \"aspect\": \"對比分析\",\n",
      "    \"sentiment\": \"正面\"\n",
      "}\n"
     ]
    },
    {
     "name": "stderr",
     "output_type": "stream",
     "text": [
      "\rGPT ABSA 處理中:  77%|███████▋  | 772/1000 [1:10:03<36:33,  9.62s/it]"
     ]
    },
    {
     "name": "stdout",
     "output_type": "stream",
     "text": [
      "❌ 錯誤： Error code: 429 - {'error': {'message': 'Rate limit reached for gpt-3.5-turbo in organization org-Bz0CtrQHvfWxTonXiHMcFRvW on requests per day (RPD): Limit 10000, Used 10000, Requested 1. Please try again in 8.64s. Visit https://platform.openai.com/account/rate-limits to learn more.', 'type': 'requests', 'param': None, 'code': 'rate_limit_exceeded'}}\n"
     ]
    },
    {
     "name": "stderr",
     "output_type": "stream",
     "text": [
      "\rGPT ABSA 處理中:  77%|███████▋  | 773/1000 [1:10:21<45:56, 12.14s/it]"
     ]
    },
    {
     "name": "stdout",
     "output_type": "stream",
     "text": [
      "✅ 回傳： {\n",
      "  \"aspect\": \"對比分析\",\n",
      "  \"sentiment\": \"正面\"\n",
      "}\n"
     ]
    },
    {
     "name": "stderr",
     "output_type": "stream",
     "text": [
      "\rGPT ABSA 處理中:  77%|███████▋  | 774/1000 [1:10:21<32:39,  8.67s/it]"
     ]
    },
    {
     "name": "stdout",
     "output_type": "stream",
     "text": [
      "✅ 回傳： {\n",
      "  \"aspect\": \"對比分析\",\n",
      "  \"sentiment\": \"負面\"\n",
      "}\n"
     ]
    },
    {
     "name": "stderr",
     "output_type": "stream",
     "text": [
      "\rGPT ABSA 處理中:  78%|███████▊  | 775/1000 [1:10:31<33:10,  8.85s/it]"
     ]
    },
    {
     "name": "stdout",
     "output_type": "stream",
     "text": [
      "✅ 回傳： {\n",
      "    \"aspect\": \"青春回憶\",\n",
      "    \"sentiment\": \"正面\"\n",
      "}\n"
     ]
    },
    {
     "name": "stderr",
     "output_type": "stream",
     "text": [
      "\rGPT ABSA 處理中:  78%|███████▊  | 776/1000 [1:10:32<24:00,  6.43s/it]"
     ]
    },
    {
     "name": "stdout",
     "output_type": "stream",
     "text": [
      "✅ 回傳： { \"aspect\": \"青春回憶\", \"sentiment\": \"中立\" }\n"
     ]
    },
    {
     "name": "stderr",
     "output_type": "stream",
     "text": [
      "\rGPT ABSA 處理中:  78%|███████▊  | 777/1000 [1:10:49<36:41,  9.87s/it]"
     ]
    },
    {
     "name": "stdout",
     "output_type": "stream",
     "text": [
      "✅ 回傳： {\n",
      "  \"aspect\": \"青春回憶\",\n",
      "  \"sentiment\": \"正面\"\n",
      "}\n"
     ]
    },
    {
     "name": "stderr",
     "output_type": "stream",
     "text": [
      "\rGPT ABSA 處理中:  78%|███████▊  | 778/1000 [1:10:59<35:54,  9.71s/it]"
     ]
    },
    {
     "name": "stdout",
     "output_type": "stream",
     "text": [
      "✅ 回傳： { \"aspect\": \"青春回憶\", \"sentiment\": \"中立\" }\n"
     ]
    },
    {
     "name": "stderr",
     "output_type": "stream",
     "text": [
      "\rGPT ABSA 處理中:  78%|███████▊  | 779/1000 [1:10:59<25:29,  6.92s/it]"
     ]
    },
    {
     "name": "stdout",
     "output_type": "stream",
     "text": [
      "✅ 回傳： { \"aspect\": \"音樂風格\", \"sentiment\": \"負面\" }\n"
     ]
    },
    {
     "name": "stderr",
     "output_type": "stream",
     "text": [
      "\rGPT ABSA 處理中:  78%|███████▊  | 780/1000 [1:11:08<27:53,  7.61s/it]"
     ]
    },
    {
     "name": "stdout",
     "output_type": "stream",
     "text": [
      "✅ 回傳： { \"aspect\": \"青春回憶\", \"sentiment\": \"中立\" }\n"
     ]
    },
    {
     "name": "stderr",
     "output_type": "stream",
     "text": [
      "\rGPT ABSA 處理中:  78%|███████▊  | 781/1000 [1:11:09<20:07,  5.51s/it]"
     ]
    },
    {
     "name": "stdout",
     "output_type": "stream",
     "text": [
      "✅ 回傳： {\n",
      "    \"aspect\": \"青春回憶\",\n",
      "    \"sentiment\": \"正面\"\n",
      "}\n"
     ]
    },
    {
     "name": "stderr",
     "output_type": "stream",
     "text": [
      "\rGPT ABSA 處理中:  78%|███████▊  | 782/1000 [1:11:10<14:33,  4.01s/it]"
     ]
    },
    {
     "name": "stdout",
     "output_type": "stream",
     "text": [
      "✅ 回傳： {\n",
      "  \"aspect\": \"對比分析\",\n",
      "  \"sentiment\": \"負面\"\n",
      "}\n"
     ]
    },
    {
     "name": "stderr",
     "output_type": "stream",
     "text": [
      "\rGPT ABSA 處理中:  78%|███████▊  | 783/1000 [1:11:27<29:07,  8.05s/it]"
     ]
    },
    {
     "name": "stdout",
     "output_type": "stream",
     "text": [
      "❌ 錯誤： Error code: 429 - {'error': {'message': 'Rate limit reached for gpt-3.5-turbo in organization org-Bz0CtrQHvfWxTonXiHMcFRvW on requests per day (RPD): Limit 10000, Used 10000, Requested 1. Please try again in 8.64s. Visit https://platform.openai.com/account/rate-limits to learn more.', 'type': 'requests', 'param': None, 'code': 'rate_limit_exceeded'}}\n"
     ]
    },
    {
     "name": "stderr",
     "output_type": "stream",
     "text": [
      "\rGPT ABSA 處理中:  78%|███████▊  | 784/1000 [1:11:36<30:26,  8.45s/it]"
     ]
    },
    {
     "name": "stdout",
     "output_type": "stream",
     "text": [
      "✅ 回傳： {\n",
      "    \"aspect\": \"青春回憶\",\n",
      "    \"sentiment\": \"中立\"\n",
      "}\n"
     ]
    },
    {
     "name": "stderr",
     "output_type": "stream",
     "text": [
      "\rGPT ABSA 處理中:  78%|███████▊  | 785/1000 [1:11:46<31:16,  8.73s/it]"
     ]
    },
    {
     "name": "stdout",
     "output_type": "stream",
     "text": [
      "✅ 回傳： {\n",
      "  \"aspect\": \"情感共鳴\",\n",
      "  \"sentiment\": \"正面\"\n",
      "}\n"
     ]
    },
    {
     "name": "stderr",
     "output_type": "stream",
     "text": [
      "\rGPT ABSA 處理中:  79%|███████▊  | 786/1000 [1:12:04<41:22, 11.60s/it]"
     ]
    },
    {
     "name": "stdout",
     "output_type": "stream",
     "text": [
      "✅ 回傳： {\n",
      "    \"aspect\": \"音樂風格\",\n",
      "    \"sentiment\": \"負面\"\n",
      "}\n"
     ]
    },
    {
     "name": "stderr",
     "output_type": "stream",
     "text": [
      "\rGPT ABSA 處理中:  79%|███████▊  | 787/1000 [1:12:13<38:33, 10.86s/it]"
     ]
    },
    {
     "name": "stdout",
     "output_type": "stream",
     "text": [
      "✅ 回傳： {\n",
      "    \"aspect\": \"對比分析\",\n",
      "    \"sentiment\": \"正面\"\n",
      "}\n"
     ]
    },
    {
     "name": "stderr",
     "output_type": "stream",
     "text": [
      "\rGPT ABSA 處理中:  79%|███████▉  | 788/1000 [1:12:23<36:47, 10.41s/it]"
     ]
    },
    {
     "name": "stdout",
     "output_type": "stream",
     "text": [
      "✅ 回傳： {\n",
      "  \"aspect\": \"對比分析\",\n",
      "  \"sentiment\": \"負面\"\n",
      "}\n"
     ]
    },
    {
     "name": "stderr",
     "output_type": "stream",
     "text": [
      "\rGPT ABSA 處理中:  79%|███████▉  | 789/1000 [1:12:23<26:14,  7.46s/it]"
     ]
    },
    {
     "name": "stdout",
     "output_type": "stream",
     "text": [
      "✅ 回傳： {\n",
      "    \"aspect\": \"情感共鳴\",\n",
      "    \"sentiment\": \"正面\"\n",
      "}\n"
     ]
    },
    {
     "name": "stderr",
     "output_type": "stream",
     "text": [
      "\rGPT ABSA 處理中:  79%|███████▉  | 790/1000 [1:12:24<18:57,  5.42s/it]"
     ]
    },
    {
     "name": "stdout",
     "output_type": "stream",
     "text": [
      "✅ 回傳： { \"aspect\": \"音樂風格\", \"sentiment\": \"負面\" }\n"
     ]
    },
    {
     "name": "stderr",
     "output_type": "stream",
     "text": [
      "\rGPT ABSA 處理中:  79%|███████▉  | 791/1000 [1:12:33<22:56,  6.59s/it]"
     ]
    },
    {
     "name": "stdout",
     "output_type": "stream",
     "text": [
      "✅ 回傳： {\n",
      "    \"aspect\": \"青春回憶\",\n",
      "    \"sentiment\": \"正面\"\n",
      "}\n"
     ]
    },
    {
     "name": "stderr",
     "output_type": "stream",
     "text": [
      "\rGPT ABSA 處理中:  79%|███████▉  | 792/1000 [1:12:51<34:48, 10.04s/it]"
     ]
    },
    {
     "name": "stdout",
     "output_type": "stream",
     "text": [
      "✅ 回傳： { \"aspect\": \"音樂風格\", \"sentiment\": \"正面\" }\n"
     ]
    },
    {
     "name": "stderr",
     "output_type": "stream",
     "text": [
      "\rGPT ABSA 處理中:  79%|███████▉  | 793/1000 [1:12:52<24:42,  7.16s/it]"
     ]
    },
    {
     "name": "stdout",
     "output_type": "stream",
     "text": [
      "✅ 回傳： {\n",
      "    \"aspect\": \"對比分析\",\n",
      "    \"sentiment\": \"正面\"\n",
      "}\n"
     ]
    },
    {
     "name": "stderr",
     "output_type": "stream",
     "text": [
      "\rGPT ABSA 處理中:  79%|███████▉  | 794/1000 [1:12:52<17:43,  5.16s/it]"
     ]
    },
    {
     "name": "stdout",
     "output_type": "stream",
     "text": [
      "✅ 回傳： {\n",
      "  \"aspect\": \"對比分析\",\n",
      "  \"sentiment\": \"中立\"\n",
      "}\n"
     ]
    },
    {
     "name": "stderr",
     "output_type": "stream",
     "text": [
      "\rGPT ABSA 處理中:  80%|███████▉  | 795/1000 [1:13:10<31:00,  9.07s/it]"
     ]
    },
    {
     "name": "stdout",
     "output_type": "stream",
     "text": [
      "✅ 回傳： {\n",
      "  \"aspect\": \"音樂風格\",\n",
      "  \"sentiment\": \"正面\"\n",
      "}\n"
     ]
    },
    {
     "name": "stderr",
     "output_type": "stream",
     "text": [
      "\rGPT ABSA 處理中:  80%|███████▉  | 796/1000 [1:13:11<22:06,  6.50s/it]"
     ]
    },
    {
     "name": "stdout",
     "output_type": "stream",
     "text": [
      "✅ 回傳： {\n",
      "  \"aspect\": \"音樂風格\",\n",
      "  \"sentiment\": \"中立\"\n",
      "}\n"
     ]
    },
    {
     "name": "stderr",
     "output_type": "stream",
     "text": [
      "\rGPT ABSA 處理中:  80%|███████▉  | 797/1000 [1:13:29<33:48,  9.99s/it]"
     ]
    },
    {
     "name": "stdout",
     "output_type": "stream",
     "text": [
      "✅ 回傳： {\n",
      "    \"aspect\": \"音樂風格\",\n",
      "    \"sentiment\": \"正面\"\n",
      "}\n"
     ]
    },
    {
     "name": "stderr",
     "output_type": "stream",
     "text": [
      "\rGPT ABSA 處理中:  80%|███████▉  | 798/1000 [1:13:38<33:00,  9.80s/it]"
     ]
    },
    {
     "name": "stdout",
     "output_type": "stream",
     "text": [
      "✅ 回傳： {\n",
      "  \"aspect\": \"對比分析\",\n",
      "  \"sentiment\": \"正面\"\n",
      "}\n"
     ]
    },
    {
     "name": "stderr",
     "output_type": "stream",
     "text": [
      "\rGPT ABSA 處理中:  80%|███████▉  | 799/1000 [1:13:39<23:26,  7.00s/it]"
     ]
    },
    {
     "name": "stdout",
     "output_type": "stream",
     "text": [
      "✅ 回傳： {\n",
      "    \"aspect\": \"對比分析\",\n",
      "    \"sentiment\": \"正面\"\n",
      "}\n"
     ]
    },
    {
     "name": "stderr",
     "output_type": "stream",
     "text": [
      "\rGPT ABSA 處理中:  80%|████████  | 800/1000 [1:13:39<17:00,  5.10s/it]"
     ]
    },
    {
     "name": "stdout",
     "output_type": "stream",
     "text": [
      "✅ 回傳： {\n",
      "    \"aspect\": \"青春回憶\",\n",
      "    \"sentiment\": \"中立\"\n",
      "}\n",
      "✅ 存檔 checkpoint at row 800\n"
     ]
    },
    {
     "name": "stderr",
     "output_type": "stream",
     "text": [
      "\rGPT ABSA 處理中:  80%|████████  | 801/1000 [1:13:57<29:18,  8.84s/it]"
     ]
    },
    {
     "name": "stdout",
     "output_type": "stream",
     "text": [
      "❌ 錯誤： Error code: 429 - {'error': {'message': 'Rate limit reached for gpt-3.5-turbo in organization org-Bz0CtrQHvfWxTonXiHMcFRvW on requests per day (RPD): Limit 10000, Used 10000, Requested 1. Please try again in 8.64s. Visit https://platform.openai.com/account/rate-limits to learn more.', 'type': 'requests', 'param': None, 'code': 'rate_limit_exceeded'}}\n"
     ]
    },
    {
     "name": "stderr",
     "output_type": "stream",
     "text": [
      "\rGPT ABSA 處理中:  80%|████████  | 802/1000 [1:14:06<29:30,  8.94s/it]"
     ]
    },
    {
     "name": "stdout",
     "output_type": "stream",
     "text": [
      "✅ 回傳： {\n",
      "    \"aspect\": \"情感共鳴\",\n",
      "    \"sentiment\": \"正面\"\n",
      "}\n"
     ]
    },
    {
     "name": "stderr",
     "output_type": "stream",
     "text": [
      "\rGPT ABSA 處理中:  80%|████████  | 803/1000 [1:14:16<29:59,  9.14s/it]"
     ]
    },
    {
     "name": "stdout",
     "output_type": "stream",
     "text": [
      "✅ 回傳： {\n",
      "    \"aspect\": \"音樂風格\",\n",
      "    \"sentiment\": \"正面\"\n",
      "}\n"
     ]
    },
    {
     "name": "stderr",
     "output_type": "stream",
     "text": [
      "\rGPT ABSA 處理中:  80%|████████  | 804/1000 [1:14:25<30:20,  9.29s/it]"
     ]
    },
    {
     "name": "stdout",
     "output_type": "stream",
     "text": [
      "✅ 回傳： {\n",
      "    \"aspect\": \"歌詞意境\",\n",
      "    \"sentiment\": \"負面\"\n",
      "}\n"
     ]
    },
    {
     "name": "stderr",
     "output_type": "stream",
     "text": [
      "\rGPT ABSA 處理中:  80%|████████  | 805/1000 [1:14:26<21:37,  6.65s/it]"
     ]
    },
    {
     "name": "stdout",
     "output_type": "stream",
     "text": [
      "✅ 回傳： { \"aspect\": \"情感共鳴\", \"sentiment\": \"中立\" }\n"
     ]
    },
    {
     "name": "stderr",
     "output_type": "stream",
     "text": [
      "\rGPT ABSA 處理中:  81%|████████  | 806/1000 [1:14:44<32:33, 10.07s/it]"
     ]
    },
    {
     "name": "stdout",
     "output_type": "stream",
     "text": [
      "✅ 回傳： {\n",
      "    \"aspect\": \"音樂風格\",\n",
      "    \"sentiment\": \"正面\"\n",
      "}\n"
     ]
    },
    {
     "name": "stderr",
     "output_type": "stream",
     "text": [
      "\rGPT ABSA 處理中:  81%|████████  | 807/1000 [1:14:45<23:11,  7.21s/it]"
     ]
    },
    {
     "name": "stdout",
     "output_type": "stream",
     "text": [
      "✅ 回傳： {\n",
      "    \"aspect\": \"音樂風格\",\n",
      "    \"sentiment\": \"正面\"\n",
      "}\n"
     ]
    },
    {
     "name": "stderr",
     "output_type": "stream",
     "text": [
      "\rGPT ABSA 處理中:  81%|████████  | 808/1000 [1:14:54<25:02,  7.82s/it]"
     ]
    },
    {
     "name": "stdout",
     "output_type": "stream",
     "text": [
      "✅ 回傳： {\n",
      "  \"aspect\": \"歌詞意境\",\n",
      "  \"sentiment\": \"負面\"\n",
      "}\n"
     ]
    },
    {
     "name": "stderr",
     "output_type": "stream",
     "text": [
      "\rGPT ABSA 處理中:  81%|████████  | 809/1000 [1:14:54<17:52,  5.61s/it]"
     ]
    },
    {
     "name": "stdout",
     "output_type": "stream",
     "text": [
      "✅ 回傳： {\n",
      "    \"aspect\": \"情感共鳴\",\n",
      "    \"sentiment\": \"中立\"\n",
      "}\n"
     ]
    },
    {
     "name": "stderr",
     "output_type": "stream",
     "text": [
      "\rGPT ABSA 處理中:  81%|████████  | 810/1000 [1:15:04<21:25,  6.77s/it]"
     ]
    },
    {
     "name": "stdout",
     "output_type": "stream",
     "text": [
      "✅ 回傳： {\n",
      "  \"aspect\": \"情感共鳴\",\n",
      "  \"sentiment\": \"正面\"\n",
      "}\n"
     ]
    },
    {
     "name": "stderr",
     "output_type": "stream",
     "text": [
      "\rGPT ABSA 處理中:  81%|████████  | 811/1000 [1:15:22<31:58, 10.15s/it]"
     ]
    },
    {
     "name": "stdout",
     "output_type": "stream",
     "text": [
      "✅ 回傳： {\n",
      "  \"aspect\": \"對比分析\",\n",
      "  \"sentiment\": \"正面\"\n",
      "}\n"
     ]
    },
    {
     "name": "stderr",
     "output_type": "stream",
     "text": [
      "\rGPT ABSA 處理中:  81%|████████  | 812/1000 [1:15:31<30:55,  9.87s/it]"
     ]
    },
    {
     "name": "stdout",
     "output_type": "stream",
     "text": [
      "✅ 回傳： {\n",
      "    \"aspect\": \"情感共鳴\",\n",
      "    \"sentiment\": \"正面\"\n",
      "}\n"
     ]
    },
    {
     "name": "stderr",
     "output_type": "stream",
     "text": [
      "\rGPT ABSA 處理中:  81%|████████▏ | 813/1000 [1:15:32<22:06,  7.09s/it]"
     ]
    },
    {
     "name": "stdout",
     "output_type": "stream",
     "text": [
      "✅ 回傳： { \"aspect\": \"青春回憶\", \"sentiment\": \"正面\" }\n"
     ]
    },
    {
     "name": "stderr",
     "output_type": "stream",
     "text": [
      "\rGPT ABSA 處理中:  81%|████████▏ | 814/1000 [1:15:32<15:57,  5.15s/it]"
     ]
    },
    {
     "name": "stdout",
     "output_type": "stream",
     "text": [
      "✅ 回傳： {\n",
      "    \"aspect\": \"青春回憶\",\n",
      "    \"sentiment\": \"中立\"\n",
      "}\n"
     ]
    },
    {
     "name": "stderr",
     "output_type": "stream",
     "text": [
      "\rGPT ABSA 處理中:  82%|████████▏ | 815/1000 [1:15:50<27:44,  9.00s/it]"
     ]
    },
    {
     "name": "stdout",
     "output_type": "stream",
     "text": [
      "✅ 回傳： {\n",
      "    \"aspect\": \"音樂風格\",\n",
      "    \"sentiment\": \"負面\"\n",
      "}\n"
     ]
    },
    {
     "name": "stderr",
     "output_type": "stream",
     "text": [
      "\rGPT ABSA 處理中:  82%|████████▏ | 816/1000 [1:15:51<20:04,  6.54s/it]"
     ]
    },
    {
     "name": "stdout",
     "output_type": "stream",
     "text": [
      "✅ 回傳： {\n",
      "  \"aspect\": \"音樂風格\",\n",
      "  \"sentiment\": \"正面\"\n",
      "}\n"
     ]
    },
    {
     "name": "stderr",
     "output_type": "stream",
     "text": [
      "\rGPT ABSA 處理中:  82%|████████▏ | 817/1000 [1:16:08<29:57,  9.82s/it]"
     ]
    },
    {
     "name": "stdout",
     "output_type": "stream",
     "text": [
      "❌ 錯誤： Error code: 429 - {'error': {'message': 'Rate limit reached for gpt-3.5-turbo in organization org-Bz0CtrQHvfWxTonXiHMcFRvW on requests per day (RPD): Limit 10000, Used 10000, Requested 1. Please try again in 8.64s. Visit https://platform.openai.com/account/rate-limits to learn more.', 'type': 'requests', 'param': None, 'code': 'rate_limit_exceeded'}}\n"
     ]
    },
    {
     "name": "stderr",
     "output_type": "stream",
     "text": [
      "\rGPT ABSA 處理中:  82%|████████▏ | 818/1000 [1:16:18<29:20,  9.68s/it]"
     ]
    },
    {
     "name": "stdout",
     "output_type": "stream",
     "text": [
      "✅ 回傳： { \"aspect\": \"情感共鳴\", \"sentiment\": \"正面\" }\n"
     ]
    },
    {
     "name": "stderr",
     "output_type": "stream",
     "text": [
      "\rGPT ABSA 處理中:  82%|████████▏ | 819/1000 [1:16:18<20:59,  6.96s/it]"
     ]
    },
    {
     "name": "stdout",
     "output_type": "stream",
     "text": [
      "✅ 回傳： {\n",
      "    \"aspect\": \"音樂風格\",\n",
      "    \"sentiment\": \"正面\"\n",
      "}\n"
     ]
    },
    {
     "name": "stderr",
     "output_type": "stream",
     "text": [
      "\rGPT ABSA 處理中:  82%|████████▏ | 820/1000 [1:16:19<15:02,  5.01s/it]"
     ]
    },
    {
     "name": "stdout",
     "output_type": "stream",
     "text": [
      "✅ 回傳： {\n",
      "    \"aspect\": \"音樂風格\",\n",
      "    \"sentiment\": \"正面\"\n",
      "}\n"
     ]
    },
    {
     "name": "stderr",
     "output_type": "stream",
     "text": [
      "\rGPT ABSA 處理中:  82%|████████▏ | 821/1000 [1:16:19<10:52,  3.65s/it]"
     ]
    },
    {
     "name": "stdout",
     "output_type": "stream",
     "text": [
      "✅ 回傳： {\n",
      "    \"aspect\": \"對比分析\",\n",
      "    \"sentiment\": \"負面\"\n",
      "}\n"
     ]
    },
    {
     "name": "stderr",
     "output_type": "stream",
     "text": [
      "\rGPT ABSA 處理中:  82%|████████▏ | 822/1000 [1:16:38<24:01,  8.10s/it]"
     ]
    },
    {
     "name": "stdout",
     "output_type": "stream",
     "text": [
      "✅ 回傳： {\n",
      "    \"aspect\": \"對比分析\",\n",
      "    \"sentiment\": \"中立\"\n",
      "}\n"
     ]
    },
    {
     "name": "stderr",
     "output_type": "stream",
     "text": [
      "\rGPT ABSA 處理中:  82%|████████▏ | 823/1000 [1:16:38<17:12,  5.84s/it]"
     ]
    },
    {
     "name": "stdout",
     "output_type": "stream",
     "text": [
      "✅ 回傳： {\n",
      "  \"aspect\": \"情感共鳴\",\n",
      "  \"sentiment\": \"中立\"\n",
      "}\n"
     ]
    },
    {
     "name": "stderr",
     "output_type": "stream",
     "text": [
      "\rGPT ABSA 處理中:  82%|████████▏ | 824/1000 [1:16:48<20:22,  6.95s/it]"
     ]
    },
    {
     "name": "stdout",
     "output_type": "stream",
     "text": [
      "✅ 回傳： {\n",
      "    \"aspect\": \"對比分析\",\n",
      "    \"sentiment\": \"負面\"\n",
      "}\n"
     ]
    },
    {
     "name": "stderr",
     "output_type": "stream",
     "text": [
      "\rGPT ABSA 處理中:  82%|████████▎ | 825/1000 [1:17:05<29:30, 10.11s/it]"
     ]
    },
    {
     "name": "stdout",
     "output_type": "stream",
     "text": [
      "❌ 錯誤： Error code: 429 - {'error': {'message': 'Rate limit reached for gpt-3.5-turbo in organization org-Bz0CtrQHvfWxTonXiHMcFRvW on requests per day (RPD): Limit 10000, Used 10000, Requested 1. Please try again in 8.64s. Visit https://platform.openai.com/account/rate-limits to learn more.', 'type': 'requests', 'param': None, 'code': 'rate_limit_exceeded'}}\n"
     ]
    },
    {
     "name": "stderr",
     "output_type": "stream",
     "text": [
      "\rGPT ABSA 處理中:  83%|████████▎ | 826/1000 [1:17:06<20:56,  7.22s/it]"
     ]
    },
    {
     "name": "stdout",
     "output_type": "stream",
     "text": [
      "✅ 回傳： { \"aspect\": \"歌詞意境\", \"sentiment\": \"中立\" }\n"
     ]
    },
    {
     "name": "stderr",
     "output_type": "stream",
     "text": [
      "\rGPT ABSA 處理中:  83%|████████▎ | 827/1000 [1:17:24<30:07, 10.45s/it]"
     ]
    },
    {
     "name": "stdout",
     "output_type": "stream",
     "text": [
      "✅ 回傳： {\n",
      "    \"aspect\": \"對比分析\",\n",
      "    \"sentiment\": \"正面\"\n",
      "}\n"
     ]
    },
    {
     "name": "stderr",
     "output_type": "stream",
     "text": [
      "\rGPT ABSA 處理中:  83%|████████▎ | 828/1000 [1:17:42<36:24, 12.70s/it]"
     ]
    },
    {
     "name": "stdout",
     "output_type": "stream",
     "text": [
      "✅ 回傳： { \"aspect\": \"音樂風格\", \"sentiment\": \"中立\" }\n"
     ]
    },
    {
     "name": "stderr",
     "output_type": "stream",
     "text": [
      "\rGPT ABSA 處理中:  83%|████████▎ | 829/1000 [1:17:42<25:50,  9.07s/it]"
     ]
    },
    {
     "name": "stdout",
     "output_type": "stream",
     "text": [
      "✅ 回傳： { \"aspect\": \"音樂風格\", \"sentiment\": \"負面\" }\n"
     ]
    },
    {
     "name": "stderr",
     "output_type": "stream",
     "text": [
      "\rGPT ABSA 處理中:  83%|████████▎ | 830/1000 [1:17:43<18:23,  6.49s/it]"
     ]
    },
    {
     "name": "stdout",
     "output_type": "stream",
     "text": [
      "✅ 回傳： { \"aspect\": \"情感共鳴\", \"sentiment\": \"正面\" }\n"
     ]
    },
    {
     "name": "stderr",
     "output_type": "stream",
     "text": [
      "\rGPT ABSA 處理中:  83%|████████▎ | 831/1000 [1:18:04<30:26, 10.80s/it]"
     ]
    },
    {
     "name": "stdout",
     "output_type": "stream",
     "text": [
      "✅ 回傳： { \"aspect\": \"音樂風格\", \"sentiment\": \"中立\" }\n"
     ]
    },
    {
     "name": "stderr",
     "output_type": "stream",
     "text": [
      "\rGPT ABSA 處理中:  83%|████████▎ | 832/1000 [1:18:13<28:57, 10.34s/it]"
     ]
    },
    {
     "name": "stdout",
     "output_type": "stream",
     "text": [
      "✅ 回傳： { \"aspect\": \"情感共鳴\", \"sentiment\": \"正面\" }\n"
     ]
    },
    {
     "name": "stderr",
     "output_type": "stream",
     "text": [
      "\rGPT ABSA 處理中:  83%|████████▎ | 833/1000 [1:18:14<20:33,  7.39s/it]"
     ]
    },
    {
     "name": "stdout",
     "output_type": "stream",
     "text": [
      "✅ 回傳： {\n",
      "    \"aspect\": \"情感共鳴\",\n",
      "    \"sentiment\": \"負面\"\n",
      "}\n"
     ]
    },
    {
     "name": "stderr",
     "output_type": "stream",
     "text": [
      "\rGPT ABSA 處理中:  83%|████████▎ | 834/1000 [1:18:32<29:17, 10.59s/it]"
     ]
    },
    {
     "name": "stdout",
     "output_type": "stream",
     "text": [
      "✅ 回傳： { \"aspect\": \"音樂風格\", \"sentiment\": \"正面\" }\n"
     ]
    },
    {
     "name": "stderr",
     "output_type": "stream",
     "text": [
      "\rGPT ABSA 處理中:  84%|████████▎ | 835/1000 [1:18:32<21:01,  7.64s/it]"
     ]
    },
    {
     "name": "stdout",
     "output_type": "stream",
     "text": [
      "✅ 回傳： {\n",
      "    \"aspect\": \"情感共鳴\",\n",
      "    \"sentiment\": \"負面\"\n",
      "}\n"
     ]
    },
    {
     "name": "stderr",
     "output_type": "stream",
     "text": [
      "\rGPT ABSA 處理中:  84%|████████▎ | 836/1000 [1:18:42<22:08,  8.10s/it]"
     ]
    },
    {
     "name": "stdout",
     "output_type": "stream",
     "text": [
      "✅ 回傳： { \"aspect\": \"情感共鳴\", \"sentiment\": \"正面\" }\n"
     ]
    },
    {
     "name": "stderr",
     "output_type": "stream",
     "text": [
      "\rGPT ABSA 處理中:  84%|████████▎ | 837/1000 [1:18:51<23:08,  8.52s/it]"
     ]
    },
    {
     "name": "stdout",
     "output_type": "stream",
     "text": [
      "✅ 回傳： { \"aspect\": \"音樂風格\", \"sentiment\": \"正面\" }\n"
     ]
    },
    {
     "name": "stderr",
     "output_type": "stream",
     "text": [
      "\rGPT ABSA 處理中:  84%|████████▍ | 838/1000 [1:18:51<16:26,  6.09s/it]"
     ]
    },
    {
     "name": "stdout",
     "output_type": "stream",
     "text": [
      "✅ 回傳： { \"aspect\": \"音樂風格\", \"sentiment\": \"正面\" }\n"
     ]
    },
    {
     "name": "stderr",
     "output_type": "stream",
     "text": [
      "\rGPT ABSA 處理中:  84%|████████▍ | 839/1000 [1:19:01<18:51,  7.03s/it]"
     ]
    },
    {
     "name": "stdout",
     "output_type": "stream",
     "text": [
      "✅ 回傳： {\n",
      "    \"aspect\": \"情感共鳴\",\n",
      "    \"sentiment\": \"中立\"\n",
      "}\n"
     ]
    },
    {
     "name": "stderr",
     "output_type": "stream",
     "text": [
      "\rGPT ABSA 處理中:  84%|████████▍ | 840/1000 [1:19:10<20:35,  7.72s/it]"
     ]
    },
    {
     "name": "stdout",
     "output_type": "stream",
     "text": [
      "✅ 回傳： {\n",
      "    \"aspect\": \"對比分析\",\n",
      "    \"sentiment\": \"中立\"\n",
      "}\n"
     ]
    },
    {
     "name": "stderr",
     "output_type": "stream",
     "text": [
      "\rGPT ABSA 處理中:  84%|████████▍ | 841/1000 [1:19:20<21:58,  8.29s/it]"
     ]
    },
    {
     "name": "stdout",
     "output_type": "stream",
     "text": [
      "✅ 回傳： {\n",
      "  \"aspect\": \"音樂風格\",\n",
      "  \"sentiment\": \"正面\"\n",
      "}\n"
     ]
    },
    {
     "name": "stderr",
     "output_type": "stream",
     "text": [
      "\rGPT ABSA 處理中:  84%|████████▍ | 842/1000 [1:19:29<22:37,  8.59s/it]"
     ]
    },
    {
     "name": "stdout",
     "output_type": "stream",
     "text": [
      "✅ 回傳： { \"aspect\": \"音樂風格\", \"sentiment\": \"中立\" }\n"
     ]
    },
    {
     "name": "stderr",
     "output_type": "stream",
     "text": [
      "\rGPT ABSA 處理中:  84%|████████▍ | 843/1000 [1:19:30<16:13,  6.20s/it]"
     ]
    },
    {
     "name": "stdout",
     "output_type": "stream",
     "text": [
      "✅ 回傳： {\n",
      "    \"aspect\": \"情感共鳴\",\n",
      "    \"sentiment\": \"正面\"\n",
      "}\n"
     ]
    },
    {
     "name": "stderr",
     "output_type": "stream",
     "text": [
      "\rGPT ABSA 處理中:  84%|████████▍ | 844/1000 [1:19:48<25:18,  9.74s/it]"
     ]
    },
    {
     "name": "stdout",
     "output_type": "stream",
     "text": [
      "✅ 回傳： { \"aspect\": \"情感共鳴\", \"sentiment\": \"負面\" }\n"
     ]
    },
    {
     "name": "stderr",
     "output_type": "stream",
     "text": [
      "\rGPT ABSA 處理中:  84%|████████▍ | 845/1000 [1:19:57<24:44,  9.58s/it]"
     ]
    },
    {
     "name": "stdout",
     "output_type": "stream",
     "text": [
      "✅ 回傳： {\n",
      "    \"aspect\": \"對比分析\",\n",
      "    \"sentiment\": \"中立\"\n",
      "}\n"
     ]
    },
    {
     "name": "stderr",
     "output_type": "stream",
     "text": [
      "\rGPT ABSA 處理中:  85%|████████▍ | 846/1000 [1:19:57<17:34,  6.85s/it]"
     ]
    },
    {
     "name": "stdout",
     "output_type": "stream",
     "text": [
      "✅ 回傳： { \"aspect\": \"歌詞意境\", \"sentiment\": \"中立\" }\n"
     ]
    },
    {
     "name": "stderr",
     "output_type": "stream",
     "text": [
      "\rGPT ABSA 處理中:  85%|████████▍ | 847/1000 [1:19:58<12:40,  4.97s/it]"
     ]
    },
    {
     "name": "stdout",
     "output_type": "stream",
     "text": [
      "✅ 回傳： {\n",
      "    \"aspect\": \"情感共鳴\",\n",
      "    \"sentiment\": \"負面\"\n",
      "}\n"
     ]
    },
    {
     "name": "stderr",
     "output_type": "stream",
     "text": [
      "\rGPT ABSA 處理中:  85%|████████▍ | 848/1000 [1:20:07<15:57,  6.30s/it]"
     ]
    },
    {
     "name": "stdout",
     "output_type": "stream",
     "text": [
      "✅ 回傳： { \"aspect\": \"音樂風格\", \"sentiment\": \"正面\" }\n"
     ]
    },
    {
     "name": "stderr",
     "output_type": "stream",
     "text": [
      "\rGPT ABSA 處理中:  85%|████████▍ | 849/1000 [1:20:26<25:05,  9.97s/it]"
     ]
    },
    {
     "name": "stdout",
     "output_type": "stream",
     "text": [
      "❌ 錯誤： Error code: 429 - {'error': {'message': 'Rate limit reached for gpt-3.5-turbo in organization org-Bz0CtrQHvfWxTonXiHMcFRvW on requests per day (RPD): Limit 10000, Used 10000, Requested 1. Please try again in 8.64s. Visit https://platform.openai.com/account/rate-limits to learn more.', 'type': 'requests', 'param': None, 'code': 'rate_limit_exceeded'}}\n"
     ]
    },
    {
     "name": "stderr",
     "output_type": "stream",
     "text": [
      "\rGPT ABSA 處理中:  85%|████████▌ | 850/1000 [1:20:27<18:12,  7.28s/it]"
     ]
    },
    {
     "name": "stdout",
     "output_type": "stream",
     "text": [
      "✅ 回傳： {\n",
      "    \"aspect\": \"青春回憶\",\n",
      "    \"sentiment\": \"中立\"\n",
      "}\n"
     ]
    },
    {
     "name": "stderr",
     "output_type": "stream",
     "text": [
      "\rGPT ABSA 處理中:  85%|████████▌ | 851/1000 [1:20:36<19:32,  7.87s/it]"
     ]
    },
    {
     "name": "stdout",
     "output_type": "stream",
     "text": [
      "✅ 回傳： { \"aspect\": \"歌詞意境\", \"sentiment\": \"中立\" }\n"
     ]
    },
    {
     "name": "stderr",
     "output_type": "stream",
     "text": [
      "\rGPT ABSA 處理中:  85%|████████▌ | 852/1000 [1:20:46<21:16,  8.63s/it]"
     ]
    },
    {
     "name": "stdout",
     "output_type": "stream",
     "text": [
      "✅ 回傳： { \"aspect\": \"音樂風格\", \"sentiment\": \"負面\" }\n"
     ]
    },
    {
     "name": "stderr",
     "output_type": "stream",
     "text": [
      "\rGPT ABSA 處理中:  85%|████████▌ | 853/1000 [1:21:04<27:59, 11.42s/it]"
     ]
    },
    {
     "name": "stdout",
     "output_type": "stream",
     "text": [
      "✅ 回傳： {\n",
      "  \"aspect\": \"對比分析\",\n",
      "  \"sentiment\": \"正面\"\n",
      "}\n"
     ]
    },
    {
     "name": "stderr",
     "output_type": "stream",
     "text": [
      "\rGPT ABSA 處理中:  85%|████████▌ | 854/1000 [1:21:14<26:16, 10.79s/it]"
     ]
    },
    {
     "name": "stdout",
     "output_type": "stream",
     "text": [
      "✅ 回傳： {\n",
      "    \"aspect\": \"音樂風格\",\n",
      "    \"sentiment\": \"正面\"\n",
      "}\n"
     ]
    },
    {
     "name": "stderr",
     "output_type": "stream",
     "text": [
      "\rGPT ABSA 處理中:  86%|████████▌ | 855/1000 [1:21:14<18:44,  7.75s/it]"
     ]
    },
    {
     "name": "stdout",
     "output_type": "stream",
     "text": [
      "✅ 回傳： { \"aspect\": \"音樂風格\", \"sentiment\": \"中立\" }\n"
     ]
    },
    {
     "name": "stderr",
     "output_type": "stream",
     "text": [
      "\rGPT ABSA 處理中:  86%|████████▌ | 856/1000 [1:21:15<13:23,  5.58s/it]"
     ]
    },
    {
     "name": "stdout",
     "output_type": "stream",
     "text": [
      "✅ 回傳： {\n",
      "    \"aspect\": \"對比分析\",\n",
      "    \"sentiment\": \"負面\"\n",
      "}\n"
     ]
    },
    {
     "name": "stderr",
     "output_type": "stream",
     "text": [
      "\rGPT ABSA 處理中:  86%|████████▌ | 857/1000 [1:21:15<09:44,  4.09s/it]"
     ]
    },
    {
     "name": "stdout",
     "output_type": "stream",
     "text": [
      "✅ 回傳： {\n",
      "    \"aspect\": \"情感共鳴\",\n",
      "    \"sentiment\": \"中立\"\n",
      "}\n"
     ]
    },
    {
     "name": "stderr",
     "output_type": "stream",
     "text": [
      "\rGPT ABSA 處理中:  86%|████████▌ | 858/1000 [1:21:25<13:39,  5.77s/it]"
     ]
    },
    {
     "name": "stdout",
     "output_type": "stream",
     "text": [
      "✅ 回傳： {\n",
      "    \"aspect\": \"青春回憶\",\n",
      "    \"sentiment\": \"正面\"\n",
      "}\n"
     ]
    },
    {
     "name": "stderr",
     "output_type": "stream",
     "text": [
      "\rGPT ABSA 處理中:  86%|████████▌ | 859/1000 [1:21:43<21:50,  9.29s/it]"
     ]
    },
    {
     "name": "stdout",
     "output_type": "stream",
     "text": [
      "❌ 錯誤： Error code: 429 - {'error': {'message': 'Rate limit reached for gpt-3.5-turbo in organization org-Bz0CtrQHvfWxTonXiHMcFRvW on requests per day (RPD): Limit 10000, Used 10000, Requested 1. Please try again in 8.64s. Visit https://platform.openai.com/account/rate-limits to learn more.', 'type': 'requests', 'param': None, 'code': 'rate_limit_exceeded'}}\n"
     ]
    },
    {
     "name": "stderr",
     "output_type": "stream",
     "text": [
      "\rGPT ABSA 處理中:  86%|████████▌ | 860/1000 [1:21:43<15:32,  6.66s/it]"
     ]
    },
    {
     "name": "stdout",
     "output_type": "stream",
     "text": [
      "✅ 回傳： { \"aspect\": \"對比分析\", \"sentiment\": \"中立\" }\n"
     ]
    },
    {
     "name": "stderr",
     "output_type": "stream",
     "text": [
      "\rGPT ABSA 處理中:  86%|████████▌ | 861/1000 [1:21:44<11:12,  4.84s/it]"
     ]
    },
    {
     "name": "stdout",
     "output_type": "stream",
     "text": [
      "✅ 回傳： { \"aspect\": \"情感共鳴\", \"sentiment\": \"負面\" }\n"
     ]
    },
    {
     "name": "stderr",
     "output_type": "stream",
     "text": [
      "\rGPT ABSA 處理中:  86%|████████▌ | 862/1000 [1:21:53<14:19,  6.23s/it]"
     ]
    },
    {
     "name": "stdout",
     "output_type": "stream",
     "text": [
      "✅ 回傳： {\n",
      "    \"aspect\": \"對比分析\",\n",
      "    \"sentiment\": \"正面\"\n",
      "}\n"
     ]
    },
    {
     "name": "stderr",
     "output_type": "stream",
     "text": [
      "\rGPT ABSA 處理中:  86%|████████▋ | 863/1000 [1:21:54<10:17,  4.51s/it]"
     ]
    },
    {
     "name": "stdout",
     "output_type": "stream",
     "text": [
      "✅ 回傳： {\n",
      "    \"aspect\": \"對比分析\",\n",
      "    \"sentiment\": \"正面\"\n",
      "}\n"
     ]
    },
    {
     "name": "stderr",
     "output_type": "stream",
     "text": [
      "\rGPT ABSA 處理中:  86%|████████▋ | 864/1000 [1:22:11<19:02,  8.40s/it]"
     ]
    },
    {
     "name": "stdout",
     "output_type": "stream",
     "text": [
      "❌ 錯誤： Error code: 429 - {'error': {'message': 'Rate limit reached for gpt-3.5-turbo in organization org-Bz0CtrQHvfWxTonXiHMcFRvW on requests per day (RPD): Limit 10000, Used 10000, Requested 1. Please try again in 8.64s. Visit https://platform.openai.com/account/rate-limits to learn more.', 'type': 'requests', 'param': None, 'code': 'rate_limit_exceeded'}}\n"
     ]
    },
    {
     "name": "stderr",
     "output_type": "stream",
     "text": [
      "\rGPT ABSA 處理中:  86%|████████▋ | 865/1000 [1:22:12<13:39,  6.07s/it]"
     ]
    },
    {
     "name": "stdout",
     "output_type": "stream",
     "text": [
      "✅ 回傳： {\n",
      "    \"aspect\": \"情感共鳴\",\n",
      "    \"sentiment\": \"正面\"\n",
      "}\n"
     ]
    },
    {
     "name": "stderr",
     "output_type": "stream",
     "text": [
      "\rGPT ABSA 處理中:  87%|████████▋ | 866/1000 [1:22:29<21:12,  9.50s/it]"
     ]
    },
    {
     "name": "stdout",
     "output_type": "stream",
     "text": [
      "❌ 錯誤： Error code: 429 - {'error': {'message': 'Rate limit reached for gpt-3.5-turbo in organization org-Bz0CtrQHvfWxTonXiHMcFRvW on requests per day (RPD): Limit 10000, Used 10000, Requested 1. Please try again in 8.64s. Visit https://platform.openai.com/account/rate-limits to learn more.', 'type': 'requests', 'param': None, 'code': 'rate_limit_exceeded'}}\n"
     ]
    },
    {
     "name": "stderr",
     "output_type": "stream",
     "text": [
      "\rGPT ABSA 處理中:  87%|████████▋ | 867/1000 [1:22:30<15:00,  6.77s/it]"
     ]
    },
    {
     "name": "stdout",
     "output_type": "stream",
     "text": [
      "✅ 回傳： {\n",
      "    \"aspect\": \"情感共鳴\",\n",
      "    \"sentiment\": \"中立\"\n",
      "}\n"
     ]
    },
    {
     "name": "stderr",
     "output_type": "stream",
     "text": [
      "\rGPT ABSA 處理中:  87%|████████▋ | 868/1000 [1:22:39<16:33,  7.52s/it]"
     ]
    },
    {
     "name": "stdout",
     "output_type": "stream",
     "text": [
      "✅ 回傳： { \"aspect\": \"音樂風格\", \"sentiment\": \"負面\" }\n"
     ]
    },
    {
     "name": "stderr",
     "output_type": "stream",
     "text": [
      "\rGPT ABSA 處理中:  87%|████████▋ | 869/1000 [1:22:40<11:50,  5.42s/it]"
     ]
    },
    {
     "name": "stdout",
     "output_type": "stream",
     "text": [
      "✅ 回傳： {\n",
      "    \"aspect\": \"對比分析\",\n",
      "    \"sentiment\": \"正面\"\n",
      "}\n"
     ]
    },
    {
     "name": "stderr",
     "output_type": "stream",
     "text": [
      "\rGPT ABSA 處理中:  87%|████████▋ | 870/1000 [1:22:40<08:34,  3.96s/it]"
     ]
    },
    {
     "name": "stdout",
     "output_type": "stream",
     "text": [
      "✅ 回傳： {\n",
      "    \"aspect\": \"情感共鳴\",\n",
      "    \"sentiment\": \"正面\"\n",
      "}\n"
     ]
    },
    {
     "name": "stderr",
     "output_type": "stream",
     "text": [
      "\rGPT ABSA 處理中:  87%|████████▋ | 871/1000 [1:22:49<11:55,  5.55s/it]"
     ]
    },
    {
     "name": "stdout",
     "output_type": "stream",
     "text": [
      "✅ 回傳： { \"aspect\": \"音樂風格\", \"sentiment\": \"正面\" }\n"
     ]
    },
    {
     "name": "stderr",
     "output_type": "stream",
     "text": [
      "\rGPT ABSA 處理中:  87%|████████▋ | 872/1000 [1:23:07<19:29,  9.14s/it]"
     ]
    },
    {
     "name": "stdout",
     "output_type": "stream",
     "text": [
      "❌ 錯誤： Error code: 429 - {'error': {'message': 'Rate limit reached for gpt-3.5-turbo in organization org-Bz0CtrQHvfWxTonXiHMcFRvW on requests per day (RPD): Limit 10000, Used 10000, Requested 1. Please try again in 8.64s. Visit https://platform.openai.com/account/rate-limits to learn more.', 'type': 'requests', 'param': None, 'code': 'rate_limit_exceeded'}}\n"
     ]
    },
    {
     "name": "stderr",
     "output_type": "stream",
     "text": [
      "\rGPT ABSA 處理中:  87%|████████▋ | 873/1000 [1:23:16<19:28,  9.20s/it]"
     ]
    },
    {
     "name": "stdout",
     "output_type": "stream",
     "text": [
      "✅ 回傳： { \"aspect\": \"對比分析\", \"sentiment\": \"負面\" }\n"
     ]
    },
    {
     "name": "stderr",
     "output_type": "stream",
     "text": [
      "\rGPT ABSA 處理中:  87%|████████▋ | 874/1000 [1:23:17<13:50,  6.59s/it]"
     ]
    },
    {
     "name": "stdout",
     "output_type": "stream",
     "text": [
      "✅ 回傳： { \"aspect\": \"情感共鳴\", \"sentiment\": \"正面\" }\n"
     ]
    },
    {
     "name": "stderr",
     "output_type": "stream",
     "text": [
      "\rGPT ABSA 處理中:  88%|████████▊ | 875/1000 [1:23:26<15:27,  7.42s/it]"
     ]
    },
    {
     "name": "stdout",
     "output_type": "stream",
     "text": [
      "✅ 回傳： { \"aspect\": \"青春回憶\", \"sentiment\": \"正面\" }\n"
     ]
    },
    {
     "name": "stderr",
     "output_type": "stream",
     "text": [
      "\rGPT ABSA 處理中:  88%|████████▊ | 876/1000 [1:23:36<16:42,  8.09s/it]"
     ]
    },
    {
     "name": "stdout",
     "output_type": "stream",
     "text": [
      "✅ 回傳： {\n",
      "    \"aspect\": \"對比分析\",\n",
      "    \"sentiment\": \"正面\"\n",
      "}\n"
     ]
    },
    {
     "name": "stderr",
     "output_type": "stream",
     "text": [
      "\rGPT ABSA 處理中:  88%|████████▊ | 877/1000 [1:23:36<11:59,  5.85s/it]"
     ]
    },
    {
     "name": "stdout",
     "output_type": "stream",
     "text": [
      "✅ 回傳： {\n",
      "  \"aspect\": \"青春回憶\",\n",
      "  \"sentiment\": \"正面\"\n",
      "}\n"
     ]
    },
    {
     "name": "stderr",
     "output_type": "stream",
     "text": [
      "\rGPT ABSA 處理中:  88%|████████▊ | 878/1000 [1:23:37<08:37,  4.24s/it]"
     ]
    },
    {
     "name": "stdout",
     "output_type": "stream",
     "text": [
      "✅ 回傳： { \"aspect\": \"歌詞意境\", \"sentiment\": \"負面\" }\n"
     ]
    },
    {
     "name": "stderr",
     "output_type": "stream",
     "text": [
      "\rGPT ABSA 處理中:  88%|████████▊ | 879/1000 [1:23:46<11:38,  5.77s/it]"
     ]
    },
    {
     "name": "stdout",
     "output_type": "stream",
     "text": [
      "✅ 回傳： {\n",
      "    \"aspect\": \"青春回憶\",\n",
      "    \"sentiment\": \"正面\"\n",
      "}\n"
     ]
    },
    {
     "name": "stderr",
     "output_type": "stream",
     "text": [
      "\rGPT ABSA 處理中:  88%|████████▊ | 880/1000 [1:24:04<18:34,  9.29s/it]"
     ]
    },
    {
     "name": "stdout",
     "output_type": "stream",
     "text": [
      "❌ 錯誤： Error code: 429 - {'error': {'message': 'Rate limit reached for gpt-3.5-turbo in organization org-Bz0CtrQHvfWxTonXiHMcFRvW on requests per day (RPD): Limit 10000, Used 10000, Requested 1. Please try again in 8.64s. Visit https://platform.openai.com/account/rate-limits to learn more.', 'type': 'requests', 'param': None, 'code': 'rate_limit_exceeded'}}\n"
     ]
    },
    {
     "name": "stderr",
     "output_type": "stream",
     "text": [
      "\rGPT ABSA 處理中:  88%|████████▊ | 881/1000 [1:24:04<13:20,  6.73s/it]"
     ]
    },
    {
     "name": "stdout",
     "output_type": "stream",
     "text": [
      "✅ 回傳： { \"aspect\": \"情感共鳴\", \"sentiment\": \"中立\" }\n"
     ]
    },
    {
     "name": "stderr",
     "output_type": "stream",
     "text": [
      "\rGPT ABSA 處理中:  88%|████████▊ | 882/1000 [1:24:05<09:51,  5.01s/it]"
     ]
    },
    {
     "name": "stdout",
     "output_type": "stream",
     "text": [
      "✅ 回傳： {\n",
      "    \"aspect\": \"對比分析\",\n",
      "    \"sentiment\": \"中立\"\n",
      "}\n"
     ]
    },
    {
     "name": "stderr",
     "output_type": "stream",
     "text": [
      "\rGPT ABSA 處理中:  88%|████████▊ | 883/1000 [1:24:23<17:04,  8.76s/it]"
     ]
    },
    {
     "name": "stdout",
     "output_type": "stream",
     "text": [
      "❌ 錯誤： Error code: 429 - {'error': {'message': 'Rate limit reached for gpt-3.5-turbo in organization org-Bz0CtrQHvfWxTonXiHMcFRvW on requests per day (RPD): Limit 10000, Used 10000, Requested 1. Please try again in 8.64s. Visit https://platform.openai.com/account/rate-limits to learn more.', 'type': 'requests', 'param': None, 'code': 'rate_limit_exceeded'}}\n"
     ]
    },
    {
     "name": "stderr",
     "output_type": "stream",
     "text": [
      "\rGPT ABSA 處理中:  88%|████████▊ | 884/1000 [1:24:41<22:30, 11.64s/it]"
     ]
    },
    {
     "name": "stdout",
     "output_type": "stream",
     "text": [
      "✅ 回傳： {\n",
      "    \"aspect\": \"音樂風格\",\n",
      "    \"sentiment\": \"正面\"\n",
      "}\n"
     ]
    },
    {
     "name": "stderr",
     "output_type": "stream",
     "text": [
      "\rGPT ABSA 處理中:  88%|████████▊ | 885/1000 [1:24:42<16:01,  8.36s/it]"
     ]
    },
    {
     "name": "stdout",
     "output_type": "stream",
     "text": [
      "✅ 回傳： {\n",
      "    \"aspect\": \"音樂風格\",\n",
      "    \"sentiment\": \"正面\"\n",
      "}\n"
     ]
    },
    {
     "name": "stderr",
     "output_type": "stream",
     "text": [
      "\rGPT ABSA 處理中:  89%|████████▊ | 886/1000 [1:24:52<16:39,  8.76s/it]"
     ]
    },
    {
     "name": "stdout",
     "output_type": "stream",
     "text": [
      "✅ 回傳： { \"aspect\": \"歌詞意境\", \"sentiment\": \"正面\" }\n"
     ]
    },
    {
     "name": "stderr",
     "output_type": "stream",
     "text": [
      "\rGPT ABSA 處理中:  89%|████████▊ | 887/1000 [1:25:10<21:43, 11.53s/it]"
     ]
    },
    {
     "name": "stdout",
     "output_type": "stream",
     "text": [
      "✅ 回傳： {\n",
      "  \"aspect\": \"音樂風格\",\n",
      "  \"sentiment\": \"負面\"\n",
      "}\n"
     ]
    },
    {
     "name": "stderr",
     "output_type": "stream",
     "text": [
      "\rGPT ABSA 處理中:  89%|████████▉ | 888/1000 [1:25:10<15:21,  8.23s/it]"
     ]
    },
    {
     "name": "stdout",
     "output_type": "stream",
     "text": [
      "✅ 回傳： { \"aspect\": \"音樂風格\", \"sentiment\": \"正面\" }\n"
     ]
    },
    {
     "name": "stderr",
     "output_type": "stream",
     "text": [
      "\rGPT ABSA 處理中:  89%|████████▉ | 889/1000 [1:25:20<15:49,  8.55s/it]"
     ]
    },
    {
     "name": "stdout",
     "output_type": "stream",
     "text": [
      "✅ 回傳： { \"aspect\": \"音樂風格\", \"sentiment\": \"中立\" }\n"
     ]
    },
    {
     "name": "stderr",
     "output_type": "stream",
     "text": [
      "\rGPT ABSA 處理中:  89%|████████▉ | 890/1000 [1:25:29<16:04,  8.77s/it]"
     ]
    },
    {
     "name": "stdout",
     "output_type": "stream",
     "text": [
      "✅ 回傳： {\n",
      "  \"aspect\": \"對比分析\",\n",
      "  \"sentiment\": \"正面\"\n",
      "}\n"
     ]
    },
    {
     "name": "stderr",
     "output_type": "stream",
     "text": [
      "\rGPT ABSA 處理中:  89%|████████▉ | 891/1000 [1:25:30<11:33,  6.36s/it]"
     ]
    },
    {
     "name": "stdout",
     "output_type": "stream",
     "text": [
      "✅ 回傳： { \"aspect\": \"情感共鳴\", \"sentiment\": \"負面\" }\n"
     ]
    },
    {
     "name": "stderr",
     "output_type": "stream",
     "text": [
      "\rGPT ABSA 處理中:  89%|████████▉ | 892/1000 [1:25:47<17:41,  9.83s/it]"
     ]
    },
    {
     "name": "stdout",
     "output_type": "stream",
     "text": [
      "✅ 回傳： {\n",
      "    \"aspect\": \"青春回憶\",\n",
      "    \"sentiment\": \"中立\"\n",
      "}\n"
     ]
    },
    {
     "name": "stderr",
     "output_type": "stream",
     "text": [
      "\rGPT ABSA 處理中:  89%|████████▉ | 893/1000 [1:25:48<12:39,  7.10s/it]"
     ]
    },
    {
     "name": "stdout",
     "output_type": "stream",
     "text": [
      "✅ 回傳： { \"aspect\": \"音樂風格\", \"sentiment\": \"中立\" }\n"
     ]
    },
    {
     "name": "stderr",
     "output_type": "stream",
     "text": [
      "\rGPT ABSA 處理中:  89%|████████▉ | 894/1000 [1:25:58<13:44,  7.78s/it]"
     ]
    },
    {
     "name": "stdout",
     "output_type": "stream",
     "text": [
      "✅ 回傳： {\n",
      "  \"aspect\": \"對比分析\",\n",
      "  \"sentiment\": \"正面\"\n",
      "}\n"
     ]
    },
    {
     "name": "stderr",
     "output_type": "stream",
     "text": [
      "\rGPT ABSA 處理中:  90%|████████▉ | 895/1000 [1:26:07<14:26,  8.25s/it]"
     ]
    },
    {
     "name": "stdout",
     "output_type": "stream",
     "text": [
      "✅ 回傳： { \"aspect\": \"音樂風格\", \"sentiment\": \"中立\" }\n"
     ]
    },
    {
     "name": "stderr",
     "output_type": "stream",
     "text": [
      "\rGPT ABSA 處理中:  90%|████████▉ | 896/1000 [1:26:16<14:49,  8.55s/it]"
     ]
    },
    {
     "name": "stdout",
     "output_type": "stream",
     "text": [
      "✅ 回傳： { \"aspect\": \"音樂風格\", \"sentiment\": \"正面\" }\n"
     ]
    },
    {
     "name": "stderr",
     "output_type": "stream",
     "text": [
      "\rGPT ABSA 處理中:  90%|████████▉ | 897/1000 [1:26:17<10:38,  6.20s/it]"
     ]
    },
    {
     "name": "stdout",
     "output_type": "stream",
     "text": [
      "✅ 回傳： {\n",
      "    \"aspect\": \"情感共鳴\",\n",
      "    \"sentiment\": \"正面\"\n",
      "}\n"
     ]
    },
    {
     "name": "stderr",
     "output_type": "stream",
     "text": [
      "\rGPT ABSA 處理中:  90%|████████▉ | 898/1000 [1:26:34<16:18,  9.59s/it]"
     ]
    },
    {
     "name": "stdout",
     "output_type": "stream",
     "text": [
      "❌ 錯誤： Error code: 429 - {'error': {'message': 'Rate limit reached for gpt-3.5-turbo in organization org-Bz0CtrQHvfWxTonXiHMcFRvW on requests per day (RPD): Limit 10000, Used 10000, Requested 1. Please try again in 8.64s. Visit https://platform.openai.com/account/rate-limits to learn more.', 'type': 'requests', 'param': None, 'code': 'rate_limit_exceeded'}}\n"
     ]
    },
    {
     "name": "stderr",
     "output_type": "stream",
     "text": [
      "\rGPT ABSA 處理中:  90%|████████▉ | 899/1000 [1:26:35<11:46,  6.99s/it]"
     ]
    },
    {
     "name": "stdout",
     "output_type": "stream",
     "text": [
      "✅ 回傳： { \"aspect\": \"對比分析\", \"sentiment\": \"中立\" }\n"
     ]
    },
    {
     "name": "stderr",
     "output_type": "stream",
     "text": [
      "\rGPT ABSA 處理中:  90%|█████████ | 900/1000 [1:26:36<08:27,  5.08s/it]"
     ]
    },
    {
     "name": "stdout",
     "output_type": "stream",
     "text": [
      "✅ 回傳： {\n",
      "    \"aspect\": \"情感共鳴\",\n",
      "    \"sentiment\": \"正面\"\n",
      "}\n",
      "✅ 存檔 checkpoint at row 900\n"
     ]
    },
    {
     "name": "stderr",
     "output_type": "stream",
     "text": [
      "\rGPT ABSA 處理中:  90%|█████████ | 901/1000 [1:26:36<06:08,  3.73s/it]"
     ]
    },
    {
     "name": "stdout",
     "output_type": "stream",
     "text": [
      "✅ 回傳： { \"aspect\": \"音樂風格\", \"sentiment\": \"正面\" }\n"
     ]
    },
    {
     "name": "stderr",
     "output_type": "stream",
     "text": [
      "\rGPT ABSA 處理中:  90%|█████████ | 902/1000 [1:26:54<12:50,  7.86s/it]"
     ]
    },
    {
     "name": "stdout",
     "output_type": "stream",
     "text": [
      "❌ 錯誤： Error code: 429 - {'error': {'message': 'Rate limit reached for gpt-3.5-turbo in organization org-Bz0CtrQHvfWxTonXiHMcFRvW on requests per day (RPD): Limit 10000, Used 10000, Requested 1. Please try again in 8.64s. Visit https://platform.openai.com/account/rate-limits to learn more.', 'type': 'requests', 'param': None, 'code': 'rate_limit_exceeded'}}\n"
     ]
    },
    {
     "name": "stderr",
     "output_type": "stream",
     "text": [
      "\rGPT ABSA 處理中:  90%|█████████ | 903/1000 [1:26:55<09:09,  5.67s/it]"
     ]
    },
    {
     "name": "stdout",
     "output_type": "stream",
     "text": [
      "✅ 回傳： {\n",
      "    \"aspect\": \"音樂風格\",\n",
      "    \"sentiment\": \"正面\"\n",
      "}\n"
     ]
    },
    {
     "name": "stderr",
     "output_type": "stream",
     "text": [
      "\rGPT ABSA 處理中:  90%|█████████ | 904/1000 [1:26:55<06:37,  4.14s/it]"
     ]
    },
    {
     "name": "stdout",
     "output_type": "stream",
     "text": [
      "✅ 回傳： { \"aspect\": \"情感共鳴\", \"sentiment\": \"正面\" }\n"
     ]
    },
    {
     "name": "stderr",
     "output_type": "stream",
     "text": [
      "\rGPT ABSA 處理中:  90%|█████████ | 905/1000 [1:26:56<04:50,  3.06s/it]"
     ]
    },
    {
     "name": "stdout",
     "output_type": "stream",
     "text": [
      "✅ 回傳： { \"aspect\": \"對比分析\", \"sentiment\": \"中立\" }\n"
     ]
    },
    {
     "name": "stderr",
     "output_type": "stream",
     "text": [
      "\rGPT ABSA 處理中:  91%|█████████ | 906/1000 [1:27:05<07:53,  5.03s/it]"
     ]
    },
    {
     "name": "stdout",
     "output_type": "stream",
     "text": [
      "✅ 回傳： {\n",
      "    \"aspect\": \"音樂風格\",\n",
      "    \"sentiment\": \"正面\"\n",
      "}\n"
     ]
    },
    {
     "name": "stderr",
     "output_type": "stream",
     "text": [
      "\rGPT ABSA 處理中:  91%|█████████ | 907/1000 [1:27:23<13:54,  8.97s/it]"
     ]
    },
    {
     "name": "stdout",
     "output_type": "stream",
     "text": [
      "✅ 回傳： {\n",
      "  \"aspect\": \"對比分析\",\n",
      "  \"sentiment\": \"正面\"\n",
      "}\n"
     ]
    },
    {
     "name": "stderr",
     "output_type": "stream",
     "text": [
      "\rGPT ABSA 處理中:  91%|█████████ | 908/1000 [1:27:41<17:40, 11.52s/it]"
     ]
    },
    {
     "name": "stdout",
     "output_type": "stream",
     "text": [
      "❌ 錯誤： Error code: 429 - {'error': {'message': 'Rate limit reached for gpt-3.5-turbo in organization org-Bz0CtrQHvfWxTonXiHMcFRvW on requests per day (RPD): Limit 10000, Used 10000, Requested 1. Please try again in 8.64s. Visit https://platform.openai.com/account/rate-limits to learn more.', 'type': 'requests', 'param': None, 'code': 'rate_limit_exceeded'}}\n"
     ]
    },
    {
     "name": "stderr",
     "output_type": "stream",
     "text": [
      "\rGPT ABSA 處理中:  91%|█████████ | 909/1000 [1:27:41<12:28,  8.23s/it]"
     ]
    },
    {
     "name": "stdout",
     "output_type": "stream",
     "text": [
      "✅ 回傳： { \"aspect\": \"情感共鳴\", \"sentiment\": \"中立\" }\n"
     ]
    },
    {
     "name": "stderr",
     "output_type": "stream",
     "text": [
      "\rGPT ABSA 處理中:  91%|█████████ | 910/1000 [1:27:51<12:49,  8.55s/it]"
     ]
    },
    {
     "name": "stdout",
     "output_type": "stream",
     "text": [
      "✅ 回傳： { \"aspect\": \"對比分析\", \"sentiment\": \"中立\" }\n"
     ]
    },
    {
     "name": "stderr",
     "output_type": "stream",
     "text": [
      "\rGPT ABSA 處理中:  91%|█████████ | 911/1000 [1:27:51<09:05,  6.12s/it]"
     ]
    },
    {
     "name": "stdout",
     "output_type": "stream",
     "text": [
      "✅ 回傳： { \"aspect\": \"情感共鳴\", \"sentiment\": \"中立\" }\n"
     ]
    },
    {
     "name": "stderr",
     "output_type": "stream",
     "text": [
      "\rGPT ABSA 處理中:  91%|█████████ | 912/1000 [1:28:00<10:19,  7.04s/it]"
     ]
    },
    {
     "name": "stdout",
     "output_type": "stream",
     "text": [
      "✅ 回傳： { \"aspect\": \"情感共鳴\", \"sentiment\": \"正面\" }\n"
     ]
    },
    {
     "name": "stderr",
     "output_type": "stream",
     "text": [
      "\rGPT ABSA 處理中:  91%|█████████▏| 913/1000 [1:28:01<07:21,  5.08s/it]"
     ]
    },
    {
     "name": "stdout",
     "output_type": "stream",
     "text": [
      "✅ 回傳： {\n",
      "    \"aspect\": \"青春回憶\",\n",
      "    \"sentiment\": \"中立\"\n",
      "}\n"
     ]
    },
    {
     "name": "stderr",
     "output_type": "stream",
     "text": [
      "\rGPT ABSA 處理中:  91%|█████████▏| 914/1000 [1:28:18<12:37,  8.81s/it]"
     ]
    },
    {
     "name": "stdout",
     "output_type": "stream",
     "text": [
      "❌ 錯誤： Error code: 429 - {'error': {'message': 'Rate limit reached for gpt-3.5-turbo in organization org-Bz0CtrQHvfWxTonXiHMcFRvW on requests per day (RPD): Limit 10000, Used 10000, Requested 1. Please try again in 8.64s. Visit https://platform.openai.com/account/rate-limits to learn more.', 'type': 'requests', 'param': None, 'code': 'rate_limit_exceeded'}}\n"
     ]
    },
    {
     "name": "stderr",
     "output_type": "stream",
     "text": [
      "\rGPT ABSA 處理中:  92%|█████████▏| 915/1000 [1:28:37<16:26, 11.61s/it]"
     ]
    },
    {
     "name": "stdout",
     "output_type": "stream",
     "text": [
      "✅ 回傳： {\n",
      "  \"aspect\": \"對比分析\",\n",
      "  \"sentiment\": \"正面\"\n",
      "}\n"
     ]
    },
    {
     "name": "stderr",
     "output_type": "stream",
     "text": [
      "\rGPT ABSA 處理中:  92%|█████████▏| 916/1000 [1:28:38<11:50,  8.46s/it]"
     ]
    },
    {
     "name": "stdout",
     "output_type": "stream",
     "text": [
      "✅ 回傳： { \"aspect\": \"歌詞意境\", \"sentiment\": \"負面\" }\n"
     ]
    },
    {
     "name": "stderr",
     "output_type": "stream",
     "text": [
      "\rGPT ABSA 處理中:  92%|█████████▏| 917/1000 [1:28:47<12:03,  8.72s/it]"
     ]
    },
    {
     "name": "stdout",
     "output_type": "stream",
     "text": [
      "✅ 回傳： { \"aspect\": \"情感共鳴\", \"sentiment\": \"中立\" }\n"
     ]
    },
    {
     "name": "stderr",
     "output_type": "stream",
     "text": [
      "\rGPT ABSA 處理中:  92%|█████████▏| 918/1000 [1:28:48<08:40,  6.35s/it]"
     ]
    },
    {
     "name": "stdout",
     "output_type": "stream",
     "text": [
      "✅ 回傳： { \"aspect\": \"對比分析\", \"sentiment\": \"負面\" }\n"
     ]
    },
    {
     "name": "stderr",
     "output_type": "stream",
     "text": [
      "\rGPT ABSA 處理中:  92%|█████████▏| 919/1000 [1:29:06<13:32, 10.03s/it]"
     ]
    },
    {
     "name": "stdout",
     "output_type": "stream",
     "text": [
      "✅ 回傳： {\n",
      "    \"aspect\": \"青春回憶\",\n",
      "    \"sentiment\": \"正面\"\n",
      "}\n"
     ]
    },
    {
     "name": "stderr",
     "output_type": "stream",
     "text": [
      "\rGPT ABSA 處理中:  92%|█████████▏| 920/1000 [1:29:07<09:35,  7.19s/it]"
     ]
    },
    {
     "name": "stdout",
     "output_type": "stream",
     "text": [
      "✅ 回傳： { \"aspect\": \"對比分析\", \"sentiment\": \"負面\" }\n"
     ]
    },
    {
     "name": "stderr",
     "output_type": "stream",
     "text": [
      "\rGPT ABSA 處理中:  92%|█████████▏| 921/1000 [1:29:08<07:05,  5.38s/it]"
     ]
    },
    {
     "name": "stdout",
     "output_type": "stream",
     "text": [
      "✅ 回傳： {\n",
      "    \"aspect\": \"對比分析\",\n",
      "    \"sentiment\": \"中立\"\n",
      "}\n"
     ]
    },
    {
     "name": "stderr",
     "output_type": "stream",
     "text": [
      "\rGPT ABSA 處理中:  92%|█████████▏| 922/1000 [1:29:27<12:09,  9.35s/it]"
     ]
    },
    {
     "name": "stdout",
     "output_type": "stream",
     "text": [
      "✅ 回傳： { \"aspect\": \"情感共鳴\", \"sentiment\": \"中立\" }\n"
     ]
    },
    {
     "name": "stderr",
     "output_type": "stream",
     "text": [
      "\rGPT ABSA 處理中:  92%|█████████▏| 923/1000 [1:29:45<15:18, 11.93s/it]"
     ]
    },
    {
     "name": "stdout",
     "output_type": "stream",
     "text": [
      "✅ 回傳： {\n",
      "    \"aspect\": \"歌詞意境\",\n",
      "    \"sentiment\": \"中立\"\n",
      "}\n"
     ]
    },
    {
     "name": "stderr",
     "output_type": "stream",
     "text": [
      "\rGPT ABSA 處理中:  92%|█████████▏| 924/1000 [1:29:45<10:51,  8.57s/it]"
     ]
    },
    {
     "name": "stdout",
     "output_type": "stream",
     "text": [
      "✅ 回傳： {\n",
      "    \"aspect\": \"情感共鳴\",\n",
      "    \"sentiment\": \"正面\"\n",
      "}\n"
     ]
    },
    {
     "name": "stderr",
     "output_type": "stream",
     "text": [
      "\rGPT ABSA 處理中:  92%|█████████▎| 925/1000 [1:30:04<14:18, 11.44s/it]"
     ]
    },
    {
     "name": "stdout",
     "output_type": "stream",
     "text": [
      "✅ 回傳： { \"aspect\": \"音樂風格\", \"sentiment\": \"中立\" }\n"
     ]
    },
    {
     "name": "stderr",
     "output_type": "stream",
     "text": [
      "\rGPT ABSA 處理中:  93%|█████████▎| 926/1000 [1:30:05<10:19,  8.37s/it]"
     ]
    },
    {
     "name": "stdout",
     "output_type": "stream",
     "text": [
      "✅ 回傳： {\n",
      "    \"aspect\": \"音樂風格\",\n",
      "    \"sentiment\": \"正面\"\n",
      "}\n"
     ]
    },
    {
     "name": "stderr",
     "output_type": "stream",
     "text": [
      "\rGPT ABSA 處理中:  93%|█████████▎| 927/1000 [1:30:14<10:31,  8.65s/it]"
     ]
    },
    {
     "name": "stdout",
     "output_type": "stream",
     "text": [
      "✅ 回傳： {\n",
      "    \"aspect\": \"青春回憶\",\n",
      "    \"sentiment\": \"正面\"\n",
      "}\n"
     ]
    },
    {
     "name": "stderr",
     "output_type": "stream",
     "text": [
      "\rGPT ABSA 處理中:  93%|█████████▎| 928/1000 [1:30:16<07:52,  6.56s/it]"
     ]
    },
    {
     "name": "stdout",
     "output_type": "stream",
     "text": [
      "✅ 回傳： {\n",
      "  \"aspect\": \"情感共鳴\",\n",
      "  \"sentiment\": \"正面\"\n",
      "}\n"
     ]
    },
    {
     "name": "stderr",
     "output_type": "stream",
     "text": [
      "\rGPT ABSA 處理中:  93%|█████████▎| 929/1000 [1:30:25<08:41,  7.35s/it]"
     ]
    },
    {
     "name": "stdout",
     "output_type": "stream",
     "text": [
      "✅ 回傳： { \"aspect\": \"音樂風格\", \"sentiment\": \"正面\" }\n"
     ]
    },
    {
     "name": "stderr",
     "output_type": "stream",
     "text": [
      "\rGPT ABSA 處理中:  93%|█████████▎| 930/1000 [1:30:43<12:24, 10.63s/it]"
     ]
    },
    {
     "name": "stdout",
     "output_type": "stream",
     "text": [
      "✅ 回傳： {\n",
      "    \"aspect\": \"歌詞意境\",\n",
      "    \"sentiment\": \"正面\"\n",
      "}\n"
     ]
    },
    {
     "name": "stderr",
     "output_type": "stream",
     "text": [
      "\rGPT ABSA 處理中:  93%|█████████▎| 931/1000 [1:30:53<11:45, 10.22s/it]"
     ]
    },
    {
     "name": "stdout",
     "output_type": "stream",
     "text": [
      "✅ 回傳： {\n",
      "  \"aspect\": \"音樂風格\",\n",
      "  \"sentiment\": \"正面\"\n",
      "}\n"
     ]
    },
    {
     "name": "stderr",
     "output_type": "stream",
     "text": [
      "\rGPT ABSA 處理中:  93%|█████████▎| 932/1000 [1:30:53<08:14,  7.28s/it]"
     ]
    },
    {
     "name": "stdout",
     "output_type": "stream",
     "text": [
      "✅ 回傳： { \"aspect\": \"情感共鳴\", \"sentiment\": \"正面\" }\n"
     ]
    },
    {
     "name": "stderr",
     "output_type": "stream",
     "text": [
      "\rGPT ABSA 處理中:  93%|█████████▎| 933/1000 [1:31:02<08:48,  7.89s/it]"
     ]
    },
    {
     "name": "stdout",
     "output_type": "stream",
     "text": [
      "✅ 回傳： { \"aspect\": \"音樂風格\", \"sentiment\": \"中立\" }\n"
     ]
    },
    {
     "name": "stderr",
     "output_type": "stream",
     "text": [
      "\rGPT ABSA 處理中:  93%|█████████▎| 934/1000 [1:31:20<12:02, 10.95s/it]"
     ]
    },
    {
     "name": "stdout",
     "output_type": "stream",
     "text": [
      "✅ 回傳： {\n",
      "    \"aspect\": \"青春回憶\",\n",
      "    \"sentiment\": \"正面\"\n",
      "}\n"
     ]
    },
    {
     "name": "stderr",
     "output_type": "stream",
     "text": [
      "\rGPT ABSA 處理中:  94%|█████████▎| 935/1000 [1:31:21<08:39,  7.99s/it]"
     ]
    },
    {
     "name": "stdout",
     "output_type": "stream",
     "text": [
      "✅ 回傳： {\n",
      "    \"aspect\": \"對比分析\",\n",
      "    \"sentiment\": \"正面\"\n",
      "}\n"
     ]
    },
    {
     "name": "stderr",
     "output_type": "stream",
     "text": [
      "\rGPT ABSA 處理中:  94%|█████████▎| 936/1000 [1:31:31<08:55,  8.37s/it]"
     ]
    },
    {
     "name": "stdout",
     "output_type": "stream",
     "text": [
      "✅ 回傳： { \"aspect\": \"音樂風格\", \"sentiment\": \"負面\" }\n"
     ]
    },
    {
     "name": "stderr",
     "output_type": "stream",
     "text": [
      "\rGPT ABSA 處理中:  94%|█████████▎| 937/1000 [1:31:40<09:03,  8.63s/it]"
     ]
    },
    {
     "name": "stdout",
     "output_type": "stream",
     "text": [
      "✅ 回傳： { \"aspect\": \"歌詞意境\", \"sentiment\": \"中立\" }\n"
     ]
    },
    {
     "name": "stderr",
     "output_type": "stream",
     "text": [
      "\rGPT ABSA 處理中:  94%|█████████▍| 938/1000 [1:31:49<09:10,  8.88s/it]"
     ]
    },
    {
     "name": "stdout",
     "output_type": "stream",
     "text": [
      "✅ 回傳： {\n",
      "    \"aspect\": \"音樂風格\",\n",
      "    \"sentiment\": \"正面\"\n",
      "}\n"
     ]
    },
    {
     "name": "stderr",
     "output_type": "stream",
     "text": [
      "\rGPT ABSA 處理中:  94%|█████████▍| 939/1000 [1:31:59<09:08,  8.98s/it]"
     ]
    },
    {
     "name": "stdout",
     "output_type": "stream",
     "text": [
      "✅ 回傳： { \"aspect\": \"音樂風格\", \"sentiment\": \"正面\" }\n"
     ]
    },
    {
     "name": "stderr",
     "output_type": "stream",
     "text": [
      "\rGPT ABSA 處理中:  94%|█████████▍| 940/1000 [1:31:59<06:28,  6.47s/it]"
     ]
    },
    {
     "name": "stdout",
     "output_type": "stream",
     "text": [
      "✅ 回傳： {\n",
      "    \"aspect\": \"情感共鳴\",\n",
      "    \"sentiment\": \"中立\"\n",
      "}\n"
     ]
    },
    {
     "name": "stderr",
     "output_type": "stream",
     "text": [
      "\rGPT ABSA 處理中:  94%|█████████▍| 941/1000 [1:32:00<04:38,  4.72s/it]"
     ]
    },
    {
     "name": "stdout",
     "output_type": "stream",
     "text": [
      "✅ 回傳： { \"aspect\": \"音樂風格\", \"sentiment\": \"正面\" }\n"
     ]
    },
    {
     "name": "stderr",
     "output_type": "stream",
     "text": [
      "\rGPT ABSA 處理中:  94%|█████████▍| 942/1000 [1:32:17<08:16,  8.57s/it]"
     ]
    },
    {
     "name": "stdout",
     "output_type": "stream",
     "text": [
      "❌ 錯誤： Error code: 429 - {'error': {'message': 'Rate limit reached for gpt-3.5-turbo in organization org-Bz0CtrQHvfWxTonXiHMcFRvW on requests per day (RPD): Limit 10000, Used 10000, Requested 1. Please try again in 8.64s. Visit https://platform.openai.com/account/rate-limits to learn more.', 'type': 'requests', 'param': None, 'code': 'rate_limit_exceeded'}}\n"
     ]
    },
    {
     "name": "stderr",
     "output_type": "stream",
     "text": [
      "\rGPT ABSA 處理中:  94%|█████████▍| 943/1000 [1:32:27<08:19,  8.77s/it]"
     ]
    },
    {
     "name": "stdout",
     "output_type": "stream",
     "text": [
      "✅ 回傳： {\n",
      "    \"aspect\": \"對比分析\",\n",
      "    \"sentiment\": \"中立\"\n",
      "}\n"
     ]
    },
    {
     "name": "stderr",
     "output_type": "stream",
     "text": [
      "\rGPT ABSA 處理中:  94%|█████████▍| 944/1000 [1:32:27<05:52,  6.29s/it]"
     ]
    },
    {
     "name": "stdout",
     "output_type": "stream",
     "text": [
      "✅ 回傳： { \"aspect\": \"青春回憶\", \"sentiment\": \"正面\" }\n"
     ]
    },
    {
     "name": "stderr",
     "output_type": "stream",
     "text": [
      "\rGPT ABSA 處理中:  94%|█████████▍| 945/1000 [1:32:36<06:35,  7.18s/it]"
     ]
    },
    {
     "name": "stdout",
     "output_type": "stream",
     "text": [
      "✅ 回傳： { \"aspect\": \"對比分析\", \"sentiment\": \"負面\" }\n"
     ]
    },
    {
     "name": "stderr",
     "output_type": "stream",
     "text": [
      "\rGPT ABSA 處理中:  95%|█████████▍| 946/1000 [1:32:46<06:59,  7.77s/it]"
     ]
    },
    {
     "name": "stdout",
     "output_type": "stream",
     "text": [
      "✅ 回傳： {\n",
      "    \"aspect\": \"對比分析\",\n",
      "    \"sentiment\": \"正面\"\n",
      "}\n"
     ]
    },
    {
     "name": "stderr",
     "output_type": "stream",
     "text": [
      "\rGPT ABSA 處理中:  95%|█████████▍| 947/1000 [1:32:55<07:17,  8.25s/it]"
     ]
    },
    {
     "name": "stdout",
     "output_type": "stream",
     "text": [
      "✅ 回傳： { \"aspect\": \"音樂風格\", \"sentiment\": \"中立\" }\n"
     ]
    },
    {
     "name": "stderr",
     "output_type": "stream",
     "text": [
      "\rGPT ABSA 處理中:  95%|█████████▍| 948/1000 [1:32:56<05:13,  6.03s/it]"
     ]
    },
    {
     "name": "stdout",
     "output_type": "stream",
     "text": [
      "✅ 回傳： { \"aspect\": \"對比分析\", \"sentiment\": \"負面\" }\n"
     ]
    },
    {
     "name": "stderr",
     "output_type": "stream",
     "text": [
      "\rGPT ABSA 處理中:  95%|█████████▍| 949/1000 [1:33:14<08:15,  9.72s/it]"
     ]
    },
    {
     "name": "stdout",
     "output_type": "stream",
     "text": [
      "✅ 回傳： { \"aspect\": \"情感共鳴\", \"sentiment\": \"中立\" }\n"
     ]
    },
    {
     "name": "stderr",
     "output_type": "stream",
     "text": [
      "\rGPT ABSA 處理中:  95%|█████████▌| 950/1000 [1:33:15<05:50,  7.02s/it]"
     ]
    },
    {
     "name": "stdout",
     "output_type": "stream",
     "text": [
      "✅ 回傳： { \"aspect\": \"青春回憶\", \"sentiment\": \"正面\" }\n"
     ]
    },
    {
     "name": "stderr",
     "output_type": "stream",
     "text": [
      "\rGPT ABSA 處理中:  95%|█████████▌| 951/1000 [1:33:24<06:16,  7.68s/it]"
     ]
    },
    {
     "name": "stdout",
     "output_type": "stream",
     "text": [
      "✅ 回傳： {\n",
      "  \"aspect\": \"音樂風格\",\n",
      "  \"sentiment\": \"正面\"\n",
      "}\n"
     ]
    },
    {
     "name": "stderr",
     "output_type": "stream",
     "text": [
      "\rGPT ABSA 處理中:  95%|█████████▌| 952/1000 [1:33:25<04:32,  5.69s/it]"
     ]
    },
    {
     "name": "stdout",
     "output_type": "stream",
     "text": [
      "✅ 回傳： { \"aspect\": \"歌詞意境\", \"sentiment\": \"負面\" }\n"
     ]
    },
    {
     "name": "stderr",
     "output_type": "stream",
     "text": [
      "\rGPT ABSA 處理中:  95%|█████████▌| 953/1000 [1:33:43<07:20,  9.37s/it]"
     ]
    },
    {
     "name": "stdout",
     "output_type": "stream",
     "text": [
      "✅ 回傳： {\n",
      "    \"aspect\": \"音樂風格\",\n",
      "    \"sentiment\": \"正面\"\n",
      "}\n"
     ]
    },
    {
     "name": "stderr",
     "output_type": "stream",
     "text": [
      "\rGPT ABSA 處理中:  95%|█████████▌| 954/1000 [1:33:44<05:11,  6.77s/it]"
     ]
    },
    {
     "name": "stdout",
     "output_type": "stream",
     "text": [
      "✅ 回傳： { \"aspect\": \"音樂風格\", \"sentiment\": \"正面\" }\n"
     ]
    },
    {
     "name": "stderr",
     "output_type": "stream",
     "text": [
      "\rGPT ABSA 處理中:  96%|█████████▌| 955/1000 [1:33:45<03:44,  4.98s/it]"
     ]
    },
    {
     "name": "stdout",
     "output_type": "stream",
     "text": [
      "✅ 回傳： {\n",
      "    \"aspect\": \"情感共鳴\",\n",
      "    \"sentiment\": \"正面\"\n",
      "}\n"
     ]
    },
    {
     "name": "stderr",
     "output_type": "stream",
     "text": [
      "\rGPT ABSA 處理中:  96%|█████████▌| 956/1000 [1:33:54<04:36,  6.29s/it]"
     ]
    },
    {
     "name": "stdout",
     "output_type": "stream",
     "text": [
      "✅ 回傳： {\n",
      "    \"aspect\": \"音樂風格\",\n",
      "    \"sentiment\": \"正面\"\n",
      "}\n"
     ]
    },
    {
     "name": "stderr",
     "output_type": "stream",
     "text": [
      "\rGPT ABSA 處理中:  96%|█████████▌| 957/1000 [1:34:11<06:54,  9.64s/it]"
     ]
    },
    {
     "name": "stdout",
     "output_type": "stream",
     "text": [
      "❌ 錯誤： Error code: 429 - {'error': {'message': 'Rate limit reached for gpt-3.5-turbo in organization org-Bz0CtrQHvfWxTonXiHMcFRvW on requests per day (RPD): Limit 10000, Used 10000, Requested 1. Please try again in 8.64s. Visit https://platform.openai.com/account/rate-limits to learn more.', 'type': 'requests', 'param': None, 'code': 'rate_limit_exceeded'}}\n"
     ]
    },
    {
     "name": "stderr",
     "output_type": "stream",
     "text": [
      "\rGPT ABSA 處理中:  96%|█████████▌| 958/1000 [1:34:12<04:56,  7.05s/it]"
     ]
    },
    {
     "name": "stdout",
     "output_type": "stream",
     "text": [
      "✅ 回傳： { \"aspect\": \"情感共鳴\", \"sentiment\": \"正面\" }\n"
     ]
    },
    {
     "name": "stderr",
     "output_type": "stream",
     "text": [
      "\rGPT ABSA 處理中:  96%|█████████▌| 959/1000 [1:34:13<03:30,  5.14s/it]"
     ]
    },
    {
     "name": "stdout",
     "output_type": "stream",
     "text": [
      "✅ 回傳： { \"aspect\": \"對比分析\", \"sentiment\": \"負面\" }\n"
     ]
    },
    {
     "name": "stderr",
     "output_type": "stream",
     "text": [
      "\rGPT ABSA 處理中:  96%|█████████▌| 960/1000 [1:34:31<05:53,  8.85s/it]"
     ]
    },
    {
     "name": "stdout",
     "output_type": "stream",
     "text": [
      "❌ 錯誤： Error code: 429 - {'error': {'message': 'Rate limit reached for gpt-3.5-turbo in organization org-Bz0CtrQHvfWxTonXiHMcFRvW on requests per day (RPD): Limit 10000, Used 10000, Requested 1. Please try again in 8.64s. Visit https://platform.openai.com/account/rate-limits to learn more.', 'type': 'requests', 'param': None, 'code': 'rate_limit_exceeded'}}\n"
     ]
    },
    {
     "name": "stderr",
     "output_type": "stream",
     "text": [
      "\rGPT ABSA 處理中:  96%|█████████▌| 961/1000 [1:34:40<05:51,  9.01s/it]"
     ]
    },
    {
     "name": "stdout",
     "output_type": "stream",
     "text": [
      "✅ 回傳： {\n",
      "    \"aspect\": \"情感共鳴\",\n",
      "    \"sentiment\": \"正面\"\n",
      "}\n"
     ]
    },
    {
     "name": "stderr",
     "output_type": "stream",
     "text": [
      "\rGPT ABSA 處理中:  96%|█████████▌| 962/1000 [1:34:40<04:05,  6.46s/it]"
     ]
    },
    {
     "name": "stdout",
     "output_type": "stream",
     "text": [
      "✅ 回傳： { \"aspect\": \"情感共鳴\", \"sentiment\": \"負面\" }\n"
     ]
    },
    {
     "name": "stderr",
     "output_type": "stream",
     "text": [
      "\rGPT ABSA 處理中:  96%|█████████▋| 963/1000 [1:34:58<06:01,  9.78s/it]"
     ]
    },
    {
     "name": "stdout",
     "output_type": "stream",
     "text": [
      "❌ 錯誤： Error code: 429 - {'error': {'message': 'Rate limit reached for gpt-3.5-turbo in organization org-Bz0CtrQHvfWxTonXiHMcFRvW on requests per day (RPD): Limit 10000, Used 10000, Requested 1. Please try again in 8.64s. Visit https://platform.openai.com/account/rate-limits to learn more.', 'type': 'requests', 'param': None, 'code': 'rate_limit_exceeded'}}\n"
     ]
    },
    {
     "name": "stderr",
     "output_type": "stream",
     "text": [
      "\rGPT ABSA 處理中:  96%|█████████▋| 964/1000 [1:35:07<05:46,  9.62s/it]"
     ]
    },
    {
     "name": "stdout",
     "output_type": "stream",
     "text": [
      "✅ 回傳： {\n",
      "    \"aspect\": \"音樂風格\",\n",
      "    \"sentiment\": \"正面\"\n",
      "}\n"
     ]
    },
    {
     "name": "stderr",
     "output_type": "stream",
     "text": [
      "\rGPT ABSA 處理中:  96%|█████████▋| 965/1000 [1:35:16<05:33,  9.52s/it]"
     ]
    },
    {
     "name": "stdout",
     "output_type": "stream",
     "text": [
      "✅ 回傳： {\n",
      "    \"aspect\": \"音樂風格\",\n",
      "    \"sentiment\": \"正面\"\n",
      "}\n"
     ]
    },
    {
     "name": "stderr",
     "output_type": "stream",
     "text": [
      "\rGPT ABSA 處理中:  97%|█████████▋| 966/1000 [1:35:17<03:52,  6.84s/it]"
     ]
    },
    {
     "name": "stdout",
     "output_type": "stream",
     "text": [
      "✅ 回傳： { \"aspect\": \"情感共鳴\", \"sentiment\": \"正面\" }\n"
     ]
    },
    {
     "name": "stderr",
     "output_type": "stream",
     "text": [
      "\rGPT ABSA 處理中:  97%|█████████▋| 967/1000 [1:35:18<02:48,  5.11s/it]"
     ]
    },
    {
     "name": "stdout",
     "output_type": "stream",
     "text": [
      "✅ 回傳： {\n",
      "    \"aspect\": \"對比分析\",\n",
      "    \"sentiment\": \"正面\"\n",
      "}\n"
     ]
    },
    {
     "name": "stderr",
     "output_type": "stream",
     "text": [
      "\rGPT ABSA 處理中:  97%|█████████▋| 968/1000 [1:35:19<02:00,  3.78s/it]"
     ]
    },
    {
     "name": "stdout",
     "output_type": "stream",
     "text": [
      "✅ 回傳： { \"aspect\": \"情感共鳴\", \"sentiment\": \"正面\" }\n"
     ]
    },
    {
     "name": "stderr",
     "output_type": "stream",
     "text": [
      "\rGPT ABSA 處理中:  97%|█████████▋| 969/1000 [1:35:28<02:48,  5.43s/it]"
     ]
    },
    {
     "name": "stdout",
     "output_type": "stream",
     "text": [
      "✅ 回傳： { \"aspect\": \"音樂風格\", \"sentiment\": \"負面\" }\n"
     ]
    },
    {
     "name": "stderr",
     "output_type": "stream",
     "text": [
      "\rGPT ABSA 處理中:  97%|█████████▋| 970/1000 [1:35:39<03:34,  7.16s/it]"
     ]
    },
    {
     "name": "stdout",
     "output_type": "stream",
     "text": [
      "✅ 回傳： {\n",
      "  \"aspect\": \"音樂風格\",\n",
      "  \"sentiment\": \"中立\"\n",
      "}\n"
     ]
    },
    {
     "name": "stderr",
     "output_type": "stream",
     "text": [
      "\rGPT ABSA 處理中:  97%|█████████▋| 971/1000 [1:35:57<04:57, 10.26s/it]"
     ]
    },
    {
     "name": "stdout",
     "output_type": "stream",
     "text": [
      "❌ 錯誤： Error code: 429 - {'error': {'message': 'Rate limit reached for gpt-3.5-turbo in organization org-Bz0CtrQHvfWxTonXiHMcFRvW on requests per day (RPD): Limit 10000, Used 10000, Requested 1. Please try again in 8.64s. Visit https://platform.openai.com/account/rate-limits to learn more.', 'type': 'requests', 'param': None, 'code': 'rate_limit_exceeded'}}\n"
     ]
    },
    {
     "name": "stderr",
     "output_type": "stream",
     "text": [
      "\rGPT ABSA 處理中:  97%|█████████▋| 972/1000 [1:35:57<03:26,  7.36s/it]"
     ]
    },
    {
     "name": "stdout",
     "output_type": "stream",
     "text": [
      "✅ 回傳： {\n",
      "    \"aspect\": \"音樂風格\",\n",
      "    \"sentiment\": \"中立\"\n",
      "}\n"
     ]
    },
    {
     "name": "stderr",
     "output_type": "stream",
     "text": [
      "\rGPT ABSA 處理中:  97%|█████████▋| 973/1000 [1:35:58<02:23,  5.31s/it]"
     ]
    },
    {
     "name": "stdout",
     "output_type": "stream",
     "text": [
      "✅ 回傳： {\n",
      "    \"aspect\": \"情感共鳴\",\n",
      "    \"sentiment\": \"負面\"\n",
      "}\n"
     ]
    },
    {
     "name": "stderr",
     "output_type": "stream",
     "text": [
      "\rGPT ABSA 處理中:  97%|█████████▋| 974/1000 [1:36:07<02:49,  6.51s/it]"
     ]
    },
    {
     "name": "stdout",
     "output_type": "stream",
     "text": [
      "✅ 回傳： {\n",
      "    \"aspect\": \"音樂風格\",\n",
      "    \"sentiment\": \"正面\"\n",
      "}\n"
     ]
    },
    {
     "name": "stderr",
     "output_type": "stream",
     "text": [
      "\rGPT ABSA 處理中:  98%|█████████▊| 975/1000 [1:36:16<03:02,  7.30s/it]"
     ]
    },
    {
     "name": "stdout",
     "output_type": "stream",
     "text": [
      "✅ 回傳： { \"aspect\": \"情感共鳴\", \"sentiment\": \"正面\" }\n"
     ]
    },
    {
     "name": "stderr",
     "output_type": "stream",
     "text": [
      "\rGPT ABSA 處理中:  98%|█████████▊| 976/1000 [1:36:17<02:05,  5.25s/it]"
     ]
    },
    {
     "name": "stdout",
     "output_type": "stream",
     "text": [
      "✅ 回傳： {\n",
      "    \"aspect\": \"對比分析\",\n",
      "    \"sentiment\": \"中立\"\n",
      "}\n"
     ]
    },
    {
     "name": "stderr",
     "output_type": "stream",
     "text": [
      "\rGPT ABSA 處理中:  98%|█████████▊| 977/1000 [1:36:18<01:29,  3.88s/it]"
     ]
    },
    {
     "name": "stdout",
     "output_type": "stream",
     "text": [
      "✅ 回傳： {\n",
      "    \"aspect\": \"音樂風格\",\n",
      "    \"sentiment\": \"正面\"\n",
      "}\n"
     ]
    },
    {
     "name": "stderr",
     "output_type": "stream",
     "text": [
      "\rGPT ABSA 處理中:  98%|█████████▊| 978/1000 [1:36:35<02:58,  8.11s/it]"
     ]
    },
    {
     "name": "stdout",
     "output_type": "stream",
     "text": [
      "✅ 回傳： { \"aspect\": \"音樂風格\", \"sentiment\": \"正面\" }\n"
     ]
    },
    {
     "name": "stderr",
     "output_type": "stream",
     "text": [
      "\rGPT ABSA 處理中:  98%|█████████▊| 979/1000 [1:36:53<03:49, 10.93s/it]"
     ]
    },
    {
     "name": "stdout",
     "output_type": "stream",
     "text": [
      "❌ 錯誤： Error code: 429 - {'error': {'message': 'Rate limit reached for gpt-3.5-turbo in organization org-Bz0CtrQHvfWxTonXiHMcFRvW on requests per day (RPD): Limit 10000, Used 10000, Requested 1. Please try again in 8.64s. Visit https://platform.openai.com/account/rate-limits to learn more.', 'type': 'requests', 'param': None, 'code': 'rate_limit_exceeded'}}\n"
     ]
    },
    {
     "name": "stderr",
     "output_type": "stream",
     "text": [
      "\rGPT ABSA 處理中:  98%|█████████▊| 980/1000 [1:37:02<03:28, 10.43s/it]"
     ]
    },
    {
     "name": "stdout",
     "output_type": "stream",
     "text": [
      "✅ 回傳： { \"aspect\": \"音樂風格\", \"sentiment\": \"正面\" }\n"
     ]
    },
    {
     "name": "stderr",
     "output_type": "stream",
     "text": [
      "\rGPT ABSA 處理中:  98%|█████████▊| 981/1000 [1:37:12<03:11, 10.09s/it]"
     ]
    },
    {
     "name": "stdout",
     "output_type": "stream",
     "text": [
      "✅ 回傳： {\n",
      "  \"aspect\": \"青春回憶\",\n",
      "  \"sentiment\": \"正面\"\n",
      "}\n"
     ]
    },
    {
     "name": "stderr",
     "output_type": "stream",
     "text": [
      "\rGPT ABSA 處理中:  98%|█████████▊| 982/1000 [1:37:12<02:11,  7.33s/it]"
     ]
    },
    {
     "name": "stdout",
     "output_type": "stream",
     "text": [
      "✅ 回傳： {\n",
      "    \"aspect\": \"情感共鳴\",\n",
      "    \"sentiment\": \"正面\"\n",
      "}\n"
     ]
    },
    {
     "name": "stderr",
     "output_type": "stream",
     "text": [
      "\rGPT ABSA 處理中:  98%|█████████▊| 983/1000 [1:37:22<02:14,  7.90s/it]"
     ]
    },
    {
     "name": "stdout",
     "output_type": "stream",
     "text": [
      "✅ 回傳： { \"aspect\": \"情感共鳴\", \"sentiment\": \"正面\" }\n"
     ]
    },
    {
     "name": "stderr",
     "output_type": "stream",
     "text": [
      "\rGPT ABSA 處理中:  98%|█████████▊| 984/1000 [1:37:31<02:13,  8.33s/it]"
     ]
    },
    {
     "name": "stdout",
     "output_type": "stream",
     "text": [
      "✅ 回傳： { \"aspect\": \"情感共鳴\", \"sentiment\": \"中立\" }\n"
     ]
    },
    {
     "name": "stderr",
     "output_type": "stream",
     "text": [
      "\rGPT ABSA 處理中:  98%|█████████▊| 985/1000 [1:37:32<01:31,  6.10s/it]"
     ]
    },
    {
     "name": "stdout",
     "output_type": "stream",
     "text": [
      "✅ 回傳： {\n",
      "    \"aspect\": \"對比分析\",\n",
      "    \"sentiment\": \"正面\"\n",
      "}\n"
     ]
    },
    {
     "name": "stderr",
     "output_type": "stream",
     "text": [
      "\rGPT ABSA 處理中:  99%|█████████▊| 986/1000 [1:37:41<01:38,  7.07s/it]"
     ]
    },
    {
     "name": "stdout",
     "output_type": "stream",
     "text": [
      "✅ 回傳： { \"aspect\": \"對比分析\", \"sentiment\": \"正面\" }\n"
     ]
    },
    {
     "name": "stderr",
     "output_type": "stream",
     "text": [
      "\rGPT ABSA 處理中:  99%|█████████▊| 987/1000 [1:37:42<01:07,  5.22s/it]"
     ]
    },
    {
     "name": "stdout",
     "output_type": "stream",
     "text": [
      "✅ 回傳： { \"aspect\": \"情感共鳴\", \"sentiment\": \"負面\" }\n"
     ]
    },
    {
     "name": "stderr",
     "output_type": "stream",
     "text": [
      "\rGPT ABSA 處理中:  99%|█████████▉| 988/1000 [1:38:00<01:47,  8.92s/it]"
     ]
    },
    {
     "name": "stdout",
     "output_type": "stream",
     "text": [
      "❌ 錯誤： Error code: 429 - {'error': {'message': 'Rate limit reached for gpt-3.5-turbo in organization org-Bz0CtrQHvfWxTonXiHMcFRvW on requests per day (RPD): Limit 10000, Used 10000, Requested 1. Please try again in 8.64s. Visit https://platform.openai.com/account/rate-limits to learn more.', 'type': 'requests', 'param': None, 'code': 'rate_limit_exceeded'}}\n"
     ]
    },
    {
     "name": "stderr",
     "output_type": "stream",
     "text": [
      "\rGPT ABSA 處理中:  99%|█████████▉| 989/1000 [1:38:18<02:08, 11.71s/it]"
     ]
    },
    {
     "name": "stdout",
     "output_type": "stream",
     "text": [
      "✅ 回傳： {\n",
      "  \"aspect\": \"對比分析\",\n",
      "  \"sentiment\": \"負面\"\n",
      "}\n"
     ]
    },
    {
     "name": "stderr",
     "output_type": "stream",
     "text": [
      "\rGPT ABSA 處理中:  99%|█████████▉| 990/1000 [1:38:21<01:30,  9.00s/it]"
     ]
    },
    {
     "name": "stdout",
     "output_type": "stream",
     "text": [
      "✅ 回傳： { \"aspect\": \"情感共鳴\", \"sentiment\": \"正面\" }\n"
     ]
    },
    {
     "name": "stderr",
     "output_type": "stream",
     "text": [
      "\rGPT ABSA 處理中:  99%|█████████▉| 991/1000 [1:38:21<00:57,  6.44s/it]"
     ]
    },
    {
     "name": "stdout",
     "output_type": "stream",
     "text": [
      "✅ 回傳： {\n",
      "    \"aspect\": \"音樂風格\",\n",
      "    \"sentiment\": \"中立\"\n",
      "}\n"
     ]
    },
    {
     "name": "stderr",
     "output_type": "stream",
     "text": [
      "\rGPT ABSA 處理中:  99%|█████████▉| 992/1000 [1:38:30<00:58,  7.27s/it]"
     ]
    },
    {
     "name": "stdout",
     "output_type": "stream",
     "text": [
      "✅ 回傳： {\n",
      "    \"aspect\": \"青春回憶\",\n",
      "    \"sentiment\": \"中立\"\n",
      "}\n"
     ]
    },
    {
     "name": "stderr",
     "output_type": "stream",
     "text": [
      "\rGPT ABSA 處理中:  99%|█████████▉| 993/1000 [1:38:31<00:36,  5.24s/it]"
     ]
    },
    {
     "name": "stdout",
     "output_type": "stream",
     "text": [
      "✅ 回傳： { \"aspect\": \"情感共鳴\", \"sentiment\": \"正面\" }\n"
     ]
    },
    {
     "name": "stderr",
     "output_type": "stream",
     "text": [
      "\rGPT ABSA 處理中:  99%|█████████▉| 994/1000 [1:38:40<00:39,  6.50s/it]"
     ]
    },
    {
     "name": "stdout",
     "output_type": "stream",
     "text": [
      "✅ 回傳： { \"aspect\": \"音樂風格\", \"sentiment\": \"中立\" }\n"
     ]
    },
    {
     "name": "stderr",
     "output_type": "stream",
     "text": [
      "\rGPT ABSA 處理中: 100%|█████████▉| 995/1000 [1:38:41<00:23,  4.71s/it]"
     ]
    },
    {
     "name": "stdout",
     "output_type": "stream",
     "text": [
      "✅ 回傳： {\n",
      "    \"aspect\": \"情感共鳴\",\n",
      "    \"sentiment\": \"中立\"\n",
      "}\n"
     ]
    },
    {
     "name": "stderr",
     "output_type": "stream",
     "text": [
      "\rGPT ABSA 處理中: 100%|█████████▉| 996/1000 [1:38:59<00:35,  8.80s/it]"
     ]
    },
    {
     "name": "stdout",
     "output_type": "stream",
     "text": [
      "✅ 回傳： {\n",
      "  \"aspect\": \"對比分析\",\n",
      "  \"sentiment\": \"負面\"\n",
      "}\n"
     ]
    },
    {
     "name": "stderr",
     "output_type": "stream",
     "text": [
      "\rGPT ABSA 處理中: 100%|█████████▉| 997/1000 [1:39:17<00:34, 11.60s/it]"
     ]
    },
    {
     "name": "stdout",
     "output_type": "stream",
     "text": [
      "✅ 回傳： { \"aspect\": \"情感共鳴\", \"sentiment\": \"正面\" }\n"
     ]
    },
    {
     "name": "stderr",
     "output_type": "stream",
     "text": [
      "\rGPT ABSA 處理中: 100%|█████████▉| 998/1000 [1:39:35<00:27, 13.51s/it]"
     ]
    },
    {
     "name": "stdout",
     "output_type": "stream",
     "text": [
      "✅ 回傳： { \"aspect\": \"情感共鳴\", \"sentiment\": \"正面\" }\n"
     ]
    },
    {
     "name": "stderr",
     "output_type": "stream",
     "text": [
      "\rGPT ABSA 處理中: 100%|█████████▉| 999/1000 [1:39:36<00:09,  9.64s/it]"
     ]
    },
    {
     "name": "stdout",
     "output_type": "stream",
     "text": [
      "✅ 回傳： {\n",
      "  \"aspect\": \"對比分析\",\n",
      "  \"sentiment\": \"正面\"\n",
      "}\n"
     ]
    },
    {
     "name": "stderr",
     "output_type": "stream",
     "text": [
      "GPT ABSA 處理中: 100%|██████████| 1000/1000 [1:39:45<00:00,  5.99s/it]"
     ]
    },
    {
     "name": "stdout",
     "output_type": "stream",
     "text": [
      "✅ 回傳： {\n",
      "    \"aspect\": \"情感共鳴\",\n",
      "    \"sentiment\": \"正面\"\n",
      "}\n",
      "✅ 存檔 checkpoint at row 1000\n",
      "🎉 全部完成！結果已儲存至：/content/drive/MyDrive/absa_jay_comments_output.csv\n"
     ]
    },
    {
     "name": "stderr",
     "output_type": "stream",
     "text": [
      "\n"
     ]
    }
   ],
   "source": [
    "# ✅ 載入套件\n",
    "import openai\n",
    "import pandas as pd\n",
    "import json\n",
    "from tqdm import tqdm\n",
    "from tenacity import retry, stop_after_attempt, wait_random_exponential\n",
    "import os\n",
    "\n",
    "# ✅ 設定檔案儲存路徑（可修改成你要的資料夾）\n",
    "checkpoint_path = \"/content/drive/MyDrive/absa_jay_comments_checkpoint.csv\"\n",
    "final_output_path = \"/content/drive/MyDrive/absa_jay_comments_output.csv\"\n",
    "\n",
    "# ✅ 初始化 OpenAI client（新版 SDK）\n",
    "client = openai.OpenAI(\n",
    "    api_key=\"sk-...\"\n",
    ")\n",
    "\n",
    "# ✅ 載入 CSV：clean + BERTopic\n",
    "df_clean = pd.read_csv(\"1.2_jay_comments_clean.csv\")\n",
    "df_topic = pd.read_csv(\"2.1_BerTopic_jay_bertopic_topic_result.csv\")\n",
    "\n",
    "# 🔁 合併資料（用 text_cleaned 對 text）\n",
    "df = pd.merge(df_clean, df_topic, left_on=\"text_cleaned\", right_on=\"text\", how=\"inner\")\n",
    "columns_to_keep = [col for col in df.columns if not col.endswith(\"_y\")]\n",
    "df = df[columns_to_keep]\n",
    "df.columns = [col.replace(\"_x\", \"\") for col in df.columns]\n",
    "\n",
    "# ✅ 限制只處理前 1000 筆\n",
    "df = df.head(1000)\n",
    "\n",
    "# ✅ Prompt 模板\n",
    "def build_prompt(text):\n",
    "    return f\"\"\"\n",
    "請閱讀以下粉絲留言，並判斷留言主要是在評論哪一個面向，情緒是正面、中立還是負面。\n",
    "面向選項如下：\n",
    "- 音樂風格（如旋律、節奏、演唱）\n",
    "- 歌詞意境（如故事內容、隱喻、敘事）\n",
    "- 情感共鳴（如感動、哭了、有共鳴）\n",
    "- 對比分析（與早期作品、其他藝人比較）\n",
    "- 青春回憶（如提到聽歌時的學生時代、重要人生經歷）\n",
    "\n",
    "請回傳標準 JSON 格式，例如：\n",
    "{{ \"aspect\": \"情感共鳴\", \"sentiment\": \"正面\" }}\n",
    "\n",
    "粉絲留言：{text}\n",
    "\"\"\".strip()\n",
    "\n",
    "# ✅ GPT ABSA 函數（含 retry/backoff 機制）\n",
    "@retry(stop=stop_after_attempt(3), wait=wait_random_exponential(min=1, max=10))\n",
    "def gpt_absa(text):\n",
    "    try:\n",
    "        response = client.chat.completions.create(\n",
    "            model=\"gpt-3.5-turbo\",\n",
    "            messages=[\n",
    "                {\"role\": \"system\", \"content\": \"你是一個中文評論分析助手\"},\n",
    "                {\"role\": \"user\", \"content\": build_prompt(text)}\n",
    "            ],\n",
    "            temperature=0.3,\n",
    "        )\n",
    "        content = response.choices[0].message.content.strip()\n",
    "        print(\"✅ 回傳：\", content)\n",
    "        json_start = content.find(\"{\")\n",
    "        json_end = content.rfind(\"}\") + 1\n",
    "        json_str = content[json_start:json_end]\n",
    "        parsed = json.loads(json_str)\n",
    "        return parsed.get(\"aspect\", \"無法判斷\"), parsed.get(\"sentiment\", \"無法判斷\")\n",
    "    except Exception as e:\n",
    "        print(\"❌ 錯誤：\", e)\n",
    "        return \"無法判斷\", \"無法判斷\"\n",
    "\n",
    "# ✅ 檢查是否有 checkpoint\n",
    "if os.path.exists(checkpoint_path):\n",
    "    print(f\"🔁 偵測到現有 checkpoint，載入進度：{checkpoint_path}\")\n",
    "    df_checkpoint = pd.read_csv(checkpoint_path)\n",
    "    aspects = df_checkpoint[\"aspect\"].tolist()\n",
    "    sentiments = df_checkpoint[\"sentiment\"].tolist()\n",
    "    start_idx = len(aspects)\n",
    "else:\n",
    "    print(\"🚀 尚無 checkpoint，從頭開始\")\n",
    "    aspects = []\n",
    "    sentiments = []\n",
    "    start_idx = 0\n",
    "\n",
    "# ✅ 主迴圈（僅處理前 1000 筆）\n",
    "for idx, text in tqdm(enumerate(df[\"text_cleaned\"]), total=len(df), desc=\"GPT ABSA 處理中\"):\n",
    "    if idx < start_idx:\n",
    "        continue\n",
    "\n",
    "    aspect, sentiment = gpt_absa(text)\n",
    "    aspects.append(aspect)\n",
    "    sentiments.append(sentiment)\n",
    "\n",
    "    if (idx + 1) % 100 == 0:\n",
    "        df_partial = df.iloc[:idx + 1].copy()\n",
    "        df_partial[\"aspect\"] = aspects\n",
    "        df_partial[\"sentiment\"] = sentiments\n",
    "        df_partial.to_csv(checkpoint_path, index=False)\n",
    "        print(f\"✅ 存檔 checkpoint at row {idx+1}\")\n",
    "\n",
    "# ✅ 最終儲存\n",
    "df[\"aspect\"] = aspects\n",
    "df[\"sentiment\"] = sentiments\n",
    "df.to_csv(final_output_path, index=False)\n",
    "print(f\"🎉 全部完成！結果已儲存至：{final_output_path}\")"
   ]
  }
 ],
 "metadata": {
  "colab": {
   "authorship_tag": "ABX9TyOkBTsi9LH48u05quAzDdJd",
   "provenance": []
  },
  "kernelspec": {
   "display_name": "Python 3",
   "name": "python3"
  },
  "language_info": {
   "name": "python"
  }
 },
 "nbformat": 4,
 "nbformat_minor": 0
}
